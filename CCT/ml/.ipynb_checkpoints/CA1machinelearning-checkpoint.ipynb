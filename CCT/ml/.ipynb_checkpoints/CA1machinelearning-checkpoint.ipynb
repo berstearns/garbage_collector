{
 "cells": [
  {
   "cell_type": "markdown",
   "metadata": {
    "id": "m2M_3qyOmybM"
   },
   "source": [
    "# Machine Learning CA1\n",
    "\n",
    "1) A clear introduction, motivation, a description of the problem domain, and an explanation of\n",
    "how the assignment's goals are justified using Prediction / Classification algorithms.\n",
    "\n",
    "(20 marks)\n",
    "2) Characterization of data, pre-processing, explanation and description of techniques used for\n",
    "the variation in the accuracy across three training splits (10%, 15% and 25%) using cross\n",
    "validation techniques.\n",
    "\n",
    "(30 marks)\n",
    "\n",
    "3) What is the primary purpose of hyperparameter tuning in machine learning? Could you\n",
    "elaborate on specific hyperparameter tuning techniques (e.g., GridSearchCV) applied to\n",
    "machine learning models to find optimal parameters?\n",
    "\n",
    "(25 marks)\n",
    "4) Interpret and explain the results obtained, discuss overfitting / underfitting / generalisation,\n",
    "provide a rationale for the chosen models and use visualisations to support your findings.\n",
    "Comments in Python code, conclusions of the assignment should be specified at the end of\n",
    "the report. Harvard Style must be used for citations and references."
   ]
  },
  {
   "cell_type": "code",
   "execution_count": 4,
   "metadata": {
    "id": "gw5qOc5Y3Yj5"
   },
   "outputs": [],
   "source": [
    "from IPython.display import clear_output\n",
    "import pandas as pd"
   ]
  },
  {
   "cell_type": "markdown",
   "metadata": {
    "id": "lcYFMKGI13le"
   },
   "source": [
    "## Introduction\n",
    "\n",
    "Higher level education is one of the core government concerns in most of countries with high stakes for the long term sucess of such countries. From a governement policy perspective understanding students interests and identifying discontent and possiblity of drop out is essential. As the scale of classrooms and universities increases it's undoable to individually understand each student, so automated technices become crucial. This work is motivated by the possiblity of machine learning models to be trained to predict the probability of drop out of students given their background and context they are in. To achieve this I will use a class"
   ]
  },
  {
   "cell_type": "code",
   "execution_count": 5,
   "metadata": {
    "id": "H7qQ8TMK3Wup"
   },
   "outputs": [],
   "source": [
    "# Justice Centered data includes a set of justice votes for each dispute, along with the case information. The unit of analysis is the vote. These data should be used if the votes of the justices are of interest.\n",
    "url='https://drive.google.com/uc?id=' + '1Fbtcb4gvAAxXmVegJSFrz9UTSDSu9jfK'\n",
    "dataframe = pd.read_csv(url,sep=\";\")"
   ]
  },
  {
   "cell_type": "code",
   "execution_count": 6,
   "metadata": {
    "colab": {
     "base_uri": "https://localhost:8080/"
    },
    "id": "S8IjZB15BXw6",
    "outputId": "6f075b46-c8df-49a5-e7b1-11bac5487892"
   },
   "outputs": [
    {
     "name": "stdout",
     "output_type": "stream",
     "text": [
      "(4424, 37)\n"
     ]
    }
   ],
   "source": [
    "print(dataframe.shape)"
   ]
  },
  {
   "cell_type": "code",
   "execution_count": 17,
   "metadata": {
    "colab": {
     "base_uri": "https://localhost:8080/"
    },
    "id": "VwdUOezw7EUB",
    "outputId": "34991640-b778-4e91-eedd-b974ee59b67b"
   },
   "outputs": [
    {
     "name": "stdout",
     "output_type": "stream",
     "text": [
      "Index(['Marital status', 'Application mode', 'Application order', 'Course',\n",
      "       'Daytime/evening attendance\\t', 'Previous qualification',\n",
      "       'Previous qualification (grade)', 'Nacionality',\n",
      "       'Mother's qualification', 'Father's qualification',\n",
      "       'Mother's occupation', 'Father's occupation', 'Admission grade',\n",
      "       'Displaced', 'Educational special needs', 'Debtor',\n",
      "       'Tuition fees up to date', 'Gender', 'Scholarship holder',\n",
      "       'Age at enrollment', 'International',\n",
      "       'Curricular units 1st sem (credited)',\n",
      "       'Curricular units 1st sem (enrolled)',\n",
      "       'Curricular units 1st sem (evaluations)',\n",
      "       'Curricular units 1st sem (approved)',\n",
      "       'Curricular units 1st sem (grade)',\n",
      "       'Curricular units 1st sem (without evaluations)',\n",
      "       'Curricular units 2nd sem (credited)',\n",
      "       'Curricular units 2nd sem (enrolled)',\n",
      "       'Curricular units 2nd sem (evaluations)',\n",
      "       'Curricular units 2nd sem (approved)',\n",
      "       'Curricular units 2nd sem (grade)',\n",
      "       'Curricular units 2nd sem (without evaluations)', 'Unemployment rate',\n",
      "       'Inflation rate', 'GDP', 'Target'],\n",
      "      dtype='object')\n",
      "Index(['maritalstatus', 'applicationmode', 'applicationorder', 'course',\n",
      "       'daytimeeveningattendance', 'previousqualification',\n",
      "       'previousqualificationgrade', 'nacionality', 'mothersqualification',\n",
      "       'fathersqualification', 'mothersoccupation', 'fathersoccupation',\n",
      "       'admissiongrade', 'displaced', 'educationalspecialneeds', 'debtor',\n",
      "       'tuitionfeesuptodate', 'gender', 'scholarshipholder', 'ageatenrollment',\n",
      "       'international', 'curricularunits1stsemcredited',\n",
      "       'curricularunits1stsemenrolled', 'curricularunits1stsemevaluations',\n",
      "       'curricularunits1stsemapproved', 'curricularunits1stsemgrade',\n",
      "       'curricularunits1stsemwithoutevaluations',\n",
      "       'curricularunits2ndsemcredited', 'curricularunits2ndsemenrolled',\n",
      "       'curricularunits2ndsemevaluations', 'curricularunits2ndsemapproved',\n",
      "       'curricularunits2ndsemgrade', 'curricularunits2ndsemwithoutevaluations',\n",
      "       'unemploymentrate', 'inflationrate', 'gdp', 'target'],\n",
      "      dtype='object')\n"
     ]
    }
   ],
   "source": [
    "print(dataframe.columns)\n",
    "# simplifying column names\n",
    "dataframe.columns = [''.join(ch.lower() for ch in column_name if ch.isalnum()) for column_name in dataframe.columns]\n",
    "print(dataframe.columns)\n"
   ]
  },
  {
   "cell_type": "code",
   "execution_count": 19,
   "metadata": {
    "colab": {
     "base_uri": "https://localhost:8080/",
     "height": 288
    },
    "id": "MXW2iZhxOfXX",
    "outputId": "531fa911-e0e8-414a-abf5-526a38f5790e"
   },
   "outputs": [
    {
     "data": {
      "text/html": [
       "<div>\n",
       "<style scoped>\n",
       "    .dataframe tbody tr th:only-of-type {\n",
       "        vertical-align: middle;\n",
       "    }\n",
       "\n",
       "    .dataframe tbody tr th {\n",
       "        vertical-align: top;\n",
       "    }\n",
       "\n",
       "    .dataframe thead th {\n",
       "        text-align: right;\n",
       "    }\n",
       "</style>\n",
       "<table border=\"1\" class=\"dataframe\">\n",
       "  <thead>\n",
       "    <tr style=\"text-align: right;\">\n",
       "      <th></th>\n",
       "      <th>maritalstatus</th>\n",
       "      <th>applicationmode</th>\n",
       "      <th>applicationorder</th>\n",
       "      <th>course</th>\n",
       "      <th>daytimeeveningattendance</th>\n",
       "      <th>previousqualification</th>\n",
       "      <th>previousqualificationgrade</th>\n",
       "      <th>nacionality</th>\n",
       "      <th>mothersqualification</th>\n",
       "      <th>fathersqualification</th>\n",
       "      <th>...</th>\n",
       "      <th>curricularunits2ndsemcredited</th>\n",
       "      <th>curricularunits2ndsemenrolled</th>\n",
       "      <th>curricularunits2ndsemevaluations</th>\n",
       "      <th>curricularunits2ndsemapproved</th>\n",
       "      <th>curricularunits2ndsemgrade</th>\n",
       "      <th>curricularunits2ndsemwithoutevaluations</th>\n",
       "      <th>unemploymentrate</th>\n",
       "      <th>inflationrate</th>\n",
       "      <th>gdp</th>\n",
       "      <th>target</th>\n",
       "    </tr>\n",
       "  </thead>\n",
       "  <tbody>\n",
       "    <tr>\n",
       "      <th>0</th>\n",
       "      <td>1</td>\n",
       "      <td>17</td>\n",
       "      <td>5</td>\n",
       "      <td>171</td>\n",
       "      <td>1</td>\n",
       "      <td>1</td>\n",
       "      <td>122.0</td>\n",
       "      <td>1</td>\n",
       "      <td>19</td>\n",
       "      <td>12</td>\n",
       "      <td>...</td>\n",
       "      <td>0</td>\n",
       "      <td>0</td>\n",
       "      <td>0</td>\n",
       "      <td>0</td>\n",
       "      <td>0.000000</td>\n",
       "      <td>0</td>\n",
       "      <td>10.8</td>\n",
       "      <td>1.4</td>\n",
       "      <td>1.74</td>\n",
       "      <td>Dropout</td>\n",
       "    </tr>\n",
       "    <tr>\n",
       "      <th>1</th>\n",
       "      <td>1</td>\n",
       "      <td>15</td>\n",
       "      <td>1</td>\n",
       "      <td>9254</td>\n",
       "      <td>1</td>\n",
       "      <td>1</td>\n",
       "      <td>160.0</td>\n",
       "      <td>1</td>\n",
       "      <td>1</td>\n",
       "      <td>3</td>\n",
       "      <td>...</td>\n",
       "      <td>0</td>\n",
       "      <td>6</td>\n",
       "      <td>6</td>\n",
       "      <td>6</td>\n",
       "      <td>13.666667</td>\n",
       "      <td>0</td>\n",
       "      <td>13.9</td>\n",
       "      <td>-0.3</td>\n",
       "      <td>0.79</td>\n",
       "      <td>Graduate</td>\n",
       "    </tr>\n",
       "    <tr>\n",
       "      <th>2</th>\n",
       "      <td>1</td>\n",
       "      <td>1</td>\n",
       "      <td>5</td>\n",
       "      <td>9070</td>\n",
       "      <td>1</td>\n",
       "      <td>1</td>\n",
       "      <td>122.0</td>\n",
       "      <td>1</td>\n",
       "      <td>37</td>\n",
       "      <td>37</td>\n",
       "      <td>...</td>\n",
       "      <td>0</td>\n",
       "      <td>6</td>\n",
       "      <td>0</td>\n",
       "      <td>0</td>\n",
       "      <td>0.000000</td>\n",
       "      <td>0</td>\n",
       "      <td>10.8</td>\n",
       "      <td>1.4</td>\n",
       "      <td>1.74</td>\n",
       "      <td>Dropout</td>\n",
       "    </tr>\n",
       "    <tr>\n",
       "      <th>3</th>\n",
       "      <td>1</td>\n",
       "      <td>17</td>\n",
       "      <td>2</td>\n",
       "      <td>9773</td>\n",
       "      <td>1</td>\n",
       "      <td>1</td>\n",
       "      <td>122.0</td>\n",
       "      <td>1</td>\n",
       "      <td>38</td>\n",
       "      <td>37</td>\n",
       "      <td>...</td>\n",
       "      <td>0</td>\n",
       "      <td>6</td>\n",
       "      <td>10</td>\n",
       "      <td>5</td>\n",
       "      <td>12.400000</td>\n",
       "      <td>0</td>\n",
       "      <td>9.4</td>\n",
       "      <td>-0.8</td>\n",
       "      <td>-3.12</td>\n",
       "      <td>Graduate</td>\n",
       "    </tr>\n",
       "    <tr>\n",
       "      <th>4</th>\n",
       "      <td>2</td>\n",
       "      <td>39</td>\n",
       "      <td>1</td>\n",
       "      <td>8014</td>\n",
       "      <td>0</td>\n",
       "      <td>1</td>\n",
       "      <td>100.0</td>\n",
       "      <td>1</td>\n",
       "      <td>37</td>\n",
       "      <td>38</td>\n",
       "      <td>...</td>\n",
       "      <td>0</td>\n",
       "      <td>6</td>\n",
       "      <td>6</td>\n",
       "      <td>6</td>\n",
       "      <td>13.000000</td>\n",
       "      <td>0</td>\n",
       "      <td>13.9</td>\n",
       "      <td>-0.3</td>\n",
       "      <td>0.79</td>\n",
       "      <td>Graduate</td>\n",
       "    </tr>\n",
       "  </tbody>\n",
       "</table>\n",
       "<p>5 rows × 37 columns</p>\n",
       "</div>"
      ],
      "text/plain": [
       "   maritalstatus  applicationmode  applicationorder  course  \\\n",
       "0              1               17                 5     171   \n",
       "1              1               15                 1    9254   \n",
       "2              1                1                 5    9070   \n",
       "3              1               17                 2    9773   \n",
       "4              2               39                 1    8014   \n",
       "\n",
       "   daytimeeveningattendance  previousqualification  \\\n",
       "0                         1                      1   \n",
       "1                         1                      1   \n",
       "2                         1                      1   \n",
       "3                         1                      1   \n",
       "4                         0                      1   \n",
       "\n",
       "   previousqualificationgrade  nacionality  mothersqualification  \\\n",
       "0                       122.0            1                    19   \n",
       "1                       160.0            1                     1   \n",
       "2                       122.0            1                    37   \n",
       "3                       122.0            1                    38   \n",
       "4                       100.0            1                    37   \n",
       "\n",
       "   fathersqualification  ...  curricularunits2ndsemcredited  \\\n",
       "0                    12  ...                              0   \n",
       "1                     3  ...                              0   \n",
       "2                    37  ...                              0   \n",
       "3                    37  ...                              0   \n",
       "4                    38  ...                              0   \n",
       "\n",
       "   curricularunits2ndsemenrolled  curricularunits2ndsemevaluations  \\\n",
       "0                              0                                 0   \n",
       "1                              6                                 6   \n",
       "2                              6                                 0   \n",
       "3                              6                                10   \n",
       "4                              6                                 6   \n",
       "\n",
       "   curricularunits2ndsemapproved  curricularunits2ndsemgrade  \\\n",
       "0                              0                    0.000000   \n",
       "1                              6                   13.666667   \n",
       "2                              0                    0.000000   \n",
       "3                              5                   12.400000   \n",
       "4                              6                   13.000000   \n",
       "\n",
       "   curricularunits2ndsemwithoutevaluations  unemploymentrate  inflationrate  \\\n",
       "0                                        0              10.8            1.4   \n",
       "1                                        0              13.9           -0.3   \n",
       "2                                        0              10.8            1.4   \n",
       "3                                        0               9.4           -0.8   \n",
       "4                                        0              13.9           -0.3   \n",
       "\n",
       "    gdp    target  \n",
       "0  1.74   Dropout  \n",
       "1  0.79  Graduate  \n",
       "2  1.74   Dropout  \n",
       "3 -3.12  Graduate  \n",
       "4  0.79  Graduate  \n",
       "\n",
       "[5 rows x 37 columns]"
      ]
     },
     "execution_count": 19,
     "metadata": {},
     "output_type": "execute_result"
    }
   ],
   "source": [
    "dataframe.head()"
   ]
  },
  {
   "cell_type": "code",
   "execution_count": 20,
   "metadata": {},
   "outputs": [],
   "source": [
    "# Martial status \n",
    "# 1 – single 2 – married 3 – widower 4 – divorced 5 – facto union 6 – legally separated\n",
    "\n",
    "# Application mode\n",
    "# 1 - 1st phase - general contingent 2 - Ordinance No. 612/93 5 - 1st phase - special contingent (Azores Island) 7 - Holders of other higher courses 10 - Ordinance No. 854-B/99 15 - International student (bachelor) 16 - 1st phase - special contingent (Madeira Island) 17 - 2nd phase - general contingent 18 - 3rd phase - general contingent 26 - Ordinance No. 533-A/99, item b2) (Different Plan) 27 - Ordinance No. 533-A/99, item b3 (Other Institution) 39 - Over 23 years old 42 - Transfer 43 - Change of course 44 - Technological specialization diploma holders 51 - Change of institution/course 53 - Short cycle diploma holders 57 - Change of institution/course (International)\n",
    "\n",
    "# Application order\n",
    "# Application order (between 0 - first choice; and 9 last choice)\n",
    "\n",
    "# Course\n",
    "# 33 - Biofuel Production Technologies 171 - Animation and Multimedia Design 8014 - Social Service (evening attendance) 9003 - Agronomy 9070 - Communication Design 9085 - Veterinary Nursing 9119 - Informatics Engineering 9130 - Equinculture 9147 - Management 9238 - Social Service 9254 - Tourism 9500 - Nursing 9556 - Oral Hygiene 9670 - Advertising and Marketing Management 9773 - Journalism and Communication 9853 - Basic Education 9991 - Management (evening attendance)\n",
    "\n",
    "# Daytime/evening attendance\n",
    "# 1 – daytime 0 - evening\t\n",
    "\n",
    "# Previous qualification\n",
    "# 1 - Secondary education 2 - Higher education - bachelor's degree 3 - Higher education - degree 4 - Higher education - master's 5 - Higher education - doctorate 6 - Frequency of higher education 9 - 12th year of schooling - not completed 10 - 11th year of schooling - not completed 12 - Other - 11th year of schooling 14 - 10th year of schooling 15 - 10th year of schooling - not completed 19 - Basic education 3rd cycle (9th/10th/11th year) or equiv. 38 - Basic education 2nd cycle (6th/7th/8th year) or equiv. 39 - Technological specialization course 40 - Higher education - degree (1st cycle) 42 - Professional higher technical course 43 - Higher education - master (2nd cycle)\n",
    "\n",
    "# Previous qualification (grade)\n",
    "# Grade of previous qualification (between 0 and 200)\n",
    "\n",
    "# Nationality\n",
    "# 1 - Portuguese; 2 - German; 6 - Spanish; 11 - Italian; 13 - Dutch; 14 - English; 17 - Lithuanian; 21 - Angolan; 22 - Cape Verdean; 24 - Guinean; 25 - Mozambican; 26 - Santomean; 32 - Turkish; 41 - Brazilian; 62 - Romanian; 100 - Moldova (Republic of); 101 - Mexican; 103 - Ukrainian; 105 - Russian; 108 - Cuban; 109 - Colombian\t\n",
    "\n",
    "# Mother's qualification\n",
    "# 1 - Secondary Education - 12th Year of Schooling or Eq. 2 - Higher Education - Bachelor's Degree 3 - Higher Education - Degree 4 - Higher Education - Master's 5 - Higher Education - Doctorate 6 - Frequency of Higher Education 9 - 12th Year of Schooling - Not Completed 10 - 11th Year of Schooling - Not Completed 11 - 7th Year (Old) 12 - Other - 11th Year of Schooling 14 - 10th Year of Schooling 18 - General commerce course 19 - Basic Education 3rd Cycle (9th/10th/11th Year) or Equiv. 22 - Technical-professional course 26 - 7th year of schooling 27 - 2nd cycle of the general high school course 29 - 9th Year of Schooling - Not Completed 30 - 8th year of schooling 34 - Unknown 35 - Can't read or write 36 - Can read without having a 4th year of schooling 37 - Basic education 1st cycle (4th/5th year) or equiv. 38 - Basic Education 2nd Cycle (6th/7th/8th Year) or Equiv. 39 - Technological specialization course 40 - Higher education - degree (1st cycle) 41 - Specialized higher studies course 42 - Professional higher technical course 43 - Higher Education - Master (2nd cycle) 44 - Higher Education - Doctorate (3rd cycle)\n",
    "\n",
    "# Father's qualification\n",
    "# 1 - Secondary Education - 12th Year of Schooling or Eq. 2 - Higher Education - Bachelor's Degree 3 - Higher Education - Degree 4 - Higher Education - Master's 5 - Higher Education - Doctorate 6 - Frequency of Higher Education 9 - 12th Year of Schooling - Not Completed 10 - 11th Year of Schooling - Not Completed 11 - 7th Year (Old) 12 - Other - 11th Year of Schooling 13 - 2nd year complementary high school course 14 - 10th Year of Schooling 18 - General commerce course 19 - Basic Education 3rd Cycle (9th/10th/11th Year) or Equiv. 20 - Complementary High School Course 22 - Technical-professional course 25 - Complementary High School Course - not concluded 26 - 7th year of schooling 27 - 2nd cycle of the general high school course 29 - 9th Year of Schooling - Not Completed 30 - 8th year of schooling 31 - General Course of Administration and Commerce 33 - Supplementary Accounting and Administration 34 - Unknown 35 - Can't read or write 36 - Can read without having a 4th year of schooling 37 - Basic education 1st cycle (4th/5th year) or equiv. 38 - Basic Education 2nd Cycle (6th/7th/8th Year) or Equiv. 39 - Technological specialization course 40 - Higher education - degree (1st cycle) 41 - Specialized higher studies course 42 - Professional higher technical course 43 - Higher Education - Master (2nd cycle) 44 - Higher Education - Doctorate (3rd cycle)\t\n",
    "\n",
    "# Mother's occupation\n",
    "# 0 - Student 1 - Representatives of the Legislative Power and Executive Bodies, Directors, Directors and Executive Managers 2 - Specialists in Intellectual and Scientific Activities 3 - Intermediate Level Technicians and Professions 4 - Administrative staff 5 - Personal Services, Security and Safety Workers and Sellers 6 - Farmers and Skilled Workers in Agriculture, Fisheries and Forestry 7 - Skilled Workers in Industry, Construction and Craftsmen 8 - Installation and Machine Operators and Assembly Workers 9 - Unskilled Workers 10 - Armed Forces Professions 90 - Other Situation 99 - (blank) 122 - Health professionals 123 - teachers 125 - Specialists in information and communication technologies (ICT) 131 - Intermediate level science and engineering technicians and professions 132 - Technicians and professionals, of intermediate level of health 134 - Intermediate level technicians from legal, social, sports, cultural and similar services 141 - Office workers, secretaries in general and data processing operators 143 - Data, accounting, statistical, financial services and registry-related operators 144 - Other administrative support staff 151 - personal service workers 152 - sellers 153 - Personal care workers and the like 171 - Skilled construction workers and the like, except electricians 173 - Skilled workers in printing, precision instrument manufacturing, jewelers, artisans and the like 175 - Workers in food processing, woodworking, clothing and other industries and crafts 191 - cleaning workers 192 - Unskilled workers in agriculture, animal production, fisheries and forestry 193 - Unskilled workers in extractive industry, construction, manufacturing and transport 194 - Meal preparation assistants\n",
    "\n"
   ]
  },
  {
   "cell_type": "code",
   "execution_count": null,
   "metadata": {
    "colab": {
     "base_uri": "https://localhost:8080/"
    },
    "id": "sxEvKK60-JGB",
    "outputId": "b09348e6-d2a2-458b-cfe3-f4b1acad40e6"
   },
   "outputs": [
    {
     "name": "stdout",
     "output_type": "stream",
     "text": [
      "curricularunits2ndsemgrade\n",
      "curricularunits2ndsemgrade\n",
      "0.000000     870\n",
      "12.000000    170\n",
      "11.000000    165\n",
      "13.000000    150\n",
      "11.500000     86\n",
      "            ... \n",
      "13.514286      1\n",
      "14.511250      1\n",
      "12.050000      1\n",
      "13.242857      1\n",
      "13.417391      1\n",
      "Name: count, Length: 786, dtype: int64\n"
     ]
    }
   ],
   "source": [
    "for column in dataframe.columns:\n",
    "    print(column)\n",
    "    print(dataframe[column].value_counts())\n",
    "    input(\"\\n\")\n",
    "    clear_output()"
   ]
  },
  {
   "cell_type": "code",
   "execution_count": 16,
   "metadata": {},
   "outputs": [
    {
     "data": {
      "text/plain": [
       "['maritalstatus',\n",
       " 'applicationmode',\n",
       " 'applicationorder',\n",
       " 'course',\n",
       " 'daytimeeveningattendance',\n",
       " 'previousqualification',\n",
       " 'previousqualificationgrade',\n",
       " 'nacionality',\n",
       " 'mothersqualification',\n",
       " 'fathersqualification',\n",
       " 'mothersoccupation',\n",
       " 'fathersoccupation',\n",
       " 'admissiongrade',\n",
       " 'displaced',\n",
       " 'educationalspecialneeds',\n",
       " 'debtor',\n",
       " 'tuitionfeesuptodate',\n",
       " 'gender',\n",
       " 'scholarshipholder',\n",
       " 'ageatenrollment',\n",
       " 'international',\n",
       " 'curricularunits1stsemcredited',\n",
       " 'curricularunits1stsemenrolled',\n",
       " 'curricularunits1stsemevaluations',\n",
       " 'curricularunits1stsemapproved',\n",
       " 'curricularunits1stsemgrade',\n",
       " 'curricularunits1stsemwithoutevaluations',\n",
       " 'curricularunits2ndsemcredited',\n",
       " 'curricularunits2ndsemenrolled',\n",
       " 'curricularunits2ndsemevaluations',\n",
       " 'curricularunits2ndsemapproved',\n",
       " 'curricularunits2ndsemgrade',\n",
       " 'curricularunits2ndsemwithoutevaluations',\n",
       " 'unemploymentrate',\n",
       " 'inflationrate',\n",
       " 'gdp',\n",
       " 'target']"
      ]
     },
     "execution_count": 16,
     "metadata": {},
     "output_type": "execute_result"
    }
   ],
   "source": [
    "categorical_variables = [\n",
    " 'maritalstatus',\n",
    " 'applicationmode',\n",
    " 'applicationorder',\n",
    " 'course',\n",
    " # 'daytimeeveningattendance', boolean\n",
    " 'previousqualification',\n",
    " # 'previousqualificationgrade', numeric\n",
    " 'nacionality',\n",
    " 'mothersqualification',\n",
    " 'fathersqualification',\n",
    " 'mothersoccupation',\n",
    " 'fathersoccupation',\n",
    " # 'admissiongrade', numeric\n",
    " # 'displaced', boolean\n",
    " #'educationalspecialneeds', boolean\n",
    " #'debtor', boolean\n",
    " #'tuitionfeesuptodate', boolean\n",
    " #'gender', boolean\n",
    " #'scholarshipholder', boolean\n",
    " #'ageatenrollment', numeric\n",
    " #'international', boolean\n",
    " #'curricularunits1stsemcredited', numeric\n",
    " #'curricularunits1stsemenrolled', numeric\n",
    " #'curricularunits1stsemevaluations', numeric\n",
    " #'curricularunits1stsemapproved', numeric\n",
    " #'curricularunits1stsemgrade', numeric\n",
    " #'curricularunits1stsemwithoutevaluations', numeric\n",
    " #'curricularunits2ndsemcredited',\n",
    " #'curricularunits2ndsemenrolled',\n",
    " #'curricularunits2ndsemevaluations',\n",
    " #'curricularunits2ndsemapproved',\n",
    " #'curricularunits2ndsemgrade',\n",
    " #'curricularunits2ndsemwithoutevaluations',\n",
    " 'unemploymentrate',\n",
    " 'inflationrate',\n",
    " 'gdp',\n",
    " 'target']\n",
    "\n",
    "\n",
    "\n",
    "\n",
    "\n",
    "\n"
   ]
  },
  {
   "cell_type": "markdown",
   "metadata": {
    "id": "Srx-KOKK16_o"
   },
   "source": [
    "## Characterization of data\n"
   ]
  },
  {
   "cell_type": "markdown",
   "metadata": {},
   "source": [
    "### preprocessing\n",
    "\n",
    "Most of our variables are categorical so we need to convert them to binary columns\n"
   ]
  },
  {
   "cell_type": "code",
   "execution_count": null,
   "metadata": {},
   "outputs": [],
   "source": [
    "categorical_variables =  [\"Marital status "
   ]
  },
  {
   "cell_type": "markdown",
   "metadata": {},
   "source": [
    "### explanation"
   ]
  },
  {
   "cell_type": "markdown",
   "metadata": {},
   "source": [
    "### three training splits (CV)"
   ]
  },
  {
   "cell_type": "markdown",
   "metadata": {
    "id": "FFNl44go2GiO"
   },
   "source": [
    "## Hyperparameter tuning"
   ]
  },
  {
   "cell_type": "markdown",
   "metadata": {
    "id": "8ow70Yts2LNL"
   },
   "source": [
    "## Interpreting and explaning results\n",
    "\n",
    "### Overfitting/ underfitting / generalization"
   ]
  },
  {
   "cell_type": "code",
   "execution_count": null,
   "metadata": {
    "id": "vDqIPetm3P4A"
   },
   "outputs": [],
   "source": [
    "#"
   ]
  }
 ],
 "metadata": {
  "colab": {
   "provenance": []
  },
  "kernelspec": {
   "display_name": "Python 3 (ipykernel)",
   "language": "python",
   "name": "python3"
  },
  "language_info": {
   "codemirror_mode": {
    "name": "ipython",
    "version": 3
   },
   "file_extension": ".py",
   "mimetype": "text/x-python",
   "name": "python",
   "nbconvert_exporter": "python",
   "pygments_lexer": "ipython3",
   "version": "3.12.7"
  }
 },
 "nbformat": 4,
 "nbformat_minor": 4
}
