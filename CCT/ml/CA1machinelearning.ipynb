{
 "cells": [
  {
   "cell_type": "markdown",
   "metadata": {
    "id": "m2M_3qyOmybM"
   },
   "source": [
    "# Machine Learning CA1\n",
    "\n",
    "1) A clear introduction, motivation, a description of the problem domain, and an explanation of\n",
    "how the assignment's goals are justified using Prediction / Classification algorithms.\n",
    "\n",
    "(20 marks)\n",
    "\n",
    "2) Characterization of data, pre-processing, explanation and description of techniques used for\n",
    "the variation in the accuracy across three training splits (10%, 15% and 25%) using cross\n",
    "validation techniques.\n",
    "\n",
    "(30 marks)\n",
    "\n",
    "3) What is the primary purpose of hyperparameter tuning in machine learning? Could you\n",
    "elaborate on specific hyperparameter tuning techniques (e.g., GridSearchCV) applied to\n",
    "machine learning models to find optimal parameters?\n",
    "\n",
    "(25 marks)\n",
    "\n",
    "4) Interpret and explain the results obtained, discuss overfitting / underfitting / generalisation,\n",
    "provide a rationale for the chosen models and use visualisations to support your findings.\n",
    "Comments in Python code, conclusions of the assignment should be specified at the end of\n",
    "the report. Harvard Style must be used for citations and references.\n",
    "\n",
    "(25 marks)"
   ]
  },
  {
   "cell_type": "code",
   "execution_count": 1,
   "metadata": {
    "id": "gw5qOc5Y3Yj5"
   },
   "outputs": [],
   "source": [
    "import warnings \n",
    "warnings.filterwarnings('ignore')\n",
    "from IPython.display import clear_output\n",
    "import pandas as pd\n",
    "from sklearn.model_selection import train_test_split\n",
    "from sklearn.preprocessing import StandardScaler\n",
    "from sklearn.preprocessing import OneHotEncoder\n",
    "from sklearn.decomposition import PCA\n",
    "import matplotlib.pyplot as plt \n",
    "import seaborn as sns\n",
    "\n",
    "from sklearn.model_selection import train_test_split, cross_val_score, GridSearchCV\n",
    "from sklearn.preprocessing import LabelEncoder, StandardScaler\n",
    "from sklearn.metrics import accuracy_score, classification_report, confusion_matrix\n",
    "from sklearn.linear_model import LogisticRegression\n",
    "from sklearn.tree import DecisionTreeClassifier\n",
    "from sklearn.ensemble import RandomForestClassifier\n",
    "from sklearn.neighbors import KNeighborsClassifier\n",
    "from sklearn.svm import SVC\n",
    "from sklearn.neural_network import MLPClassifier\n",
    "\n",
    "from imblearn.over_sampling import SMOTE\n"
   ]
  },
  {
   "cell_type": "markdown",
   "metadata": {
    "id": "lcYFMKGI13le"
   },
   "source": []
  },
  {
   "cell_type": "code",
   "execution_count": 2,
   "metadata": {
    "id": "H7qQ8TMK3Wup"
   },
   "outputs": [],
   "source": [
    "# Justice Centered data includes a set of justice votes for each dispute, along with the case information. The unit of analysis is the vote. These data should be used if the votes of the justices are of interest.\n",
    "#fp='https://drive.google.com/uc?id=' + '1Fbtcb4gvAAxXmVegJSFrz9UTSDSu9jfK' # sep = \";\"\n",
    "fp=\"./dropout_dataset.csv\" \n",
    "df = pd.read_csv(fp,sep=\",\",index_col=0)\n",
    "#df.to_csv(\"./dropout_data.csv\",index=False)"
   ]
  },
  {
   "cell_type": "code",
   "execution_count": 3,
   "metadata": {
    "colab": {
     "base_uri": "https://localhost:8080/"
    },
    "id": "S8IjZB15BXw6",
    "outputId": "6f075b46-c8df-49a5-e7b1-11bac5487892"
   },
   "outputs": [
    {
     "name": "stdout",
     "output_type": "stream",
     "text": [
      "(4424, 37)\n",
      "   maritalstatus  applicationmode  applicationorder  course  \\\n",
      "0              1               17                 5     171   \n",
      "1              1               15                 1    9254   \n",
      "2              1                1                 5    9070   \n",
      "3              1               17                 2    9773   \n",
      "4              2               39                 1    8014   \n",
      "\n",
      "   daytimeeveningattendance  previousqualification  \\\n",
      "0                         1                      1   \n",
      "1                         1                      1   \n",
      "2                         1                      1   \n",
      "3                         1                      1   \n",
      "4                         0                      1   \n",
      "\n",
      "   previousqualificationgrade  nacionality  mothersqualification  \\\n",
      "0                       122.0            1                    19   \n",
      "1                       160.0            1                     1   \n",
      "2                       122.0            1                    37   \n",
      "3                       122.0            1                    38   \n",
      "4                       100.0            1                    37   \n",
      "\n",
      "   fathersqualification  ...  curricularunits2ndsemcredited  \\\n",
      "0                    12  ...                              0   \n",
      "1                     3  ...                              0   \n",
      "2                    37  ...                              0   \n",
      "3                    37  ...                              0   \n",
      "4                    38  ...                              0   \n",
      "\n",
      "   curricularunits2ndsemenrolled  curricularunits2ndsemevaluations  \\\n",
      "0                              0                                 0   \n",
      "1                              6                                 6   \n",
      "2                              6                                 0   \n",
      "3                              6                                10   \n",
      "4                              6                                 6   \n",
      "\n",
      "   curricularunits2ndsemapproved  curricularunits2ndsemgrade  \\\n",
      "0                              0                    0.000000   \n",
      "1                              6                   13.666667   \n",
      "2                              0                    0.000000   \n",
      "3                              5                   12.400000   \n",
      "4                              6                   13.000000   \n",
      "\n",
      "   curricularunits2ndsemwithoutevaluations  unemploymentrate  inflationrate  \\\n",
      "0                                        0              10.8            1.4   \n",
      "1                                        0              13.9           -0.3   \n",
      "2                                        0              10.8            1.4   \n",
      "3                                        0               9.4           -0.8   \n",
      "4                                        0              13.9           -0.3   \n",
      "\n",
      "    gdp    target  \n",
      "0  1.74   Dropout  \n",
      "1  0.79  Graduate  \n",
      "2  1.74   Dropout  \n",
      "3 -3.12  Graduate  \n",
      "4  0.79  Graduate  \n",
      "\n",
      "[5 rows x 37 columns]\n"
     ]
    }
   ],
   "source": [
    "print(df.shape)\n",
    "print(df.head())"
   ]
  },
  {
   "cell_type": "code",
   "execution_count": 4,
   "metadata": {
    "colab": {
     "base_uri": "https://localhost:8080/"
    },
    "id": "VwdUOezw7EUB",
    "outputId": "34991640-b778-4e91-eedd-b974ee59b67b"
   },
   "outputs": [
    {
     "name": "stdout",
     "output_type": "stream",
     "text": [
      "Index(['maritalstatus', 'applicationmode', 'applicationorder', 'course',\n",
      "       'daytimeeveningattendance', 'previousqualification',\n",
      "       'previousqualificationgrade', 'nacionality', 'mothersqualification',\n",
      "       'fathersqualification', 'mothersoccupation', 'fathersoccupation',\n",
      "       'admissiongrade', 'displaced', 'educationalspecialneeds', 'debtor',\n",
      "       'tuitionfeesuptodate', 'gender', 'scholarshipholder', 'ageatenrollment',\n",
      "       'international', 'curricularunits1stsemcredited',\n",
      "       'curricularunits1stsemenrolled', 'curricularunits1stsemevaluations',\n",
      "       'curricularunits1stsemapproved', 'curricularunits1stsemgrade',\n",
      "       'curricularunits1stsemwithoutevaluations',\n",
      "       'curricularunits2ndsemcredited', 'curricularunits2ndsemenrolled',\n",
      "       'curricularunits2ndsemevaluations', 'curricularunits2ndsemapproved',\n",
      "       'curricularunits2ndsemgrade', 'curricularunits2ndsemwithoutevaluations',\n",
      "       'unemploymentrate', 'inflationrate', 'gdp', 'target'],\n",
      "      dtype='object')\n",
      "Index(['maritalstatus', 'applicationmode', 'applicationorder', 'course',\n",
      "       'daytimeeveningattendance', 'previousqualification',\n",
      "       'previousqualificationgrade', 'nacionality', 'mothersqualification',\n",
      "       'fathersqualification', 'mothersoccupation', 'fathersoccupation',\n",
      "       'admissiongrade', 'displaced', 'educationalspecialneeds', 'debtor',\n",
      "       'tuitionfeesuptodate', 'gender', 'scholarshipholder', 'ageatenrollment',\n",
      "       'international', 'curricularunits1stsemcredited',\n",
      "       'curricularunits1stsemenrolled', 'curricularunits1stsemevaluations',\n",
      "       'curricularunits1stsemapproved', 'curricularunits1stsemgrade',\n",
      "       'curricularunits1stsemwithoutevaluations',\n",
      "       'curricularunits2ndsemcredited', 'curricularunits2ndsemenrolled',\n",
      "       'curricularunits2ndsemevaluations', 'curricularunits2ndsemapproved',\n",
      "       'curricularunits2ndsemgrade', 'curricularunits2ndsemwithoutevaluations',\n",
      "       'unemploymentrate', 'inflationrate', 'gdp', 'target'],\n",
      "      dtype='object')\n"
     ]
    }
   ],
   "source": [
    "print(df.columns)\n",
    "# simplifying column names\n",
    "df.columns = [''.join(ch.lower() for ch in column_name if ch.isalnum()) for column_name in df.columns]\n",
    "print(df.columns)\n"
   ]
  },
  {
   "cell_type": "code",
   "execution_count": 5,
   "metadata": {
    "colab": {
     "base_uri": "https://localhost:8080/",
     "height": 288
    },
    "id": "MXW2iZhxOfXX",
    "outputId": "531fa911-e0e8-414a-abf5-526a38f5790e",
    "scrolled": true
   },
   "outputs": [
    {
     "data": {
      "text/html": [
       "<div>\n",
       "<style scoped>\n",
       "    .dataframe tbody tr th:only-of-type {\n",
       "        vertical-align: middle;\n",
       "    }\n",
       "\n",
       "    .dataframe tbody tr th {\n",
       "        vertical-align: top;\n",
       "    }\n",
       "\n",
       "    .dataframe thead th {\n",
       "        text-align: right;\n",
       "    }\n",
       "</style>\n",
       "<table border=\"1\" class=\"dataframe\">\n",
       "  <thead>\n",
       "    <tr style=\"text-align: right;\">\n",
       "      <th></th>\n",
       "      <th>maritalstatus</th>\n",
       "      <th>applicationmode</th>\n",
       "      <th>applicationorder</th>\n",
       "      <th>course</th>\n",
       "      <th>daytimeeveningattendance</th>\n",
       "      <th>previousqualification</th>\n",
       "      <th>previousqualificationgrade</th>\n",
       "      <th>nacionality</th>\n",
       "      <th>mothersqualification</th>\n",
       "      <th>fathersqualification</th>\n",
       "      <th>...</th>\n",
       "      <th>curricularunits2ndsemcredited</th>\n",
       "      <th>curricularunits2ndsemenrolled</th>\n",
       "      <th>curricularunits2ndsemevaluations</th>\n",
       "      <th>curricularunits2ndsemapproved</th>\n",
       "      <th>curricularunits2ndsemgrade</th>\n",
       "      <th>curricularunits2ndsemwithoutevaluations</th>\n",
       "      <th>unemploymentrate</th>\n",
       "      <th>inflationrate</th>\n",
       "      <th>gdp</th>\n",
       "      <th>target</th>\n",
       "    </tr>\n",
       "  </thead>\n",
       "  <tbody>\n",
       "    <tr>\n",
       "      <th>0</th>\n",
       "      <td>1</td>\n",
       "      <td>17</td>\n",
       "      <td>5</td>\n",
       "      <td>171</td>\n",
       "      <td>1</td>\n",
       "      <td>1</td>\n",
       "      <td>122.0</td>\n",
       "      <td>1</td>\n",
       "      <td>19</td>\n",
       "      <td>12</td>\n",
       "      <td>...</td>\n",
       "      <td>0</td>\n",
       "      <td>0</td>\n",
       "      <td>0</td>\n",
       "      <td>0</td>\n",
       "      <td>0.000000</td>\n",
       "      <td>0</td>\n",
       "      <td>10.8</td>\n",
       "      <td>1.4</td>\n",
       "      <td>1.74</td>\n",
       "      <td>Dropout</td>\n",
       "    </tr>\n",
       "    <tr>\n",
       "      <th>1</th>\n",
       "      <td>1</td>\n",
       "      <td>15</td>\n",
       "      <td>1</td>\n",
       "      <td>9254</td>\n",
       "      <td>1</td>\n",
       "      <td>1</td>\n",
       "      <td>160.0</td>\n",
       "      <td>1</td>\n",
       "      <td>1</td>\n",
       "      <td>3</td>\n",
       "      <td>...</td>\n",
       "      <td>0</td>\n",
       "      <td>6</td>\n",
       "      <td>6</td>\n",
       "      <td>6</td>\n",
       "      <td>13.666667</td>\n",
       "      <td>0</td>\n",
       "      <td>13.9</td>\n",
       "      <td>-0.3</td>\n",
       "      <td>0.79</td>\n",
       "      <td>Graduate</td>\n",
       "    </tr>\n",
       "    <tr>\n",
       "      <th>2</th>\n",
       "      <td>1</td>\n",
       "      <td>1</td>\n",
       "      <td>5</td>\n",
       "      <td>9070</td>\n",
       "      <td>1</td>\n",
       "      <td>1</td>\n",
       "      <td>122.0</td>\n",
       "      <td>1</td>\n",
       "      <td>37</td>\n",
       "      <td>37</td>\n",
       "      <td>...</td>\n",
       "      <td>0</td>\n",
       "      <td>6</td>\n",
       "      <td>0</td>\n",
       "      <td>0</td>\n",
       "      <td>0.000000</td>\n",
       "      <td>0</td>\n",
       "      <td>10.8</td>\n",
       "      <td>1.4</td>\n",
       "      <td>1.74</td>\n",
       "      <td>Dropout</td>\n",
       "    </tr>\n",
       "    <tr>\n",
       "      <th>3</th>\n",
       "      <td>1</td>\n",
       "      <td>17</td>\n",
       "      <td>2</td>\n",
       "      <td>9773</td>\n",
       "      <td>1</td>\n",
       "      <td>1</td>\n",
       "      <td>122.0</td>\n",
       "      <td>1</td>\n",
       "      <td>38</td>\n",
       "      <td>37</td>\n",
       "      <td>...</td>\n",
       "      <td>0</td>\n",
       "      <td>6</td>\n",
       "      <td>10</td>\n",
       "      <td>5</td>\n",
       "      <td>12.400000</td>\n",
       "      <td>0</td>\n",
       "      <td>9.4</td>\n",
       "      <td>-0.8</td>\n",
       "      <td>-3.12</td>\n",
       "      <td>Graduate</td>\n",
       "    </tr>\n",
       "    <tr>\n",
       "      <th>4</th>\n",
       "      <td>2</td>\n",
       "      <td>39</td>\n",
       "      <td>1</td>\n",
       "      <td>8014</td>\n",
       "      <td>0</td>\n",
       "      <td>1</td>\n",
       "      <td>100.0</td>\n",
       "      <td>1</td>\n",
       "      <td>37</td>\n",
       "      <td>38</td>\n",
       "      <td>...</td>\n",
       "      <td>0</td>\n",
       "      <td>6</td>\n",
       "      <td>6</td>\n",
       "      <td>6</td>\n",
       "      <td>13.000000</td>\n",
       "      <td>0</td>\n",
       "      <td>13.9</td>\n",
       "      <td>-0.3</td>\n",
       "      <td>0.79</td>\n",
       "      <td>Graduate</td>\n",
       "    </tr>\n",
       "  </tbody>\n",
       "</table>\n",
       "<p>5 rows × 37 columns</p>\n",
       "</div>"
      ],
      "text/plain": [
       "   maritalstatus  applicationmode  applicationorder  course  \\\n",
       "0              1               17                 5     171   \n",
       "1              1               15                 1    9254   \n",
       "2              1                1                 5    9070   \n",
       "3              1               17                 2    9773   \n",
       "4              2               39                 1    8014   \n",
       "\n",
       "   daytimeeveningattendance  previousqualification  \\\n",
       "0                         1                      1   \n",
       "1                         1                      1   \n",
       "2                         1                      1   \n",
       "3                         1                      1   \n",
       "4                         0                      1   \n",
       "\n",
       "   previousqualificationgrade  nacionality  mothersqualification  \\\n",
       "0                       122.0            1                    19   \n",
       "1                       160.0            1                     1   \n",
       "2                       122.0            1                    37   \n",
       "3                       122.0            1                    38   \n",
       "4                       100.0            1                    37   \n",
       "\n",
       "   fathersqualification  ...  curricularunits2ndsemcredited  \\\n",
       "0                    12  ...                              0   \n",
       "1                     3  ...                              0   \n",
       "2                    37  ...                              0   \n",
       "3                    37  ...                              0   \n",
       "4                    38  ...                              0   \n",
       "\n",
       "   curricularunits2ndsemenrolled  curricularunits2ndsemevaluations  \\\n",
       "0                              0                                 0   \n",
       "1                              6                                 6   \n",
       "2                              6                                 0   \n",
       "3                              6                                10   \n",
       "4                              6                                 6   \n",
       "\n",
       "   curricularunits2ndsemapproved  curricularunits2ndsemgrade  \\\n",
       "0                              0                    0.000000   \n",
       "1                              6                   13.666667   \n",
       "2                              0                    0.000000   \n",
       "3                              5                   12.400000   \n",
       "4                              6                   13.000000   \n",
       "\n",
       "   curricularunits2ndsemwithoutevaluations  unemploymentrate  inflationrate  \\\n",
       "0                                        0              10.8            1.4   \n",
       "1                                        0              13.9           -0.3   \n",
       "2                                        0              10.8            1.4   \n",
       "3                                        0               9.4           -0.8   \n",
       "4                                        0              13.9           -0.3   \n",
       "\n",
       "    gdp    target  \n",
       "0  1.74   Dropout  \n",
       "1  0.79  Graduate  \n",
       "2  1.74   Dropout  \n",
       "3 -3.12  Graduate  \n",
       "4  0.79  Graduate  \n",
       "\n",
       "[5 rows x 37 columns]"
      ]
     },
     "execution_count": 5,
     "metadata": {},
     "output_type": "execute_result"
    }
   ],
   "source": [
    "df.head()"
   ]
  },
  {
   "cell_type": "markdown",
   "metadata": {},
   "source": []
  },
  {
   "cell_type": "code",
   "execution_count": 6,
   "metadata": {},
   "outputs": [
    {
     "name": "stdout",
     "output_type": "stream",
     "text": [
      "target\n",
      "Graduate    2209\n",
      "Dropout     1421\n",
      "Enrolled     794\n",
      "Name: count, dtype: int64\n"
     ]
    }
   ],
   "source": [
    "for col in df.select_dtypes(include=[object]).columns:\n",
    "    print(df[col].value_counts())"
   ]
  },
  {
   "cell_type": "code",
   "execution_count": 7,
   "metadata": {
    "colab": {
     "base_uri": "https://localhost:8080/"
    },
    "id": "sxEvKK60-JGB",
    "outputId": "b09348e6-d2a2-458b-cfe3-f4b1acad40e6"
   },
   "outputs": [],
   "source": [
    "for column in df.columns:\n",
    "    print(column)\n",
    "    print(df[column].value_counts())\n",
    "    #input(\"\\n\")\n",
    "    clear_output()"
   ]
  },
  {
   "cell_type": "code",
   "execution_count": 8,
   "metadata": {},
   "outputs": [],
   "source": [
    "categorical_variables = [\n",
    " 'maritalstatus',\n",
    " 'applicationmode',\n",
    " 'applicationorder',\n",
    " 'course',\n",
    " # 'daytimeeveningattendance', boolean\n",
    " 'previousqualification',\n",
    " # 'previousqualificationgrade', numeric\n",
    " 'nacionality',\n",
    " 'mothersqualification',\n",
    " 'fathersqualification',\n",
    " 'mothersoccupation',\n",
    " 'fathersoccupation',\n",
    " # 'admissiongrade', numeric\n",
    " # 'displaced', boolean\n",
    " #'educationalspecialneeds', boolean\n",
    " #'debtor', boolean\n",
    " #'tuitionfeesuptodate', boolean\n",
    " #'gender', boolean\n",
    " #'scholarshipholder', boolean\n",
    " #'ageatenrollment', numeric\n",
    " #'international', boolean\n",
    " #'curricularunits1stsemcredited', numeric\n",
    " #'curricularunits1stsemenrolled', numeric\n",
    " #'curricularunits1stsemevaluations', numeric\n",
    " #'curricularunits1stsemapproved', numeric\n",
    " #'curricularunits1stsemgrade', numeric\n",
    " #'curricularunits1stsemwithoutevaluations', numeric\n",
    " #'curricularunits2ndsemcredited',\n",
    " #'curricularunits2ndsemenrolled',\n",
    " #'curricularunits2ndsemevaluations',\n",
    " #'curricularunits2ndsemapproved',\n",
    " #'curricularunits2ndsemgrade',\n",
    " #'curricularunits2ndsemwithoutevaluations',\n",
    " #'unemploymentrate', numeric\n",
    " #'inflationrate', numeric\n",
    " #'gdp', numeric\n",
    " #'target'\n",
    "]\n",
    "\n",
    "numerical_variables = [\n",
    "'daytimeeveningattendance', # boolean\n",
    "'previousqualificationgrade', # numeric\n",
    "'admissiongrade', # numeric\n",
    "'displaced', # boolean\n",
    "'educationalspecialneeds', # boolean\n",
    "'debtor', # boolean\n",
    "'tuitionfeesuptodate', # boolean\n",
    "'gender', # boolean\n",
    "'scholarshipholder', # boolean\n",
    "'ageatenrollment', # numeric\n",
    "'international', # boolean\n",
    "'curricularunits1stsemcredited', # numeric\n",
    "'curricularunits1stsemenrolled', # numeric\n",
    "'curricularunits1stsemevaluations', # numeric\n",
    "'curricularunits1stsemapproved', # numeric\n",
    "'curricularunits1stsemgrade', # numeric\n",
    "'curricularunits1stsemwithoutevaluations', # numeric\n",
    "'curricularunits2ndsemcredited', # numeric\n",
    "'curricularunits2ndsemenrolled', # numeric\n",
    "'curricularunits2ndsemevaluations', # numeric\n",
    "'curricularunits2ndsemapproved', # numeric\n",
    "'curricularunits2ndsemgrade', # numeric\n",
    "'curricularunits2ndsemwithoutevaluations', # numeric\n",
    "'unemploymentrate', # numeric\n",
    "'inflationrate', # numeric\n",
    "'gdp', # numeric\n",
    "]\n",
    "\n",
    "\n",
    "\n",
    "for col in categorical_variables:\n",
    "    df[col] = df[col].astype('category')\n",
    "    "
   ]
  },
  {
   "cell_type": "markdown",
   "metadata": {
    "id": "Srx-KOKK16_o",
    "jp-MarkdownHeadingCollapsed": true
   },
   "source": [
    "## Characterization of data\n"
   ]
  },
  {
   "cell_type": "code",
   "execution_count": 9,
   "metadata": {},
   "outputs": [
    {
     "name": "stdout",
     "output_type": "stream",
     "text": [
      "Count of each class in 'target' (drop out status):\n",
      "target\n",
      "Graduate    49.932188\n",
      "Dropout     32.120253\n",
      "Enrolled    17.947559\n",
      "Name: count, dtype: float64\n"
     ]
    }
   ],
   "source": [
    "# Show count of each class in the target variable\n",
    "class_counts = df['target'].value_counts()\n",
    "print(\"Count of each class in 'target' (drop out status):\")\n",
    "print(100*class_counts/len(df['target']))"
   ]
  },
  {
   "cell_type": "markdown",
   "metadata": {
    "jp-MarkdownHeadingCollapsed": true
   },
   "source": [
    "## Preprocessing data for Machine Learning\n"
   ]
  },
  {
   "cell_type": "markdown",
   "metadata": {},
   "source": [
    "### Splitting data and converting columns to numerical values (features)\n",
    "1. Splitting features and label\n",
    "    1. Enconding labels to label (binary classification)\n",
    "3. dummies variables for  categorical columns\n",
    "4. Train test split\n",
    "5. standardize scaler for numerical columns\n",
    "6. Fit PCA"
   ]
  },
  {
   "cell_type": "markdown",
   "metadata": {
    "jp-MarkdownHeadingCollapsed": true
   },
   "source": [
    "#### Splitting features and label\n",
    "    1. drop the target column from the features dataframe, \n",
    "    2. Enconding labels to label with the map function (binary classification)"
   ]
  },
  {
   "cell_type": "code",
   "execution_count": 10,
   "metadata": {},
   "outputs": [],
   "source": [
    "# splitting X(Features) and y(label/target)\n",
    "df_X = df.drop('target',axis=1)\n",
    "# Putting response variable to y\n",
    "df_y = df['target'].map({'Graduate':0,'Enrolled':0,'Dropout':1})"
   ]
  },
  {
   "cell_type": "markdown",
   "metadata": {},
   "source": [
    "#### Creating dummy variables from the training data and applying to the test data\n",
    "    - Using get dummies or one hot encoder"
   ]
  },
  {
   "cell_type": "code",
   "execution_count": 11,
   "metadata": {},
   "outputs": [],
   "source": [
    "# Simplified approach for categorical\n",
    "df_X_with_dummies = pd.get_dummies(df_X, columns=categorical_variables, drop_first = True)\n",
    "#ohe= OneHotEncoder(handle_unknown='ignore')\n",
    "#ohe.fit(df_train[categorical_variables])\n",
    "#X_ohe_train = ohe.transform(df_train[categorical_variables])\n",
    "#X_ohe_test = ohe.transform(df_test[categorical_variables])\n",
    "#X_categorical_train = pd.DataFrame(X_categorical_train.toarray(),columns=ohe.get_feature_names_out())\n",
    "#X_categorical_test= pd.DataFrame(X_categorical_test.toarray(),columns=ohe.get_feature_names_out())"
   ]
  },
  {
   "cell_type": "markdown",
   "metadata": {},
   "source": [
    "####  Train test split"
   ]
  },
  {
   "cell_type": "code",
   "execution_count": 12,
   "metadata": {},
   "outputs": [],
   "source": [
    "# try different test sizes 10, 15, 25\n",
    "test_size = 0.15\n",
    "# 101 previously\n",
    "# 595 previously 2\n",
    "# 219830\n",
    "X_train, X_test, y_train, y_test = train_test_split(df_X_with_dummies, df_y, test_size=test_size, shuffle=True, random_state=782148712)"
   ]
  },
  {
   "cell_type": "markdown",
   "metadata": {
    "jp-MarkdownHeadingCollapsed": true
   },
   "source": [
    "#### Standardize scaler for numerical columns"
   ]
  },
  {
   "cell_type": "code",
   "execution_count": 13,
   "metadata": {},
   "outputs": [],
   "source": [
    "# Create an object using Standard scalscaler\n",
    "scaler = StandardScaler()\n",
    "\n",
    "# Train the StandardScaler model\n",
    "scaler.fit(X_train)\n",
    "\n",
    "# transform data\n",
    "X_train_scaled = scaler.transform(X_train)\n",
    "X_test_scaled  = scaler.transform(X_test)\n"
   ]
  },
  {
   "cell_type": "markdown",
   "metadata": {},
   "source": [
    "#### Fit PCA"
   ]
  },
  {
   "cell_type": "code",
   "execution_count": 14,
   "metadata": {},
   "outputs": [
    {
     "name": "stdout",
     "output_type": "stream",
     "text": [
      "Original shape: (3760, 244)\n",
      "Reduced shape: (3760, 100)\n"
     ]
    }
   ],
   "source": [
    "# I fit PCA on the training data and use it to transform both the training data and the test data\n",
    "# PCA not quite working\n",
    "# 5  dimensions explaining 21%\n",
    "# 10 dimensions  32%\n",
    "# 20 dimensions 50%\n",
    "\n",
    "\n",
    "# keep the first two principal components of the data\n",
    "pca = PCA(n_components = 100)\n",
    "# transform data into the first two principal components\n",
    "pca.fit(X_train_scaled)\n",
    "X_train_scaled_pca = pca.transform(X_train_scaled)\n",
    "X_train_scaled_pca = pd.DataFrame(X_train_scaled_pca)\n",
    "X_test_scaled_pca = pca.transform(X_test_scaled)\n",
    "X_test_scaled_pca = pd.DataFrame(X_test_scaled_pca)\n",
    "df_train_scaled_pca = X_train_scaled_pca.copy()\n",
    "df_train_scaled_pca[\"y\"] = y_train\n",
    "print(\"Original shape: {}\".format(str(X_train_scaled.shape)))\n",
    "print(\"Reduced shape: {}\".format(str(X_train_scaled_pca.shape)))"
   ]
  },
  {
   "cell_type": "code",
   "execution_count": 15,
   "metadata": {},
   "outputs": [],
   "source": [
    "df_train_scaled_pca.columns = [str(c) for c in df_train_scaled_pca.columns]"
   ]
  },
  {
   "cell_type": "code",
   "execution_count": 16,
   "metadata": {},
   "outputs": [],
   "source": [
    "explained_variances = pca.explained_variance_\n",
    "acc_explained_variances = [sum(explained_variances[:i]) for i in range(5)]"
   ]
  },
  {
   "cell_type": "code",
   "execution_count": 17,
   "metadata": {},
   "outputs": [
    {
     "data": {
      "text/plain": [
       "<seaborn.axisgrid.FacetGrid at 0x785a8e8abbc0>"
      ]
     },
     "execution_count": 17,
     "metadata": {},
     "output_type": "execute_result"
    },
    {
     "data": {
      "image/png": "[encoded data removed]",
      "text/plain": [
       "<Figure size 579.125x500 with 1 Axes>"
      ]
     },
     "metadata": {},
     "output_type": "display_data"
    }
   ],
   "source": [
    "sns.set()\n",
    "# Plot 2D PCA Graph\n",
    "# The lower dimensions of PCA can't separate dropout from not-dropout\n",
    "sns.lmplot(\n",
    "    x=df_train_scaled_pca.columns[0], \n",
    "    y=df_train_scaled_pca.columns[1], \n",
    "    data=df_train_scaled_pca, \n",
    "    hue='y', \n",
    "    fit_reg=False, \n",
    "    legend=True\n",
    "    )\n"
   ]
  },
  {
   "cell_type": "markdown",
   "metadata": {},
   "source": [
    "#### SMOTE train data"
   ]
  },
  {
   "cell_type": "code",
   "execution_count": 18,
   "metadata": {},
   "outputs": [],
   "source": [
    "# The smote method just adds more examples to minority classes, balancing all target classes\n",
    "# so it does not change the features columns\n",
    "# Apply SMOTE to balance the classes in the training set\n",
    "smote = SMOTE(random_state=1241241)#42)\n",
    "X_SMOTE_train_scaled, y_SMOTE_train = smote.fit_resample(X_train_scaled, y_train)"
   ]
  },
  {
   "cell_type": "markdown",
   "metadata": {},
   "source": [
    "## Training process"
   ]
  },
  {
   "cell_type": "markdown",
   "metadata": {
    "jp-MarkdownHeadingCollapsed": true
   },
   "source": [
    "### Defining Models to be evaluted\n",
    "    1. selecting a list of models\n",
    "    2. Defining the parameters to evaluate different values\n",
    "    3. Train all defined models across K-fold cross validation"
   ]
  },
  {
   "cell_type": "code",
   "execution_count": 19,
   "metadata": {},
   "outputs": [],
   "source": [
    "classifiers = {\n",
    "    \"Logistic Regression\": LogisticRegression(max_iter=1000, random_state=42),\n",
    "    \"Decision Tree\": DecisionTreeClassifier(random_state=42),\n",
    "    \"Random Forest\": RandomForestClassifier(n_estimators=100, random_state=42),\n",
    "    \"k-Nearest Neighbors\": KNeighborsClassifier(n_neighbors=5),\n",
    "    \"Support Vector Machine\": SVC(kernel='linear', random_state=42),\n",
    "    \"Neural Network\": MLPClassifier(random_state=42)\n",
    "}\n",
    "classifiers_full_data = {\n",
    "    \"Logistic Regression\": LogisticRegression(max_iter=1000, random_state=42),\n",
    "    \"Decision Tree\": DecisionTreeClassifier(random_state=42),\n",
    "    \"Random Forest\": RandomForestClassifier(n_estimators=100, random_state=42),\n",
    "    \"k-Nearest Neighbors\": KNeighborsClassifier(n_neighbors=5),\n",
    "    \"Support Vector Machine\": SVC(kernel='linear', random_state=42),\n",
    "    \"Neural Network\": MLPClassifier(random_state=42)\n",
    "}"
   ]
  },
  {
   "cell_type": "code",
   "execution_count": 20,
   "metadata": {},
   "outputs": [],
   "source": [
    "# Define hyperparameter grids for each classifier\n",
    "param_grids = {\n",
    "    \"Logistic Regression\": {\n",
    "        \"C\": [0.1, 1, 10],\n",
    "        \"solver\": ['lbfgs', 'liblinear'],\n",
    "        \"penalty\": ['l2']\n",
    "    },\n",
    "    \"Decision Tree\": {\n",
    "        \"max_depth\": [None, 10, 20, 30],\n",
    "        \"min_samples_split\": [2, 5, 10],\n",
    "        \"min_samples_leaf\": [1, 2, 4]\n",
    "    },\n",
    "    \"Random Forest\": {\n",
    "        \"n_estimators\": [50, 100, 200],\n",
    "        \"max_depth\": [None, 10, 20, 30],\n",
    "        \"min_samples_split\": [2, 5, 10],\n",
    "        \"min_samples_leaf\": [1, 2, 4],\n",
    "    },\n",
    "    \"k-Nearest Neighbors\": {\n",
    "        \"n_neighbors\": [3, 5, 7, 9],\n",
    "        \"algorithm\": ['auto', 'ball_tree', 'kd_tree', 'brute']     #The \"algorithm\" parameter in the KNeighborsClassifier controls how the nearest neighbors search is performed. It determines the method used to compute distances between points in the feature space and find the nearest neighbors. There are four options for the \"algorithm\"\n",
    "    },\n",
    "    \"Support Vector Machine\": {\n",
    "        \"C\": [0.1, 1, 10],\n",
    "        \"kernel\": ['linear', 'rbf'],\n",
    "        \"gamma\": ['scale', 'auto']\n",
    "    },\n",
    "    \"Neural Network\": {\n",
    "        \"hidden_layer_sizes\": [(50,), (100,), (50)],     # (50,) → A network with 1 hidden layer of 50 neurons. (100,) → A network with 1 hidden layer of 100 neurons. (50,) → A network with 1 hidden layer of 50 neurons (same as the first one).\n",
    "        \"activation\": ['sigmoid', 'relu'],\n",
    "        \"solver\": ['adam', 'sgd'],\n",
    "        \"learning_rate\": ['constant', 'adaptive']       # 'constant': The learning rate remains fixed throughout training. It doesn’t change., 'adaptive': The learning rate starts at a given value and decreases over time if the model's performance plateaus (i.e., when the model is no longer improving after a set number of iterations).\n",
    "    }\n",
    "}"
   ]
  },
  {
   "cell_type": "markdown",
   "metadata": {},
   "source": [
    "## Training Phase"
   ]
  },
  {
   "cell_type": "markdown",
   "metadata": {},
   "source": [
    "### from the previous step :\n",
    "- we have:\n",
    "    -  X_train_scaled, X_test_scaled, which uses y_train\n",
    "    -  X_train_scaled_pca, X_test_scaled_pca which uses y_train\n",
    "    -  X_SMOTE_train_scaled, X_test_scaled which uses y_SMOTE_train\n",
    "    -  the y_test is the same for everyone"
   ]
  },
  {
   "cell_type": "markdown",
   "metadata": {},
   "source": [
    "### Choosing hyperparameters of each model group (best CV models)\n",
    "- I select the best hyperparameters for each class of model with Grid Search Cross Validation\n",
    "- The idea is to know with parameters works best across many scenarios (\"folds\")\n",
    "- We select the parameters based on the best weighted average F1 score"
   ]
  },
  {
   "cell_type": "code",
   "execution_count": 21,
   "metadata": {},
   "outputs": [],
   "source": [
    "features_grid = {\n",
    "    \"scaled\": (X_train_scaled,  X_test_scaled, y_train),\n",
    "    \"scaled_pca\": (X_train_scaled_pca, X_test_scaled_pca, y_train),\n",
    "    \"SMOTE_scaled\": (X_SMOTE_train_scaled, X_test_scaled, y_SMOTE_train),\n",
    "}"
   ]
  },
  {
   "cell_type": "code",
   "execution_count": 22,
   "metadata": {},
   "outputs": [],
   "source": [
    "models_CV_results = {\n",
    "}"
   ]
  },
  {
   "cell_type": "code",
   "execution_count": 23,
   "metadata": {},
   "outputs": [
    {
     "name": "stdout",
     "output_type": "stream",
     "text": [
      "Logistic Regression_scaled\n",
      "Fitting 3 folds for each of 6 candidates, totalling 18 fits\n",
      "Logistic Regression_scaled_pca\n",
      "Fitting 3 folds for each of 6 candidates, totalling 18 fits\n",
      "Logistic Regression_SMOTE_scaled\n",
      "Fitting 3 folds for each of 6 candidates, totalling 18 fits\n",
      "Decision Tree_scaled\n",
      "Fitting 3 folds for each of 36 candidates, totalling 108 fits\n",
      "Decision Tree_scaled_pca\n",
      "Fitting 3 folds for each of 36 candidates, totalling 108 fits\n",
      "Decision Tree_SMOTE_scaled\n",
      "Fitting 3 folds for each of 36 candidates, totalling 108 fits\n",
      "Random Forest_scaled\n",
      "Fitting 3 folds for each of 108 candidates, totalling 324 fits\n",
      "Random Forest_scaled_pca\n",
      "Fitting 3 folds for each of 108 candidates, totalling 324 fits\n",
      "Random Forest_SMOTE_scaled\n",
      "Fitting 3 folds for each of 108 candidates, totalling 324 fits\n",
      "k-Nearest Neighbors_scaled\n",
      "Fitting 3 folds for each of 16 candidates, totalling 48 fits\n",
      "k-Nearest Neighbors_scaled_pca\n",
      "Fitting 3 folds for each of 16 candidates, totalling 48 fits\n",
      "k-Nearest Neighbors_SMOTE_scaled\n",
      "Fitting 3 folds for each of 16 candidates, totalling 48 fits\n",
      "Support Vector Machine_scaled\n",
      "Fitting 3 folds for each of 12 candidates, totalling 36 fits\n",
      "Support Vector Machine_scaled_pca\n",
      "Fitting 3 folds for each of 12 candidates, totalling 36 fits\n",
      "Support Vector Machine_SMOTE_scaled\n",
      "Fitting 3 folds for each of 12 candidates, totalling 36 fits\n",
      "Neural Network_scaled\n",
      "Fitting 3 folds for each of 24 candidates, totalling 72 fits\n"
     ]
    },
    {
     "name": "stderr",
     "output_type": "stream",
     "text": [
      "/home/berstearns/venv/lib/python3.12/site-packages/sklearn/neural_network/_multilayer_perceptron.py:690: ConvergenceWarning: Stochastic Optimizer: Maximum iterations (200) reached and the optimization hasn't converged yet.\n",
      "  warnings.warn(\n",
      "/home/berstearns/venv/lib/python3.12/site-packages/sklearn/neural_network/_multilayer_perceptron.py:690: ConvergenceWarning: Stochastic Optimizer: Maximum iterations (200) reached and the optimization hasn't converged yet.\n",
      "  warnings.warn(\n",
      "/home/berstearns/venv/lib/python3.12/site-packages/sklearn/neural_network/_multilayer_perceptron.py:690: ConvergenceWarning: Stochastic Optimizer: Maximum iterations (200) reached and the optimization hasn't converged yet.\n",
      "  warnings.warn(\n",
      "/home/berstearns/venv/lib/python3.12/site-packages/sklearn/neural_network/_multilayer_perceptron.py:690: ConvergenceWarning: Stochastic Optimizer: Maximum iterations (200) reached and the optimization hasn't converged yet.\n",
      "  warnings.warn(\n",
      "/home/berstearns/venv/lib/python3.12/site-packages/sklearn/neural_network/_multilayer_perceptron.py:690: ConvergenceWarning: Stochastic Optimizer: Maximum iterations (200) reached and the optimization hasn't converged yet.\n",
      "  warnings.warn(\n",
      "/home/berstearns/venv/lib/python3.12/site-packages/sklearn/neural_network/_multilayer_perceptron.py:690: ConvergenceWarning: Stochastic Optimizer: Maximum iterations (200) reached and the optimization hasn't converged yet.\n",
      "  warnings.warn(\n",
      "/home/berstearns/venv/lib/python3.12/site-packages/sklearn/neural_network/_multilayer_perceptron.py:690: ConvergenceWarning: Stochastic Optimizer: Maximum iterations (200) reached and the optimization hasn't converged yet.\n",
      "  warnings.warn(\n",
      "/home/berstearns/venv/lib/python3.12/site-packages/sklearn/neural_network/_multilayer_perceptron.py:690: ConvergenceWarning: Stochastic Optimizer: Maximum iterations (200) reached and the optimization hasn't converged yet.\n",
      "  warnings.warn(\n",
      "/home/berstearns/venv/lib/python3.12/site-packages/sklearn/neural_network/_multilayer_perceptron.py:690: ConvergenceWarning: Stochastic Optimizer: Maximum iterations (200) reached and the optimization hasn't converged yet.\n",
      "  warnings.warn(\n",
      "/home/berstearns/venv/lib/python3.12/site-packages/sklearn/neural_network/_multilayer_perceptron.py:690: ConvergenceWarning: Stochastic Optimizer: Maximum iterations (200) reached and the optimization hasn't converged yet.\n",
      "  warnings.warn(\n",
      "/home/berstearns/venv/lib/python3.12/site-packages/sklearn/neural_network/_multilayer_perceptron.py:690: ConvergenceWarning: Stochastic Optimizer: Maximum iterations (200) reached and the optimization hasn't converged yet.\n",
      "  warnings.warn(\n",
      "/home/berstearns/venv/lib/python3.12/site-packages/sklearn/neural_network/_multilayer_perceptron.py:690: ConvergenceWarning: Stochastic Optimizer: Maximum iterations (200) reached and the optimization hasn't converged yet.\n",
      "  warnings.warn(\n",
      "/home/berstearns/venv/lib/python3.12/site-packages/sklearn/neural_network/_multilayer_perceptron.py:690: ConvergenceWarning: Stochastic Optimizer: Maximum iterations (200) reached and the optimization hasn't converged yet.\n",
      "  warnings.warn(\n",
      "/home/berstearns/venv/lib/python3.12/site-packages/sklearn/neural_network/_multilayer_perceptron.py:690: ConvergenceWarning: Stochastic Optimizer: Maximum iterations (200) reached and the optimization hasn't converged yet.\n",
      "  warnings.warn(\n",
      "/home/berstearns/venv/lib/python3.12/site-packages/sklearn/neural_network/_multilayer_perceptron.py:690: ConvergenceWarning: Stochastic Optimizer: Maximum iterations (200) reached and the optimization hasn't converged yet.\n",
      "  warnings.warn(\n",
      "/home/berstearns/venv/lib/python3.12/site-packages/sklearn/neural_network/_multilayer_perceptron.py:690: ConvergenceWarning: Stochastic Optimizer: Maximum iterations (200) reached and the optimization hasn't converged yet.\n",
      "  warnings.warn(\n",
      "/home/berstearns/venv/lib/python3.12/site-packages/sklearn/neural_network/_multilayer_perceptron.py:690: ConvergenceWarning: Stochastic Optimizer: Maximum iterations (200) reached and the optimization hasn't converged yet.\n",
      "  warnings.warn(\n",
      "/home/berstearns/venv/lib/python3.12/site-packages/sklearn/neural_network/_multilayer_perceptron.py:690: ConvergenceWarning: Stochastic Optimizer: Maximum iterations (200) reached and the optimization hasn't converged yet.\n",
      "  warnings.warn(\n",
      "/home/berstearns/venv/lib/python3.12/site-packages/sklearn/neural_network/_multilayer_perceptron.py:690: ConvergenceWarning: Stochastic Optimizer: Maximum iterations (200) reached and the optimization hasn't converged yet.\n",
      "  warnings.warn(\n",
      "/home/berstearns/venv/lib/python3.12/site-packages/sklearn/neural_network/_multilayer_perceptron.py:690: ConvergenceWarning: Stochastic Optimizer: Maximum iterations (200) reached and the optimization hasn't converged yet.\n",
      "  warnings.warn(\n",
      "/home/berstearns/venv/lib/python3.12/site-packages/sklearn/neural_network/_multilayer_perceptron.py:690: ConvergenceWarning: Stochastic Optimizer: Maximum iterations (200) reached and the optimization hasn't converged yet.\n",
      "  warnings.warn(\n",
      "/home/berstearns/venv/lib/python3.12/site-packages/sklearn/neural_network/_multilayer_perceptron.py:690: ConvergenceWarning: Stochastic Optimizer: Maximum iterations (200) reached and the optimization hasn't converged yet.\n",
      "  warnings.warn(\n",
      "/home/berstearns/venv/lib/python3.12/site-packages/sklearn/neural_network/_multilayer_perceptron.py:690: ConvergenceWarning: Stochastic Optimizer: Maximum iterations (200) reached and the optimization hasn't converged yet.\n",
      "  warnings.warn(\n",
      "/home/berstearns/venv/lib/python3.12/site-packages/sklearn/neural_network/_multilayer_perceptron.py:690: ConvergenceWarning: Stochastic Optimizer: Maximum iterations (200) reached and the optimization hasn't converged yet.\n",
      "  warnings.warn(\n",
      "/home/berstearns/venv/lib/python3.12/site-packages/sklearn/neural_network/_multilayer_perceptron.py:690: ConvergenceWarning: Stochastic Optimizer: Maximum iterations (200) reached and the optimization hasn't converged yet.\n",
      "  warnings.warn(\n",
      "/home/berstearns/venv/lib/python3.12/site-packages/sklearn/neural_network/_multilayer_perceptron.py:690: ConvergenceWarning: Stochastic Optimizer: Maximum iterations (200) reached and the optimization hasn't converged yet.\n",
      "  warnings.warn(\n",
      "/home/berstearns/venv/lib/python3.12/site-packages/sklearn/neural_network/_multilayer_perceptron.py:690: ConvergenceWarning: Stochastic Optimizer: Maximum iterations (200) reached and the optimization hasn't converged yet.\n",
      "  warnings.warn(\n",
      "/home/berstearns/venv/lib/python3.12/site-packages/sklearn/neural_network/_multilayer_perceptron.py:690: ConvergenceWarning: Stochastic Optimizer: Maximum iterations (200) reached and the optimization hasn't converged yet.\n",
      "  warnings.warn(\n",
      "/home/berstearns/venv/lib/python3.12/site-packages/sklearn/neural_network/_multilayer_perceptron.py:690: ConvergenceWarning: Stochastic Optimizer: Maximum iterations (200) reached and the optimization hasn't converged yet.\n",
      "  warnings.warn(\n",
      "/home/berstearns/venv/lib/python3.12/site-packages/sklearn/neural_network/_multilayer_perceptron.py:690: ConvergenceWarning: Stochastic Optimizer: Maximum iterations (200) reached and the optimization hasn't converged yet.\n",
      "  warnings.warn(\n"
     ]
    },
    {
     "name": "stdout",
     "output_type": "stream",
     "text": [
      "Neural Network_scaled_pca\n",
      "Fitting 3 folds for each of 24 candidates, totalling 72 fits\n"
     ]
    },
    {
     "name": "stderr",
     "output_type": "stream",
     "text": [
      "/home/berstearns/venv/lib/python3.12/site-packages/sklearn/neural_network/_multilayer_perceptron.py:690: ConvergenceWarning: Stochastic Optimizer: Maximum iterations (200) reached and the optimization hasn't converged yet.\n",
      "  warnings.warn(\n",
      "/home/berstearns/venv/lib/python3.12/site-packages/sklearn/neural_network/_multilayer_perceptron.py:690: ConvergenceWarning: Stochastic Optimizer: Maximum iterations (200) reached and the optimization hasn't converged yet.\n",
      "  warnings.warn(\n",
      "/home/berstearns/venv/lib/python3.12/site-packages/sklearn/neural_network/_multilayer_perceptron.py:690: ConvergenceWarning: Stochastic Optimizer: Maximum iterations (200) reached and the optimization hasn't converged yet.\n",
      "  warnings.warn(\n",
      "/home/berstearns/venv/lib/python3.12/site-packages/sklearn/neural_network/_multilayer_perceptron.py:690: ConvergenceWarning: Stochastic Optimizer: Maximum iterations (200) reached and the optimization hasn't converged yet.\n",
      "  warnings.warn(\n",
      "/home/berstearns/venv/lib/python3.12/site-packages/sklearn/neural_network/_multilayer_perceptron.py:690: ConvergenceWarning: Stochastic Optimizer: Maximum iterations (200) reached and the optimization hasn't converged yet.\n",
      "  warnings.warn(\n",
      "/home/berstearns/venv/lib/python3.12/site-packages/sklearn/neural_network/_multilayer_perceptron.py:690: ConvergenceWarning: Stochastic Optimizer: Maximum iterations (200) reached and the optimization hasn't converged yet.\n",
      "  warnings.warn(\n",
      "/home/berstearns/venv/lib/python3.12/site-packages/sklearn/neural_network/_multilayer_perceptron.py:690: ConvergenceWarning: Stochastic Optimizer: Maximum iterations (200) reached and the optimization hasn't converged yet.\n",
      "  warnings.warn(\n",
      "/home/berstearns/venv/lib/python3.12/site-packages/sklearn/neural_network/_multilayer_perceptron.py:690: ConvergenceWarning: Stochastic Optimizer: Maximum iterations (200) reached and the optimization hasn't converged yet.\n",
      "  warnings.warn(\n",
      "/home/berstearns/venv/lib/python3.12/site-packages/sklearn/neural_network/_multilayer_perceptron.py:690: ConvergenceWarning: Stochastic Optimizer: Maximum iterations (200) reached and the optimization hasn't converged yet.\n",
      "  warnings.warn(\n",
      "/home/berstearns/venv/lib/python3.12/site-packages/sklearn/neural_network/_multilayer_perceptron.py:690: ConvergenceWarning: Stochastic Optimizer: Maximum iterations (200) reached and the optimization hasn't converged yet.\n",
      "  warnings.warn(\n",
      "/home/berstearns/venv/lib/python3.12/site-packages/sklearn/neural_network/_multilayer_perceptron.py:690: ConvergenceWarning: Stochastic Optimizer: Maximum iterations (200) reached and the optimization hasn't converged yet.\n",
      "  warnings.warn(\n",
      "/home/berstearns/venv/lib/python3.12/site-packages/sklearn/neural_network/_multilayer_perceptron.py:690: ConvergenceWarning: Stochastic Optimizer: Maximum iterations (200) reached and the optimization hasn't converged yet.\n",
      "  warnings.warn(\n",
      "/home/berstearns/venv/lib/python3.12/site-packages/sklearn/neural_network/_multilayer_perceptron.py:690: ConvergenceWarning: Stochastic Optimizer: Maximum iterations (200) reached and the optimization hasn't converged yet.\n",
      "  warnings.warn(\n",
      "/home/berstearns/venv/lib/python3.12/site-packages/sklearn/neural_network/_multilayer_perceptron.py:690: ConvergenceWarning: Stochastic Optimizer: Maximum iterations (200) reached and the optimization hasn't converged yet.\n",
      "  warnings.warn(\n",
      "/home/berstearns/venv/lib/python3.12/site-packages/sklearn/neural_network/_multilayer_perceptron.py:690: ConvergenceWarning: Stochastic Optimizer: Maximum iterations (200) reached and the optimization hasn't converged yet.\n",
      "  warnings.warn(\n",
      "/home/berstearns/venv/lib/python3.12/site-packages/sklearn/neural_network/_multilayer_perceptron.py:690: ConvergenceWarning: Stochastic Optimizer: Maximum iterations (200) reached and the optimization hasn't converged yet.\n",
      "  warnings.warn(\n",
      "/home/berstearns/venv/lib/python3.12/site-packages/sklearn/neural_network/_multilayer_perceptron.py:690: ConvergenceWarning: Stochastic Optimizer: Maximum iterations (200) reached and the optimization hasn't converged yet.\n",
      "  warnings.warn(\n",
      "/home/berstearns/venv/lib/python3.12/site-packages/sklearn/neural_network/_multilayer_perceptron.py:690: ConvergenceWarning: Stochastic Optimizer: Maximum iterations (200) reached and the optimization hasn't converged yet.\n",
      "  warnings.warn(\n",
      "/home/berstearns/venv/lib/python3.12/site-packages/sklearn/neural_network/_multilayer_perceptron.py:690: ConvergenceWarning: Stochastic Optimizer: Maximum iterations (200) reached and the optimization hasn't converged yet.\n",
      "  warnings.warn(\n",
      "/home/berstearns/venv/lib/python3.12/site-packages/sklearn/neural_network/_multilayer_perceptron.py:690: ConvergenceWarning: Stochastic Optimizer: Maximum iterations (200) reached and the optimization hasn't converged yet.\n",
      "  warnings.warn(\n",
      "/home/berstearns/venv/lib/python3.12/site-packages/sklearn/neural_network/_multilayer_perceptron.py:690: ConvergenceWarning: Stochastic Optimizer: Maximum iterations (200) reached and the optimization hasn't converged yet.\n",
      "  warnings.warn(\n",
      "/home/berstearns/venv/lib/python3.12/site-packages/sklearn/neural_network/_multilayer_perceptron.py:690: ConvergenceWarning: Stochastic Optimizer: Maximum iterations (200) reached and the optimization hasn't converged yet.\n",
      "  warnings.warn(\n",
      "/home/berstearns/venv/lib/python3.12/site-packages/sklearn/neural_network/_multilayer_perceptron.py:690: ConvergenceWarning: Stochastic Optimizer: Maximum iterations (200) reached and the optimization hasn't converged yet.\n",
      "  warnings.warn(\n",
      "/home/berstearns/venv/lib/python3.12/site-packages/sklearn/neural_network/_multilayer_perceptron.py:690: ConvergenceWarning: Stochastic Optimizer: Maximum iterations (200) reached and the optimization hasn't converged yet.\n",
      "  warnings.warn(\n",
      "/home/berstearns/venv/lib/python3.12/site-packages/sklearn/neural_network/_multilayer_perceptron.py:690: ConvergenceWarning: Stochastic Optimizer: Maximum iterations (200) reached and the optimization hasn't converged yet.\n",
      "  warnings.warn(\n",
      "/home/berstearns/venv/lib/python3.12/site-packages/sklearn/neural_network/_multilayer_perceptron.py:690: ConvergenceWarning: Stochastic Optimizer: Maximum iterations (200) reached and the optimization hasn't converged yet.\n",
      "  warnings.warn(\n",
      "/home/berstearns/venv/lib/python3.12/site-packages/sklearn/neural_network/_multilayer_perceptron.py:690: ConvergenceWarning: Stochastic Optimizer: Maximum iterations (200) reached and the optimization hasn't converged yet.\n",
      "  warnings.warn(\n",
      "/home/berstearns/venv/lib/python3.12/site-packages/sklearn/neural_network/_multilayer_perceptron.py:690: ConvergenceWarning: Stochastic Optimizer: Maximum iterations (200) reached and the optimization hasn't converged yet.\n",
      "  warnings.warn(\n",
      "/home/berstearns/venv/lib/python3.12/site-packages/sklearn/neural_network/_multilayer_perceptron.py:690: ConvergenceWarning: Stochastic Optimizer: Maximum iterations (200) reached and the optimization hasn't converged yet.\n",
      "  warnings.warn(\n",
      "/home/berstearns/venv/lib/python3.12/site-packages/sklearn/neural_network/_multilayer_perceptron.py:690: ConvergenceWarning: Stochastic Optimizer: Maximum iterations (200) reached and the optimization hasn't converged yet.\n",
      "  warnings.warn(\n",
      "/home/berstearns/venv/lib/python3.12/site-packages/sklearn/neural_network/_multilayer_perceptron.py:690: ConvergenceWarning: Stochastic Optimizer: Maximum iterations (200) reached and the optimization hasn't converged yet.\n",
      "  warnings.warn(\n",
      "/home/berstearns/venv/lib/python3.12/site-packages/sklearn/neural_network/_multilayer_perceptron.py:690: ConvergenceWarning: Stochastic Optimizer: Maximum iterations (200) reached and the optimization hasn't converged yet.\n",
      "  warnings.warn(\n",
      "/home/berstearns/venv/lib/python3.12/site-packages/sklearn/neural_network/_multilayer_perceptron.py:690: ConvergenceWarning: Stochastic Optimizer: Maximum iterations (200) reached and the optimization hasn't converged yet.\n",
      "  warnings.warn(\n",
      "/home/berstearns/venv/lib/python3.12/site-packages/sklearn/neural_network/_multilayer_perceptron.py:690: ConvergenceWarning: Stochastic Optimizer: Maximum iterations (200) reached and the optimization hasn't converged yet.\n",
      "  warnings.warn(\n",
      "/home/berstearns/venv/lib/python3.12/site-packages/sklearn/neural_network/_multilayer_perceptron.py:690: ConvergenceWarning: Stochastic Optimizer: Maximum iterations (200) reached and the optimization hasn't converged yet.\n",
      "  warnings.warn(\n",
      "/home/berstearns/venv/lib/python3.12/site-packages/sklearn/neural_network/_multilayer_perceptron.py:690: ConvergenceWarning: Stochastic Optimizer: Maximum iterations (200) reached and the optimization hasn't converged yet.\n",
      "  warnings.warn(\n"
     ]
    },
    {
     "name": "stdout",
     "output_type": "stream",
     "text": [
      "Neural Network_SMOTE_scaled\n",
      "Fitting 3 folds for each of 24 candidates, totalling 72 fits\n"
     ]
    },
    {
     "name": "stderr",
     "output_type": "stream",
     "text": [
      "/home/berstearns/venv/lib/python3.12/site-packages/sklearn/neural_network/_multilayer_perceptron.py:690: ConvergenceWarning: Stochastic Optimizer: Maximum iterations (200) reached and the optimization hasn't converged yet.\n",
      "  warnings.warn(\n",
      "/home/berstearns/venv/lib/python3.12/site-packages/sklearn/neural_network/_multilayer_perceptron.py:690: ConvergenceWarning: Stochastic Optimizer: Maximum iterations (200) reached and the optimization hasn't converged yet.\n",
      "  warnings.warn(\n",
      "/home/berstearns/venv/lib/python3.12/site-packages/sklearn/neural_network/_multilayer_perceptron.py:690: ConvergenceWarning: Stochastic Optimizer: Maximum iterations (200) reached and the optimization hasn't converged yet.\n",
      "  warnings.warn(\n",
      "/home/berstearns/venv/lib/python3.12/site-packages/sklearn/neural_network/_multilayer_perceptron.py:690: ConvergenceWarning: Stochastic Optimizer: Maximum iterations (200) reached and the optimization hasn't converged yet.\n",
      "  warnings.warn(\n",
      "/home/berstearns/venv/lib/python3.12/site-packages/sklearn/neural_network/_multilayer_perceptron.py:690: ConvergenceWarning: Stochastic Optimizer: Maximum iterations (200) reached and the optimization hasn't converged yet.\n",
      "  warnings.warn(\n",
      "/home/berstearns/venv/lib/python3.12/site-packages/sklearn/neural_network/_multilayer_perceptron.py:690: ConvergenceWarning: Stochastic Optimizer: Maximum iterations (200) reached and the optimization hasn't converged yet.\n",
      "  warnings.warn(\n",
      "/home/berstearns/venv/lib/python3.12/site-packages/sklearn/neural_network/_multilayer_perceptron.py:690: ConvergenceWarning: Stochastic Optimizer: Maximum iterations (200) reached and the optimization hasn't converged yet.\n",
      "  warnings.warn(\n",
      "/home/berstearns/venv/lib/python3.12/site-packages/sklearn/neural_network/_multilayer_perceptron.py:690: ConvergenceWarning: Stochastic Optimizer: Maximum iterations (200) reached and the optimization hasn't converged yet.\n",
      "  warnings.warn(\n",
      "/home/berstearns/venv/lib/python3.12/site-packages/sklearn/neural_network/_multilayer_perceptron.py:690: ConvergenceWarning: Stochastic Optimizer: Maximum iterations (200) reached and the optimization hasn't converged yet.\n",
      "  warnings.warn(\n",
      "/home/berstearns/venv/lib/python3.12/site-packages/sklearn/neural_network/_multilayer_perceptron.py:690: ConvergenceWarning: Stochastic Optimizer: Maximum iterations (200) reached and the optimization hasn't converged yet.\n",
      "  warnings.warn(\n",
      "/home/berstearns/venv/lib/python3.12/site-packages/sklearn/neural_network/_multilayer_perceptron.py:690: ConvergenceWarning: Stochastic Optimizer: Maximum iterations (200) reached and the optimization hasn't converged yet.\n",
      "  warnings.warn(\n",
      "/home/berstearns/venv/lib/python3.12/site-packages/sklearn/neural_network/_multilayer_perceptron.py:690: ConvergenceWarning: Stochastic Optimizer: Maximum iterations (200) reached and the optimization hasn't converged yet.\n",
      "  warnings.warn(\n",
      "/home/berstearns/venv/lib/python3.12/site-packages/sklearn/neural_network/_multilayer_perceptron.py:690: ConvergenceWarning: Stochastic Optimizer: Maximum iterations (200) reached and the optimization hasn't converged yet.\n",
      "  warnings.warn(\n",
      "/home/berstearns/venv/lib/python3.12/site-packages/sklearn/neural_network/_multilayer_perceptron.py:690: ConvergenceWarning: Stochastic Optimizer: Maximum iterations (200) reached and the optimization hasn't converged yet.\n",
      "  warnings.warn(\n",
      "/home/berstearns/venv/lib/python3.12/site-packages/sklearn/neural_network/_multilayer_perceptron.py:690: ConvergenceWarning: Stochastic Optimizer: Maximum iterations (200) reached and the optimization hasn't converged yet.\n",
      "  warnings.warn(\n",
      "/home/berstearns/venv/lib/python3.12/site-packages/sklearn/neural_network/_multilayer_perceptron.py:690: ConvergenceWarning: Stochastic Optimizer: Maximum iterations (200) reached and the optimization hasn't converged yet.\n",
      "  warnings.warn(\n",
      "/home/berstearns/venv/lib/python3.12/site-packages/sklearn/neural_network/_multilayer_perceptron.py:690: ConvergenceWarning: Stochastic Optimizer: Maximum iterations (200) reached and the optimization hasn't converged yet.\n",
      "  warnings.warn(\n",
      "/home/berstearns/venv/lib/python3.12/site-packages/sklearn/neural_network/_multilayer_perceptron.py:690: ConvergenceWarning: Stochastic Optimizer: Maximum iterations (200) reached and the optimization hasn't converged yet.\n",
      "  warnings.warn(\n",
      "/home/berstearns/venv/lib/python3.12/site-packages/sklearn/neural_network/_multilayer_perceptron.py:690: ConvergenceWarning: Stochastic Optimizer: Maximum iterations (200) reached and the optimization hasn't converged yet.\n",
      "  warnings.warn(\n",
      "/home/berstearns/venv/lib/python3.12/site-packages/sklearn/neural_network/_multilayer_perceptron.py:690: ConvergenceWarning: Stochastic Optimizer: Maximum iterations (200) reached and the optimization hasn't converged yet.\n",
      "  warnings.warn(\n",
      "/home/berstearns/venv/lib/python3.12/site-packages/sklearn/neural_network/_multilayer_perceptron.py:690: ConvergenceWarning: Stochastic Optimizer: Maximum iterations (200) reached and the optimization hasn't converged yet.\n",
      "  warnings.warn(\n",
      "/home/berstearns/venv/lib/python3.12/site-packages/sklearn/neural_network/_multilayer_perceptron.py:690: ConvergenceWarning: Stochastic Optimizer: Maximum iterations (200) reached and the optimization hasn't converged yet.\n",
      "  warnings.warn(\n"
     ]
    }
   ],
   "source": [
    "n_cv = 3\n",
    "for model_name, model in classifiers.items():\n",
    "    parameters_options = param_grids[model_name]\n",
    "    for features_option_name, features_option in features_grid.items():\n",
    "        print(f\"{model_name}_{features_option_name}\")\n",
    "        grid_search = GridSearchCV(estimator = model, param_grid = parameters_options, \n",
    "                          cv = n_cv, n_jobs = -1,verbose = 1, scoring=\"f1\")\n",
    "        selected_X_train, selected_X_test, selected_y_train = features_grid[features_option_name]\n",
    "        grid_search.fit(selected_X_train, selected_y_train)\n",
    "        # Best model from grid search\n",
    "        best_model = grid_search.best_estimator_\n",
    "        best_params = grid_search.best_params_\n",
    "        best_CV_score = grid_search.best_score_\n",
    "        \n",
    "        \n",
    "        models_CV_results[f\"{model_name}_{features_option_name}\"] = {\n",
    "            \"model_name\": model_name,\n",
    "            \"best_model\": best_model,\n",
    "            \"best_params\": best_params,\n",
    "            \"features_name\": features_option_name,\n",
    "            \"best_cv_score\": best_CV_score,\n",
    "        }\n"
   ]
  },
  {
   "cell_type": "markdown",
   "metadata": {},
   "source": [
    "### Analysing hyperparameters results\n"
   ]
  },
  {
   "cell_type": "code",
   "execution_count": 24,
   "metadata": {},
   "outputs": [
    {
     "name": "stdout",
     "output_type": "stream",
     "text": [
      "\n",
      "Cross-Validation training F-1 Scores after GridSearchCV:\n",
      "                model_name features_name  best_cv_score  \\\n",
      "17          Neural Network  SMOTE_scaled       0.915188   \n",
      "14  Support Vector Machine  SMOTE_scaled       0.894059   \n",
      "8            Random Forest  SMOTE_scaled       0.893153   \n",
      "2      Logistic Regression  SMOTE_scaled       0.864815   \n",
      "5            Decision Tree  SMOTE_scaled       0.863535   \n",
      "11     k-Nearest Neighbors  SMOTE_scaled       0.819386   \n",
      "12  Support Vector Machine        scaled       0.786432   \n",
      "6            Random Forest        scaled       0.781906   \n",
      "0      Logistic Regression        scaled       0.779615   \n",
      "15          Neural Network        scaled       0.772003   \n",
      "1      Logistic Regression    scaled_pca       0.753517   \n",
      "13  Support Vector Machine    scaled_pca       0.752772   \n",
      "16          Neural Network    scaled_pca       0.749117   \n",
      "3            Decision Tree        scaled       0.729627   \n",
      "7            Random Forest    scaled_pca       0.716043   \n",
      "4            Decision Tree    scaled_pca       0.635593   \n",
      "10     k-Nearest Neighbors    scaled_pca       0.562556   \n",
      "9      k-Nearest Neighbors        scaled       0.501829   \n",
      "\n",
      "                                          best_params  \n",
      "17  {'activation': 'relu', 'hidden_layer_sizes': (...  \n",
      "14       {'C': 10, 'gamma': 'scale', 'kernel': 'rbf'}  \n",
      "8   {'max_depth': 30, 'min_samples_leaf': 1, 'min_...  \n",
      "2      {'C': 0.1, 'penalty': 'l2', 'solver': 'lbfgs'}  \n",
      "5   {'max_depth': 10, 'min_samples_leaf': 1, 'min_...  \n",
      "11            {'algorithm': 'auto', 'n_neighbors': 3}  \n",
      "12   {'C': 0.1, 'gamma': 'scale', 'kernel': 'linear'}  \n",
      "6   {'max_depth': 20, 'min_samples_leaf': 1, 'min_...  \n",
      "0   {'C': 0.1, 'penalty': 'l2', 'solver': 'libline...  \n",
      "15  {'activation': 'relu', 'hidden_layer_sizes': (...  \n",
      "1        {'C': 1, 'penalty': 'l2', 'solver': 'lbfgs'}  \n",
      "13    {'C': 10, 'gamma': 'scale', 'kernel': 'linear'}  \n",
      "16  {'activation': 'relu', 'hidden_layer_sizes': (...  \n",
      "3   {'max_depth': 10, 'min_samples_leaf': 4, 'min_...  \n",
      "7   {'max_depth': 20, 'min_samples_leaf': 2, 'min_...  \n",
      "4   {'max_depth': 10, 'min_samples_leaf': 1, 'min_...  \n",
      "10            {'algorithm': 'auto', 'n_neighbors': 7}  \n",
      "9             {'algorithm': 'auto', 'n_neighbors': 5}  \n"
     ]
    }
   ],
   "source": [
    "# https://stackoverflow.com/questions/37787698/how-to-sort-pandas-dataframe-by-one-column\n",
    "# sorting results dataframe by CV score\n",
    "# SMOTE features clearly yield better results on the training CV results\n",
    "# the best Neural Network model is the best performing model with  the best RF and SVM being very close as well\n",
    "cv_results=[]\n",
    "for best_model_name, best_model_results in models_CV_results.items():\n",
    "    #features_option_name = best_model_results[\"features_option_name\"]\n",
    "    #print(best_model_results)\n",
    "    #cv_scores = cross_val_score(best_model, X, y, cv=n_cv, scoring='accuracy')\n",
    "    cv_results.append([best_model_results[\"model_name\"],best_model_results[\"best_params\"],best_model_results[\"features_name\"],best_model_results[\"best_cv_score\"]])\n",
    "    #cv_results.append([name, cv_scores.mean()])\n",
    "    # Display cross-validation results\n",
    "cv_results_df = pd.DataFrame(cv_results, columns=[\"model_name\", \"best_params\", \"features_name\",\"best_cv_score\"])\n",
    "sorted_cv_results_df = cv_results_df.sort_values(\"best_cv_score\", ascending=False)\n",
    "print(\"\\nCross-Validation training F-1 Scores after GridSearchCV:\")\n",
    "print(sorted_cv_results_df[[\"model_name\", \"features_name\", \"best_cv_score\",\"best_params\"]])"
   ]
  },
  {
   "cell_type": "markdown",
   "metadata": {},
   "source": [
    "### Retraining all best CV models with all training data"
   ]
  },
  {
   "cell_type": "markdown",
   "metadata": {},
   "source": [
    "models_from_CV_in_fulldata_results = {}\n",
    "for best_model_name, best_model_results in models_CV_results.items():\n",
    "    model_name = best_model_results['model_name']\n",
    "    model_hyperparameters = best_model_results['best_params']\n",
    "    model_class = classifiers_full_data[model_name]\n",
    "    model_class.set_params(**model_hyperparameters)\n",
    "    features_option_name = best_model_results[\"features_name\"]\n",
    "    selected_X_train, selected_X_test, selected_y_train = features_grid[features_option_name]\n",
    "    model_class.fit(selected_X_train, selected_y_train)\n",
    "    models_from_CV_in_fulldata_results[best_model_name] ={\n",
    "            \"model_name\": model_name,\n",
    "            \"best_model\": model_class,\n",
    "            \"best_params\": model_hyperparameters,\n",
    "            \"features_name\": features_option_name,\n",
    "    }"
   ]
  },
  {
   "cell_type": "markdown",
   "metadata": {},
   "source": [
    "## Evaluation Phase"
   ]
  },
  {
   "cell_type": "markdown",
   "metadata": {},
   "source": [
    "### Best Models test results"
   ]
  },
  {
   "cell_type": "code",
   "execution_count": 26,
   "metadata": {},
   "outputs": [],
   "source": [
    "for best_model_name, best_model_results in models_CV_results.items():\n",
    "    print(best_model_name)\n",
    "    features_option_name = best_model_results[\"features_name\"]\n",
    "    selected_X_train, selected_X_test, selected_y_train = features_grid[features_option_name]\n",
    "    best_model = best_model_results[\"best_model\"]\n",
    "    print(selected_X_test.shape)\n",
    "    ###### TEST results\n",
    "    # Predict on the test set with the best model\n",
    "    y_test_pred = best_model.predict(selected_X_test)\n",
    "    # Calculate performance metrics\n",
    "    accuracy = accuracy_score(y_test, y_test_pred)\n",
    "    report = classification_report(y_test, y_test_pred, output_dict=True)\n",
    "    precision = report['weighted avg']['precision']\n",
    "    recall = report['weighted avg']['recall']\n",
    "    f1_score = report['weighted avg']['f1-score']\n",
    "    test_confusion_matrix = confusion_matrix(y_test,y_test_pred)\n",
    "    print(test_confusion_matrix)\n",
    "\n",
    "    models_CV_results[best_model_name][\"test_accuracy\"] =  accuracy\n",
    "    models_CV_results[best_model_name][\"test_precision\"] =  precision\n",
    "    models_CV_results[best_model_name][\"test_recall\"] =  recall\n",
    "    models_CV_results[best_model_name][\"test_f1_score\"] =  f1_score\n",
    "    models_CV_results[best_model_name][\"test_confusion_matrix\"] =  test_confusion_matrix\n",
    "    print(test_confusion_matrix)\n",
    "    print(f\"accuracy: {accuracy}\\n precision: {precision}\\n recall: {recall}\\n f1-score: {f1_score}\\n\")\n",
    "    print(report,\"\\n\")\n",
    "    clear_output()"
   ]
  },
  {
   "cell_type": "code",
   "execution_count": 33,
   "metadata": {},
   "outputs": [
    {
     "name": "stdout",
     "output_type": "stream",
     "text": [
      "\n",
      "Test F-1 Scores after selecting best models from GridSearchCV:\n",
      "                model_name features_name  test_f1_score  best_cv_score  \\\n",
      "0      Logistic Regression        scaled       0.886629       0.779615   \n",
      "6            Random Forest        scaled       0.883781       0.781906   \n",
      "12  Support Vector Machine        scaled       0.883122       0.786432   \n",
      "8            Random Forest  SMOTE_scaled       0.881766       0.893153   \n",
      "15          Neural Network        scaled       0.875552       0.772003   \n",
      "2      Logistic Regression  SMOTE_scaled       0.871799       0.864815   \n",
      "1      Logistic Regression    scaled_pca       0.870309       0.753517   \n",
      "16          Neural Network    scaled_pca       0.869655       0.749117   \n",
      "13  Support Vector Machine    scaled_pca       0.866953       0.752772   \n",
      "3            Decision Tree        scaled       0.859314       0.729627   \n",
      "7            Random Forest    scaled_pca       0.856913       0.716043   \n",
      "14  Support Vector Machine  SMOTE_scaled       0.854724       0.894059   \n",
      "5            Decision Tree  SMOTE_scaled       0.853331       0.863535   \n",
      "17          Neural Network  SMOTE_scaled       0.849550       0.915188   \n",
      "10     k-Nearest Neighbors    scaled_pca       0.793732       0.562556   \n",
      "4            Decision Tree    scaled_pca       0.783419       0.635593   \n",
      "9      k-Nearest Neighbors        scaled       0.778661       0.501829   \n",
      "11     k-Nearest Neighbors  SMOTE_scaled       0.731888       0.819386   \n",
      "\n",
      "                                          best_params  \n",
      "0   {'C': 0.1, 'penalty': 'l2', 'solver': 'libline...  \n",
      "6   {'max_depth': 20, 'min_samples_leaf': 1, 'min_...  \n",
      "12   {'C': 0.1, 'gamma': 'scale', 'kernel': 'linear'}  \n",
      "8   {'max_depth': 30, 'min_samples_leaf': 1, 'min_...  \n",
      "15  {'activation': 'relu', 'hidden_layer_sizes': (...  \n",
      "2      {'C': 0.1, 'penalty': 'l2', 'solver': 'lbfgs'}  \n",
      "1        {'C': 1, 'penalty': 'l2', 'solver': 'lbfgs'}  \n",
      "16  {'activation': 'relu', 'hidden_layer_sizes': (...  \n",
      "13    {'C': 10, 'gamma': 'scale', 'kernel': 'linear'}  \n",
      "3   {'max_depth': 10, 'min_samples_leaf': 4, 'min_...  \n",
      "7   {'max_depth': 20, 'min_samples_leaf': 2, 'min_...  \n",
      "14       {'C': 10, 'gamma': 'scale', 'kernel': 'rbf'}  \n",
      "5   {'max_depth': 10, 'min_samples_leaf': 1, 'min_...  \n",
      "17  {'activation': 'relu', 'hidden_layer_sizes': (...  \n",
      "10            {'algorithm': 'auto', 'n_neighbors': 7}  \n",
      "4   {'max_depth': 10, 'min_samples_leaf': 1, 'min_...  \n",
      "9             {'algorithm': 'auto', 'n_neighbors': 5}  \n",
      "11            {'algorithm': 'auto', 'n_neighbors': 3}  \n"
     ]
    }
   ],
   "source": [
    "# https://stackoverflow.com/questions/37787698/how-to-sort-pandas-dataframe-by-one-column\n",
    "# sorting results dataframe by CV score\n",
    "# SMOTE features clearly yield better results on the training CV results\n",
    "# the best Neural Network model is the best performing model with  the best RF and SVM being very close as well\n",
    "cv_and_test_results=[]\n",
    "for best_model_name, best_model_results in models_CV_results.items():\n",
    "    column_values= [\n",
    "        best_model_results[\"model_name\"],\n",
    "        best_model_results[\"features_name\"],\n",
    "        best_model_results[\"test_f1_score\"],\n",
    "        best_model_results[\"best_cv_score\"],\n",
    "        best_model_results[\"test_accuracy\"],\n",
    "        best_model_results[\"test_precision\"],\n",
    "        best_model_results[\"test_recall\"],\n",
    "        best_model_results[\"best_params\"],\n",
    "    ]\n",
    "    cv_and_test_results.append(column_values)\n",
    "columns = [\n",
    "        \"model_name\", \"features_name\", \"test_f1_score\", \"best_cv_score\", \n",
    "        \"test_accuracy\", \"test_precision\", \"test_recall\", \"best_params\",\n",
    "          ]\n",
    "\n",
    "cv_and_test_results_df = pd.DataFrame(cv_and_test_results, columns=columns)\n",
    "sorted_cv_results_df = cv_and_test_results_df.sort_values(\"test_f1_score\", ascending=False)\n",
    "print(\"\\nTest F-1 Scores after selecting best models from GridSearchCV:\")\n",
    "print(sorted_cv_results_df[[\"model_name\", \"features_name\", \"test_f1_score\", \"best_cv_score\", \"best_params\"]])"
   ]
  },
  {
   "cell_type": "code",
   "execution_count": null,
   "metadata": {},
   "outputs": [],
   "source": [
    "print(y_train.value_counts()/len(y_train)\n",
    "y_test.value_counts()/len(y_test)"
   ]
  },
  {
   "cell_type": "markdown",
   "metadata": {
    "id": "8ow70Yts2LNL"
   },
   "source": [
    "## Interpreting and explaning results\n",
    "\n",
    "### Overfitting/ underfitting / generalization"
   ]
  },
  {
   "cell_type": "markdown",
   "metadata": {
    "id": "vDqIPetm3P4A"
   },
   "source": [
    "### References\n",
    "\n",
    "1. https://stackoverflow.com/questions/37787698/how-to-sort-pandas-dataframe-by-one-column\n"
   ]
  },
  {
   "cell_type": "code",
   "execution_count": null,
   "metadata": {},
   "outputs": [],
   "source": []
  },
  {
   "cell_type": "code",
   "execution_count": null,
   "metadata": {},
   "outputs": [],
   "source": []
  }
 ],
 "metadata": {
  "colab": {
   "provenance": []
  },
  "kernelspec": {
   "display_name": "Python 3 (ipykernel)",
   "language": "python",
   "name": "python3"
  },
  "language_info": {
   "codemirror_mode": {
    "name": "ipython",
    "version": 3
   },
   "file_extension": ".py",
   "mimetype": "text/x-python",
   "name": "python",
   "nbconvert_exporter": "python",
   "pygments_lexer": "ipython3",
   "version": "3.12.7"
  }
 },
 "nbformat": 4,
 "nbformat_minor": 4
}
