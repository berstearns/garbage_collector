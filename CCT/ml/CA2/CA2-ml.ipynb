{
 "cells": [
  {
   "cell_type": "code",
   "execution_count": 1,
   "id": "8a91e4bd-e475-4756-8fcb-b682c37cbf87",
   "metadata": {},
   "outputs": [],
   "source": [
    "import pandas as pd\n",
    "import matplotlib.pyplot as plt"
   ]
  },
  {
   "cell_type": "markdown",
   "id": "0bd6e054-6d9d-4d66-a42f-3663ca805eea",
   "metadata": {},
   "source": [
    "## Data Preparation\n"
   ]
  },
  {
   "cell_type": "markdown",
   "id": "b471f810-49da-4451-bd76-a71a62a06e3a",
   "metadata": {},
   "source": [
    "###  loading the bikes dataset"
   ]
  },
  {
   "cell_type": "code",
   "execution_count": 51,
   "id": "b0717fb8-6ef8-4dcb-a5c4-1542acbc6513",
   "metadata": {},
   "outputs": [],
   "source": [
    "df = pd.read_excel(\"biking_dataset.xlsx\")\n",
    "# cleaning the name of the columns, keep  every character as lower case and keeping only alpha numeric characters\n",
    "df.columns = [''.join(ch.lower() for ch in column if ch.isalnum()) for column in df.columns]\n"
   ]
  },
  {
   "cell_type": "markdown",
   "id": "dd32b9fe-e678-4dd9-8b83-c8ef75937be9",
   "metadata": {},
   "source": [
    "### Size of the dataset"
   ]
  },
  {
   "cell_type": "code",
   "execution_count": 3,
   "id": "c0f9c87f-7646-4563-b304-abd72e0cdc9a",
   "metadata": {},
   "outputs": [
    {
     "data": {
      "text/plain": [
       "(900, 8)"
      ]
     },
     "execution_count": 3,
     "metadata": {},
     "output_type": "execute_result"
    }
   ],
   "source": [
    "# the df.shape shows the number of rows and columns\n",
    "# There are 900 rows and 8 columns\n",
    "df.shape"
   ]
  },
  {
   "cell_type": "markdown",
   "id": "a503358f-c3e3-4375-97ca-632e6bfb4e2c",
   "metadata": {},
   "source": [
    "### Characterizing columns"
   ]
  },
  {
   "cell_type": "code",
   "execution_count": 4,
   "id": "6348dedc-8303-4312-b80b-f46708fb227e",
   "metadata": {},
   "outputs": [
    {
     "data": {
      "text/plain": [
       "Index(['city', 'weathercondition', 'riderage', 'bikemodel', 'ridedurationmin',\n",
       "       'distancecoveredkm', 'ridersatisfaction', 'bikerentalcost'],\n",
       "      dtype='object')"
      ]
     },
     "execution_count": 4,
     "metadata": {},
     "output_type": "execute_result"
    }
   ],
   "source": [
    "df.columns"
   ]
  },
  {
   "cell_type": "code",
   "execution_count": 5,
   "id": "9d705f73-b8a8-4fd6-9645-bfca701f40c5",
   "metadata": {},
   "outputs": [
    {
     "data": {
      "text/plain": [
       "city                  object\n",
       "weathercondition      object\n",
       "riderage             float64\n",
       "bikemodel             object\n",
       "ridedurationmin      float64\n",
       "distancecoveredkm    float64\n",
       "ridersatisfaction     object\n",
       "bikerentalcost       float64\n",
       "dtype: object"
      ]
     },
     "execution_count": 5,
     "metadata": {},
     "output_type": "execute_result"
    }
   ],
   "source": [
    "df.dtypes"
   ]
  },
  {
   "cell_type": "markdown",
   "id": "b8564b76-2019-468a-816c-15402eee2eb7",
   "metadata": {},
   "source": [
    "| Column Name            | Data Type   | Description                                                                                     |\n",
    "|------------------------|-------------|-------------------------------------------------------------------------------------------------|\n",
    "| City                   | Categorical | The main city where the bike ride takes place. Possible values: \"New York\", \"San Francisco\", \"Chicago\", \"London\", \"Berlin\". |\n",
    "| Weather Condition      | Categorical | Weather conditions during the bike ride. Possible values: \"Sunny\", \"Rainy\", \"Cloudy\", \"Snowy\".  |\n",
    "| Rider Age              | Numeric     | The age of the rider (in years). Range: 18 to 60.                                               |\n",
    "| Bike Model             | Categorical | The type of bike used during the ride. Possible values: \"Standard\", \"Electric\", \"Mountain\".      |\n",
    "| Ride Duration (min)    | Numeric     | The duration of the ride in minutes. Range: 5 to 120 minutes.                                   |\n",
    "| Distance Covered (km)  | Numeric     | The total distance covered during the bike ride (in kilometers). Range: 0.5 to 40 km.           |\n",
    "| Rider Satisfaction     | Categorical | The satisfaction level of the rider after the ride. Possible values: \"Low\", \"Medium\", \"High\". This is the target variable for classification tasks. |\n",
    "| Bike Rental Cost ($)   | Numeric     | The total cost of the bike rental in USD. The value is influenced by factors such as ride duration and bike model. This is the target variable for regression tasks. |"
   ]
  },
  {
   "cell_type": "code",
   "execution_count": 8,
   "id": "6c9f5312-496d-425f-b2fe-4851f529ded9",
   "metadata": {},
   "outputs": [
    {
     "name": "stdout",
     "output_type": "stream",
     "text": [
      "Index(['riderage', 'ridedurationmin', 'distancecoveredkm', 'bikerentalcost'], dtype='object')\n",
      "Index(['city', 'weathercondition', 'bikemodel', 'ridersatisfaction'], dtype='object')\n"
     ]
    }
   ],
   "source": [
    "numeric_columns = df.select_dtypes(include='number').columns\n",
    "categorical_columns = df.select_dtypes(include='object').columns\n",
    "print(numeric_columns)\n",
    "print(categorical_columns)"
   ]
  },
  {
   "cell_type": "markdown",
   "id": "3a6f15d5-4b10-42ac-b5d7-c2a6b3613c00",
   "metadata": {},
   "source": [
    "### Analysing missing values"
   ]
  },
  {
   "cell_type": "code",
   "execution_count": 9,
   "id": "4dec1e0e-66b0-4068-8352-ac4d1d259676",
   "metadata": {},
   "outputs": [
    {
     "data": {
      "text/html": [
       "<div>\n",
       "<style scoped>\n",
       "    .dataframe tbody tr th:only-of-type {\n",
       "        vertical-align: middle;\n",
       "    }\n",
       "\n",
       "    .dataframe tbody tr th {\n",
       "        vertical-align: top;\n",
       "    }\n",
       "\n",
       "    .dataframe thead th {\n",
       "        text-align: right;\n",
       "    }\n",
       "</style>\n",
       "<table border=\"1\" class=\"dataframe\">\n",
       "  <thead>\n",
       "    <tr style=\"text-align: right;\">\n",
       "      <th></th>\n",
       "      <th>Column Name</th>\n",
       "      <th>Missing Values</th>\n",
       "      <th>Percentage Missing Values</th>\n",
       "    </tr>\n",
       "  </thead>\n",
       "  <tbody>\n",
       "    <tr>\n",
       "      <th>0</th>\n",
       "      <td>city</td>\n",
       "      <td>10</td>\n",
       "      <td>1.111111</td>\n",
       "    </tr>\n",
       "    <tr>\n",
       "      <th>1</th>\n",
       "      <td>weathercondition</td>\n",
       "      <td>11</td>\n",
       "      <td>1.222222</td>\n",
       "    </tr>\n",
       "    <tr>\n",
       "      <th>2</th>\n",
       "      <td>riderage</td>\n",
       "      <td>15</td>\n",
       "      <td>1.666667</td>\n",
       "    </tr>\n",
       "    <tr>\n",
       "      <th>3</th>\n",
       "      <td>bikemodel</td>\n",
       "      <td>10</td>\n",
       "      <td>1.111111</td>\n",
       "    </tr>\n",
       "    <tr>\n",
       "      <th>4</th>\n",
       "      <td>ridedurationmin</td>\n",
       "      <td>13</td>\n",
       "      <td>1.444444</td>\n",
       "    </tr>\n",
       "    <tr>\n",
       "      <th>5</th>\n",
       "      <td>distancecoveredkm</td>\n",
       "      <td>13</td>\n",
       "      <td>1.444444</td>\n",
       "    </tr>\n",
       "    <tr>\n",
       "      <th>6</th>\n",
       "      <td>ridersatisfaction</td>\n",
       "      <td>11</td>\n",
       "      <td>1.222222</td>\n",
       "    </tr>\n",
       "    <tr>\n",
       "      <th>7</th>\n",
       "      <td>bikerentalcost</td>\n",
       "      <td>9</td>\n",
       "      <td>1.000000</td>\n",
       "    </tr>\n",
       "  </tbody>\n",
       "</table>\n",
       "</div>"
      ],
      "text/plain": [
       "         Column Name  Missing Values  Percentage Missing Values\n",
       "0               city              10                   1.111111\n",
       "1   weathercondition              11                   1.222222\n",
       "2           riderage              15                   1.666667\n",
       "3          bikemodel              10                   1.111111\n",
       "4    ridedurationmin              13                   1.444444\n",
       "5  distancecoveredkm              13                   1.444444\n",
       "6  ridersatisfaction              11                   1.222222\n",
       "7     bikerentalcost               9                   1.000000"
      ]
     },
     "execution_count": 9,
     "metadata": {},
     "output_type": "execute_result"
    }
   ],
   "source": [
    "# Reporting missing values per column\n",
    "# We notice around 1% missing values per column\n",
    "missing_values = df.isnull().sum()\n",
    "percentage_mssing_values = (missing_values/len(df))*100\n",
    "missing_values_df = pd.DataFrame({'Column Name': missing_values.index,\n",
    "                                  'Missing Values': missing_values.values,\n",
    "                                  'Percentage Missing Values': percentage_mssing_values.values,\n",
    "                                 })\n",
    "missing_values_df"
   ]
  },
  {
   "cell_type": "code",
   "execution_count": 52,
   "id": "c3bdd8aa-d135-4d92-a6d8-f2aca7fc4a37",
   "metadata": {},
   "outputs": [
    {
     "name": "stdout",
     "output_type": "stream",
     "text": [
      "853 rows (94.77777777777779 %) missing 0 value\n",
      "         Column Name  Missing Values  Percentage Missing Values\n",
      "0               city               0                        0.0\n",
      "1   weathercondition               0                        0.0\n",
      "2           riderage               0                        0.0\n",
      "3          bikemodel               0                        0.0\n",
      "4    ridedurationmin               0                        0.0\n",
      "5  distancecoveredkm               0                        0.0\n",
      "6  ridersatisfaction               0                        0.0\n",
      "7     bikerentalcost               0                        0.0\n",
      "8      Missing Count               0                        0.0\n",
      "\n",
      "\n",
      "3 rows (0.33333333333333337 %) missing 1 value\n",
      "         Column Name  Missing Values  Percentage Missing Values\n",
      "0               city               0                   0.000000\n",
      "1   weathercondition               0                   0.000000\n",
      "2           riderage               0                   0.000000\n",
      "3          bikemodel               0                   0.000000\n",
      "4    ridedurationmin               1                  33.333333\n",
      "5  distancecoveredkm               2                  66.666667\n",
      "6  ridersatisfaction               0                   0.000000\n",
      "7     bikerentalcost               0                   0.000000\n",
      "8      Missing Count               0                   0.000000\n",
      "\n",
      "\n",
      "43 rows (4.777777777777778 %) missing 2 value\n",
      "         Column Name  Missing Values  Percentage Missing Values\n",
      "0               city              10                  23.255814\n",
      "1   weathercondition              11                  25.581395\n",
      "2           riderage              15                  34.883721\n",
      "3          bikemodel               9                  20.930233\n",
      "4    ridedurationmin              11                  25.581395\n",
      "5  distancecoveredkm              11                  25.581395\n",
      "6  ridersatisfaction              10                  23.255814\n",
      "7     bikerentalcost               9                  20.930233\n",
      "8      Missing Count               0                   0.000000\n",
      "\n",
      "\n",
      "1 rows (0.1111111111111111 %) missing 3 value\n",
      "         Column Name  Missing Values  Percentage Missing Values\n",
      "0               city               0                        0.0\n",
      "1   weathercondition               0                        0.0\n",
      "2           riderage               0                        0.0\n",
      "3          bikemodel               1                      100.0\n",
      "4    ridedurationmin               1                      100.0\n",
      "5  distancecoveredkm               0                        0.0\n",
      "6  ridersatisfaction               1                      100.0\n",
      "7     bikerentalcost               0                        0.0\n",
      "8      Missing Count               0                        0.0\n",
      "\n",
      "\n"
     ]
    }
   ],
   "source": [
    "# Calculate the number of missing values in each row\n",
    "df['Missing Count'] = df.isnull().sum(axis=1)\n",
    "# Group rows by the number of missing values\n",
    "grouped = df.groupby('Missing Count')\n",
    "# Iterate through the groups\n",
    "for missing_count, group in grouped:\n",
    "    n_rows = len(group)\n",
    "    percent = (n_rows/len(df))*100\n",
    "    print(f\"{n_rows} rows ({percent} %) missing {missing_count} value\")\n",
    "    missing_values = group.isnull().sum()\n",
    "    percentage_mssing_values = (missing_values/len(group))*100\n",
    "    missing_values_df = pd.DataFrame({'Column Name': missing_values.index,\n",
    "                                      'Missing Values': missing_values.values,\n",
    "                                      'Percentage Missing Values': percentage_mssing_values.values,\n",
    "                                     })\n",
    "    print(missing_values_df)\n",
    "    print(\"\\n\")\n",
    "del df['Missing Count']"
   ]
  },
  {
   "cell_type": "code",
   "execution_count": 11,
   "id": "ce67df2d-0514-417d-b992-81291fbd7de4",
   "metadata": {},
   "outputs": [
    {
     "name": "stdout",
     "output_type": "stream",
     "text": [
      "(900, 8) (853, 8) 0.052222222222222225\n"
     ]
    }
   ],
   "source": [
    "# dropping any missing value\n",
    "# 5% of rows are missing at least one value\n",
    "df_any_missing_value = df.dropna()\n",
    "print(df.shape, df_any_missing_value.shape,47/900)"
   ]
  },
  {
   "cell_type": "code",
   "execution_count": 12,
   "id": "90fe0553-75a9-49cd-a643-5caca5d6c3d7",
   "metadata": {},
   "outputs": [],
   "source": [
    "cleaned_df = df_any_missing_value"
   ]
  },
  {
   "cell_type": "code",
   "execution_count": 13,
   "id": "d3070113-ada2-4e49-87e1-d2b2c42c54e3",
   "metadata": {},
   "outputs": [
    {
     "data": {
      "text/html": [
       "<div>\n",
       "<style scoped>\n",
       "    .dataframe tbody tr th:only-of-type {\n",
       "        vertical-align: middle;\n",
       "    }\n",
       "\n",
       "    .dataframe tbody tr th {\n",
       "        vertical-align: top;\n",
       "    }\n",
       "\n",
       "    .dataframe thead th {\n",
       "        text-align: right;\n",
       "    }\n",
       "</style>\n",
       "<table border=\"1\" class=\"dataframe\">\n",
       "  <thead>\n",
       "    <tr style=\"text-align: right;\">\n",
       "      <th></th>\n",
       "      <th>riderage</th>\n",
       "      <th>ridedurationmin</th>\n",
       "      <th>distancecoveredkm</th>\n",
       "      <th>bikerentalcost</th>\n",
       "    </tr>\n",
       "  </thead>\n",
       "  <tbody>\n",
       "    <tr>\n",
       "      <th>count</th>\n",
       "      <td>853.000000</td>\n",
       "      <td>853.00000</td>\n",
       "      <td>853.000000</td>\n",
       "      <td>853.000000</td>\n",
       "    </tr>\n",
       "    <tr>\n",
       "      <th>mean</th>\n",
       "      <td>39.262603</td>\n",
       "      <td>61.76905</td>\n",
       "      <td>20.152016</td>\n",
       "      <td>26.564033</td>\n",
       "    </tr>\n",
       "    <tr>\n",
       "      <th>std</th>\n",
       "      <td>12.332311</td>\n",
       "      <td>34.18023</td>\n",
       "      <td>11.226650</td>\n",
       "      <td>9.501788</td>\n",
       "    </tr>\n",
       "    <tr>\n",
       "      <th>min</th>\n",
       "      <td>18.000000</td>\n",
       "      <td>5.00000</td>\n",
       "      <td>0.510000</td>\n",
       "      <td>7.330000</td>\n",
       "    </tr>\n",
       "    <tr>\n",
       "      <th>25%</th>\n",
       "      <td>29.000000</td>\n",
       "      <td>32.00000</td>\n",
       "      <td>10.750000</td>\n",
       "      <td>19.110000</td>\n",
       "    </tr>\n",
       "    <tr>\n",
       "      <th>50%</th>\n",
       "      <td>39.000000</td>\n",
       "      <td>62.00000</td>\n",
       "      <td>19.990000</td>\n",
       "      <td>27.080000</td>\n",
       "    </tr>\n",
       "    <tr>\n",
       "      <th>75%</th>\n",
       "      <td>50.000000</td>\n",
       "      <td>92.00000</td>\n",
       "      <td>29.200000</td>\n",
       "      <td>34.010000</td>\n",
       "    </tr>\n",
       "    <tr>\n",
       "      <th>max</th>\n",
       "      <td>60.000000</td>\n",
       "      <td>120.00000</td>\n",
       "      <td>39.870000</td>\n",
       "      <td>48.380000</td>\n",
       "    </tr>\n",
       "  </tbody>\n",
       "</table>\n",
       "</div>"
      ],
      "text/plain": [
       "         riderage  ridedurationmin  distancecoveredkm  bikerentalcost\n",
       "count  853.000000        853.00000         853.000000      853.000000\n",
       "mean    39.262603         61.76905          20.152016       26.564033\n",
       "std     12.332311         34.18023          11.226650        9.501788\n",
       "min     18.000000          5.00000           0.510000        7.330000\n",
       "25%     29.000000         32.00000          10.750000       19.110000\n",
       "50%     39.000000         62.00000          19.990000       27.080000\n",
       "75%     50.000000         92.00000          29.200000       34.010000\n",
       "max     60.000000        120.00000          39.870000       48.380000"
      ]
     },
     "execution_count": 13,
     "metadata": {},
     "output_type": "execute_result"
    }
   ],
   "source": [
    "# describing numerical variables\n",
    "cleaned_df.describe()"
   ]
  },
  {
   "cell_type": "code",
   "execution_count": 14,
   "id": "5edc6c06-715c-4d95-8782-d5ae0c33a240",
   "metadata": {},
   "outputs": [
    {
     "data": {
      "image/png": "[encoded data removed]",
      "text/plain": [
       "<Figure size 640x480 with 1 Axes>"
      ]
     },
     "metadata": {},
     "output_type": "display_data"
    }
   ],
   "source": [
    "# using this example : https://stackoverflow.com/questions/18500011/horizontal-box-plots-in-matplotlib-pandas\n",
    "df[numeric_columns].boxplot(vert=False)\n",
    "plt.subplots_adjust(left=0.25)\n",
    "plt.show()\n"
   ]
  },
  {
   "cell_type": "code",
   "execution_count": 15,
   "id": "9c6c7ad4-1679-4cab-abc1-79d1fe68c656",
   "metadata": {},
   "outputs": [
    {
     "data": {
      "text/html": [
       "<div>\n",
       "<style scoped>\n",
       "    .dataframe tbody tr th:only-of-type {\n",
       "        vertical-align: middle;\n",
       "    }\n",
       "\n",
       "    .dataframe tbody tr th {\n",
       "        vertical-align: top;\n",
       "    }\n",
       "\n",
       "    .dataframe thead th {\n",
       "        text-align: right;\n",
       "    }\n",
       "</style>\n",
       "<table border=\"1\" class=\"dataframe\">\n",
       "  <thead>\n",
       "    <tr style=\"text-align: right;\">\n",
       "      <th></th>\n",
       "      <th>city</th>\n",
       "      <th>weathercondition</th>\n",
       "      <th>bikemodel</th>\n",
       "      <th>ridersatisfaction</th>\n",
       "    </tr>\n",
       "  </thead>\n",
       "  <tbody>\n",
       "    <tr>\n",
       "      <th>count</th>\n",
       "      <td>853</td>\n",
       "      <td>853</td>\n",
       "      <td>853</td>\n",
       "      <td>853</td>\n",
       "    </tr>\n",
       "    <tr>\n",
       "      <th>unique</th>\n",
       "      <td>6</td>\n",
       "      <td>4</td>\n",
       "      <td>4</td>\n",
       "      <td>3</td>\n",
       "    </tr>\n",
       "    <tr>\n",
       "      <th>top</th>\n",
       "      <td>London</td>\n",
       "      <td>Rainy</td>\n",
       "      <td>Electric</td>\n",
       "      <td>High</td>\n",
       "    </tr>\n",
       "    <tr>\n",
       "      <th>freq</th>\n",
       "      <td>183</td>\n",
       "      <td>238</td>\n",
       "      <td>285</td>\n",
       "      <td>307</td>\n",
       "    </tr>\n",
       "  </tbody>\n",
       "</table>\n",
       "</div>"
      ],
      "text/plain": [
       "          city weathercondition bikemodel ridersatisfaction\n",
       "count      853              853       853               853\n",
       "unique       6                4         4                 3\n",
       "top     London            Rainy  Electric              High\n",
       "freq       183              238       285               307"
      ]
     },
     "execution_count": 15,
     "metadata": {},
     "output_type": "execute_result"
    }
   ],
   "source": [
    "# describing categorical variables\n",
    "cleaned_df.describe(include='object')"
   ]
  },
  {
   "cell_type": "code",
   "execution_count": 45,
   "id": "7b2163f5-48fc-43cf-b1cb-e327b704b7a5",
   "metadata": {},
   "outputs": [],
   "source": [
    "vale_counts_table = pd.DataFrame()\n",
    "max_unique_vals = max(len(cleaned_df[[column]].value_counts()) for column in categorical_columns)\n",
    "\n",
    "    \n",
    "for column in categorical_columns:\n",
    "    names =  [None for _ in range(max_unique_vals)]\n",
    "    counts = [None for _ in range(max_unique_vals)]\n",
    "\n",
    "    for idx,(name, value) in enumerate(cleaned_df[[column]].value_counts().items()):\n",
    "        names[idx] = name[0]\n",
    "        counts[idx] = value\n",
    "    vale_counts_table[f\"{column}_name\"] = names\n",
    "    vale_counts_table[f\"{column}_count\"] = counts\n",
    "\n"
   ]
  },
  {
   "cell_type": "code",
   "execution_count": 47,
   "id": "c3dc2abd-dbb6-4cee-87c1-f9af19587ab7",
   "metadata": {},
   "outputs": [
    {
     "data": {
      "text/html": [
       "<div>\n",
       "<style scoped>\n",
       "    .dataframe tbody tr th:only-of-type {\n",
       "        vertical-align: middle;\n",
       "    }\n",
       "\n",
       "    .dataframe tbody tr th {\n",
       "        vertical-align: top;\n",
       "    }\n",
       "\n",
       "    .dataframe thead th {\n",
       "        text-align: right;\n",
       "    }\n",
       "</style>\n",
       "<table border=\"1\" class=\"dataframe\">\n",
       "  <thead>\n",
       "    <tr style=\"text-align: right;\">\n",
       "      <th></th>\n",
       "      <th>0</th>\n",
       "      <th>1</th>\n",
       "      <th>2</th>\n",
       "      <th>3</th>\n",
       "      <th>4</th>\n",
       "      <th>5</th>\n",
       "    </tr>\n",
       "  </thead>\n",
       "  <tbody>\n",
       "    <tr>\n",
       "      <th>city_name</th>\n",
       "      <td>London</td>\n",
       "      <td>Berlin</td>\n",
       "      <td>New York</td>\n",
       "      <td>Chicago</td>\n",
       "      <td>San Francisco</td>\n",
       "      <td>Dublin</td>\n",
       "    </tr>\n",
       "    <tr>\n",
       "      <th>city_count</th>\n",
       "      <td>183</td>\n",
       "      <td>163</td>\n",
       "      <td>163</td>\n",
       "      <td>160</td>\n",
       "      <td>159</td>\n",
       "      <td>25</td>\n",
       "    </tr>\n",
       "    <tr>\n",
       "      <th>weathercondition_name</th>\n",
       "      <td>Rainy</td>\n",
       "      <td>Sunny</td>\n",
       "      <td>Snowy</td>\n",
       "      <td>Cloudy</td>\n",
       "      <td>None</td>\n",
       "      <td>None</td>\n",
       "    </tr>\n",
       "    <tr>\n",
       "      <th>weathercondition_count</th>\n",
       "      <td>238.0</td>\n",
       "      <td>212.0</td>\n",
       "      <td>210.0</td>\n",
       "      <td>193.0</td>\n",
       "      <td>NaN</td>\n",
       "      <td>NaN</td>\n",
       "    </tr>\n",
       "    <tr>\n",
       "      <th>bikemodel_name</th>\n",
       "      <td>Electric</td>\n",
       "      <td>Mountain</td>\n",
       "      <td>Standard</td>\n",
       "      <td>Manual</td>\n",
       "      <td>None</td>\n",
       "      <td>None</td>\n",
       "    </tr>\n",
       "    <tr>\n",
       "      <th>bikemodel_count</th>\n",
       "      <td>285.0</td>\n",
       "      <td>285.0</td>\n",
       "      <td>282.0</td>\n",
       "      <td>1.0</td>\n",
       "      <td>NaN</td>\n",
       "      <td>NaN</td>\n",
       "    </tr>\n",
       "    <tr>\n",
       "      <th>ridersatisfaction_name</th>\n",
       "      <td>High</td>\n",
       "      <td>Medium</td>\n",
       "      <td>Low</td>\n",
       "      <td>None</td>\n",
       "      <td>None</td>\n",
       "      <td>None</td>\n",
       "    </tr>\n",
       "    <tr>\n",
       "      <th>ridersatisfaction_count</th>\n",
       "      <td>307.0</td>\n",
       "      <td>286.0</td>\n",
       "      <td>260.0</td>\n",
       "      <td>NaN</td>\n",
       "      <td>NaN</td>\n",
       "      <td>NaN</td>\n",
       "    </tr>\n",
       "  </tbody>\n",
       "</table>\n",
       "</div>"
      ],
      "text/plain": [
       "                                0         1         2        3              4  \\\n",
       "city_name                  London    Berlin  New York  Chicago  San Francisco   \n",
       "city_count                    183       163       163      160            159   \n",
       "weathercondition_name       Rainy     Sunny     Snowy   Cloudy           None   \n",
       "weathercondition_count      238.0     212.0     210.0    193.0            NaN   \n",
       "bikemodel_name           Electric  Mountain  Standard   Manual           None   \n",
       "bikemodel_count             285.0     285.0     282.0      1.0            NaN   \n",
       "ridersatisfaction_name       High    Medium       Low     None           None   \n",
       "ridersatisfaction_count     307.0     286.0     260.0      NaN            NaN   \n",
       "\n",
       "                              5  \n",
       "city_name                Dublin  \n",
       "city_count                   25  \n",
       "weathercondition_name      None  \n",
       "weathercondition_count      NaN  \n",
       "bikemodel_name             None  \n",
       "bikemodel_count             NaN  \n",
       "ridersatisfaction_name     None  \n",
       "ridersatisfaction_count     NaN  "
      ]
     },
     "execution_count": 47,
     "metadata": {},
     "output_type": "execute_result"
    }
   ],
   "source": [
    "vale_counts_table.T"
   ]
  },
  {
   "cell_type": "code",
   "execution_count": 50,
   "id": "42b4faac-756c-44a6-8090-987deb86ec23",
   "metadata": {},
   "outputs": [
    {
     "data": {
      "image/png": "[encoded data removed]",
      "text/plain": [
       "<Figure size 800x400 with 1 Axes>"
      ]
     },
     "metadata": {},
     "output_type": "display_data"
    },
    {
     "data": {
      "image/png": "[encoded data removed]",
      "text/plain": [
       "<Figure size 800x400 with 1 Axes>"
      ]
     },
     "metadata": {},
     "output_type": "display_data"
    },
    {
     "data": {
      "image/png": "[encoded data removed]",
      "text/plain": [
       "<Figure size 800x400 with 1 Axes>"
      ]
     },
     "metadata": {},
     "output_type": "display_data"
    },
    {
     "data": {
      "image/png": "[encoded data removed]",
      "text/plain": [
       "<Figure size 800x400 with 1 Axes>"
      ]
     },
     "metadata": {},
     "output_type": "display_data"
    }
   ],
   "source": [
    "for column in categorical_columns:\n",
    "    plt.figure(figsize=(8, 4))  # Set figure size\n",
    "    df[column].value_counts().plot(kind='bar', color='skyblue')  # Plot bar chart\n",
    "    plt.title(f'Histogram of {column}')  # Add title\n",
    "    plt.xlabel(column)  # X-axis label\n",
    "    plt.ylabel('Frequency')  # Y-axis label\n",
    "    plt.xticks(rotation=45)  # Rotate x-axis labels for better readability\n",
    "    plt.tight_layout()  # Adjust layout to prevent overlap\n",
    "    plt.show()  # Show the plot"
   ]
  },
  {
   "cell_type": "markdown",
   "id": "e2eeca9f-8745-4a36-8146-94bd4ddbc598",
   "metadata": {},
   "source": [
    "### Ideas to investigate\n",
    "#### Are people overall satistified ?\n",
    "#### People satisfaction is almost even between low, medium and high\n",
    "#### What are the most profitables regions ?\n",
    "#### What are the regions with higher and lower satisfcation ?\n",
    "#### Do satisfied people pay more ? less ?\n"
   ]
  },
  {
   "cell_type": "code",
   "execution_count": null,
   "id": "e95e5393-ca40-4b23-91c2-6716b2f26254",
   "metadata": {},
   "outputs": [],
   "source": [
    "targets=['ridersatisfaction','bikerentalcost']\n",
    "for col in targets:\n",
    "    print(df[col].value_counts())\n"
   ]
  },
  {
   "cell_type": "code",
   "execution_count": null,
   "id": "5545b5a4-c2c3-402e-87cd-f13b78b7e0a4",
   "metadata": {},
   "outputs": [],
   "source": [
    "df['bikerentalcost'].describe()"
   ]
  },
  {
   "cell_type": "code",
   "execution_count": null,
   "id": "df6129bd-1de3-4c0c-ae27-19ff76785edd",
   "metadata": {},
   "outputs": [],
   "source": [
    "df['bikerentalcost'].hist()"
   ]
  },
  {
   "cell_type": "code",
   "execution_count": null,
   "id": "c7561e0b-907a-406f-ad82-0fdae29866fb",
   "metadata": {},
   "outputs": [],
   "source": [
    "\n",
    "ax = df[targets].plot.box()"
   ]
  },
  {
   "cell_type": "code",
   "execution_count": null,
   "id": "7041ee6e-90d0-4168-9c1d-fc504e7b2b7b",
   "metadata": {},
   "outputs": [],
   "source": [
    "df['ridersatisfaction'].value_counts()[['Low','Medium','High']].plot(kind='bar')"
   ]
  },
  {
   "cell_type": "code",
   "execution_count": null,
   "id": "136d0259-f2fa-4561-87a2-96a0a5ebd4e6",
   "metadata": {},
   "outputs": [],
   "source": [
    "df['ridersatisfaction'].value_counts()"
   ]
  },
  {
   "cell_type": "markdown",
   "id": "91934a31-8a91-4a6b-88a3-deaddb0a2b91",
   "metadata": {},
   "source": [
    "### References"
   ]
  },
  {
   "cell_type": "code",
   "execution_count": null,
   "id": "37bce182-d2f3-4d5c-954f-d6105342be9b",
   "metadata": {},
   "outputs": [],
   "source": []
  }
 ],
 "metadata": {
  "kernelspec": {
   "display_name": "Python 3 (ipykernel)",
   "language": "python",
   "name": "python3"
  },
  "language_info": {
   "codemirror_mode": {
    "name": "ipython",
    "version": 3
   },
   "file_extension": ".py",
   "mimetype": "text/x-python",
   "name": "python",
   "nbconvert_exporter": "python",
   "pygments_lexer": "ipython3",
   "version": "3.8.20"
  }
 },
 "nbformat": 4,
 "nbformat_minor": 5
}
