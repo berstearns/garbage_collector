{
 "cells": [
  {
   "cell_type": "markdown",
   "id": "24875b55-ccb6-438c-9052-2f16195ce4d7",
   "metadata": {},
   "source": [
    "# Statistics CA1"
   ]
  },
  {
   "cell_type": "markdown",
   "id": "2ef8ed48-d7e8-4f51-9725-a5f136c55592",
   "metadata": {},
   "source": [
    "# Task 1 - Data Analysis:\n",
    "Your task is to find a dataset of interest to you, that contains a mix of categorical and numerical variables.\n",
    "As a guideline, the dataset should have a minimum of two categorical variables and three numerical\n",
    "variables\n",
    "\n",
    "  - Use of appropriate functions in Python. [15 Marks]\n",
    "  - Clearly commenting the code in the .ipynb file. [5 Marks]\n",
    "  - Producing clear results for the chosen dataset, using appropriate statistical measures and appropriate plots. [15 Marks]\n",
    "  - The quality of the graphics included. [5 Marks]\n",
    "  - Summarising the conclusions from the analysis appropriately. [30 Marks]"
   ]
  },
  {
   "cell_type": "code",
   "execution_count": 1,
   "id": "7398c5d6-0667-4bfb-9403-e530378971b0",
   "metadata": {},
   "outputs": [],
   "source": [
    "# it's advised to import all your libraries in one single cell\n",
    "from IPython.display import clear_output\n",
    "import pandas as pd\n",
    "import matplotlib"
   ]
  },
  {
   "cell_type": "markdown",
   "id": "d69f36ae-1c9d-4095-9530-006128c7f7bd",
   "metadata": {
    "jp-MarkdownHeadingCollapsed": true
   },
   "source": [
    "## Describing the CEDEL2 dataset\n",
    "\n",
    "* CEDEL2 is a large database containing the language produced by learners of Spanish as a second/foreign language (L2). This database is called a language ‘corpus’. \n",
    "\n",
    "* Language learners in this database do a profiencicy test as well as a writting task which are stored in two columns : Profieicncy test score and proficiency. There are also many charateristics of the learner and how much the learner has been exposed to spanish.\n",
    "\n",
    "* I want to explore relationships between learners characteristics and their proficiency levels\n",
    "\n",
    "* I first use the read_csv function to read the file, the shape function to show the number of rows and columns, the columns to see column names, head() to check a few row.\n",
    "\n",
    "* there are 3041 rows and 41 columns\n",
    "    * 41 columns is too many variables to analyzing in the scope of this project\n",
    "    * I will drop not relevant variables for the analysis, targeting a few core variables.\n",
    "\n",
    "* To analysise the columns with missing values I use the function is isna to check if a value is missing and the sum function sums the missing values per column and the sort_values order from lower to higher.\n",
    "* Columns with most missing values:\n",
    "    * Original text                                                     3034\n",
    "    * Language certificates (type and level)                            2786\n",
    "    * Resources used                                                    2037\n",
    "    * Stay abroad (when)                                                1984\n",
    "    * Stay abroad (where)                                               1976\n",
    "    * Minutes taken to complete the task                                1564\n",
    "    * Additional foreign language(s)                                    1546\n",
    "    * Proficiency (self-assessment) in additional language writing      1526\n",
    "    * Proficiency (self-assessment) in additional language reading      1508\n",
    "    * Proficiency (self-assessment) in additional language listening    1505\n",
    "    * Proficiency (self-assessment) in additional language speaking     1501\n",
    "    * Major                                                              905\n",
    "    * School/University/Institution                                      444\n",
    "    * Year at university/school                                          363\n",
    "    * Stay abroad (months)                                               103\n",
    "\n",
    "\n",
    "\n",
    "\n",
    "\n"
   ]
  },
  {
   "cell_type": "code",
   "execution_count": 2,
   "id": "4a7bf76c-c310-4aa0-b4ec-93eb130878d0",
   "metadata": {},
   "outputs": [],
   "source": [
    "dataframe = pd.read_csv(\"./data.csv\",sep=\"\\t\")"
   ]
  },
  {
   "cell_type": "code",
   "execution_count": 3,
   "id": "7af4de6b-57aa-4ad8-a9c9-a1334838d68f",
   "metadata": {},
   "outputs": [
    {
     "data": {
      "text/plain": [
       "(3034, 41)"
      ]
     },
     "execution_count": 3,
     "metadata": {},
     "output_type": "execute_result"
    }
   ],
   "source": [
    "dataframe.shape"
   ]
  },
  {
   "cell_type": "code",
   "execution_count": 4,
   "id": "1f0e9a2d-13d6-4416-8ca3-e9e79299f6ab",
   "metadata": {},
   "outputs": [
    {
     "data": {
      "text/plain": [
       "Index(['Subcorpus', 'Filename', 'Year data collection',\n",
       "       'Placement test score (raw)', 'Placement test score (%)', 'Proficiency',\n",
       "       'Sex', 'Age', 'School/University/Institution', 'Major',\n",
       "       'Year at university/school', 'L1', 'Father's native language',\n",
       "       'Mother's nativelanguage', 'Languages spoken at home',\n",
       "       'Age of exposure to Spanish', 'Years studying Spanish',\n",
       "       'Stay abroad in Spanish speaking country (>= 1 month)',\n",
       "       'Stay abroad (where)', 'Stay abroad (when)', 'Stay abroad (months)',\n",
       "       'Language certificates (type and level)',\n",
       "       'Proficiency (self-assessment) speaking',\n",
       "       'Proficiency (self-assessment) listening',\n",
       "       'Proficiency (self-assessment) reading',\n",
       "       'Proficiency (self-assessment) writing',\n",
       "       'Proficiency (self-assessment)', 'Additional foreign language(s)',\n",
       "       'Proficiency (self-assessment) in additional language speaking',\n",
       "       'Proficiency (self-assessment) in additional language listening',\n",
       "       'Proficiency (self-assessment) in additional language reading',\n",
       "       'Proficiency (self-assessment) in additional language writing',\n",
       "       'Medium', 'Task number', 'Task title', 'Writting/audio details',\n",
       "       'Minutes taken to complete the task', 'Where the task was done',\n",
       "       'Resources used', 'Text', 'Original text'],\n",
       "      dtype='object')"
      ]
     },
     "execution_count": 4,
     "metadata": {},
     "output_type": "execute_result"
    }
   ],
   "source": [
    "dataframe.columns"
   ]
  },
  {
   "cell_type": "code",
   "execution_count": 5,
   "id": "c07052d4-d47d-492d-bc1c-fd96e0ae036b",
   "metadata": {},
   "outputs": [
    {
     "data": {
      "text/html": [
       "<div>\n",
       "<style scoped>\n",
       "    .dataframe tbody tr th:only-of-type {\n",
       "        vertical-align: middle;\n",
       "    }\n",
       "\n",
       "    .dataframe tbody tr th {\n",
       "        vertical-align: top;\n",
       "    }\n",
       "\n",
       "    .dataframe thead th {\n",
       "        text-align: right;\n",
       "    }\n",
       "</style>\n",
       "<table border=\"1\" class=\"dataframe\">\n",
       "  <thead>\n",
       "    <tr style=\"text-align: right;\">\n",
       "      <th></th>\n",
       "      <th>Subcorpus</th>\n",
       "      <th>Filename</th>\n",
       "      <th>Year data collection</th>\n",
       "      <th>Placement test score (raw)</th>\n",
       "      <th>Placement test score (%)</th>\n",
       "      <th>Proficiency</th>\n",
       "      <th>Sex</th>\n",
       "      <th>Age</th>\n",
       "      <th>School/University/Institution</th>\n",
       "      <th>Major</th>\n",
       "      <th>...</th>\n",
       "      <th>Proficiency (self-assessment) in additional language writing</th>\n",
       "      <th>Medium</th>\n",
       "      <th>Task number</th>\n",
       "      <th>Task title</th>\n",
       "      <th>Writting/audio details</th>\n",
       "      <th>Minutes taken to complete the task</th>\n",
       "      <th>Where the task was done</th>\n",
       "      <th>Resources used</th>\n",
       "      <th>Text</th>\n",
       "      <th>Original text</th>\n",
       "    </tr>\n",
       "  </thead>\n",
       "  <tbody>\n",
       "    <tr>\n",
       "      <th>0</th>\n",
       "      <td>Learners</td>\n",
       "      <td>JP_WR_2_19_0.5_14_TAG</td>\n",
       "      <td>2018</td>\n",
       "      <td>2 / 43</td>\n",
       "      <td>4.7</td>\n",
       "      <td>Lower beginner</td>\n",
       "      <td>Female</td>\n",
       "      <td>19.0</td>\n",
       "      <td>teikyo universidad</td>\n",
       "      <td>espanola</td>\n",
       "      <td>...</td>\n",
       "      <td>Lower beginner (A1)</td>\n",
       "      <td>Written</td>\n",
       "      <td>14</td>\n",
       "      <td>14. Chaplin</td>\n",
       "      <td>written_online</td>\n",
       "      <td>NaN</td>\n",
       "      <td>NaN</td>\n",
       "      <td>NaN</td>\n",
       "      <td>Chaplin es antipatico.\\n\\nNo no está grapo.\\n\\...</td>\n",
       "      <td>NaN</td>\n",
       "    </tr>\n",
       "    <tr>\n",
       "      <th>1</th>\n",
       "      <td>Learners</td>\n",
       "      <td>JP_WR_2_20_2_14_AT</td>\n",
       "      <td>2018</td>\n",
       "      <td>2 / 43</td>\n",
       "      <td>4.7</td>\n",
       "      <td>Lower beginner</td>\n",
       "      <td>Male</td>\n",
       "      <td>20.0</td>\n",
       "      <td>universidad Sophia</td>\n",
       "      <td>ciencia</td>\n",
       "      <td>...</td>\n",
       "      <td>Lower advanced (C1)</td>\n",
       "      <td>Written</td>\n",
       "      <td>14</td>\n",
       "      <td>14. Chaplin</td>\n",
       "      <td>written_online</td>\n",
       "      <td>48.0</td>\n",
       "      <td>Outside classroom</td>\n",
       "      <td>Monolingual dictionary (Spanish)</td>\n",
       "      <td>Chaplin ando en una calle y vio una bebé que e...</td>\n",
       "      <td>NaN</td>\n",
       "    </tr>\n",
       "    <tr>\n",
       "      <th>2</th>\n",
       "      <td>Learners</td>\n",
       "      <td>JP_WR_3_19_0.5_13_TBB</td>\n",
       "      <td>2019</td>\n",
       "      <td>3 / 43</td>\n",
       "      <td>7.0</td>\n",
       "      <td>Lower beginner</td>\n",
       "      <td>Male</td>\n",
       "      <td>19.0</td>\n",
       "      <td>帝京大学</td>\n",
       "      <td>外国語学部外国語学科スペイン語コース</td>\n",
       "      <td>...</td>\n",
       "      <td>Lower intermediate (B1)</td>\n",
       "      <td>Written</td>\n",
       "      <td>13</td>\n",
       "      <td>13. Frog</td>\n",
       "      <td>written_online</td>\n",
       "      <td>13.0</td>\n",
       "      <td>Inside classroom</td>\n",
       "      <td>Bilingual dictionary (Spanish/Japanese)</td>\n",
       "      <td>La rana está entre en una botella de vidrio.\\n...</td>\n",
       "      <td>NaN</td>\n",
       "    </tr>\n",
       "    <tr>\n",
       "      <th>3</th>\n",
       "      <td>Learners</td>\n",
       "      <td>EN_WR_6_20_3_1_CJB</td>\n",
       "      <td>2006-2016</td>\n",
       "      <td>6 / 43</td>\n",
       "      <td>14.0</td>\n",
       "      <td>Lower beginner</td>\n",
       "      <td>Female</td>\n",
       "      <td>20.0</td>\n",
       "      <td>Georgia State University</td>\n",
       "      <td>Spanish</td>\n",
       "      <td>...</td>\n",
       "      <td>NaN</td>\n",
       "      <td>Written</td>\n",
       "      <td>1</td>\n",
       "      <td>1. Region where you live</td>\n",
       "      <td>written_online</td>\n",
       "      <td>NaN</td>\n",
       "      <td>Inside classroom</td>\n",
       "      <td>Help from a Spanish native speaker, Bilingual ...</td>\n",
       "      <td>Yo vivo es Alanta, Georgia. Atlanta es muy gra...</td>\n",
       "      <td>NaN</td>\n",
       "    </tr>\n",
       "    <tr>\n",
       "      <th>4</th>\n",
       "      <td>Learners</td>\n",
       "      <td>EN_WR_7_26_2_2_TB</td>\n",
       "      <td>2006-2016</td>\n",
       "      <td>7 / 43</td>\n",
       "      <td>16.3</td>\n",
       "      <td>Lower beginner</td>\n",
       "      <td>Male</td>\n",
       "      <td>26.0</td>\n",
       "      <td>Georgia State University</td>\n",
       "      <td>Film</td>\n",
       "      <td>...</td>\n",
       "      <td>NaN</td>\n",
       "      <td>Written</td>\n",
       "      <td>2</td>\n",
       "      <td>2. Famous person</td>\n",
       "      <td>written_online</td>\n",
       "      <td>NaN</td>\n",
       "      <td>Inside classroom</td>\n",
       "      <td>NaN</td>\n",
       "      <td>Sanaa Lathan es muy famosa persona. Ella es en...</td>\n",
       "      <td>NaN</td>\n",
       "    </tr>\n",
       "  </tbody>\n",
       "</table>\n",
       "<p>5 rows × 41 columns</p>\n",
       "</div>"
      ],
      "text/plain": [
       "  Subcorpus               Filename Year data collection  \\\n",
       "0  Learners  JP_WR_2_19_0.5_14_TAG                 2018   \n",
       "1  Learners     JP_WR_2_20_2_14_AT                 2018   \n",
       "2  Learners  JP_WR_3_19_0.5_13_TBB                 2019   \n",
       "3  Learners     EN_WR_6_20_3_1_CJB            2006-2016   \n",
       "4  Learners      EN_WR_7_26_2_2_TB            2006-2016   \n",
       "\n",
       "  Placement test score (raw)  Placement test score (%)     Proficiency  \\\n",
       "0                     2 / 43                       4.7  Lower beginner   \n",
       "1                     2 / 43                       4.7  Lower beginner   \n",
       "2                     3 / 43                       7.0  Lower beginner   \n",
       "3                     6 / 43                      14.0  Lower beginner   \n",
       "4                     7 / 43                      16.3  Lower beginner   \n",
       "\n",
       "      Sex   Age School/University/Institution               Major  ...  \\\n",
       "0  Female  19.0            teikyo universidad            espanola  ...   \n",
       "1    Male  20.0            universidad Sophia             ciencia  ...   \n",
       "2    Male  19.0                          帝京大学  外国語学部外国語学科スペイン語コース  ...   \n",
       "3  Female  20.0      Georgia State University             Spanish  ...   \n",
       "4    Male  26.0      Georgia State University                Film  ...   \n",
       "\n",
       "  Proficiency (self-assessment) in additional language writing   Medium  \\\n",
       "0                                Lower beginner (A1)            Written   \n",
       "1                                Lower advanced (C1)            Written   \n",
       "2                            Lower intermediate (B1)            Written   \n",
       "3                                                NaN            Written   \n",
       "4                                                NaN            Written   \n",
       "\n",
       "  Task number                Task title Writting/audio details  \\\n",
       "0          14               14. Chaplin         written_online   \n",
       "1          14               14. Chaplin         written_online   \n",
       "2          13                  13. Frog         written_online   \n",
       "3           1  1. Region where you live         written_online   \n",
       "4           2          2. Famous person         written_online   \n",
       "\n",
       "   Minutes taken to complete the task  Where the task was done  \\\n",
       "0                                 NaN                      NaN   \n",
       "1                                48.0        Outside classroom   \n",
       "2                                13.0         Inside classroom   \n",
       "3                                 NaN         Inside classroom   \n",
       "4                                 NaN         Inside classroom   \n",
       "\n",
       "                                      Resources used  \\\n",
       "0                                                NaN   \n",
       "1                   Monolingual dictionary (Spanish)   \n",
       "2            Bilingual dictionary (Spanish/Japanese)   \n",
       "3  Help from a Spanish native speaker, Bilingual ...   \n",
       "4                                                NaN   \n",
       "\n",
       "                                                Text Original text  \n",
       "0  Chaplin es antipatico.\\n\\nNo no está grapo.\\n\\...           NaN  \n",
       "1  Chaplin ando en una calle y vio una bebé que e...           NaN  \n",
       "2  La rana está entre en una botella de vidrio.\\n...           NaN  \n",
       "3  Yo vivo es Alanta, Georgia. Atlanta es muy gra...           NaN  \n",
       "4  Sanaa Lathan es muy famosa persona. Ella es en...           NaN  \n",
       "\n",
       "[5 rows x 41 columns]"
      ]
     },
     "execution_count": 5,
     "metadata": {},
     "output_type": "execute_result"
    }
   ],
   "source": [
    "dataframe.head()"
   ]
  },
  {
   "cell_type": "code",
   "execution_count": 6,
   "id": "e3180e5c-05f3-4cd4-98df-a110d2410c50",
   "metadata": {},
   "outputs": [
    {
     "data": {
      "text/plain": [
       "Subcorpus                                                            0\n",
       "Filename                                                             0\n",
       "Year data collection                                                 0\n",
       "Placement test score (raw)                                           0\n",
       "Placement test score (%)                                             0\n",
       "Proficiency                                                          0\n",
       "Sex                                                                  0\n",
       "L1                                                                   0\n",
       "Age of exposure to Spanish                                           0\n",
       "Mother's nativelanguage                                              0\n",
       "Proficiency (self-assessment)                                        0\n",
       "Proficiency (self-assessment) writing                                0\n",
       "Proficiency (self-assessment) reading                                0\n",
       "Proficiency (self-assessment) speaking                               0\n",
       "Proficiency (self-assessment) listening                              0\n",
       "Stay abroad in Spanish speaking country (>= 1 month)                 0\n",
       "Writting/audio details                                               0\n",
       "Task title                                                           0\n",
       "Task number                                                          0\n",
       "Text                                                                 0\n",
       "Medium                                                               0\n",
       "Father's native language                                             3\n",
       "Age                                                                  4\n",
       "Languages spoken at home                                             5\n",
       "Where the task was done                                              8\n",
       "Years studying Spanish                                              35\n",
       "Stay abroad (months)                                               103\n",
       "Year at university/school                                          363\n",
       "School/University/Institution                                      444\n",
       "Major                                                              905\n",
       "Proficiency (self-assessment) in additional language speaking     1501\n",
       "Proficiency (self-assessment) in additional language listening    1505\n",
       "Proficiency (self-assessment) in additional language reading      1508\n",
       "Proficiency (self-assessment) in additional language writing      1526\n",
       "Additional foreign language(s)                                    1546\n",
       "Minutes taken to complete the task                                1564\n",
       "Stay abroad (where)                                               1976\n",
       "Stay abroad (when)                                                1984\n",
       "Resources used                                                    2037\n",
       "Language certificates (type and level)                            2786\n",
       "Original text                                                     3034\n",
       "dtype: int64"
      ]
     },
     "execution_count": 6,
     "metadata": {},
     "output_type": "execute_result"
    }
   ],
   "source": [
    "dataframe.isna().sum().sort_values()"
   ]
  },
  {
   "cell_type": "markdown",
   "id": "4c09e4ca-e4ef-4cfe-8706-b797f07c0e41",
   "metadata": {
    "jp-MarkdownHeadingCollapsed": true
   },
   "source": [
    "## Selecting variables for analysis\n",
    "\n",
    "* to analyse columns i simply run a for loop over the columns\n",
    "    * In pandas putting the column_name inside the brackets filter only the column so I can analyse columns individually\n",
    "    * I print the value counts to see the frequency of values for each column\n",
    "    * I use the input function from python to wait my command to continue\n",
    "    * I manually selected columns that seemed relevant\n",
    "    * A create a new variable \"selected_dataframe\" to copy the dataframe with only the selected columns to use in the analysis\n",
    "* Relevants selected columns:\n",
    "| **Column Name**                        | **Short Description**                                           | **Statistical Datatype**    |\n",
    "|----------------------------------------|-----------------------------------------------------------------|-----------------------------|\n",
    "| Placement test score (%)               | Percentage of right answers in placement test                 | Numeric, Discrete         |\n",
    "| Proficiency                            | Proficiency level in Spanish  | Ordinal                     |\n",
    "| Sex                                    | Gender of the learner                                           | Nominal                     |\n",
    "| Age                                    | Age of the learner in years                                     | Numeric, Discrete           |\n",
    "| L1                                     | First language of the learner                                   | Nominal                     |\n",
    "| Languages spoken at home               | Languages spoken in the home environment                        | Nominal                     |\n",
    "| Age of exposure to Spanish             | Age at which the learner was first exposed to Spanish          | Numeric, Discrete           |\n",
    "| Years studying Spanish                 | Number of years spent learning Spanish                          | Numeric, Discrete           |\n",
    "| Proficiency (self-assessment)          | Learner's selmf-assessment of their proficiency in Spanish       | Ordinal                     |\n",
    "| Additional foreign language(s)         | Other foreign languages spoken by the learner                   | Nominal                     |\n",
    "| Task title                             | Title of the language task the learner completed                | Nominal                     |\n",
    "| text                                   | Text produced by the learner during the task                    | Nominal (text data)         |\n",
    "\n"
   ]
  },
  {
   "cell_type": "code",
   "execution_count": 7,
   "id": "f1ea3f3d-806a-48c2-ba39-fe05a66941fc",
   "metadata": {},
   "outputs": [],
   "source": [
    "for column_name in dataframe.columns:\n",
    "    print(column_name)\n",
    "    print(dataframe[column_name].dtype)\n",
    "    print(dataframe[column_name].value_counts())\n",
    "    inp = input()\n",
    "    if inp==\"b\":\n",
    "        clear_output()\n",
    "        break\n",
    "    clear_output()"
   ]
  },
  {
   "cell_type": "code",
   "execution_count": 8,
   "id": "36571ce8-eac6-4a1e-9929-358d37d2a80f",
   "metadata": {},
   "outputs": [],
   "source": [
    "selected_relevant_columns = [ \n",
    "    \"Placement test score (%)\", \"Proficiency\", \"Sex\",\n",
    "    \"Age\", \"L1\", \"Languages spoken at home\", \"Age of exposure to Spanish\",\n",
    "    \"Years studying Spanish\", \"Proficiency (self-assessment)\", \"Additional foreign language(s)\",\n",
    "    \"Task title\", \"Text\"\n",
    "]"
   ]
  },
  {
   "cell_type": "code",
   "execution_count": 9,
   "id": "0e0f3aa1-acc1-4d9e-9a12-4ec3795414ca",
   "metadata": {
    "scrolled": true
   },
   "outputs": [],
   "source": [
    "for column_name in selected_relevant_columns:\n",
    "    print(column_name)\n",
    "    print(dataframe[column_name].dtype)\n",
    "    print(dataframe[column_name].value_counts())\n",
    "    inp = input()\n",
    "    if inp==\"b\":\n",
    "        clear_output()\n",
    "        break\n",
    "    clear_output()"
   ]
  },
  {
   "cell_type": "markdown",
   "id": "5999526f-7f73-4094-a200-c8ae8e755a9a",
   "metadata": {},
   "source": [
    "### Analysing the data type of the selected columns\n",
    "\n",
    "| **Column Name**                        | **Short Description**                                           | **Statistical Datatype**    |\n",
    "|----------------------------------------|-----------------------------------------------------------------|-----------------------------|\n",
    "| Placement test score (%)               | Percentage of right answers in placement test                 | Numeric, Discrete         |\n",
    "| Proficiency                            | Proficiency level in Spanish)   | Ordinal                     |\n",
    "| Sex                                    | Gender of the learner                                           | Nominal                     |\n",
    "| Age                                    | Age of the learner in years                                     | Numeric, Discrete           |\n",
    "| L1                                     | First language of the learner                                   | Nominal                     |\n",
    "| Languages spoken at home               | Languages spoken in the home environment                        | Nominal                     |\n",
    "| Age of exposure to Spanish             | Age at which the learner was first exposed to Spanish          | Numeric, Discrete           |\n",
    "| Years studying Spanish                 | Number of years spent learning Spanish                          | Numeric, Discrete           |\n",
    "| Proficiency (self-assessment)          | Learner's selmf-assessment of their proficiency in Spanish       | Ordinal                     |\n",
    "| Additional foreign language(s)         | Other foreign languages spoken by the learner                   | Nominal                     |\n",
    "| Task title                             | Title of the language task the learner completed                | Nominal                     |\n",
    "| text                                   | Text produced by the learner during the task                    | Nominal (text data)         |"
   ]
  },
  {
   "cell_type": "code",
   "execution_count": 10,
   "id": "17fc2514-93fb-4094-9be0-176d586d2662",
   "metadata": {},
   "outputs": [],
   "source": [
    "selected_dataframe = dataframe[selected_relevant_columns].copy()"
   ]
  },
  {
   "cell_type": "markdown",
   "id": "1d095c59-0cd5-4c64-aff2-96a111bbf63e",
   "metadata": {},
   "source": [
    "## Analysing distributions\n"
   ]
  },
  {
   "cell_type": "markdown",
   "id": "b2e16556-7004-4524-8e4a-3679dacef79b",
   "metadata": {
    "jp-MarkdownHeadingCollapsed": true
   },
   "source": [
    "### Placement Test Score (%)\n",
    "    * On average people get 70% of the test correct\n",
    "    * Half of the sample get a score over 74.4% ~ 32 correct answers out of 43\n"
   ]
  },
  {
   "cell_type": "code",
   "execution_count": 18,
   "id": "6343e9f7-9782-43f0-93cd-fe0bdefee1c6",
   "metadata": {},
   "outputs": [
    {
     "data": {
      "text/plain": [
       "count    3034.000000\n",
       "mean       70.464634\n",
       "std        21.762159\n",
       "min         4.700000\n",
       "25%        51.200000\n",
       "50%        74.400000\n",
       "75%        88.400000\n",
       "max       100.000000\n",
       "Name: Placement test score (%), dtype: float64"
      ]
     },
     "execution_count": 18,
     "metadata": {},
     "output_type": "execute_result"
    }
   ],
   "source": [
    "selected_dataframe[\"Placement test score (%)\"].describe()"
   ]
  },
  {
   "cell_type": "code",
   "execution_count": 12,
   "id": "ae3702b8-364d-46c6-94de-7af00fdf10f1",
   "metadata": {
    "scrolled": true
   },
   "outputs": [
    {
     "data": {
      "text/plain": [
       "<Axes: >"
      ]
     },
     "execution_count": 12,
     "metadata": {},
     "output_type": "execute_result"
    },
    {
     "data": {
      "image/png": "[encoded data removed]",
      "text/plain": [
       "<Figure size 640x480 with 1 Axes>"
      ]
     },
     "metadata": {},
     "output_type": "display_data"
    }
   ],
   "source": [
    "selected_dataframe[\"Placement test score (%)\"].hist()"
   ]
  },
  {
   "cell_type": "markdown",
   "id": "a8005cf3-b775-4083-af92-af6663356cd6",
   "metadata": {
    "jp-MarkdownHeadingCollapsed": true
   },
   "source": [
    "### Proficiency \n",
    "    * the sample have:\n",
    "        * Upper advanced 13%\n",
    "        * Lower advanced 25%\n",
    "        * Upper intermediate 22%\n",
    "        * Lower intermediate 18%\n",
    "        * Upper beginner 17%\n",
    "        * Lower beginner 3%\n",
    "    * So most of learners are more advanced than beginners\n"
   ]
  },
  {
   "cell_type": "code",
   "execution_count": 13,
   "id": "3769ac11-817d-426a-babe-b54e81e09428",
   "metadata": {},
   "outputs": [
    {
     "data": {
      "text/plain": [
       "Proficiency\n",
       "Lower advanced        764\n",
       "Lower beginner         93\n",
       "Lower intermediate    548\n",
       "Upper advanced        421\n",
       "Upper beginner        529\n",
       "Upper intermediate    679\n",
       "Name: count, dtype: int64"
      ]
     },
     "execution_count": 13,
     "metadata": {},
     "output_type": "execute_result"
    }
   ],
   "source": [
    "selected_dataframe[\"Proficiency\"].value_counts().sort_index() "
   ]
  },
  {
   "cell_type": "code",
   "execution_count": 14,
   "id": "3d778d53-fc93-42fd-8e30-2d6f999c2cb8",
   "metadata": {},
   "outputs": [
    {
     "name": "stdout",
     "output_type": "stream",
     "text": [
      "Upper advanced 0.13876071193144363\n",
      "Lower advanced 0.25181278839815424\n",
      "Upper intermediate 0.2237969676994067\n",
      "Lower intermediate 0.1806196440342782\n",
      "Upper beginner 0.17435728411338167\n",
      "Lower beginner 0.030652603823335532\n"
     ]
    }
   ],
   "source": [
    "print(\"Upper advanced\", 421/len(selected_dataframe[\"Proficiency\"]))\n",
    "print(\"Lower advanced\", 764/len(selected_dataframe[\"Proficiency\"]))\n",
    "print(\"Upper intermediate\", 679/len(selected_dataframe[\"Proficiency\"]))\n",
    "print(\"Lower intermediate\", 548/len(selected_dataframe[\"Proficiency\"]))\n",
    "print(\"Upper beginner\", 529/len(selected_dataframe[\"Proficiency\"]))\n",
    "print(\"Lower beginner\", 93/len(selected_dataframe[\"Proficiency\"]))"
   ]
  },
  {
   "cell_type": "code",
   "execution_count": 15,
   "id": "bea7f0a4-360c-4452-9720-bfb6c433f1b1",
   "metadata": {},
   "outputs": [
    {
     "data": {
      "text/plain": [
       "<Axes: >"
      ]
     },
     "execution_count": 15,
     "metadata": {},
     "output_type": "execute_result"
    },
    {
     "data": {
      "image/png": "[encoded data removed]",
      "text/plain": [
       "<Figure size 640x480 with 1 Axes>"
      ]
     },
     "metadata": {},
     "output_type": "display_data"
    }
   ],
   "source": [
    "selected_dataframe[\"Proficiency\"] = pd.Categorical(values=selected_dataframe[\"Proficiency\"], categories=[\"Upper advanced\", \"Lower advanced\", \"Upper intermediate\", \"Lower intermediate\", \"Upper beginner\", \"Lower beginner\"]\n",
    ")\n",
    "selected_dataframe[\"Proficiency\"].hist()"
   ]
  },
  {
   "cell_type": "markdown",
   "id": "bcf46fe6-1645-4afd-a9c6-99b71d5bdcb5",
   "metadata": {},
   "source": [
    "### Sex\n"
   ]
  },
  {
   "cell_type": "code",
   "execution_count": 22,
   "id": "ad1c8830-496f-4c78-b33c-3dd767323a5a",
   "metadata": {},
   "outputs": [
    {
     "data": {
      "text/plain": [
       "Sex\n",
       "Female    2210\n",
       "Male       824\n",
       "Name: count, dtype: int64"
      ]
     },
     "execution_count": 22,
     "metadata": {},
     "output_type": "execute_result"
    }
   ],
   "source": [
    "selected_dataframe[\"Sex\"].value_counts()"
   ]
  },
  {
   "cell_type": "code",
   "execution_count": 21,
   "id": "e01933d5-147e-4cea-b05a-78c6aa609ab6",
   "metadata": {},
   "outputs": [
    {
     "data": {
      "text/plain": [
       "<Axes: >"
      ]
     },
     "execution_count": 21,
     "metadata": {},
     "output_type": "execute_result"
    },
    {
     "data": {
      "image/png": "[encoded data removed]",
      "text/plain": [
       "<Figure size 640x480 with 1 Axes>"
      ]
     },
     "metadata": {},
     "output_type": "display_data"
    }
   ],
   "source": [
    "selected_dataframe[\"Sex\"].hist()"
   ]
  },
  {
   "cell_type": "code",
   "execution_count": 24,
   "id": "1d2d5a2f-9d0e-4582-8a60-8b73fcb518ec",
   "metadata": {},
   "outputs": [
    {
     "name": "stdout",
     "output_type": "stream",
     "text": [
      "Female 0.7284113381674358\n",
      "Male 0.27158866183256425\n"
     ]
    }
   ],
   "source": [
    "total=2210+824\n",
    "print(\"Female\", 2210/total)\n",
    "print(\"Male\", 824/total)"
   ]
  },
  {
   "cell_type": "code",
   "execution_count": null,
   "id": "d6ee049f-c4d4-4c49-9375-eafea678e70d",
   "metadata": {},
   "outputs": [],
   "source": []
  }
 ],
 "metadata": {
  "kernelspec": {
   "display_name": "Python 3 (ipykernel)",
   "language": "python",
   "name": "python3"
  },
  "language_info": {
   "codemirror_mode": {
    "name": "ipython",
    "version": 3
   },
   "file_extension": ".py",
   "mimetype": "text/x-python",
   "name": "python",
   "nbconvert_exporter": "python",
   "pygments_lexer": "ipython3",
   "version": "3.12.7"
  }
 },
 "nbformat": 4,
 "nbformat_minor": 5
}
