{
 "cells": [
  {
   "cell_type": "markdown",
   "id": "4c5d45b1-47ce-4fb7-83be-9a669bd6f61b",
   "metadata": {},
   "source": [
    "# references\n",
    "## Q1 \n",
    "### details t-test https://www.w3schools.com/statistics/statistics_hypothesis_testing_mean_left.php\n",
    "### for calculating the critical value  https://statisticsbyjim.com/hypothesis-testing/z-table/\n",
    "## Q2\n",
    "### apply function in pandas https://www.geeksforgeeks.org/python-pandas-apply/\n",
    "### https://www.pythonfordatascience.org/chi-square-test-of-independence-python/\n",
    "### CHI-SQUARE TABLE https://math.arizona.edu/~jwatkins/chi-square-table.pdf\n",
    "### calculating CI https://stackoverflow.com/questions/15033511/compute-a-confidence-interval-from-sample-data\n",
    "## Q3\n",
    "### https://stackoverflow.com/questions/49554139/boxplot-of-multiple-columns-of-a-pandas-dataframe-on-the-same-figure-seaborn\n",
    "### https://docs.scipy.org/doc/scipy/reference/generated/scipy.stats.f_oneway.html"
   ]
  },
  {
   "cell_type": "code",
   "execution_count": 1,
   "id": "49ebcb3c-6ee6-4e9a-b88b-2dd1a92d364d",
   "metadata": {},
   "outputs": [],
   "source": [
    "# importing python libraries\n",
    "import pandas as pd\n",
    "import seaborn as sns\n",
    "import matplotlib.pyplot as plt\n",
    "import numpy as np\n",
    "import math\n",
    "import scipy.stats as stats"
   ]
  },
  {
   "cell_type": "markdown",
   "id": "43f9df23-0c70-4fba-a50c-2bb4104e6744",
   "metadata": {
    "jp-MarkdownHeadingCollapsed": true
   },
   "source": [
    "## Q1"
   ]
  },
  {
   "cell_type": "markdown",
   "id": "132f8df7-f4db-482c-9b8d-613164569453",
   "metadata": {},
   "source": [
    "1. Load the dataset Q1.csv. It contains the exam scores (in percentages) of a sample of 50 students\n",
    "from a Dublin secondary school.\n",
    "    - a) Find and comment on important summary statistics and produce an appropriate plot to\n",
    "    summarise the dataset.\n",
    "    - b) One of the teachers is concerned about the performance of the students in the school. She\n",
    "    suspects that their performance may be below the reported national average of 70%. Does\n",
    "    the data show that her concerns are justified? Use a significance level of alpha = 0.05.\n",
    "    - c) Produce and comment on an appropriate plot to illustrate your findings. \n"
   ]
  },
  {
   "cell_type": "code",
   "execution_count": 2,
   "id": "efd2b109-1f45-45e5-8d28-4b486088e291",
   "metadata": {},
   "outputs": [],
   "source": [
    "df = pd.read_csv(\"Q1.csv\")"
   ]
  },
  {
   "cell_type": "markdown",
   "id": "f7174710-e13e-4b40-b363-dba20de8eb47",
   "metadata": {
    "jp-MarkdownHeadingCollapsed": true
   },
   "source": [
    "### Q1.A)"
   ]
  },
  {
   "cell_type": "markdown",
   "id": "ddd40334-ac9f-4c8e-8552-4767506a7aa4",
   "metadata": {
    "jp-MarkdownHeadingCollapsed": true
   },
   "source": [
    "#### Summary Statistics\n",
    "    - central tendency (mean, median) \n",
    "        - the class average is a little below 69, mean = 68.73\n",
    "        - half of the class is below 68.39, meadian = 68.39\n",
    "    - spread (range, standard deviation).\n",
    "        - most of the student's grades are between 62.0 and 74.6\n",
    "        - standard deviation = 9.75\n",
    "    - skewness \n",
    "        the histogram plot in section C helps us visualize that the distribution seems mostly centralized into one mean but with indication of some outliers students with skew the distributiion to the right\n",
    "    - outliers\n",
    "        - Is noticiable a group of 9 students that are way above the average with scores over 80\n",
    "        - Is noticiable a group of 9 student that are way below the average with scores below 60"
   ]
  },
  {
   "cell_type": "code",
   "execution_count": 3,
   "id": "29d94c60-1b21-4331-9838-57bd9d912741",
   "metadata": {},
   "outputs": [
    {
     "data": {
      "text/html": [
       "<div>\n",
       "<style scoped>\n",
       "    .dataframe tbody tr th:only-of-type {\n",
       "        vertical-align: middle;\n",
       "    }\n",
       "\n",
       "    .dataframe tbody tr th {\n",
       "        vertical-align: top;\n",
       "    }\n",
       "\n",
       "    .dataframe thead th {\n",
       "        text-align: right;\n",
       "    }\n",
       "</style>\n",
       "<table border=\"1\" class=\"dataframe\">\n",
       "  <thead>\n",
       "    <tr style=\"text-align: right;\">\n",
       "      <th></th>\n",
       "      <th>exam_score</th>\n",
       "    </tr>\n",
       "  </thead>\n",
       "  <tbody>\n",
       "    <tr>\n",
       "      <th>count</th>\n",
       "      <td>50.000000</td>\n",
       "    </tr>\n",
       "    <tr>\n",
       "      <th>mean</th>\n",
       "      <td>68.735600</td>\n",
       "    </tr>\n",
       "    <tr>\n",
       "      <th>std</th>\n",
       "      <td>9.750143</td>\n",
       "    </tr>\n",
       "    <tr>\n",
       "      <th>min</th>\n",
       "      <td>48.730000</td>\n",
       "    </tr>\n",
       "    <tr>\n",
       "      <th>25%</th>\n",
       "      <td>62.040000</td>\n",
       "    </tr>\n",
       "    <tr>\n",
       "      <th>50%</th>\n",
       "      <td>68.390000</td>\n",
       "    </tr>\n",
       "    <tr>\n",
       "      <th>75%</th>\n",
       "      <td>74.630000</td>\n",
       "    </tr>\n",
       "    <tr>\n",
       "      <th>max</th>\n",
       "      <td>87.360000</td>\n",
       "    </tr>\n",
       "  </tbody>\n",
       "</table>\n",
       "</div>"
      ],
      "text/plain": [
       "       exam_score\n",
       "count   50.000000\n",
       "mean    68.735600\n",
       "std      9.750143\n",
       "min     48.730000\n",
       "25%     62.040000\n",
       "50%     68.390000\n",
       "75%     74.630000\n",
       "max     87.360000"
      ]
     },
     "execution_count": 3,
     "metadata": {},
     "output_type": "execute_result"
    }
   ],
   "source": [
    "df.describe()"
   ]
  },
  {
   "cell_type": "markdown",
   "id": "4e8acb46-877b-4123-84a1-51642a8b5d4b",
   "metadata": {},
   "source": [
    "### Q1.B)"
   ]
  },
  {
   "cell_type": "markdown",
   "id": "78a6fb86-b0d9-4a46-b45a-fd5d82237e24",
   "metadata": {},
   "source": [
    "#### We are interested in investigating if the mean parameter of the distribution of grades of the school is less than the reported national average of 70%.  \n",
    "    - This falls in the framework on testing a statistical hypothesis. (a left tailed one sample test)\n",
    "    - Following the general steps in testin statistical hypothesis : [slides class 9]\n",
    "        1. State the Null Hypothesis, H_0 and the Alternative Hypothesis\n",
    "        2. Select a suitable test and find the critifical value in order to define the rejection region\n",
    "        3. Calculate a test statistic from the data collected\n",
    "        4. Make hypothesis decision\n",
    "        5. Summarise results"
   ]
  },
  {
   "cell_type": "markdown",
   "id": "615ae183-33ce-4c17-9c1d-8feba0f55a4a",
   "metadata": {
    "jp-MarkdownHeadingCollapsed": true
   },
   "source": [
    "##### 1. a one-sample left-tailed test.\n",
    "The null hypothesis:\n",
    "\n",
    "$ H_0 $ : $ \\mu = 70 $ \n",
    "\n",
    "against\n",
    "\n",
    "$ H_1 $ : $ \\mu < 70 $"
   ]
  },
  {
   "cell_type": "markdown",
   "id": "eaea501d-ca9b-406c-87d1-1d9600c378a0",
   "metadata": {},
   "source": [
    "##### 2. We need to choosen between a z-test and a t-test. \n",
    "    - z-test is used when sigma is known or when the sample is large enough.\n",
    "    - the t-test is used when sigma is unkown and/or when the sample is small\n",
    "    - Assuming the classroom is the whole population we know the standard deviation σ\n",
    "    - based on this scenario I will use a z-test for the analysis\n",
    "    - calculating critifical value for alpha = 0.05 \n",
    "    - we can find the critical z-value from a standard normal distribution table\n",
    "    - I used https://statisticsbyjim.com/hypothesis-testing/z-table/\n",
    "    - I found the criticial value of -1.65\n"
   ]
  },
  {
   "cell_type": "markdown",
   "id": "77f4ecc3-e26f-473c-918f-a83621b62b8e",
   "metadata": {},
   "source": [
    "#### 3. Calculate a test statistic from the data collected\n",
    "$ z = \\frac{\\bar{x} - \\mu_{national}}{\\frac{\\sigma}{\\sqrt{n}}} $\n",
    "\n"
   ]
  },
  {
   "cell_type": "code",
   "execution_count": 4,
   "id": "2da61b4d-78c2-4849-888b-877653ef6cfd",
   "metadata": {},
   "outputs": [
    {
     "name": "stdout",
     "output_type": "stream",
     "text": [
      "exam_score   -0.916977\n",
      "dtype: float64\n"
     ]
    }
   ],
   "source": [
    "x_mean = df.mean()\n",
    "mu_national = 70\n",
    "sigma_classroom = df.std()\n",
    "n_sqrt = math.sqrt(len(df))\n",
    "\n",
    "z = (x_mean - mu_national)/(sigma_classroom/n_sqrt)\n",
    "print(z)"
   ]
  },
  {
   "cell_type": "markdown",
   "id": "f4de1d80-4bed-4d94-9548-740d3370fd83",
   "metadata": {},
   "source": [
    "#### 4. Make hypothesis decision\n",
    "    - The calculated z critical value was -1.65\n",
    "    - The calculated z test statistic was -0.916\n",
    "    - Since the z test statistic falls in the rejection region, we can reject the null Hypothesis"
   ]
  },
  {
   "cell_type": "markdown",
   "id": "87496650-60b9-4aec-ac7d-8b5e090fec34",
   "metadata": {},
   "source": [
    "#### 5. Summarize Results\n",
    "There is enough evidence to support the claim that the classroom average is below the national average of 70.\n",
    "The data show evidence to justify the concerns of the teacher."
   ]
  },
  {
   "cell_type": "markdown",
   "id": "1fcda6e3-9a18-429f-80db-90cbd1d29459",
   "metadata": {
    "jp-MarkdownHeadingCollapsed": true
   },
   "source": [
    "### Q1.C)"
   ]
  },
  {
   "cell_type": "code",
   "execution_count": 5,
   "id": "b35442ae-4ee9-406c-9f4a-cc88fa57b753",
   "metadata": {},
   "outputs": [
    {
     "data": {
      "image/png": "[encoded data removed]",
      "text/plain": [
       "<Figure size 1400x600 with 2 Axes>"
      ]
     },
     "metadata": {},
     "output_type": "display_data"
    }
   ],
   "source": [
    "# Plotting the data boxplot and histogram  together in two subplots\n",
    "\n",
    "fig, axes = plt.subplots(1, 2, figsize=(14, 6))  # Adjust figsize as needed\n",
    "\n",
    "# Calculate the quantiles and plot the boxplot and histogram\n",
    "quantiles = np.percentile(df, [25, 50, 75], axis=0)\n",
    "sns.boxplot(data=df, ax=axes[0])\n",
    "df.hist(bins=10, ax=axes[1])\n",
    "\n",
    "\n",
    "# Loop through the quantiles list and write then as a text in the plot\n",
    "for i, q in enumerate(quantiles):\n",
    "    rounded_q = round(q[0],1)\n",
    "    axes[0].text(x=-0.4, y=q, s=f'{rounded_q}', horizontalalignment='center', verticalalignment='center', \n",
    "                 fontsize=10, color='red')\n",
    "\n",
    "\n",
    "\n",
    "# Adjust and show the two plots\n",
    "plt.tight_layout()\n",
    "plt.show()"
   ]
  },
  {
   "cell_type": "markdown",
   "id": "9b137da3-52e4-4cef-9b22-6cb05a707ed3",
   "metadata": {
    "jp-MarkdownHeadingCollapsed": true
   },
   "source": [
    "## Q2"
   ]
  },
  {
   "cell_type": "markdown",
   "id": "37d5e1ca-624a-4a25-a84c-9723c06020ac",
   "metadata": {},
   "source": [
    "2. Load the diamonds dataset, and print the first 5 rows.\n",
    "   - The color variable refers to the colour of the diamond, with categories from “D” to “J”.\n",
    "   - Colourless diamonds are considered better than diamonds with a yellow tint.\n",
    "   - Diamonds from “D” to “F” are considered colourless, and diamonds from colour “G” to “J” are not considered colourless (that is, they have a very faint colour).\n",
    "   - a. Create a new binary variable in the dataframe called “colourless” which records 1 in rows\n",
    "    with colourless diamonds and 0 otherwise.\n",
    "   - b. Perform an appropriate hypothesis test to determine whether there is any association\n",
    "    between the clarity of a diamond and whether it is colourless or not. Use a significance\n",
    "    level of alpha = 0.01.\n",
    "   - c. Produce and comment on an appropriate plot to illustrate your findings.\n",
    "   - d. Find and interpret 90% confidence intervals for both the mean price of colourless diamonds\n",
    "    and the mean price of non-colourless diamonds. \n"
   ]
  },
  {
   "cell_type": "code",
   "execution_count": 6,
   "id": "53da9bb5-8256-439b-8353-1db873e22534",
   "metadata": {},
   "outputs": [],
   "source": [
    "df = pd.read_csv(\"diamonds.csv\")"
   ]
  },
  {
   "cell_type": "code",
   "execution_count": 7,
   "id": "604c9a61-b1a7-45d6-803c-36055e90443f",
   "metadata": {},
   "outputs": [
    {
     "data": {
      "text/html": [
       "<div>\n",
       "<style scoped>\n",
       "    .dataframe tbody tr th:only-of-type {\n",
       "        vertical-align: middle;\n",
       "    }\n",
       "\n",
       "    .dataframe tbody tr th {\n",
       "        vertical-align: top;\n",
       "    }\n",
       "\n",
       "    .dataframe thead th {\n",
       "        text-align: right;\n",
       "    }\n",
       "</style>\n",
       "<table border=\"1\" class=\"dataframe\">\n",
       "  <thead>\n",
       "    <tr style=\"text-align: right;\">\n",
       "      <th></th>\n",
       "      <th>carat</th>\n",
       "      <th>cut</th>\n",
       "      <th>color</th>\n",
       "      <th>clarity</th>\n",
       "      <th>depth</th>\n",
       "      <th>table</th>\n",
       "      <th>price</th>\n",
       "      <th>x</th>\n",
       "      <th>y</th>\n",
       "      <th>z</th>\n",
       "    </tr>\n",
       "  </thead>\n",
       "  <tbody>\n",
       "    <tr>\n",
       "      <th>0</th>\n",
       "      <td>0.23</td>\n",
       "      <td>Ideal</td>\n",
       "      <td>E</td>\n",
       "      <td>SI2</td>\n",
       "      <td>61.5</td>\n",
       "      <td>55.0</td>\n",
       "      <td>326</td>\n",
       "      <td>3.95</td>\n",
       "      <td>3.98</td>\n",
       "      <td>2.43</td>\n",
       "    </tr>\n",
       "    <tr>\n",
       "      <th>1</th>\n",
       "      <td>0.21</td>\n",
       "      <td>Premium</td>\n",
       "      <td>E</td>\n",
       "      <td>SI1</td>\n",
       "      <td>59.8</td>\n",
       "      <td>61.0</td>\n",
       "      <td>326</td>\n",
       "      <td>3.89</td>\n",
       "      <td>3.84</td>\n",
       "      <td>2.31</td>\n",
       "    </tr>\n",
       "    <tr>\n",
       "      <th>2</th>\n",
       "      <td>0.23</td>\n",
       "      <td>Good</td>\n",
       "      <td>E</td>\n",
       "      <td>VS1</td>\n",
       "      <td>56.9</td>\n",
       "      <td>65.0</td>\n",
       "      <td>327</td>\n",
       "      <td>4.05</td>\n",
       "      <td>4.07</td>\n",
       "      <td>2.31</td>\n",
       "    </tr>\n",
       "    <tr>\n",
       "      <th>3</th>\n",
       "      <td>0.29</td>\n",
       "      <td>Premium</td>\n",
       "      <td>I</td>\n",
       "      <td>VS2</td>\n",
       "      <td>62.4</td>\n",
       "      <td>58.0</td>\n",
       "      <td>334</td>\n",
       "      <td>4.20</td>\n",
       "      <td>4.23</td>\n",
       "      <td>2.63</td>\n",
       "    </tr>\n",
       "    <tr>\n",
       "      <th>4</th>\n",
       "      <td>0.31</td>\n",
       "      <td>Good</td>\n",
       "      <td>J</td>\n",
       "      <td>SI2</td>\n",
       "      <td>63.3</td>\n",
       "      <td>58.0</td>\n",
       "      <td>335</td>\n",
       "      <td>4.34</td>\n",
       "      <td>4.35</td>\n",
       "      <td>2.75</td>\n",
       "    </tr>\n",
       "  </tbody>\n",
       "</table>\n",
       "</div>"
      ],
      "text/plain": [
       "   carat      cut color clarity  depth  table  price     x     y     z\n",
       "0   0.23    Ideal     E     SI2   61.5   55.0    326  3.95  3.98  2.43\n",
       "1   0.21  Premium     E     SI1   59.8   61.0    326  3.89  3.84  2.31\n",
       "2   0.23     Good     E     VS1   56.9   65.0    327  4.05  4.07  2.31\n",
       "3   0.29  Premium     I     VS2   62.4   58.0    334  4.20  4.23  2.63\n",
       "4   0.31     Good     J     SI2   63.3   58.0    335  4.34  4.35  2.75"
      ]
     },
     "execution_count": 7,
     "metadata": {},
     "output_type": "execute_result"
    }
   ],
   "source": [
    "df.head(5)"
   ]
  },
  {
   "cell_type": "code",
   "execution_count": 8,
   "id": "ce9ae88c-661a-4bef-8c08-c8ee08ef21bf",
   "metadata": {},
   "outputs": [
    {
     "data": {
      "text/plain": [
       "color\n",
       "G    11292\n",
       "E     9797\n",
       "F     9542\n",
       "H     8304\n",
       "D     6775\n",
       "I     5422\n",
       "J     2808\n",
       "Name: count, dtype: int64"
      ]
     },
     "execution_count": 8,
     "metadata": {},
     "output_type": "execute_result"
    }
   ],
   "source": [
    "df[\"color\"].value_counts()"
   ]
  },
  {
   "cell_type": "code",
   "execution_count": 9,
   "id": "1d7b595c-bf39-4ca0-bb87-1d44413df469",
   "metadata": {},
   "outputs": [
    {
     "data": {
      "text/plain": [
       "clarity\n",
       "SI1     13065\n",
       "VS2     12258\n",
       "SI2      9194\n",
       "VS1      8171\n",
       "VVS2     5066\n",
       "VVS1     3655\n",
       "IF       1790\n",
       "I1        741\n",
       "Name: count, dtype: int64"
      ]
     },
     "execution_count": 9,
     "metadata": {},
     "output_type": "execute_result"
    }
   ],
   "source": [
    "df[\"clarity\"].value_counts()"
   ]
  },
  {
   "cell_type": "markdown",
   "id": "a6cc2c75-a9cd-4293-9a1a-499d74eec35d",
   "metadata": {},
   "source": [
    "### Q2.A "
   ]
  },
  {
   "cell_type": "markdown",
   "id": "efb2ab69-8bb2-4bff-b396-24917d2188c3",
   "metadata": {},
   "source": [
    "#### To create a binary value we need to map the letters to 1 if is colorless and 0 otherwise\n",
    "    - \"D\", \"E\", \"F\" are considered colorless\n",
    "    - \"G\", \"H\", \"I\", \"J\" are considered colorful\n",
    "    - for that we apply a function in the pandas \"color\" column"
   ]
  },
  {
   "cell_type": "code",
   "execution_count": 10,
   "id": "6c4df6dd-1383-4d7b-99a3-062aeb844bde",
   "metadata": {},
   "outputs": [],
   "source": [
    "def convert_to_colorless(color):\n",
    "    if color == \"D\" or color == \"E\" or color == \"F\":\n",
    "        return 1\n",
    "    else:\n",
    "        return 0\n",
    "df[\"colorless\"] = df[\"color\"].apply(convert_to_colorless)"
   ]
  },
  {
   "cell_type": "markdown",
   "id": "fdd7c05c-e5a7-4509-9c7c-7b0e9fcd3af1",
   "metadata": {},
   "source": [
    "### Q2.B"
   ]
  },
  {
   "cell_type": "markdown",
   "id": "4626bcf3-be63-4619-87de-610fd44319d3",
   "metadata": {},
   "source": [
    "#### Both colorless and clarity are categorical variables. So we are interested in testing if there are significant association between their values. We could use the Chi-Square test of independence for that.\n",
    "    - This again falls in the framework on testing a statistical hypothesis.\n",
    "    - Following the general steps in testing statistical hypothesis :\n",
    "        1. State the Null Hypothesis, H_0 and the Alternative Hypothesis\n",
    "        2. Select a suitable test and find the critifical value in order to define the rejection region\n",
    "        3. Calculate a test statistic from the data collected\n",
    "        4. Make hypothesis decision\n",
    "        5. Summarise results"
   ]
  },
  {
   "cell_type": "markdown",
   "id": "57fd0d99-caa8-4ddb-835b-a15b9a59442d",
   "metadata": {},
   "source": [
    "#### 1. A Chi-Square test of independence\n",
    "The null hypothesis:\n",
    "\n",
    "$ H_0 : $ there is no association between the clarity of a diamond\n",
    "\n",
    "against\n",
    "\n",
    "$ H_1 : $ there is association between the clarity of a diamond and if it is colorless"
   ]
  },
  {
   "cell_type": "markdown",
   "id": "46f0dbfe-1cbd-4f27-82bc-445f704ed5a2",
   "metadata": {},
   "source": [
    "#### 2.Finding the critical value\n",
    "\n",
    "To establish the critical value for an alpha = 0.01 we need to calculate the degree of freedom of the distribution which is the product of unique independent values in each category. It is nothing more than the number of unique values minus 1\n",
    "for the colorless column we have (2 - 1) unique independent values\n",
    "for the clarity column we have (8 - 1) unique independent values\n",
    "$ df = (1) * (7) = 7$ and $ \\alpha = 0.01 $\n",
    "\n",
    "- looking on the chi square table for 7 degrees of freedom and alpha 0.01 https://math.arizona.edu/~jwatkins/chi-square-table.pdf\n",
    "- I found the critical value 18.475\n",
    "- We would reject $ H_0 $ if our statistic is greater than 18.475\n"
   ]
  },
  {
   "cell_type": "markdown",
   "id": "2e082908-4a33-40ad-8470-727925c32166",
   "metadata": {},
   "source": [
    "#### 3. Calculating the test statistic\n",
    "Calculating the X_squared test statistic involves calculating the pairwise ocurrence for each pair of values\n",
    "for the combination of the two columns. This is represented as a contigency table.\n",
    "We can use the crosstab function in pandas that take the two columns as input and calculate their pairwise frequencies.\n",
    "For calculating the X_squared statistic we can feed the frequencies tables to the scipy chi2_contigency function which calculates the expected probabilities, the X_squared statistic and the p-value of the statistic (which is different from our critical value p-value).\n",
    "\n",
    "$ \\chi^2 = \\sum \\frac{(O_{ij} - E_{ij})^2}{E_{ij}} $\n",
    "\n",
    "where i and j are for each row and column of values in the contigency table.\n",
    "$ O_{ij} $ is the frequencies observed in dataset and $ E_{ij} $ is the expected frequency under the $ H_0 $ Assumption"
   ]
  },
  {
   "cell_type": "code",
   "execution_count": 11,
   "id": "6848176b-ba52-449f-acc4-0790b1688526",
   "metadata": {},
   "outputs": [],
   "source": [
    "contigency_table = pd.crosstab(df[\"clarity\"],df[\"colorless\"])"
   ]
  },
  {
   "cell_type": "code",
   "execution_count": 12,
   "id": "797a1118-dd86-4af2-919a-5b93d8a3f83e",
   "metadata": {},
   "outputs": [
    {
     "data": {
      "text/html": [
       "<div>\n",
       "<style scoped>\n",
       "    .dataframe tbody tr th:only-of-type {\n",
       "        vertical-align: middle;\n",
       "    }\n",
       "\n",
       "    .dataframe tbody tr th {\n",
       "        vertical-align: top;\n",
       "    }\n",
       "\n",
       "    .dataframe thead th {\n",
       "        text-align: right;\n",
       "    }\n",
       "</style>\n",
       "<table border=\"1\" class=\"dataframe\">\n",
       "  <thead>\n",
       "    <tr style=\"text-align: right;\">\n",
       "      <th>colorless</th>\n",
       "      <th>0</th>\n",
       "      <th>1</th>\n",
       "    </tr>\n",
       "    <tr>\n",
       "      <th>clarity</th>\n",
       "      <th></th>\n",
       "      <th></th>\n",
       "    </tr>\n",
       "  </thead>\n",
       "  <tbody>\n",
       "    <tr>\n",
       "      <th>I1</th>\n",
       "      <td>454</td>\n",
       "      <td>287</td>\n",
       "    </tr>\n",
       "    <tr>\n",
       "      <th>IF</th>\n",
       "      <td>1174</td>\n",
       "      <td>616</td>\n",
       "    </tr>\n",
       "    <tr>\n",
       "      <th>SI1</th>\n",
       "      <td>6425</td>\n",
       "      <td>6640</td>\n",
       "    </tr>\n",
       "    <tr>\n",
       "      <th>SI2</th>\n",
       "      <td>4502</td>\n",
       "      <td>4692</td>\n",
       "    </tr>\n",
       "    <tr>\n",
       "      <th>VS1</th>\n",
       "      <td>4821</td>\n",
       "      <td>3350</td>\n",
       "    </tr>\n",
       "    <tr>\n",
       "      <th>VS2</th>\n",
       "      <td>5890</td>\n",
       "      <td>6368</td>\n",
       "    </tr>\n",
       "    <tr>\n",
       "      <th>VVS1</th>\n",
       "      <td>2013</td>\n",
       "      <td>1642</td>\n",
       "    </tr>\n",
       "    <tr>\n",
       "      <th>VVS2</th>\n",
       "      <td>2547</td>\n",
       "      <td>2519</td>\n",
       "    </tr>\n",
       "  </tbody>\n",
       "</table>\n",
       "</div>"
      ],
      "text/plain": [
       "colorless     0     1\n",
       "clarity              \n",
       "I1          454   287\n",
       "IF         1174   616\n",
       "SI1        6425  6640\n",
       "SI2        4502  4692\n",
       "VS1        4821  3350\n",
       "VS2        5890  6368\n",
       "VVS1       2013  1642\n",
       "VVS2       2547  2519"
      ]
     },
     "execution_count": 12,
     "metadata": {},
     "output_type": "execute_result"
    }
   ],
   "source": [
    "contigency_table"
   ]
  },
  {
   "cell_type": "code",
   "execution_count": 13,
   "id": "8fa4f9d7-1ad8-45b0-bfd1-c24de33125d4",
   "metadata": {},
   "outputs": [
    {
     "name": "stdout",
     "output_type": "stream",
     "text": [
      "486.47305941485223 6.481587124454715e-101\n"
     ]
    }
   ],
   "source": [
    "X_squared_statistic, pvalue, dof, expected = stats.chi2_contingency(contigency_table)\n",
    "print(X_squared_statistic, pvalue)"
   ]
  },
  {
   "cell_type": "markdown",
   "id": "f8ae83ec-f183-4429-8cc1-69860e29aead",
   "metadata": {},
   "source": [
    "#### 4. Make hypothesis decision\n",
    "    - The calculated critical value was 18.475\n",
    "    - The calculated Chi squared statistic was 486.47\n",
    "    - Since the Chi squared statistic falls in the rejection region, we can reject the null Hypothesis\n",
    "    - It is noticiable that the value of the statistic is very high, we indicates a very confident rejection of the null hypothesis"
   ]
  },
  {
   "cell_type": "markdown",
   "id": "45581799-9705-463e-9c5e-1fec887c1498",
   "metadata": {},
   "source": [
    "#### 5. Summary of results\n",
    "From the evidence of the test hypothesis we can confidently reject $ H_0 $ that there is no association between the clarity of a diamond"
   ]
  },
  {
   "cell_type": "markdown",
   "id": "598d347c-76a2-47fc-b867-5bc46486cfbf",
   "metadata": {
    "jp-MarkdownHeadingCollapsed": true
   },
   "source": [
    "### Q2.C"
   ]
  },
  {
   "cell_type": "markdown",
   "id": "a298d5f5-0b6d-4202-aa59-28b08d76fa6e",
   "metadata": {},
   "source": [
    "The intuition is to show that for most of the clarity categories there are a\n",
    "disproportion in the colorless/colorful values.\n",
    "\n",
    "The stacked bar in percentages is a good visualization for that since it sums up to 100% for each category enabling it to easily compare the proportions across the clarity categories.\n",
    "\n",
    "The stacked bar helps us to visualize that:\n",
    "    - the less clear clarity group (\"I1\" and \"If\") have higher percentages of Colorless diamond\n",
    "    - SI1 , SI2 and VS2 have proportions close to 50%\n",
    "    - VS1 and VVS1 also have higher percentages of Colorless diamonds but not as high as the less clear clarity group"
   ]
  },
  {
   "cell_type": "code",
   "execution_count": 14,
   "id": "52634248-d04d-47c3-ab16-1dc06d8ff260",
   "metadata": {},
   "outputs": [
    {
     "data": {
      "image/png": "[encoded data removed]",
      "text/plain": [
       "<Figure size 800x600 with 1 Axes>"
      ]
     },
     "metadata": {},
     "output_type": "display_data"
    }
   ],
   "source": [
    "# Plot the stacked bar chart\n",
    "# Calculate row percentages\n",
    "row_totals = contigency_table.sum(axis=1)  # Sum of each row\n",
    "percentage_table = contigency_table.div(row_totals, axis=0) * 100  # Convert to percentages\n",
    "\n",
    "percentage_table.plot(kind='bar', stacked=True, figsize=(8, 6), colormap='magma')\n",
    "plt.title('Stacked Percentage Bar Chart: Clarity vs Colorless Status')\n",
    "plt.xlabel('Clarity')\n",
    "plt.ylabel('Percentage')\n",
    "plt.legend(title='Colorless', labels=['Colorless (1)', 'Colorful (0)'])\n",
    "plt.yticks(range(0, 105, 5))\n",
    "plt.show()\n"
   ]
  },
  {
   "cell_type": "markdown",
   "id": "2ba8144d-6a84-4ca8-8da3-7944c0496eba",
   "metadata": {
    "jp-MarkdownHeadingCollapsed": true
   },
   "source": [
    "### Q2.D"
   ]
  },
  {
   "cell_type": "markdown",
   "id": "a1582d49-cc7b-448f-9431-401adb20e2fa",
   "metadata": {},
   "source": [
    "The Confidence Interval is a measure of the sample that tells an interval of values in which our target statistic is likely to be in with certain probability.\n",
    "\n",
    "Using the scipy t-distribution interval\n",
    "\n",
    "After calculating the CI for both groups (colorless, colorful) we have evidence that the mean price of colorless diamonds are lower than the colorful diamonds:\n",
    "    - CI for colorful mean price : (4448.778068284649, 4533.682076903305)\n",
    "    - CI for colorless mean price : (3293.937840660912, 3381.580961514166)"
   ]
  },
  {
   "cell_type": "code",
   "execution_count": 15,
   "id": "a030f700-dede-46d2-aadb-3b24d7d1dad8",
   "metadata": {},
   "outputs": [
    {
     "name": "stdout",
     "output_type": "stream",
     "text": [
      "mean price for colorful diamonds 4491.230072593977\n",
      "mean price for colorless diamonds 3337.759401087539\n"
     ]
    }
   ],
   "source": [
    "colorful_df = df[df[\"colorless\"] == 0]\n",
    "n_colorful = len(colorful_df)\n",
    "colorful_mean = colorful_df[\"price\"].mean()\n",
    "colorful_std = colorful_df[\"price\"].std()\n",
    "colorful_SE = colorful_std/math.sqrt(n_colorful)\n",
    "\n",
    "colorless_df = df[df[\"colorless\"] == 1]\n",
    "n_colorless = len(colorless_df)\n",
    "colorless_mean = colorless_df[\"price\"].mean()\n",
    "colorless_std = colorless_df[\"price\"].std()\n",
    "colorless_SE = colorful_std/math.sqrt(n_colorless)\n",
    "\n",
    "print(\"mean price for colorful diamonds\",colorful_mean)\n",
    "print(\"mean price for colorless diamonds\",colorless_mean)"
   ]
  },
  {
   "cell_type": "code",
   "execution_count": 16,
   "id": "ed28b6e5-c41d-43fd-9313-38712042c679",
   "metadata": {},
   "outputs": [
    {
     "name": "stdout",
     "output_type": "stream",
     "text": [
      "CI for colorful mean price : (4448.778068284649, 4533.682076903305)\n",
      "CI for colorless mean price : (3293.937840660912, 3381.580961514166)\n"
     ]
    }
   ],
   "source": [
    "CI_colorful = stats.t.interval(0.90, n_colorful-1, loc=colorful_mean, scale=colorful_SE)\n",
    "print(\"CI for colorful mean price :\",CI_colorful)\n",
    "CI_colorless = stats.t.interval(0.90, n_colorless-1, loc=colorless_mean, scale=colorless_SE)\n",
    "print(\"CI for colorless mean price :\",CI_colorless)"
   ]
  },
  {
   "cell_type": "markdown",
   "id": "3d573cf9-8233-43f7-995f-fedc93f542a7",
   "metadata": {},
   "source": [
    "## Q3"
   ]
  },
  {
   "cell_type": "markdown",
   "id": "14b1e69a-2eb2-49c0-90c7-6089469528c1",
   "metadata": {},
   "source": [
    "3. Load the PlantGrowth dataset from the pydataset library.\n",
    "    -It contains the results of a small study comparing the yields of plants obtained under a control and under two different treatment\n",
    "conditions.\n",
    "    - a. Find and comment on important summary statistics by treatment and produce an appropriate plot to summarise the dataset.\n",
    "    - b. Conduct an appropriate hypothesis test to see if there is evidence of a difference between the three means (that is, the control and the two treatments). Use a significance level of alpha = 0.05.\n",
    "    - c. If there is evidence of a difference between the three means, find and comment on where this difference may be."
   ]
  },
  {
   "cell_type": "code",
   "execution_count": 17,
   "id": "44196a00-5502-4e35-bb37-6275541ddced",
   "metadata": {},
   "outputs": [
    {
     "name": "stdout",
     "output_type": "stream",
     "text": [
      "loading dataset\n"
     ]
    }
   ],
   "source": [
    "from pydataset import data\n",
    "\n",
    "plant_growth_df = data('PlantGrowth')\n",
    "print(\"loading dataset\")"
   ]
  },
  {
   "cell_type": "code",
   "execution_count": 18,
   "id": "94455302-7bfc-49b3-bd78-381a797b9e1d",
   "metadata": {},
   "outputs": [
    {
     "name": "stdout",
     "output_type": "stream",
     "text": [
      "Index(['weight', 'group'], dtype='object')\n"
     ]
    }
   ],
   "source": [
    "print(plant_growth_df.columns)"
   ]
  },
  {
   "cell_type": "code",
   "execution_count": 19,
   "id": "d10dabc1-8fd2-487e-99ec-9d42122e27a6",
   "metadata": {},
   "outputs": [
    {
     "data": {
      "text/plain": [
       "group\n",
       "ctrl    10\n",
       "trt1    10\n",
       "trt2    10\n",
       "Name: count, dtype: int64"
      ]
     },
     "execution_count": 19,
     "metadata": {},
     "output_type": "execute_result"
    }
   ],
   "source": [
    "plant_growth_df['group'].value_counts()"
   ]
  },
  {
   "cell_type": "markdown",
   "id": "0dfd12f7-e870-4cef-a35f-ab948719c3a8",
   "metadata": {},
   "source": [
    "### Q3.A"
   ]
  },
  {
   "cell_type": "code",
   "execution_count": 20,
   "id": "a5b59207-f2bb-45b3-8d4e-bd4d66356799",
   "metadata": {},
   "outputs": [],
   "source": [
    "group_ctrl_df = plant_growth_df[ plant_growth_df['group'] == \"ctrl\"]\n",
    "group_trt1_df = plant_growth_df[ plant_growth_df['group'] == \"trt1\"]\n",
    "group_trt2_df = plant_growth_df[ plant_growth_df['group'] == \"trt2\"]"
   ]
  },
  {
   "cell_type": "code",
   "execution_count": 21,
   "id": "c061473a-9d17-454f-9b04-c907914bf0f5",
   "metadata": {},
   "outputs": [
    {
     "name": "stdout",
     "output_type": "stream",
     "text": [
      "            ctrl       trt1       trt2\n",
      "count  10.000000  10.000000  10.000000\n",
      "mean    5.032000   4.661000   5.526000\n",
      "std     0.583091   0.793676   0.442573\n",
      "min     4.170000   3.590000   4.920000\n",
      "25%     4.550000   4.207500   5.267500\n",
      "50%     5.155000   4.550000   5.435000\n",
      "75%     5.292500   4.870000   5.735000\n",
      "max     6.110000   6.030000   6.310000\n"
     ]
    }
   ],
   "source": [
    "summary_table = pd.concat([group_ctrl_df.describe(),group_trt1_df.describe(),group_trt2_df.describe()],axis=1)\n",
    "summary_table.columns = [\"ctrl\",\"trt1\",\"trt2\"]\n",
    "print(summary_table)"
   ]
  },
  {
   "cell_type": "code",
   "execution_count": 22,
   "id": "729b45f7-7565-4227-ab11-8452fcc88c5e",
   "metadata": {},
   "outputs": [
    {
     "data": {
      "image/png": "[encoded data removed]",
      "text/plain": [
       "<Figure size 640x480 with 1 Axes>"
      ]
     },
     "metadata": {},
     "output_type": "display_data"
    }
   ],
   "source": [
    "sns.boxplot(x=\"group\", y=\"weight\", data=plant_growth_df)\n",
    "plt.show()\n"
   ]
  },
  {
   "cell_type": "markdown",
   "id": "14c93368-0b3c-49b3-b467-2f640c2fd865",
   "metadata": {},
   "source": [
    "##### Find and comment on important summary statistics by treatment and produce an appropriate plot to summarise the dataset.\n",
    "\n",
    "- Treament 1 seems to have reduced the mean and median weight (4.66 and 4.55) of the plants in comparison both to the control group (5.032000 and 5.155000) and treatment2 (5.526000 and 5.435000).\n",
    "- Treatment 2 seems to have 2 outliers which results in a much higher standard deviaton than the control group and the treatment 2.\n",
    "- Treament 2 seems to have increased the mean and median weight(5.526000 and 5.435000) in comparison to the control group (5.032000 and 5.155000).\n",
    "- Treament 2 also has a lower standard deviation than the other two groups.\n"
   ]
  },
  {
   "cell_type": "markdown",
   "id": "21410665-7b6a-41ad-a441-a7051cdb1789",
   "metadata": {},
   "source": [
    "### Q3.B"
   ]
  },
  {
   "cell_type": "markdown",
   "id": "3ab0b679-beb9-4504-9b14-66c73a49c390",
   "metadata": {},
   "source": [
    "#### To test the hypothesis that the three groups have significant differents in their mean, involves testing :\n",
    "    - Following the general steps in testing statistical hypothesis :\n",
    "        1. State the Null Hypothesis, H_0 and the Alternative Hypothesis\n",
    "        2. Select a suitable test and find the critifical value in order to define the rejection region\n",
    "        3. Calculate a test statistic from the data collected\n",
    "        4. Make hypothesis decision\n",
    "        5. Summarise results\n"
   ]
  },
  {
   "cell_type": "markdown",
   "id": "fc1b6cec-1c40-4519-ac1c-575fcdbbe8d6",
   "metadata": {},
   "source": [
    "1. The null hypothesis:\n",
    "\n",
    "$ H_0 : $ the three groups have the same population mean\n",
    "\n",
    "against\n",
    "\n",
    "$ H_1 : $ there is difference in the population mean of at least one group.\n"
   ]
  },
  {
   "cell_type": "markdown",
   "id": "0fefa88f-f919-42f9-862d-324e9c7ef0f9",
   "metadata": {},
   "source": [
    "2. The recommended test for this scenario is the one-way ANOVA tests\n",
    "Here since the calculation of the Critical Value is a little bit more complicated involving a F-distribution\n",
    "we can rely on the calculation of the p-value using scipy and compare the calculated p-value with the alpha."
   ]
  },
  {
   "cell_type": "markdown",
   "id": "de283ff7-56a1-408a-9389-5a7c694b647c",
   "metadata": {},
   "source": [
    "3. Calculate a test statistic from the data collected"
   ]
  },
  {
   "cell_type": "code",
   "execution_count": 23,
   "id": "45010485-5a39-462c-81a4-1511b2d82942",
   "metadata": {},
   "outputs": [
    {
     "name": "stdout",
     "output_type": "stream",
     "text": [
      "4.846087862380136 0.0159099583256229\n"
     ]
    }
   ],
   "source": [
    "statistic, pvalue = stats.f_oneway(group_ctrl_df[\"weight\"],group_trt1_df[\"weight\"],group_trt2_df[\"weight\"])\n",
    "print(statistic, pvalue)"
   ]
  },
  {
   "cell_type": "markdown",
   "id": "70c2c1a4-b637-42a2-8807-acae00830968",
   "metadata": {},
   "source": [
    "4. Make the hypothesis decision\n",
    "Since the p-value (0.0159) is less than α (0.05), we can reject $ H_0 $"
   ]
  },
  {
   "cell_type": "markdown",
   "id": "b8100e24-cc47-4e08-8dab-321b76c24ac7",
   "metadata": {},
   "source": [
    "5. Summarise results\n",
    "\n",
    "From the evidence of the test hypothesis we can reject $ H_0 $ that all the groups have the same populaion mean"
   ]
  },
  {
   "cell_type": "markdown",
   "id": "5aba0804-1389-4f7c-9110-88e954422090",
   "metadata": {},
   "source": [
    "### Q3.C"
   ]
  },
  {
   "cell_type": "markdown",
   "id": "15fa573a-6a2e-49b2-bfef-62f298b65dc4",
   "metadata": {},
   "source": [
    "## Q4"
   ]
  },
  {
   "cell_type": "markdown",
   "id": "c422f932-4c90-49e9-a52e-f42a832580bf",
   "metadata": {},
   "source": [
    "4. Load the trees dataset from the pydataset library.\n",
    "   It contains measurements of the diameter, height and volume of timber in 31 felled black cherry trees.\n",
    "   Note that the diameter (in inches) is labelled girth in the dataset.\n",
    "   It is measured at 4 foot 6 inches above the ground.\n",
    "   -  a. Perform a correlation analysis between all numerical variables. Include and comment on the results of hypothesis tests for the population correlation coefficients between all three pairs of variables (you can use the pearsonr function from the scipy.stats library).\n",
    "   - b. There is interest in estimating the volume of timber from trees using either the girth or the\n",
    "height of the trees, or both. Perform a regression analysis to decide which of the three possible models you would recommend using. Interpret your results and provide a short conclusion of your findings.\n"
   ]
  },
  {
   "cell_type": "code",
   "execution_count": 24,
   "id": "77a4de1f-dfed-4f11-a091-0437b28647f0",
   "metadata": {},
   "outputs": [
    {
     "name": "stdout",
     "output_type": "stream",
     "text": [
      "loading dataset\n"
     ]
    }
   ],
   "source": [
    "from pydataset import data\n",
    "trees_df = data('trees')\n",
    "print(\"loading dataset\")"
   ]
  },
  {
   "cell_type": "code",
   "execution_count": 25,
   "id": "64552dd1-55c5-4e8a-a90e-4a547c278d50",
   "metadata": {},
   "outputs": [
    {
     "data": {
      "text/html": [
       "<div>\n",
       "<style scoped>\n",
       "    .dataframe tbody tr th:only-of-type {\n",
       "        vertical-align: middle;\n",
       "    }\n",
       "\n",
       "    .dataframe tbody tr th {\n",
       "        vertical-align: top;\n",
       "    }\n",
       "\n",
       "    .dataframe thead th {\n",
       "        text-align: right;\n",
       "    }\n",
       "</style>\n",
       "<table border=\"1\" class=\"dataframe\">\n",
       "  <thead>\n",
       "    <tr style=\"text-align: right;\">\n",
       "      <th></th>\n",
       "      <th>Girth</th>\n",
       "      <th>Height</th>\n",
       "      <th>Volume</th>\n",
       "    </tr>\n",
       "  </thead>\n",
       "  <tbody>\n",
       "    <tr>\n",
       "      <th>Girth</th>\n",
       "      <td>1.000000</td>\n",
       "      <td>0.51928</td>\n",
       "      <td>0.967119</td>\n",
       "    </tr>\n",
       "    <tr>\n",
       "      <th>Height</th>\n",
       "      <td>0.519280</td>\n",
       "      <td>1.00000</td>\n",
       "      <td>0.598250</td>\n",
       "    </tr>\n",
       "    <tr>\n",
       "      <th>Volume</th>\n",
       "      <td>0.967119</td>\n",
       "      <td>0.59825</td>\n",
       "      <td>1.000000</td>\n",
       "    </tr>\n",
       "  </tbody>\n",
       "</table>\n",
       "</div>"
      ],
      "text/plain": [
       "           Girth   Height    Volume\n",
       "Girth   1.000000  0.51928  0.967119\n",
       "Height  0.519280  1.00000  0.598250\n",
       "Volume  0.967119  0.59825  1.000000"
      ]
     },
     "execution_count": 25,
     "metadata": {},
     "output_type": "execute_result"
    }
   ],
   "source": [
    "trees_df.corr()\n"
   ]
  },
  {
   "cell_type": "code",
   "execution_count": 27,
   "id": "82f38920-726e-41a2-8b68-a35678a203f9",
   "metadata": {},
   "outputs": [],
   "source": [
    "# Calculate Pearson correlation coefficients and p-values for each pair of variables\n",
    "girth_height_corr, girth_height_pval = stats.pearsonr(trees_df['Girth'], trees_df['Height'])\n",
    "girth_volume_corr, girth_volume_pval = stats.pearsonr(trees_df['Girth'], trees_df['Volume'])\n",
    "height_volume_corr, height_volume_pval = stats.pearsonr(trees_df['Height'], trees_df['Volume'])"
   ]
  },
  {
   "cell_type": "code",
   "execution_count": 28,
   "id": "e8bf27a6-9854-4c0f-8aad-8829bf615fe3",
   "metadata": {},
   "outputs": [
    {
     "name": "stdout",
     "output_type": "stream",
     "text": [
      "0.5192800719499371 0.002757814793057685\n",
      "0.9671193682556305 8.6443342117705775e-19\n",
      "0.5982496519917823 0.00037838234791848544\n"
     ]
    }
   ],
   "source": [
    "print(girth_height_corr, girth_height_pval)\n",
    "print(girth_volume_corr, girth_volume_pval)\n",
    "print(height_volume_corr, height_volume_pval)"
   ]
  },
  {
   "cell_type": "code",
   "execution_count": null,
   "id": "a67a6fe5-e0ae-4d0d-be86-45b60cc32455",
   "metadata": {},
   "outputs": [],
   "source": []
  }
 ],
 "metadata": {
  "kernelspec": {
   "display_name": "Python 3 (ipykernel)",
   "language": "python",
   "name": "python3"
  },
  "language_info": {
   "codemirror_mode": {
    "name": "ipython",
    "version": 3
   },
   "file_extension": ".py",
   "mimetype": "text/x-python",
   "name": "python",
   "nbconvert_exporter": "python",
   "pygments_lexer": "ipython3",
   "version": "3.8.20"
  }
 },
 "nbformat": 4,
 "nbformat_minor": 5
}
