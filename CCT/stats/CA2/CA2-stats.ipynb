{
 "cells": [
  {
   "cell_type": "markdown",
   "id": "4c5d45b1-47ce-4fb7-83be-9a669bd6f61b",
   "metadata": {},
   "source": [
    "# references\n",
    "## Q1 \n",
    "### details t-test https://www.w3schools.com/statistics/statistics_hypothesis_testing_mean_left.php\n",
    "### for calculating the critical value  https://statisticsbyjim.com/hypothesis-testing/z-table/"
   ]
  },
  {
   "cell_type": "code",
   "execution_count": null,
   "id": "49ebcb3c-6ee6-4e9a-b88b-2dd1a92d364d",
   "metadata": {},
   "outputs": [],
   "source": [
    "# importing python libraries\n",
    "import pandas as pd\n",
    "import seaborn as sns\n",
    "import matplotlib.pyplot as plt\n",
    "import numpy as np\n",
    "import math"
   ]
  },
  {
   "cell_type": "markdown",
   "id": "43f9df23-0c70-4fba-a50c-2bb4104e6744",
   "metadata": {
    "jp-MarkdownHeadingCollapsed": true
   },
   "source": [
    "## Q1"
   ]
  },
  {
   "cell_type": "markdown",
   "id": "132f8df7-f4db-482c-9b8d-613164569453",
   "metadata": {},
   "source": [
    "1. Load the dataset Q1.csv. It contains the exam scores (in percentages) of a sample of 50 students\n",
    "from a Dublin secondary school.\n",
    "    - a) Find and comment on important summary statistics and produce an appropriate plot to\n",
    "    summarise the dataset.\n",
    "    - b) One of the teachers is concerned about the performance of the students in the school. She\n",
    "    suspects that their performance may be below the reported national average of 70%. Does\n",
    "    the data show that her concerns are justified? Use a significance level of alpha = 0.05.\n",
    "    - c) Produce and comment on an appropriate plot to illustrate your findings. \n"
   ]
  },
  {
   "cell_type": "code",
   "execution_count": 81,
   "id": "efd2b109-1f45-45e5-8d28-4b486088e291",
   "metadata": {},
   "outputs": [],
   "source": [
    "df = pd.read_csv(\"Q1.csv\")"
   ]
  },
  {
   "cell_type": "markdown",
   "id": "f7174710-e13e-4b40-b363-dba20de8eb47",
   "metadata": {},
   "source": [
    "### Q1.A)"
   ]
  },
  {
   "cell_type": "markdown",
   "id": "ddd40334-ac9f-4c8e-8552-4767506a7aa4",
   "metadata": {},
   "source": [
    "#### Summary Statistics\n",
    "    - central tendency (mean, median) \n",
    "        - the class average is a little below 69, mean = 68.73\n",
    "        - half of the class is below 68.39, meadian = 68.39\n",
    "    - spread (range, standard deviation).\n",
    "        - most of the student's grades are between 62.0 and 74.6\n",
    "        - standard deviation = 9.75\n",
    "    - skewness \n",
    "        the histogram plot in section C helps us visualize that the distribution seems mostly centralized into one mean but with indication of some outliers students with skew the distributiion to the right\n",
    "    - outliers\n",
    "        - Is noticiable a group of 9 students that are way above the average with scores over 80\n",
    "        - Is noticiable a group of 9 student that are way below the average with scores below 60"
   ]
  },
  {
   "cell_type": "code",
   "execution_count": 25,
   "id": "29d94c60-1b21-4331-9838-57bd9d912741",
   "metadata": {},
   "outputs": [
    {
     "data": {
      "text/html": [
       "<div>\n",
       "<style scoped>\n",
       "    .dataframe tbody tr th:only-of-type {\n",
       "        vertical-align: middle;\n",
       "    }\n",
       "\n",
       "    .dataframe tbody tr th {\n",
       "        vertical-align: top;\n",
       "    }\n",
       "\n",
       "    .dataframe thead th {\n",
       "        text-align: right;\n",
       "    }\n",
       "</style>\n",
       "<table border=\"1\" class=\"dataframe\">\n",
       "  <thead>\n",
       "    <tr style=\"text-align: right;\">\n",
       "      <th></th>\n",
       "      <th>exam_score</th>\n",
       "    </tr>\n",
       "  </thead>\n",
       "  <tbody>\n",
       "    <tr>\n",
       "      <th>count</th>\n",
       "      <td>50.000000</td>\n",
       "    </tr>\n",
       "    <tr>\n",
       "      <th>mean</th>\n",
       "      <td>68.735600</td>\n",
       "    </tr>\n",
       "    <tr>\n",
       "      <th>std</th>\n",
       "      <td>9.750143</td>\n",
       "    </tr>\n",
       "    <tr>\n",
       "      <th>min</th>\n",
       "      <td>48.730000</td>\n",
       "    </tr>\n",
       "    <tr>\n",
       "      <th>25%</th>\n",
       "      <td>62.040000</td>\n",
       "    </tr>\n",
       "    <tr>\n",
       "      <th>50%</th>\n",
       "      <td>68.390000</td>\n",
       "    </tr>\n",
       "    <tr>\n",
       "      <th>75%</th>\n",
       "      <td>74.630000</td>\n",
       "    </tr>\n",
       "    <tr>\n",
       "      <th>max</th>\n",
       "      <td>87.360000</td>\n",
       "    </tr>\n",
       "  </tbody>\n",
       "</table>\n",
       "</div>"
      ],
      "text/plain": [
       "       exam_score\n",
       "count   50.000000\n",
       "mean    68.735600\n",
       "std      9.750143\n",
       "min     48.730000\n",
       "25%     62.040000\n",
       "50%     68.390000\n",
       "75%     74.630000\n",
       "max     87.360000"
      ]
     },
     "execution_count": 25,
     "metadata": {},
     "output_type": "execute_result"
    }
   ],
   "source": [
    "df.describe()"
   ]
  },
  {
   "cell_type": "markdown",
   "id": "4e8acb46-877b-4123-84a1-51642a8b5d4b",
   "metadata": {},
   "source": [
    "### Q1.B)"
   ]
  },
  {
   "cell_type": "markdown",
   "id": "78a6fb86-b0d9-4a46-b45a-fd5d82237e24",
   "metadata": {},
   "source": [
    "#### We are interested in investigating if the mean parameter of the distribution of grades of the school is less than the reported national average of 70%.\n",
    "    - This falls in the framework on testing a statistical hypothesis.\n",
    "    - Following the general steps in testin statistical hypothesis : [slides class 9]\n",
    "        1. State the Null Hypothesis, H_0 and the Alternative Hypothesis\n",
    "        2. Select a suitable test and find the critifical value in order to define the rejection region\n",
    "        3. Calculate a test statistic from the data collected\n",
    "        4. Make hypothesis decision\n",
    "        5. Summarise results"
   ]
  },
  {
   "cell_type": "markdown",
   "id": "615ae183-33ce-4c17-9c1d-8feba0f55a4a",
   "metadata": {
    "jp-MarkdownHeadingCollapsed": true
   },
   "source": [
    "##### 1. The null hypothesis $ H_0 $ is that $ \\mu = 70 $ against $ H_1 $ that $ \\mu < 70 $\n",
    "##### this is a one-sample left-tailed test."
   ]
  },
  {
   "cell_type": "markdown",
   "id": "eaea501d-ca9b-406c-87d1-1d9600c378a0",
   "metadata": {},
   "source": [
    "##### 2. We need to choosen between a z-test and a t-test. \n",
    "    - z-test is used when sigma is known or when the sample is large enough.\n",
    "    - the t-test is used when sigma is unkown and/or when the sample is small\n",
    "    - Assuming the classroom is the whole population we know the standard deviation σ\n",
    "    - based on this scenario I will use a z-test for the analysis\n",
    "    - calculating critifical value for alpha = 0.05 \n",
    "    - we can find the critical z-value from a standard normal distribution table\n",
    "    - I used https://statisticsbyjim.com/hypothesis-testing/z-table/\n",
    "    - I found the criticial value of -1.65\n"
   ]
  },
  {
   "cell_type": "markdown",
   "id": "77f4ecc3-e26f-473c-918f-a83621b62b8e",
   "metadata": {},
   "source": [
    "#### 3. Calculate a test statistic from the data collected\n",
    "$ z = \\frac{\\bar{x} - \\mu_{national}}{\\frac{\\sigma}{\\sqrt{n}}} $\n",
    "\n"
   ]
  },
  {
   "cell_type": "code",
   "execution_count": 80,
   "id": "2da61b4d-78c2-4849-888b-877653ef6cfd",
   "metadata": {},
   "outputs": [
    {
     "name": "stdout",
     "output_type": "stream",
     "text": [
      "exam_score   -0.916977\n",
      "dtype: float64\n"
     ]
    }
   ],
   "source": [
    "x_mean = df.mean()\n",
    "mu_national = 70\n",
    "sigma_classroom = df.std()\n",
    "n_sqrt = math.sqrt(len(df))\n",
    "\n",
    "z = (x_mean - mu_national)/(sigma_classroom/n_sqrt)\n",
    "print(z)"
   ]
  },
  {
   "cell_type": "markdown",
   "id": "f4de1d80-4bed-4d94-9548-740d3370fd83",
   "metadata": {},
   "source": [
    "#### 4. Make hypothesis decision\n",
    "    - The calculated z critical value was -1.65\n",
    "    - The calculated z test statistic was -0.916\n",
    "    - Since the z test statistic falls in the rejection region, we can reject the null Hypothesis"
   ]
  },
  {
   "cell_type": "markdown",
   "id": "87496650-60b9-4aec-ac7d-8b5e090fec34",
   "metadata": {},
   "source": [
    "#### 5. Summarize Results\n",
    "There is enough evidence to support the claim that the classroom average is below the national average of 70.\n",
    "The data show evidence to justify the concerns of the teacher."
   ]
  },
  {
   "cell_type": "markdown",
   "id": "1fcda6e3-9a18-429f-80db-90cbd1d29459",
   "metadata": {},
   "source": [
    "### Q1.C)"
   ]
  },
  {
   "cell_type": "code",
   "execution_count": 61,
   "id": "b35442ae-4ee9-406c-9f4a-cc88fa57b753",
   "metadata": {},
   "outputs": [
    {
     "data": {
      "image/png": "[encoded data removed]",
      "text/plain": [
       "<Figure size 1400x600 with 2 Axes>"
      ]
     },
     "metadata": {},
     "output_type": "display_data"
    }
   ],
   "source": [
    "# Plotting the data boxplot and histogram  together in two subplots\n",
    "\n",
    "fig, axes = plt.subplots(1, 2, figsize=(14, 6))  # Adjust figsize as needed\n",
    "\n",
    "# Calculate the quantiles and plot the boxplot and histogram\n",
    "quantiles = np.percentile(df, [25, 50, 75], axis=0)\n",
    "sns.boxplot(data=df, ax=axes[0])\n",
    "df.hist(bins=10, ax=axes[1])\n",
    "\n",
    "\n",
    "# Loop through the quantiles list and write then as a text in the plot\n",
    "for i, q in enumerate(quantiles):\n",
    "    rounded_q = round(q[0],1)\n",
    "    axes[0].text(x=-0.4, y=q, s=f'{rounded_q}', horizontalalignment='center', verticalalignment='center', \n",
    "                 fontsize=10, color='red')\n",
    "\n",
    "\n",
    "\n",
    "# Adjust and show the two plots\n",
    "plt.tight_layout()\n",
    "plt.show()"
   ]
  },
  {
   "cell_type": "markdown",
   "id": "9b137da3-52e4-4cef-9b22-6cb05a707ed3",
   "metadata": {},
   "source": [
    "## Q2"
   ]
  },
  {
   "cell_type": "code",
   "execution_count": null,
   "id": "53da9bb5-8256-439b-8353-1db873e22534",
   "metadata": {},
   "outputs": [],
   "source": []
  },
  {
   "cell_type": "markdown",
   "id": "3d573cf9-8233-43f7-995f-fedc93f542a7",
   "metadata": {},
   "source": [
    "## Q3"
   ]
  },
  {
   "cell_type": "markdown",
   "id": "15fa573a-6a2e-49b2-bfef-62f298b65dc4",
   "metadata": {},
   "source": [
    "## Q4"
   ]
  },
  {
   "cell_type": "code",
   "execution_count": null,
   "id": "14023ee2-ccea-439a-8bde-40951b75025c",
   "metadata": {},
   "outputs": [],
   "source": []
  },
  {
   "cell_type": "code",
   "execution_count": null,
   "id": "2bcc5f91-0cd7-46b2-8834-a48aad0c53f4",
   "metadata": {},
   "outputs": [],
   "source": []
  }
 ],
 "metadata": {
  "kernelspec": {
   "display_name": "Python 3 (ipykernel)",
   "language": "python",
   "name": "python3"
  },
  "language_info": {
   "codemirror_mode": {
    "name": "ipython",
    "version": 3
   },
   "file_extension": ".py",
   "mimetype": "text/x-python",
   "name": "python",
   "nbconvert_exporter": "python",
   "pygments_lexer": "ipython3",
   "version": "3.8.20"
  }
 },
 "nbformat": 4,
 "nbformat_minor": 5
}
