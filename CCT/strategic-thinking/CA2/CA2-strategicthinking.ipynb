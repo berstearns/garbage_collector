{
 "cells": [
  {
   "cell_type": "code",
   "execution_count": 67,
   "id": "af2142da-b2fa-49bd-97de-39efd185b008",
   "metadata": {},
   "outputs": [],
   "source": [
    "import pandas as pd\n",
    "import matplotlib\n",
    "import matplotlib.pyplot as plt\n",
    "import numpy as np\n",
    "# https://stackoverflow.com/questions/26873127/show-dataframe-as-table-in-ipython-notebook\n",
    "from IPython.display import display, HTML, clear_output\n"
   ]
  },
  {
   "cell_type": "markdown",
   "id": "f0d2b53c-955a-4084-a4e0-d6a6f6d10248",
   "metadata": {},
   "source": [
    "## Data Preparation"
   ]
  },
  {
   "cell_type": "code",
   "execution_count": 3,
   "id": "37acf1a6-34a7-488b-b8c6-adfa3f257214",
   "metadata": {
    "scrolled": true
   },
   "outputs": [],
   "source": [
    "# loading the dataset\n",
    "# the dataset was scraped from https://www.enforcementtracker.com/\n",
    "# and represents a public list of fines that \n",
    "# data protection authorities within the EU have imposed under the EU General Data Protection Regulation (GDPR, DSGVO).\n",
    "df = pd.read_csv(\"./dataset_final.csv\",index_col=0)"
   ]
  },
  {
   "cell_type": "code",
   "execution_count": 38,
   "id": "4f0ea1d7-09f5-4769-b651-b33cbe560567",
   "metadata": {},
   "outputs": [
    {
     "data": {
      "text/plain": [
       "0"
      ]
     },
     "execution_count": 38,
     "metadata": {},
     "output_type": "execute_result"
    }
   ],
   "source": [
    "# veryifing completely duplicated rows in the case the scraping was wrong \n",
    "df.duplicated().sum()"
   ]
  },
  {
   "cell_type": "code",
   "execution_count": 39,
   "id": "46dca3e5-06bd-4896-8314-9aaaf30bef54",
   "metadata": {},
   "outputs": [
    {
     "name": "stdout",
     "output_type": "stream",
     "text": [
      "Index(['country', 'agency', 'date_of_decision', 'fine_amount', 'controller',\n",
      "       'sector', 'list_of_quoted_articles', 'type_of_fine', 'summary_of_case',\n",
      "       'links'],\n",
      "      dtype='object')\n"
     ]
    }
   ],
   "source": [
    "# claryifying colum names\n",
    "print(df.columns)\n",
    "df.columns = ['country', 'agency', 'date_of_decision', 'fine_amount',\n",
    "       'controller', 'sector', 'list_of_quoted_articles', 'type_of_fine', 'summary_of_case',\n",
    "       'links']"
   ]
  },
  {
   "cell_type": "markdown",
   "id": "e3e15689-012f-4a36-b205-112a90beb5a3",
   "metadata": {
    "jp-MarkdownHeadingCollapsed": true
   },
   "source": [
    "### cleaning fine_amount"
   ]
  },
  {
   "cell_type": "code",
   "execution_count": 6,
   "id": "07465749-979d-4850-9d47-73fd32bedfee",
   "metadata": {},
   "outputs": [],
   "source": [
    "cleaned_df = df.copy()"
   ]
  },
  {
   "cell_type": "code",
   "execution_count": 7,
   "id": "c0a0ff59-527e-4cf5-b796-ff9c3bfb3d21",
   "metadata": {},
   "outputs": [
    {
     "name": "stdout",
     "output_type": "stream",
     "text": [
      "object\n",
      "fine_amount\n",
      "2,000        153\n",
      "5,000        128\n",
      "3,000        126\n",
      "10,000       110\n",
      "1,000        103\n",
      "            ... \n",
      "3,700,000      1\n",
      "8,300          1\n",
      "14,500         1\n",
      "20,900         1\n",
      "588            1\n",
      "Name: count, Length: 481, dtype: int64\n"
     ]
    }
   ],
   "source": [
    "print(df['fine_amount'].dtype)\n",
    "print(df['fine_amount'].value_counts())"
   ]
  },
  {
   "cell_type": "code",
   "execution_count": 8,
   "id": "92d6ecc8-fe4c-40e6-9f74-0446b6c1601d",
   "metadata": {},
   "outputs": [
    {
     "data": {
      "text/plain": [
       "141"
      ]
     },
     "execution_count": 8,
     "metadata": {},
     "output_type": "execute_result"
    }
   ],
   "source": [
    "# used snippet of code found here https://stackoverflow.com/questions/22137723/convert-number-strings-with-commas-in-pandas-dataframe-to-float\n",
    "# most of the fine amounts are in the format \"7,000\" so I replace \",\" with \"\"\n",
    "# 141 rows have a non-numeric format \n",
    "df['fine_amount'] = df['fine_amount'].str.replace(',', '')\n",
    "cleaned_df['fine_amount'] = cleaned_df['fine_amount'].str.replace(',', '')\n",
    "rows_with_nan = pd.to_numeric(df['fine_amount'], errors='coerce')\n",
    "rows_with_nan.isnull().sum()"
   ]
  },
  {
   "cell_type": "code",
   "execution_count": 9,
   "id": "886752ba-5f92-4c8a-8fb5-f33bbda23fab",
   "metadata": {},
   "outputs": [
    {
     "data": {
      "text/plain": [
       "(2454, 10)"
      ]
     },
     "execution_count": 9,
     "metadata": {},
     "output_type": "execute_result"
    }
   ],
   "source": [
    "# we have 2313 fine cases with defined numerical fine amount\n",
    "cleaned_df.shape"
   ]
  },
  {
   "cell_type": "code",
   "execution_count": 10,
   "id": "d8146296-5186-48cf-b06e-7d09dc4ab35a",
   "metadata": {},
   "outputs": [],
   "source": [
    "# https://stackoverflow.com/questions/35682719/drop-rows-with-a-question-mark-value-in-any-column-in-a-pandas-dataframe\n",
    "# Remove rows with any column having 'Unknown'\n",
    "# df_any = df[~(df == 'Unknown').any(axis=1)]\n",
    "# df_any.shape"
   ]
  },
  {
   "cell_type": "code",
   "execution_count": 11,
   "id": "54c1d885-f13e-426d-b385-56f9d2903a19",
   "metadata": {
    "scrolled": true
   },
   "outputs": [
    {
     "name": "stdout",
     "output_type": "stream",
     "text": [
      "fine_amount\n",
      "Unknown                                     96\n",
      "Fine in four-digit amount                   10\n",
      "Fine in three-digit amount                  10\n",
      "Fine in five-digit amount                    9\n",
      "Only intention to issue fine                 6\n",
      "Fine amount between EUR 100 and EUR 1000     2\n",
      "Fine amount between EUR 500 and EUR 4000     1\n",
      "Fine amount between EUR 200 and EUR 1000     1\n",
      "Fine in six-digit amount                     1\n",
      "Fine amount between EUR 400 and EUR 600      1\n",
      "Fine amount between EUR 300 and EUR 400      1\n",
      "Fine amount between EUR 50 and EUR 100       1\n",
      "Fine amount between EUR 350 and EUR 1000     1\n",
      "Fine amount between EUR 50 and EUR 800       1\n",
      "Name: count, dtype: int64\n"
     ]
    }
   ],
   "source": [
    "# There are 96 rows with Unknown fine amount\n",
    "# the other 45 rows are specified in range of value, not the actual value\n",
    "# I'll remove all of those as there no imputation that can be done\n",
    "print(df[rows_with_nan.isnull()]['fine_amount'].value_counts())\n",
    "#print(df[ df['fine_amount'] == \"Unknown\"])\n"
   ]
  },
  {
   "cell_type": "code",
   "execution_count": 12,
   "id": "2c123e58-4070-47c9-8506-42ab7a466a3d",
   "metadata": {},
   "outputs": [
    {
     "data": {
      "text/plain": [
       "(2313, 10)"
      ]
     },
     "execution_count": 12,
     "metadata": {},
     "output_type": "execute_result"
    }
   ],
   "source": [
    "# we have 2313 fine cases with defined numerical fine amount\n",
    "cleaned_df = cleaned_df[~(rows_with_nan.isnull())]\n",
    "cleaned_df['fine_amount'] = pd.to_numeric(cleaned_df['fine_amount'])\n",
    "cleaned_df.shape"
   ]
  },
  {
   "cell_type": "code",
   "execution_count": 47,
   "id": "9efde409-4609-41f3-8dcb-78cbc31634c8",
   "metadata": {
    "scrolled": true
   },
   "outputs": [
    {
     "data": {
      "text/plain": [
       "type_of_fine\n",
       "Insufficient legal basis for data processing                                         660\n",
       "Non-compliance with general data processing principles                               620\n",
       "Insufficient technical and organisational measures to ensure information security    397\n",
       "Insufficient fulfilment of data subjects rights                                      222\n",
       "Insufficient fulfilment of information obligations                                   196\n",
       "Insufficient cooperation with supervisory authority                                  124\n",
       "Insufficient fulfilment of data breach notification obligations                       46\n",
       "Insufficient involvement of data protection officer                                   22\n",
       "Unknown                                                                               14\n",
       "Insufficient data processing agreement                                                12\n",
       "Name: count, dtype: int64"
      ]
     },
     "execution_count": 47,
     "metadata": {},
     "output_type": "execute_result"
    }
   ],
   "source": [
    "cleaned_df[\"type_of_fine\"].value_counts()"
   ]
  },
  {
   "cell_type": "markdown",
   "id": "d43407e1-c9f8-4417-9af9-b88d5af68e0b",
   "metadata": {
    "jp-MarkdownHeadingCollapsed": true
   },
   "source": [
    "### cleaning list of quoted articles"
   ]
  },
  {
   "cell_type": "code",
   "execution_count": 13,
   "id": "49ae839c-5500-4c1e-95bd-15b27a5af49a",
   "metadata": {
    "scrolled": true
   },
   "outputs": [
    {
     "name": "stdout",
     "output_type": "stream",
     "text": [
      "(42, 10)\n"
     ]
    }
   ],
   "source": [
    "print(cleaned_df[cleaned_df[\"list_of_quoted_articles\"] == \"Unknown\"].shape)"
   ]
  },
  {
   "cell_type": "code",
   "execution_count": 46,
   "id": "f8abc997-b90a-4998-998c-9e116176871c",
   "metadata": {},
   "outputs": [
    {
     "name": "stdout",
     "output_type": "stream",
     "text": [
      "  cleaned_quoted_articles                            list_of_quoted_articles\n",
      "0       {'32', '5', '33'}  Art. 5 (1) f) GDPR, Art. 32 (1) GDPR, Art. 33 ...\n",
      "1                   {'6'}                                        Art. 6 GDPR\n",
      "2            {'24', '32'}                         Art. 32 GDPR, Art. 24 GDPR\n",
      "3  {'34', '33', '6', '9'}  Art. 6 (1) GDPR, Art. 9 (1) GDPR, Art. 33 (1) ...\n",
      "4                  {'32'}                                   Art. 32 (1) GDPR\n"
     ]
    }
   ],
   "source": [
    "# using example from https://www.geeksforgeeks.org/python-pandas-apply/\n",
    "#print(cleaned_df[\"list_of_quoted_articles\"].unique()[0].count(\"Art.\"))\n",
    "#for list_of_articles in cleaned_df[\"list_of_quoted_articles\"].unique():\n",
    "#   [[v for v in art.split(\" \") if v][0] for art in list_of_articles.split(\"Art.\") if len(art) > 0]\n",
    "#    input()\n",
    "# ['', ' 5 (1) f) GDPR, ', ' 32 (1) GDPR, ', ' 33 (1), (5) GDPR']\n",
    "def clean_list(quoted_articles):\n",
    "    articles = []\n",
    "    if quoted_articles == \"Unknown\":\n",
    "        return \"{}\"\n",
    "    for article in quoted_articles.split(\"Art.\"):\n",
    "        if article == '' or len(article) < 2:\n",
    "            continue\n",
    "        parts = [v for v in article.strip().split(\" \") if v]\n",
    "        article_number =  parts[0]\n",
    "        articles.append(article_number)\n",
    "    return str(set(articles))\n",
    "cleaned_df[\"cleaned_quoted_articles\"] = cleaned_df[\"list_of_quoted_articles\"].apply(clean_list)\n",
    "\n",
    "print(cleaned_df[[\"cleaned_quoted_articles\",\"list_of_quoted_articles\"]].head(5))"
   ]
  },
  {
   "cell_type": "code",
   "execution_count": 15,
   "id": "9d5b5ca9-1612-4a9a-99f0-1442fd59ac63",
   "metadata": {},
   "outputs": [
    {
     "name": "stdout",
     "output_type": "stream",
     "text": [
      "0    Art. 5 (1) f) GDPR, Art. 32 (1) GDPR, Art. 33 ...\n",
      "1                                          Art. 6 GDPR\n",
      "2                           Art. 32 GDPR, Art. 24 GDPR\n",
      "3    Art. 6 (1) GDPR, Art. 9 (1) GDPR, Art. 33 (1) ...\n",
      "4                                     Art. 32 (1) GDPR\n",
      "Name: list_of_quoted_articles, dtype: object\n",
      "0         {'32', '5', '33'}\n",
      "1                     {'6'}\n",
      "2              {'24', '32'}\n",
      "3    {'34', '33', '6', '9'}\n",
      "4                    {'32'}\n",
      "Name: cleaned_quoted_articles, dtype: object\n"
     ]
    }
   ],
   "source": [
    "print(cleaned_df[\"list_of_quoted_articles\"].head())\n",
    "print(cleaned_df[\"cleaned_quoted_articles\"].head())"
   ]
  },
  {
   "cell_type": "code",
   "execution_count": 53,
   "id": "420c54ea-55eb-4201-964f-59198b149f94",
   "metadata": {},
   "outputs": [
    {
     "name": "stdout",
     "output_type": "stream",
     "text": [
      "Art. 25 (1) GDPR, Art. 32 (1) b) GDPR, Art. 32 (2) GDPR\n",
      "{'32', '25'}\n"
     ]
    }
   ],
   "source": [
    "print(cleaned_df[\"list_of_quoted_articles\"].iloc[789])\n",
    "print(cleaned_df[\"cleaned_quoted_articles\"].iloc[789])"
   ]
  },
  {
   "cell_type": "markdown",
   "id": "aaccbad2-04ef-400e-a5a8-66c2471bba33",
   "metadata": {
    "jp-MarkdownHeadingCollapsed": true
   },
   "source": [
    "### Creating Feature number of cited articles"
   ]
  },
  {
   "cell_type": "code",
   "execution_count": 19,
   "id": "ce0815f8-aa11-4938-917b-20e95e635965",
   "metadata": {},
   "outputs": [],
   "source": [
    "#[quoted_articles.split(\",\") for quoted_articles in cleaned_df[\"list_of_quoted_articles\"].value_counts().keys()]\n",
    "def len_list(quoted_articles):\n",
    "    return len(quoted_articles)\n",
    "cleaned_df[\"n_quoted_articles\"] = cleaned_df[\"list_of_quoted_articles\"].apply(len_list)"
   ]
  },
  {
   "cell_type": "markdown",
   "id": "e9674256-fb6f-4a25-9043-817314f52365",
   "metadata": {
    "jp-MarkdownHeadingCollapsed": true
   },
   "source": [
    "### Creating Feature year of decision"
   ]
  },
  {
   "cell_type": "code",
   "execution_count": 20,
   "id": "27988d7e-16eb-472e-a65f-e0c16f6d1b0a",
   "metadata": {},
   "outputs": [
    {
     "name": "stdout",
     "output_type": "stream",
     "text": [
      "0       False\n",
      "1       False\n",
      "2       False\n",
      "3       False\n",
      "4       False\n",
      "        ...  \n",
      "2557     True\n",
      "2558     True\n",
      "2559     True\n",
      "2560     True\n",
      "2561     True\n",
      "Name: year, Length: 2313, dtype: bool\n",
      "date_of_decision\n",
      "Unknown    18\n",
      "Name: count, dtype: int64\n",
      "[2540 2541 2542 2543 2544 2545 2546 2547 2548 2553 2554 2555 2556 2557\n",
      " 2558 2559 2560 2561]\n",
      "year\n",
      "2022.0    573\n",
      "2023.0    527\n",
      "2021.0    472\n",
      "2020.0    359\n",
      "2024.0    189\n",
      "2019.0    163\n",
      "2018.0     30\n",
      "Name: count, dtype: int64\n"
     ]
    }
   ],
   "source": [
    "# using snippet of code from https://stackoverflow.com/questions/59101883/convert-irregular-date-format-to-year-only-in-pandas\n",
    "# There are only 18 fines with \"Unknown\" date of decision after processing the dates\n",
    "# I noticed the index of all the 18 fines with \"Unknown\" values are in the bottom of the dataset\n",
    "# since the dataset is ordered by date, it seems they are just before the earliest year \n",
    "# so i will attribute them to 2018 (the first year in the dataset)\n",
    "cleaned_df['year'] = cleaned_df['date_of_decision'].astype(str).str.extract('(\\d{4})').astype(str)\n",
    "cleaned_df['year'] = pd.to_datetime(cleaned_df['year'], errors='coerce').dt.year\n",
    "print(cleaned_df['year'].isnull())\n",
    "fines_with_missing_date = cleaned_df[cleaned_df['year'].isnull()]\n",
    "print(fines_with_missing_date['date_of_decision'].value_counts())\n",
    "print(fines_with_missing_date['date_of_decision'].index.values)\n",
    "# using a snippet from https://stackoverflow.com/questions/12307099/modifying-a-subset-of-rows-in-a-pandas-dataframe\n",
    "cleaned_df.loc[fines_with_missing_date.index.values, 'year'] = 2018\n",
    "print(cleaned_df['year'].value_counts())"
   ]
  },
  {
   "cell_type": "markdown",
   "id": "ecc0f796-35be-4d7f-aff1-19e84bee01ac",
   "metadata": {},
   "source": [
    "## Exploratory Data Analysis"
   ]
  },
  {
   "cell_type": "markdown",
   "id": "3526f744-3cfe-43c8-be6a-63dd3923cd5f",
   "metadata": {
    "jp-MarkdownHeadingCollapsed": true
   },
   "source": [
    "### what are the dates intervals from the collected fines\n",
    "    - latest    --  oldest with date\n",
    "    - 2024-09-27 -- 2018-07-17"
   ]
  },
  {
   "cell_type": "code",
   "execution_count": 21,
   "id": "e2ec68f5-66c7-4def-a181-033d08e9eda4",
   "metadata": {},
   "outputs": [
    {
     "name": "stdout",
     "output_type": "stream",
     "text": [
      "country                                                              IRELAND\n",
      "agency                                  Data Protection Authority of Ireland\n",
      "date_of_decision                                                  2024-09-27\n",
      "fine_amount                                                         91000000\n",
      "controller                                    Meta Platforms Ireland Limited\n",
      "sector                                      Media, Telecoms and Broadcasting\n",
      "list_of_quoted_articles    Art. 5 (1) f) GDPR, Art. 32 (1) GDPR, Art. 33 ...\n",
      "type_of_fine               Insufficient technical and organisational meas...\n",
      "summary_of_case            The Irish DPA (DPC) has imposed a fine of EUR ...\n",
      "links                      https://www.dataprotection.ie/en/news-media/pr...\n",
      "cleaned_quoted_articles                                    {'32', '5', '33'}\n",
      "n_quoted_articles                                                         59\n",
      "year                                                                  2024.0\n",
      "Name: 0, dtype: object\n",
      "country                                                             PORTUGAL\n",
      "agency                           Portuguese Data Protection Authority (CNPD)\n",
      "date_of_decision                                                  2018-07-17\n",
      "fine_amount                                                           400000\n",
      "controller                                                   Public Hospital\n",
      "sector                                                           Health Care\n",
      "list_of_quoted_articles                     Art. 5 (1) f) GDPR, Art. 32 GDPR\n",
      "type_of_fine               Insufficient technical and organisational meas...\n",
      "summary_of_case            Investigation revealed that the hospital’s sta...\n",
      "links                      https://www.cnpd.pt/bin/decisoes/Delib/20_984_...\n",
      "cleaned_quoted_articles                                          {'32', '5'}\n",
      "n_quoted_articles                                                         32\n",
      "year                                                                  2018.0\n",
      "Name: 2536, dtype: object\n"
     ]
    }
   ],
   "source": [
    "# first is the latest fine on the date of collection, -28 is the oldest fine with and decision\n",
    "#   latest    --  oldest with date\n",
    "#  2024-09-27 -- 2018-10-25\n",
    "print(cleaned_df.iloc[0])\n",
    "print(cleaned_df.iloc[-22])"
   ]
  },
  {
   "cell_type": "markdown",
   "id": "637811cb-d2ca-43bd-b6ac-c1c123ee4202",
   "metadata": {
    "jp-MarkdownHeadingCollapsed": true
   },
   "source": [
    "### analysing the frequency and distribution of Fines"
   ]
  },
  {
   "cell_type": "code",
   "execution_count": 22,
   "id": "843517bd-51a7-45e7-a38e-b1ca192c36d5",
   "metadata": {},
   "outputs": [
    {
     "name": "stdout",
     "output_type": "stream",
     "text": [
      "    quantile  fine_amount  fines_less_than_amount  fines_greater_than_amount\n",
      "0       0.05        360.0                     113                       2196\n",
      "1       0.10        600.0                     195                       2068\n",
      "2       0.15       1000.0                     275                       1935\n",
      "3       0.20       1500.0                     420                       1843\n",
      "4       0.25       2000.0                     511                       1649\n",
      "5       0.30       2500.0                     680                       1614\n",
      "6       0.35       3000.0                     719                       1468\n",
      "7       0.40       4000.0                     877                       1380\n",
      "8       0.45       5000.0                     949                       1236\n",
      "9       0.50       6900.0                    1156                       1156\n",
      "10      0.55      10000.0                    1240                        963\n",
      "11      0.60      13000.0                    1387                        923\n",
      "12      0.65      20000.0                    1488                        750\n",
      "13      0.70      27040.0                    1619                        694\n",
      "14      0.75      40000.0                    1690                        576\n",
      "15      0.80      56000.0                    1834                        459\n",
      "16      0.85      81600.0                    1966                        347\n",
      "17      0.90     200000.0                    2073                        219\n",
      "18      0.95     840400.0                    2197                        116\n"
     ]
    }
   ],
   "source": [
    "# I create a pandas dataframe with quantile vvalues of the fines amount using:\n",
    "# https://stackoverflow.com/questions/23833763/count-number-of-elements-in-each-column-less-than-x\n",
    "#print(cleaned_df['fine_amount'].describe())\n",
    "fine_amount_quantiles = pd.DataFrame({\"fine_amount\":cleaned_df['fine_amount'].quantile([0.05*i for i in range(1,20)])})\n",
    "#fine_amount_quantiles['fine_amount'].quantile([0.05*i for i in range(1,20)]).apply(lambda v: cleaned_df['fine_amount'].lt(v).sum()))\n",
    "fine_amount_quantiles[\"fines_less_than_amount\"] = fine_amount_quantiles[\"fine_amount\"].apply(lambda v: cleaned_df['fine_amount'].lt(v).sum())\n",
    "fine_amount_quantiles[\"fines_greater_than_amount\"] = fine_amount_quantiles[\"fine_amount\"].apply(lambda v: cleaned_df['fine_amount'].gt(v).sum())\n",
    "fine_amount_quantiles = fine_amount_quantiles.reset_index()\n",
    "fine_amount_quantiles = fine_amount_quantiles.rename(columns={\"index\":\"quantile\"})\n",
    "print(fine_amount_quantiles)\n"
   ]
  },
  {
   "cell_type": "code",
   "execution_count": 23,
   "id": "6e08257b-0721-4d2e-913c-6135bbf5bda9",
   "metadata": {},
   "outputs": [
    {
     "name": "stdout",
     "output_type": "stream",
     "text": [
      "['360', '600', '1000', '1500', '2000', '2500', '3000', '4000', '5000', '6900', '10000', '13000', '20000', '27039', '40000', '56000', '81600', '200000', '840400']\n",
      "[2196, 2068, 1935, 1843, 1649, 1614, 1468, 1380, 1236, 1156, 963, 923, 750, 694, 576, 459, 347, 219, 116]\n"
     ]
    },
    {
     "data": {
      "image/png": "[encoded data removed]",
      "text/plain": [
       "<Figure size 640x480 with 1 Axes>"
      ]
     },
     "metadata": {},
     "output_type": "display_data"
    }
   ],
   "source": [
    "# adapted example from https://matplotlib.org/stable/gallery/lines_bars_and_markers/bar_colors.html#sphx-glr-gallery-lines-bars-and-markers-bar-colors-py\n",
    "fig, ax = plt.subplots()\n",
    "\n",
    "labels = [str(int(v)) for v in fine_amount_quantiles['fine_amount']]# fine_amount_quantiles['fine_amount'].values\n",
    "counts = [v for v in fine_amount_quantiles['fines_greater_than_amount'].values]# fine_amount_quantiles['fines_greater_than_amount'].values\n",
    "bar_labels = ['red' for v in labels] #'blue', '_red', 'orange']\n",
    "bar_colors = ['tab:red' for v in labels]  #'tab:blue', 'tab:red', 'tab:orange']\n",
    "\n",
    "bars = ax.bar(labels, counts, color=bar_colors)#label=bar_labels,)\n",
    "\n",
    "for bar in bars:\n",
    "    height = bar.get_height()\n",
    "    ax.text(bar.get_x() + bar.get_width() / 2, height + 0.5,  # 0.5 is offset for label placement\n",
    "            f'{height}', ha='center', va='bottom', fontsize=10)\n",
    "\n",
    "plt.xticks(rotation=45, fontsize=8)  # Rotate x-axis labels by 45 degrees and set font size to 8\n",
    "ax.set_ylabel('Count of fine cases')\n",
    "ax.set_title('Count of fine cases over a certain Fine Value')\n",
    "#ax.legend(title='Fruit color')\n",
    "\n",
    "print(labels)\n",
    "print(counts)\n",
    "plt.show()\n"
   ]
  },
  {
   "cell_type": "markdown",
   "id": "7b26bd5e-a95b-461d-93e7-30c7027144e2",
   "metadata": {
    "jp-MarkdownHeadingCollapsed": true
   },
   "source": [
    "### analysing the top 10 highest of Fines "
   ]
  },
  {
   "cell_type": "markdown",
   "id": "b12e95e9-4236-4ebc-beaa-7d2d20c6455d",
   "metadata": {},
   "source": [
    "#### All top 10 fines are over 90million euros"
   ]
  },
  {
   "cell_type": "code",
   "execution_count": 55,
   "id": "5ec80bbe-25eb-47d3-86f6-c617d840662b",
   "metadata": {},
   "outputs": [
    {
     "name": "stdout",
     "output_type": "stream",
     "text": [
      "                             controller  \\\n",
      "532      Meta Platforms Ireland Limited   \n",
      "1584        Amazon Europe Core S.à.r.l.   \n",
      "955                Meta Platforms, Inc.   \n",
      "711      Meta Platforms Ireland Limited   \n",
      "369                      TikTok Limited   \n",
      "12    Uber Technologies Inc., Uber B.V.   \n",
      "827      Meta Platforms Ireland Limited   \n",
      "1530              WhatsApp Ireland Ltd.   \n",
      "0        Meta Platforms Ireland Limited   \n",
      "1361                         Google LLC   \n",
      "\n",
      "                                                 agency          country  \\\n",
      "532                Data Protection Authority of Ireland          IRELAND   \n",
      "1584     National Commission for Data Protection (CNPD)       LUXEMBOURG   \n",
      "955                Data Protection Authority of Ireland          IRELAND   \n",
      "711                Data Protection Authority of Ireland          IRELAND   \n",
      "369                Data Protection Authority of Ireland          IRELAND   \n",
      "12    Dutch Supervisory Authority for Data Protectio...  THE NETHERLANDS   \n",
      "827                Data Protection Authority of Ireland          IRELAND   \n",
      "1530               Data Protection Authority of Ireland          IRELAND   \n",
      "0                  Data Protection Authority of Ireland          IRELAND   \n",
      "1361            French Data Protection Authority (CNIL)           FRANCE   \n",
      "\n",
      "                                sector  fine_amount  \n",
      "532   Media, Telecoms and Broadcasting   1200000000  \n",
      "1584             Industry and Commerce    746000000  \n",
      "955   Media, Telecoms and Broadcasting    405000000  \n",
      "711   Media, Telecoms and Broadcasting    390000000  \n",
      "369   Media, Telecoms and Broadcasting    345000000  \n",
      "12                          Employment    290000000  \n",
      "827   Media, Telecoms and Broadcasting    265000000  \n",
      "1530  Media, Telecoms and Broadcasting    225000000  \n",
      "0     Media, Telecoms and Broadcasting     91000000  \n",
      "1361  Media, Telecoms and Broadcasting     90000000  \n"
     ]
    }
   ],
   "source": [
    "# sorting and selecting the top 10 fines\n",
    "sorted_cleaned_df = cleaned_df.sort_values(by='fine_amount', ascending=False)\n",
    "top_10_fines = sorted_cleaned_df.head(10)\n",
    "print(top_10_fines[['controller','agency','country','sector','fine_amount']])"
   ]
  },
  {
   "cell_type": "code",
   "execution_count": 54,
   "id": "de835456-da9b-421d-a426-e6053cf41862",
   "metadata": {},
   "outputs": [
    {
     "data": {
      "text/html": [
       "<div>\n",
       "<style scoped>\n",
       "    .dataframe tbody tr th:only-of-type {\n",
       "        vertical-align: middle;\n",
       "    }\n",
       "\n",
       "    .dataframe tbody tr th {\n",
       "        vertical-align: top;\n",
       "    }\n",
       "\n",
       "    .dataframe thead th {\n",
       "        text-align: right;\n",
       "    }\n",
       "</style>\n",
       "<table border=\"1\" class=\"dataframe\">\n",
       "  <thead>\n",
       "    <tr style=\"text-align: right;\">\n",
       "      <th></th>\n",
       "      <th>country</th>\n",
       "      <th>agency</th>\n",
       "      <th>date_of_decision</th>\n",
       "      <th>fine_amount</th>\n",
       "      <th>controller</th>\n",
       "      <th>sector</th>\n",
       "      <th>list_of_quoted_articles</th>\n",
       "      <th>type_of_fine</th>\n",
       "      <th>summary_of_case</th>\n",
       "      <th>links</th>\n",
       "      <th>cleaned_quoted_articles</th>\n",
       "      <th>n_quoted_articles</th>\n",
       "      <th>year</th>\n",
       "    </tr>\n",
       "  </thead>\n",
       "  <tbody>\n",
       "    <tr>\n",
       "      <th>532</th>\n",
       "      <td>IRELAND</td>\n",
       "      <td>Data Protection Authority of Ireland</td>\n",
       "      <td>2023-05-12</td>\n",
       "      <td>1200000000</td>\n",
       "      <td>Meta Platforms Ireland Limited</td>\n",
       "      <td>Media, Telecoms and Broadcasting</td>\n",
       "      <td>Art. 46 (1) GDPR</td>\n",
       "      <td>Insufficient legal basis for data processing</td>\n",
       "      <td>The Irish DPA (DPC) has fined Meta Platforms I...</td>\n",
       "      <td>https://dataprotection.ie/en/news-media/press-...</td>\n",
       "      <td>{'46'}</td>\n",
       "      <td>16</td>\n",
       "      <td>2023.0</td>\n",
       "    </tr>\n",
       "    <tr>\n",
       "      <th>1584</th>\n",
       "      <td>LUXEMBOURG</td>\n",
       "      <td>National Commission for Data Protection (CNPD)</td>\n",
       "      <td>2021-07-16</td>\n",
       "      <td>746000000</td>\n",
       "      <td>Amazon Europe Core S.à.r.l.</td>\n",
       "      <td>Industry and Commerce</td>\n",
       "      <td>Unknown</td>\n",
       "      <td>Non-compliance with general data processing pr...</td>\n",
       "      <td>In its quarterly report, Amazon.com Inc. annou...</td>\n",
       "      <td>https://www.sec.gov/ix?doc=/Archives/edgar/dat...</td>\n",
       "      <td>{}</td>\n",
       "      <td>7</td>\n",
       "      <td>2021.0</td>\n",
       "    </tr>\n",
       "    <tr>\n",
       "      <th>955</th>\n",
       "      <td>IRELAND</td>\n",
       "      <td>Data Protection Authority of Ireland</td>\n",
       "      <td>2022-09-05</td>\n",
       "      <td>405000000</td>\n",
       "      <td>Meta Platforms, Inc.</td>\n",
       "      <td>Media, Telecoms and Broadcasting</td>\n",
       "      <td>Art. 5 (1) a), c) GDPR, Art. 6 (1) GDPR, Art. ...</td>\n",
       "      <td>Non-compliance with general data processing pr...</td>\n",
       "      <td>The Irish DPA (DPC) has imposed a fine of EUR ...</td>\n",
       "      <td>https://edpb.europa.eu/system/files/2022-09/ed...</td>\n",
       "      <td>{'6', '25', '5', '12', '24', '35'}</td>\n",
       "      <td>108</td>\n",
       "      <td>2022.0</td>\n",
       "    </tr>\n",
       "    <tr>\n",
       "      <th>711</th>\n",
       "      <td>IRELAND</td>\n",
       "      <td>Data Protection Authority of Ireland</td>\n",
       "      <td>2023-01-04</td>\n",
       "      <td>390000000</td>\n",
       "      <td>Meta Platforms Ireland Limited</td>\n",
       "      <td>Media, Telecoms and Broadcasting</td>\n",
       "      <td>Art. 5 (1) a) GDPR, Art. 6 (1) GDPR, Art. 12 G...</td>\n",
       "      <td>Non-compliance with general data processing pr...</td>\n",
       "      <td>The Irish DPA (DPC) has fined Meta Platforms I...</td>\n",
       "      <td>https://dataprotection.ie/en/news-media/data-p...</td>\n",
       "      <td>{'12', '13', '5', '6'}</td>\n",
       "      <td>70</td>\n",
       "      <td>2023.0</td>\n",
       "    </tr>\n",
       "    <tr>\n",
       "      <th>369</th>\n",
       "      <td>IRELAND</td>\n",
       "      <td>Data Protection Authority of Ireland</td>\n",
       "      <td>2023-09-01</td>\n",
       "      <td>345000000</td>\n",
       "      <td>TikTok Limited</td>\n",
       "      <td>Media, Telecoms and Broadcasting</td>\n",
       "      <td>Art. 5 (1) c), 5 (1) f) GDPR, Art. 12 (1) GDPR...</td>\n",
       "      <td>Non-compliance with general data processing pr...</td>\n",
       "      <td>The Irish DPA (DPC), has imposed a fine of EUR...</td>\n",
       "      <td>https://edpb.europa.eu/system/files/2023-09/fi...</td>\n",
       "      <td>{'25', '24', '5', '12', '13'}</td>\n",
       "      <td>108</td>\n",
       "      <td>2023.0</td>\n",
       "    </tr>\n",
       "    <tr>\n",
       "      <th>12</th>\n",
       "      <td>THE NETHERLANDS</td>\n",
       "      <td>Dutch Supervisory Authority for Data Protectio...</td>\n",
       "      <td>2024-07-22</td>\n",
       "      <td>290000000</td>\n",
       "      <td>Uber Technologies Inc., Uber B.V.</td>\n",
       "      <td>Employment</td>\n",
       "      <td>Art. 44 GDPR</td>\n",
       "      <td>Non-compliance with general data processing pr...</td>\n",
       "      <td>The Dutch DPA has imposed a fine of EUR 290 mi...</td>\n",
       "      <td>https://autoriteitpersoonsgegevens.nl/actueel/...</td>\n",
       "      <td>{'44'}</td>\n",
       "      <td>12</td>\n",
       "      <td>2024.0</td>\n",
       "    </tr>\n",
       "    <tr>\n",
       "      <th>827</th>\n",
       "      <td>IRELAND</td>\n",
       "      <td>Data Protection Authority of Ireland</td>\n",
       "      <td>2022-11-25</td>\n",
       "      <td>265000000</td>\n",
       "      <td>Meta Platforms Ireland Limited</td>\n",
       "      <td>Media, Telecoms and Broadcasting</td>\n",
       "      <td>Art. 25 (1), (2) GDPR</td>\n",
       "      <td>Insufficient technical and organisational meas...</td>\n",
       "      <td>The Irish DPA has fined Meta Platforms Ireland...</td>\n",
       "      <td>https://dataprotection.ie/en/news-media/press-...</td>\n",
       "      <td>{'25'}</td>\n",
       "      <td>21</td>\n",
       "      <td>2022.0</td>\n",
       "    </tr>\n",
       "    <tr>\n",
       "      <th>1530</th>\n",
       "      <td>IRELAND</td>\n",
       "      <td>Data Protection Authority of Ireland</td>\n",
       "      <td>2021-09-02</td>\n",
       "      <td>225000000</td>\n",
       "      <td>WhatsApp Ireland Ltd.</td>\n",
       "      <td>Media, Telecoms and Broadcasting</td>\n",
       "      <td>Art. 5 (1) a) GDPR, Art. 12 GDPR, Art. 13 GDPR...</td>\n",
       "      <td>Insufficient fulfilment of information obligat...</td>\n",
       "      <td>The Irish DPA (DPC) has imposed a fine of EUR ...</td>\n",
       "      <td>https://edpb.europa.eu/system/files/2021-09/dp...</td>\n",
       "      <td>{'12', '13', '14', '5'}</td>\n",
       "      <td>60</td>\n",
       "      <td>2021.0</td>\n",
       "    </tr>\n",
       "    <tr>\n",
       "      <th>0</th>\n",
       "      <td>IRELAND</td>\n",
       "      <td>Data Protection Authority of Ireland</td>\n",
       "      <td>2024-09-27</td>\n",
       "      <td>91000000</td>\n",
       "      <td>Meta Platforms Ireland Limited</td>\n",
       "      <td>Media, Telecoms and Broadcasting</td>\n",
       "      <td>Art. 5 (1) f) GDPR, Art. 32 (1) GDPR, Art. 33 ...</td>\n",
       "      <td>Insufficient technical and organisational meas...</td>\n",
       "      <td>The Irish DPA (DPC) has imposed a fine of EUR ...</td>\n",
       "      <td>https://www.dataprotection.ie/en/news-media/pr...</td>\n",
       "      <td>{'32', '5', '33'}</td>\n",
       "      <td>59</td>\n",
       "      <td>2024.0</td>\n",
       "    </tr>\n",
       "    <tr>\n",
       "      <th>1361</th>\n",
       "      <td>FRANCE</td>\n",
       "      <td>French Data Protection Authority (CNIL)</td>\n",
       "      <td>2021-12-31</td>\n",
       "      <td>90000000</td>\n",
       "      <td>Google LLC</td>\n",
       "      <td>Media, Telecoms and Broadcasting</td>\n",
       "      <td>Art. 82 loi Informatique et Libertés</td>\n",
       "      <td>Insufficient legal basis for data processing</td>\n",
       "      <td>On December 31, 2021, the French DPA (CNIL) im...</td>\n",
       "      <td>https://www.legifrance.gouv.fr/cnil/id/CNILTEX...</td>\n",
       "      <td>{'82'}</td>\n",
       "      <td>36</td>\n",
       "      <td>2021.0</td>\n",
       "    </tr>\n",
       "  </tbody>\n",
       "</table>\n",
       "</div>"
      ],
      "text/plain": [
       "              country                                             agency  \\\n",
       "532           IRELAND               Data Protection Authority of Ireland   \n",
       "1584       LUXEMBOURG     National Commission for Data Protection (CNPD)   \n",
       "955           IRELAND               Data Protection Authority of Ireland   \n",
       "711           IRELAND               Data Protection Authority of Ireland   \n",
       "369           IRELAND               Data Protection Authority of Ireland   \n",
       "12    THE NETHERLANDS  Dutch Supervisory Authority for Data Protectio...   \n",
       "827           IRELAND               Data Protection Authority of Ireland   \n",
       "1530          IRELAND               Data Protection Authority of Ireland   \n",
       "0             IRELAND               Data Protection Authority of Ireland   \n",
       "1361           FRANCE            French Data Protection Authority (CNIL)   \n",
       "\n",
       "     date_of_decision  fine_amount                         controller  \\\n",
       "532        2023-05-12   1200000000     Meta Platforms Ireland Limited   \n",
       "1584       2021-07-16    746000000        Amazon Europe Core S.à.r.l.   \n",
       "955        2022-09-05    405000000               Meta Platforms, Inc.   \n",
       "711        2023-01-04    390000000     Meta Platforms Ireland Limited   \n",
       "369        2023-09-01    345000000                     TikTok Limited   \n",
       "12         2024-07-22    290000000  Uber Technologies Inc., Uber B.V.   \n",
       "827        2022-11-25    265000000     Meta Platforms Ireland Limited   \n",
       "1530       2021-09-02    225000000              WhatsApp Ireland Ltd.   \n",
       "0          2024-09-27     91000000     Meta Platforms Ireland Limited   \n",
       "1361       2021-12-31     90000000                         Google LLC   \n",
       "\n",
       "                                sector  \\\n",
       "532   Media, Telecoms and Broadcasting   \n",
       "1584             Industry and Commerce   \n",
       "955   Media, Telecoms and Broadcasting   \n",
       "711   Media, Telecoms and Broadcasting   \n",
       "369   Media, Telecoms and Broadcasting   \n",
       "12                          Employment   \n",
       "827   Media, Telecoms and Broadcasting   \n",
       "1530  Media, Telecoms and Broadcasting   \n",
       "0     Media, Telecoms and Broadcasting   \n",
       "1361  Media, Telecoms and Broadcasting   \n",
       "\n",
       "                                list_of_quoted_articles  \\\n",
       "532                                    Art. 46 (1) GDPR   \n",
       "1584                                            Unknown   \n",
       "955   Art. 5 (1) a), c) GDPR, Art. 6 (1) GDPR, Art. ...   \n",
       "711   Art. 5 (1) a) GDPR, Art. 6 (1) GDPR, Art. 12 G...   \n",
       "369   Art. 5 (1) c), 5 (1) f) GDPR, Art. 12 (1) GDPR...   \n",
       "12                                         Art. 44 GDPR   \n",
       "827                               Art. 25 (1), (2) GDPR   \n",
       "1530  Art. 5 (1) a) GDPR, Art. 12 GDPR, Art. 13 GDPR...   \n",
       "0     Art. 5 (1) f) GDPR, Art. 32 (1) GDPR, Art. 33 ...   \n",
       "1361               Art. 82 loi Informatique et Libertés   \n",
       "\n",
       "                                           type_of_fine  \\\n",
       "532        Insufficient legal basis for data processing   \n",
       "1584  Non-compliance with general data processing pr...   \n",
       "955   Non-compliance with general data processing pr...   \n",
       "711   Non-compliance with general data processing pr...   \n",
       "369   Non-compliance with general data processing pr...   \n",
       "12    Non-compliance with general data processing pr...   \n",
       "827   Insufficient technical and organisational meas...   \n",
       "1530  Insufficient fulfilment of information obligat...   \n",
       "0     Insufficient technical and organisational meas...   \n",
       "1361       Insufficient legal basis for data processing   \n",
       "\n",
       "                                        summary_of_case  \\\n",
       "532   The Irish DPA (DPC) has fined Meta Platforms I...   \n",
       "1584  In its quarterly report, Amazon.com Inc. annou...   \n",
       "955   The Irish DPA (DPC) has imposed a fine of EUR ...   \n",
       "711   The Irish DPA (DPC) has fined Meta Platforms I...   \n",
       "369   The Irish DPA (DPC), has imposed a fine of EUR...   \n",
       "12    The Dutch DPA has imposed a fine of EUR 290 mi...   \n",
       "827   The Irish DPA has fined Meta Platforms Ireland...   \n",
       "1530  The Irish DPA (DPC) has imposed a fine of EUR ...   \n",
       "0     The Irish DPA (DPC) has imposed a fine of EUR ...   \n",
       "1361  On December 31, 2021, the French DPA (CNIL) im...   \n",
       "\n",
       "                                                  links  \\\n",
       "532   https://dataprotection.ie/en/news-media/press-...   \n",
       "1584  https://www.sec.gov/ix?doc=/Archives/edgar/dat...   \n",
       "955   https://edpb.europa.eu/system/files/2022-09/ed...   \n",
       "711   https://dataprotection.ie/en/news-media/data-p...   \n",
       "369   https://edpb.europa.eu/system/files/2023-09/fi...   \n",
       "12    https://autoriteitpersoonsgegevens.nl/actueel/...   \n",
       "827   https://dataprotection.ie/en/news-media/press-...   \n",
       "1530  https://edpb.europa.eu/system/files/2021-09/dp...   \n",
       "0     https://www.dataprotection.ie/en/news-media/pr...   \n",
       "1361  https://www.legifrance.gouv.fr/cnil/id/CNILTEX...   \n",
       "\n",
       "                 cleaned_quoted_articles  n_quoted_articles    year  \n",
       "532                               {'46'}                 16  2023.0  \n",
       "1584                                  {}                  7  2021.0  \n",
       "955   {'6', '25', '5', '12', '24', '35'}                108  2022.0  \n",
       "711               {'12', '13', '5', '6'}                 70  2023.0  \n",
       "369        {'25', '24', '5', '12', '13'}                108  2023.0  \n",
       "12                                {'44'}                 12  2024.0  \n",
       "827                               {'25'}                 21  2022.0  \n",
       "1530             {'12', '13', '14', '5'}                 60  2021.0  \n",
       "0                      {'32', '5', '33'}                 59  2024.0  \n",
       "1361                              {'82'}                 36  2021.0  "
      ]
     },
     "execution_count": 54,
     "metadata": {},
     "output_type": "execute_result"
    }
   ],
   "source": [
    "top_10_fines"
   ]
  },
  {
   "cell_type": "markdown",
   "id": "b41f25c4-434e-4764-a503-a219c32e6e3f",
   "metadata": {},
   "source": [
    "#### Are all top fines from \"Big Tech\"?"
   ]
  },
  {
   "cell_type": "code",
   "execution_count": 56,
   "id": "f089588c-9c3f-4148-a355-95ded4b20bdf",
   "metadata": {},
   "outputs": [
    {
     "name": "stdout",
     "output_type": "stream",
     "text": [
      "sector\n",
      "Media, Telecoms and Broadcasting    8\n",
      "Industry and Commerce               1\n",
      "Employment                          1\n",
      "Name: count, dtype: int64\n",
      "Index(['country', 'agency', 'date_of_decision', 'fine_amount', 'controller',\n",
      "       'sector', 'list_of_quoted_articles', 'type_of_fine', 'summary_of_case',\n",
      "       'links', 'cleaned_quoted_articles', 'n_quoted_articles', 'year'],\n",
      "      dtype='object')\n",
      "controller\n",
      "Meta Platforms Ireland Limited       4\n",
      "Amazon Europe Core S.à.r.l.          1\n",
      "Meta Platforms, Inc.                 1\n",
      "TikTok Limited                       1\n",
      "Uber Technologies Inc., Uber B.V.    1\n",
      "WhatsApp Ireland Ltd.                1\n",
      "Google LLC                           1\n",
      "Name: count, dtype: int64\n"
     ]
    }
   ],
   "source": [
    "print(top_10_fines['sector'].value_counts())\n",
    "print(top_10_fines.columns)\n",
    "print(top_10_fines['controller'].value_counts())\n"
   ]
  },
  {
   "cell_type": "markdown",
   "id": "989bff9b-7571-40ce-8333-6f114c05f261",
   "metadata": {},
   "source": [
    "#### What is the proportion of the sum of the top related to all fines ?\n"
   ]
  },
  {
   "cell_type": "code",
   "execution_count": 57,
   "id": "68aeae42-1b40-4770-9eba-91dc5f514c0f",
   "metadata": {},
   "outputs": [
    {
     "data": {
      "text/plain": [
       "0.8063463801276145"
      ]
     },
     "execution_count": 57,
     "metadata": {},
     "output_type": "execute_result"
    }
   ],
   "source": [
    "sum(top_10_fines['fine_amount'])/sum(cleaned_df['fine_amount'])"
   ]
  },
  {
   "cell_type": "markdown",
   "id": "c35f62c7-3344-484e-9456-d5025e638e1e",
   "metadata": {
    "jp-MarkdownHeadingCollapsed": true
   },
   "source": [
    "### analysing the distribution of Fines over the years"
   ]
  },
  {
   "cell_type": "markdown",
   "id": "a391437d-2d66-4c59-9ec8-376c2b4f4071",
   "metadata": {},
   "source": [
    "#### Sum of Fines over the years\n",
    "\n",
    "\n"
   ]
  },
  {
   "cell_type": "code",
   "execution_count": 58,
   "id": "6a6d7319-023d-46d1-9868-111360e55c81",
   "metadata": {},
   "outputs": [
    {
     "name": "stdout",
     "output_type": "stream",
     "text": [
      "        count         sum      cumsum  cumcount\n",
      "year                                           \n",
      "2018.0     30      759024      759024        30\n",
      "2019.0    163    72756964    73515988       193\n",
      "2020.0    359   171770179   245286167       552\n",
      "2021.0    472  1283677183  1528963350      1024\n",
      "2022.0    573   842154165  2371117515      1597\n",
      "2023.0    527  2080596542  4451714057      2124\n",
      "2024.0    189   567220857  5018934914      2313\n"
     ]
    }
   ],
   "source": [
    "group_by_year = cleaned_df.groupby(by=\"year\")[\"fine_amount\"].agg([\"count\",\"sum\"])\n",
    "group_by_year[\"cumsum\"] = np.cumsum(group_by_year[\"sum\"])\n",
    "group_by_year[\"cumcount\"] = np.cumsum(group_by_year[\"count\"])\n",
    "print(group_by_year)"
   ]
  },
  {
   "cell_type": "markdown",
   "id": "23872924-c236-4f31-ab4a-c709d46ce0c4",
   "metadata": {
    "jp-MarkdownHeadingCollapsed": true
   },
   "source": [
    "#### Is the median/mean of the fines increasing over the years?"
   ]
  },
  {
   "cell_type": "markdown",
   "id": "697c14c6-81f8-4e18-aa02-d31d44f00850",
   "metadata": {
    "jp-MarkdownHeadingCollapsed": true
   },
   "source": [
    "### analysing the type of fines and quoted articles"
   ]
  },
  {
   "cell_type": "code",
   "execution_count": 59,
   "id": "90cdb082-fd15-41ca-88ca-e07f93b59ff0",
   "metadata": {},
   "outputs": [
    {
     "data": {
      "text/plain": [
       "type_of_fine\n",
       "Insufficient legal basis for data processing                                         660\n",
       "Non-compliance with general data processing principles                               620\n",
       "Insufficient technical and organisational measures to ensure information security    397\n",
       "Insufficient fulfilment of data subjects rights                                      222\n",
       "Insufficient fulfilment of information obligations                                   196\n",
       "Insufficient cooperation with supervisory authority                                  124\n",
       "Insufficient fulfilment of data breach notification obligations                       46\n",
       "Insufficient involvement of data protection officer                                   22\n",
       "Unknown                                                                               14\n",
       "Insufficient data processing agreement                                                12\n",
       "Name: count, dtype: int64"
      ]
     },
     "execution_count": 59,
     "metadata": {},
     "output_type": "execute_result"
    }
   ],
   "source": [
    "cleaned_df[\"type_of_fine\"].value_counts()"
   ]
  },
  {
   "cell_type": "code",
   "execution_count": 60,
   "id": "963c53a3-b0e2-4c17-a0ba-64d58b2189b4",
   "metadata": {},
   "outputs": [
    {
     "data": {
      "text/html": [
       "<table border=\"1\" class=\"dataframe\">\n",
       "  <thead>\n",
       "    <tr style=\"text-align: right;\">\n",
       "      <th></th>\n",
       "      <th>sum</th>\n",
       "      <th>(%) percentage_of_total</th>\n",
       "    </tr>\n",
       "    <tr>\n",
       "      <th>type_of_fine</th>\n",
       "      <th></th>\n",
       "      <th></th>\n",
       "    </tr>\n",
       "  </thead>\n",
       "  <tbody>\n",
       "    <tr>\n",
       "      <th>Non-compliance with general data processing principles</th>\n",
       "      <td>2410164850</td>\n",
       "      <td>48.0</td>\n",
       "    </tr>\n",
       "    <tr>\n",
       "      <th>Insufficient legal basis for data processing</th>\n",
       "      <td>1652915412</td>\n",
       "      <td>32.9</td>\n",
       "    </tr>\n",
       "    <tr>\n",
       "      <th>Insufficient technical and organisational measures to ensure information security</th>\n",
       "      <td>571027615</td>\n",
       "      <td>11.4</td>\n",
       "    </tr>\n",
       "    <tr>\n",
       "      <th>Insufficient fulfilment of information obligations</th>\n",
       "      <td>247864260</td>\n",
       "      <td>4.9</td>\n",
       "    </tr>\n",
       "    <tr>\n",
       "      <th>Insufficient fulfilment of data subjects rights</th>\n",
       "      <td>101006046</td>\n",
       "      <td>2.0</td>\n",
       "    </tr>\n",
       "    <tr>\n",
       "      <th>Unknown</th>\n",
       "      <td>23254800</td>\n",
       "      <td>0.5</td>\n",
       "    </tr>\n",
       "    <tr>\n",
       "      <th>Insufficient cooperation with supervisory authority</th>\n",
       "      <td>6639229</td>\n",
       "      <td>0.1</td>\n",
       "    </tr>\n",
       "    <tr>\n",
       "      <th>Insufficient fulfilment of data breach notification obligations</th>\n",
       "      <td>3977392</td>\n",
       "      <td>0.1</td>\n",
       "    </tr>\n",
       "    <tr>\n",
       "      <th>Insufficient data processing agreement</th>\n",
       "      <td>1117110</td>\n",
       "      <td>0.0</td>\n",
       "    </tr>\n",
       "    <tr>\n",
       "      <th>Insufficient involvement of data protection officer</th>\n",
       "      <td>968200</td>\n",
       "      <td>0.0</td>\n",
       "    </tr>\n",
       "  </tbody>\n",
       "</table>"
      ],
      "text/plain": [
       "<IPython.core.display.HTML object>"
      ]
     },
     "metadata": {},
     "output_type": "display_data"
    }
   ],
   "source": [
    "group_by_type_of_fine = cleaned_df.groupby(by=\"type_of_fine\")[\"fine_amount\"].agg([\"sum\"])\n",
    "group_by_type_of_fine = group_by_type_of_fine.sort_values(by=\"sum\", ascending=False)\n",
    "total_sum = group_by_type_of_fine['sum'].sum()\n",
    "group_by_type_of_fine['(%) percentage_of_total'] = round((group_by_type_of_fine['sum'] / total_sum) * 100,1)\n",
    "\n",
    "display(HTML(group_by_type_of_fine.to_html()))\n"
   ]
  },
  {
   "cell_type": "code",
   "execution_count": 61,
   "id": "8fdbfb40-9d02-4d6c-b01c-c8b452d7f646",
   "metadata": {
    "scrolled": true
   },
   "outputs": [
    {
     "data": {
      "image/png": "[encoded data removed]",
      "text/plain": [
       "<Figure size 1000x600 with 1 Axes>"
      ]
     },
     "metadata": {},
     "output_type": "display_data"
    }
   ],
   "source": [
    "# Group by both 'type_of_fine' and 'year', then aggregate by the sum of 'fine_amount'\n",
    "group_by_type_and_year = cleaned_df.groupby(by=[\"type_of_fine\", \"year\"])[\"fine_amount\"].agg([\"sum\"])\n",
    "\n",
    "# Unstack the 'type_of_fine' to make each fine type a separate column\n",
    "group_by_type_and_year_unstacked = group_by_type_and_year.unstack(level=\"type_of_fine\")[\"sum\"]\n",
    "\n",
    "# Plot the stacked bar chart\n",
    "group_by_type_and_year_unstacked.plot(kind=\"bar\", stacked=True, figsize=(10, 6))\n",
    "\n",
    "# Adding labels and title\n",
    "plt.xlabel(\"Year\")\n",
    "plt.ylabel(\"Total Fine Amount\")\n",
    "plt.title(\"Total Fine Amount by Year and Type of Fine (Stacked)\")\n",
    "plt.legend(title=\"Type of Fine\",fontsize=8, bbox_to_anchor=(0, 1), loc=\"upper left\")\n",
    "\n",
    "# Show the plot\n",
    "plt.show()\n"
   ]
  },
  {
   "cell_type": "markdown",
   "id": "526f9dcc-ed8e-438b-8219-4d75a190ccda",
   "metadata": {},
   "source": [
    "#### what are frequent and impactful rights and violations ?\n",
    "\n"
   ]
  },
  {
   "cell_type": "code",
   "execution_count": 62,
   "id": "572ae49e-4317-40bb-9096-acdfd4ea8335",
   "metadata": {},
   "outputs": [
    {
     "data": {
      "text/plain": [
       "cleaned_quoted_articles\n",
       "{'5'}           270\n",
       "{'6'}           236\n",
       "{'5', '6'}      171\n",
       "{'32'}          157\n",
       "{'32', '5'}     133\n",
       "{'13'}          110\n",
       "{'13', '5'}      91\n",
       "{'58'}           85\n",
       "{'12', '15'}     43\n",
       "{}               42\n",
       "Name: count, dtype: int64"
      ]
     },
     "execution_count": 62,
     "metadata": {},
     "output_type": "execute_result"
    }
   ],
   "source": [
    "\n",
    "cleaned_df[\"cleaned_quoted_articles\"].value_counts().head(10)"
   ]
  },
  {
   "cell_type": "code",
   "execution_count": 63,
   "id": "f7e45748-02a9-4821-90cd-56121ae1f17c",
   "metadata": {},
   "outputs": [
    {
     "name": "stdout",
     "output_type": "stream",
     "text": [
      "                                                           sum  count  \\\n",
      "cleaned_quoted_articles                                                 \n",
      "{'46'}                                              1200000000      1   \n",
      "{}                                                   775642080     42   \n",
      "{'6', '25', '5', '12', '24', '35'}                   405000000      1   \n",
      "{'12', '13', '5', '6'}                               390084200      5   \n",
      "{'25', '24', '5', '12', '13'}                        345000000      1   \n",
      "...                                                        ...    ...   \n",
      "{'34', '5', '33', '28'}                                    321      1   \n",
      "{'6', '17', '15', '5', '12'}                               290      1   \n",
      "{'32', '13', '5', '6'}                                     200      1   \n",
      "{'130', '31', '6', '25', '30', '24', '21', '5',...           0      1   \n",
      "{'14', '6', '7', '12', '13'}                                 0      1   \n",
      "\n",
      "                                                    percentage_of_total  \n",
      "cleaned_quoted_articles                                                  \n",
      "{'46'}                                                        23.909455  \n",
      "{}                                                            15.454316  \n",
      "{'6', '25', '5', '12', '24', '35'}                             8.069441  \n",
      "{'12', '13', '5', '6'}                                         7.772251  \n",
      "{'25', '24', '5', '12', '13'}                                  6.873968  \n",
      "...                                                                 ...  \n",
      "{'34', '5', '33', '28'}                                        0.000006  \n",
      "{'6', '17', '15', '5', '12'}                                   0.000006  \n",
      "{'32', '13', '5', '6'}                                         0.000004  \n",
      "{'130', '31', '6', '25', '30', '24', '21', '5',...             0.000000  \n",
      "{'14', '6', '7', '12', '13'}                                   0.000000  \n",
      "\n",
      "[425 rows x 3 columns]\n"
     ]
    }
   ],
   "source": [
    "group_by_quoted_articles = cleaned_df.groupby(by=\"cleaned_quoted_articles\")[\"fine_amount\"].agg([\"sum\",\"count\"])\n",
    "group_by_quoted_articles = group_by_quoted_articles.sort_values(by=\"sum\", ascending=False)\n",
    "total_sum = group_by_quoted_articles['sum'].sum()\n",
    "group_by_quoted_articles['percentage_of_total'] = (group_by_quoted_articles['sum'] / total_sum) * 100\n",
    "\n",
    "print(group_by_quoted_articles)"
   ]
  },
  {
   "cell_type": "code",
   "execution_count": 64,
   "id": "b0fe040d-aae9-4bfa-824c-24e0e14780d2",
   "metadata": {},
   "outputs": [
    {
     "data": {
      "image/png": "[encoded data removed]",
      "text/plain": [
       "<Figure size 1000x600 with 1 Axes>"
      ]
     },
     "metadata": {},
     "output_type": "display_data"
    }
   ],
   "source": [
    "\n",
    "# Group by both 'type_of_fine' and 'year', then aggregate by the sum of 'fine_amount'\n",
    "group_by_quoted_articles_and_year = cleaned_df.groupby(by=[\"cleaned_quoted_articles\", \"year\"])[\"fine_amount\"].agg([\"sum\"])\n",
    "\n",
    "# Unstack the 'type_of_fine' to make each fine type a separate column\n",
    "group_by_quoted_articles_and_year_unstacked = group_by_quoted_articles_and_year.unstack(level=\"cleaned_quoted_articles\")[\"sum\"]\n",
    "\n",
    "# Plot the stacked bar chart\n",
    "ax = group_by_quoted_articles_and_year_unstacked.plot(kind=\"bar\", stacked=True, figsize=(10, 6))\n",
    "\n",
    "# Adding labels and title\n",
    "plt.xlabel(\"Year\")\n",
    "plt.ylabel(\"Total Fine Amount\")\n",
    "plt.title(\"Total Fine Amount by Year and quoted articles (Stacked)\")\n",
    "\n",
    "# Manually select the labels you want to show\n",
    "selected_labels =  [\"{'32', '5'}\", \"{'5', '6', '14', '13'}\", \"{'5', '6'}\",'{}',\n",
    " \"{'35', '5', '6', '24', '12', '25'}\", \"{'46'}\", \"{'44'}\"]\n",
    "colors = ['#FF5733']*len(selected_labels) #'#33FF57']  # Example colors for selected labels\n",
    "\n",
    "# Get the current legend handles and labels\n",
    "handles, labels = ax.get_legend_handles_labels()\n",
    "\n",
    "# Filter out the desired handles and labels (keep only selected labels)\n",
    "filtered_handles = [handles[i] for i, label in enumerate(labels) if label in selected_labels]\n",
    "filtered_labels = [label for label in labels if label in selected_labels]\n",
    "\n",
    "# Assign the same color to all other labels\n",
    "other_handles = [handles[i] for i, label in enumerate(labels) if label not in selected_labels]\n",
    "other_labels = ['Other'] * 1  # Combine all non-selected labels as 'Other'\n",
    "\n",
    "# Combine selected and non-selected items\n",
    "final_handles = filtered_handles + other_handles\n",
    "final_labels = filtered_labels + other_labels\n",
    "\n",
    "# Apply new legend with colors\n",
    "plt.legend(handles=final_handles, labels=final_labels, title=\"List of Quoted Articles \", fontsize=10, bbox_to_anchor=(0, 1), loc=\"upper left\")\n",
    "\n",
    "# Show the plot\n",
    "plt.show()\n"
   ]
  },
  {
   "cell_type": "code",
   "execution_count": 65,
   "id": "cc89389c-688d-4073-8f99-562fda7857d0",
   "metadata": {},
   "outputs": [
    {
     "data": {
      "text/html": [
       "<div>\n",
       "<style scoped>\n",
       "    .dataframe tbody tr th:only-of-type {\n",
       "        vertical-align: middle;\n",
       "    }\n",
       "\n",
       "    .dataframe tbody tr th {\n",
       "        vertical-align: top;\n",
       "    }\n",
       "\n",
       "    .dataframe thead th {\n",
       "        text-align: right;\n",
       "    }\n",
       "</style>\n",
       "<table border=\"1\" class=\"dataframe\">\n",
       "  <thead>\n",
       "    <tr style=\"text-align: right;\">\n",
       "      <th>cleaned_quoted_articles</th>\n",
       "      <th>{'10', '6'}</th>\n",
       "      <th>{'11', '14', '13'}</th>\n",
       "      <th>{'11', '32', '28'}</th>\n",
       "      <th>{'113', '114', '5', '6'}</th>\n",
       "      <th>{'113', '5', '6', '88'}</th>\n",
       "      <th>{'114', '15', '5', '12', '13'}</th>\n",
       "      <th>{'114', '5', '88'}</th>\n",
       "      <th>{'114', '5'}</th>\n",
       "      <th>{'12', '11'}</th>\n",
       "      <th>{'12', '13', '14', '5'}</th>\n",
       "      <th>...</th>\n",
       "      <th>{'8', '5', '6', '9'}</th>\n",
       "      <th>{'8', '5', '6'}</th>\n",
       "      <th>{'82', '5', '28'}</th>\n",
       "      <th>{'82', '6', '9', '5', '32', '28', '12', '13', '33'}</th>\n",
       "      <th>{'82'}</th>\n",
       "      <th>{'9', '18', '17', '16', '15', '5', '12', '32'}</th>\n",
       "      <th>{'9', '5', '28', '2-sexies', '2-septies', '32', '29'}</th>\n",
       "      <th>{'9', '5', '32', '12', '13'}</th>\n",
       "      <th>{'9'}</th>\n",
       "      <th>{}</th>\n",
       "    </tr>\n",
       "    <tr>\n",
       "      <th>year</th>\n",
       "      <th></th>\n",
       "      <th></th>\n",
       "      <th></th>\n",
       "      <th></th>\n",
       "      <th></th>\n",
       "      <th></th>\n",
       "      <th></th>\n",
       "      <th></th>\n",
       "      <th></th>\n",
       "      <th></th>\n",
       "      <th></th>\n",
       "      <th></th>\n",
       "      <th></th>\n",
       "      <th></th>\n",
       "      <th></th>\n",
       "      <th></th>\n",
       "      <th></th>\n",
       "      <th></th>\n",
       "      <th></th>\n",
       "      <th></th>\n",
       "      <th></th>\n",
       "    </tr>\n",
       "  </thead>\n",
       "  <tbody>\n",
       "    <tr>\n",
       "      <th>2018.0</th>\n",
       "      <td>NaN</td>\n",
       "      <td>NaN</td>\n",
       "      <td>NaN</td>\n",
       "      <td>NaN</td>\n",
       "      <td>NaN</td>\n",
       "      <td>NaN</td>\n",
       "      <td>NaN</td>\n",
       "      <td>NaN</td>\n",
       "      <td>NaN</td>\n",
       "      <td>NaN</td>\n",
       "      <td>...</td>\n",
       "      <td>NaN</td>\n",
       "      <td>NaN</td>\n",
       "      <td>NaN</td>\n",
       "      <td>NaN</td>\n",
       "      <td>NaN</td>\n",
       "      <td>NaN</td>\n",
       "      <td>NaN</td>\n",
       "      <td>NaN</td>\n",
       "      <td>NaN</td>\n",
       "      <td>500.0</td>\n",
       "    </tr>\n",
       "    <tr>\n",
       "      <th>2019.0</th>\n",
       "      <td>NaN</td>\n",
       "      <td>NaN</td>\n",
       "      <td>NaN</td>\n",
       "      <td>NaN</td>\n",
       "      <td>NaN</td>\n",
       "      <td>NaN</td>\n",
       "      <td>NaN</td>\n",
       "      <td>NaN</td>\n",
       "      <td>NaN</td>\n",
       "      <td>NaN</td>\n",
       "      <td>...</td>\n",
       "      <td>NaN</td>\n",
       "      <td>NaN</td>\n",
       "      <td>NaN</td>\n",
       "      <td>NaN</td>\n",
       "      <td>NaN</td>\n",
       "      <td>NaN</td>\n",
       "      <td>NaN</td>\n",
       "      <td>NaN</td>\n",
       "      <td>NaN</td>\n",
       "      <td>NaN</td>\n",
       "    </tr>\n",
       "    <tr>\n",
       "      <th>2020.0</th>\n",
       "      <td>NaN</td>\n",
       "      <td>NaN</td>\n",
       "      <td>NaN</td>\n",
       "      <td>NaN</td>\n",
       "      <td>NaN</td>\n",
       "      <td>NaN</td>\n",
       "      <td>NaN</td>\n",
       "      <td>NaN</td>\n",
       "      <td>NaN</td>\n",
       "      <td>NaN</td>\n",
       "      <td>...</td>\n",
       "      <td>NaN</td>\n",
       "      <td>NaN</td>\n",
       "      <td>NaN</td>\n",
       "      <td>NaN</td>\n",
       "      <td>NaN</td>\n",
       "      <td>NaN</td>\n",
       "      <td>NaN</td>\n",
       "      <td>NaN</td>\n",
       "      <td>30000.0</td>\n",
       "      <td>4100.0</td>\n",
       "    </tr>\n",
       "    <tr>\n",
       "      <th>2021.0</th>\n",
       "      <td>NaN</td>\n",
       "      <td>55000.0</td>\n",
       "      <td>30000.0</td>\n",
       "      <td>NaN</td>\n",
       "      <td>NaN</td>\n",
       "      <td>NaN</td>\n",
       "      <td>NaN</td>\n",
       "      <td>NaN</td>\n",
       "      <td>NaN</td>\n",
       "      <td>225000000.0</td>\n",
       "      <td>...</td>\n",
       "      <td>NaN</td>\n",
       "      <td>2751000.0</td>\n",
       "      <td>NaN</td>\n",
       "      <td>NaN</td>\n",
       "      <td>210000000.0</td>\n",
       "      <td>NaN</td>\n",
       "      <td>NaN</td>\n",
       "      <td>NaN</td>\n",
       "      <td>600.0</td>\n",
       "      <td>747307300.0</td>\n",
       "    </tr>\n",
       "    <tr>\n",
       "      <th>2022.0</th>\n",
       "      <td>2000000.0</td>\n",
       "      <td>NaN</td>\n",
       "      <td>NaN</td>\n",
       "      <td>100000.0</td>\n",
       "      <td>12000.0</td>\n",
       "      <td>10000.0</td>\n",
       "      <td>NaN</td>\n",
       "      <td>3000.0</td>\n",
       "      <td>2000.0</td>\n",
       "      <td>720000.0</td>\n",
       "      <td>...</td>\n",
       "      <td>NaN</td>\n",
       "      <td>NaN</td>\n",
       "      <td>NaN</td>\n",
       "      <td>NaN</td>\n",
       "      <td>NaN</td>\n",
       "      <td>NaN</td>\n",
       "      <td>NaN</td>\n",
       "      <td>NaN</td>\n",
       "      <td>122000.0</td>\n",
       "      <td>8114480.0</td>\n",
       "    </tr>\n",
       "    <tr>\n",
       "      <th>2023.0</th>\n",
       "      <td>NaN</td>\n",
       "      <td>NaN</td>\n",
       "      <td>NaN</td>\n",
       "      <td>NaN</td>\n",
       "      <td>NaN</td>\n",
       "      <td>NaN</td>\n",
       "      <td>NaN</td>\n",
       "      <td>50000.0</td>\n",
       "      <td>NaN</td>\n",
       "      <td>NaN</td>\n",
       "      <td>...</td>\n",
       "      <td>332000.0</td>\n",
       "      <td>NaN</td>\n",
       "      <td>125000.0</td>\n",
       "      <td>150000.0</td>\n",
       "      <td>NaN</td>\n",
       "      <td>10000.0</td>\n",
       "      <td>176000.0</td>\n",
       "      <td>NaN</td>\n",
       "      <td>50000.0</td>\n",
       "      <td>6125400.0</td>\n",
       "    </tr>\n",
       "    <tr>\n",
       "      <th>2024.0</th>\n",
       "      <td>NaN</td>\n",
       "      <td>NaN</td>\n",
       "      <td>NaN</td>\n",
       "      <td>NaN</td>\n",
       "      <td>NaN</td>\n",
       "      <td>NaN</td>\n",
       "      <td>5000.0</td>\n",
       "      <td>NaN</td>\n",
       "      <td>NaN</td>\n",
       "      <td>NaN</td>\n",
       "      <td>...</td>\n",
       "      <td>NaN</td>\n",
       "      <td>NaN</td>\n",
       "      <td>NaN</td>\n",
       "      <td>NaN</td>\n",
       "      <td>NaN</td>\n",
       "      <td>NaN</td>\n",
       "      <td>NaN</td>\n",
       "      <td>300000.0</td>\n",
       "      <td>NaN</td>\n",
       "      <td>14090300.0</td>\n",
       "    </tr>\n",
       "  </tbody>\n",
       "</table>\n",
       "<p>7 rows × 425 columns</p>\n",
       "</div>"
      ],
      "text/plain": [
       "cleaned_quoted_articles  {'10', '6'}  {'11', '14', '13'}  {'11', '32', '28'}  \\\n",
       "year                                                                           \n",
       "2018.0                           NaN                 NaN                 NaN   \n",
       "2019.0                           NaN                 NaN                 NaN   \n",
       "2020.0                           NaN                 NaN                 NaN   \n",
       "2021.0                           NaN             55000.0             30000.0   \n",
       "2022.0                     2000000.0                 NaN                 NaN   \n",
       "2023.0                           NaN                 NaN                 NaN   \n",
       "2024.0                           NaN                 NaN                 NaN   \n",
       "\n",
       "cleaned_quoted_articles  {'113', '114', '5', '6'}  {'113', '5', '6', '88'}  \\\n",
       "year                                                                         \n",
       "2018.0                                        NaN                      NaN   \n",
       "2019.0                                        NaN                      NaN   \n",
       "2020.0                                        NaN                      NaN   \n",
       "2021.0                                        NaN                      NaN   \n",
       "2022.0                                   100000.0                  12000.0   \n",
       "2023.0                                        NaN                      NaN   \n",
       "2024.0                                        NaN                      NaN   \n",
       "\n",
       "cleaned_quoted_articles  {'114', '15', '5', '12', '13'}  {'114', '5', '88'}  \\\n",
       "year                                                                          \n",
       "2018.0                                              NaN                 NaN   \n",
       "2019.0                                              NaN                 NaN   \n",
       "2020.0                                              NaN                 NaN   \n",
       "2021.0                                              NaN                 NaN   \n",
       "2022.0                                          10000.0                 NaN   \n",
       "2023.0                                              NaN                 NaN   \n",
       "2024.0                                              NaN              5000.0   \n",
       "\n",
       "cleaned_quoted_articles  {'114', '5'}  {'12', '11'}  {'12', '13', '14', '5'}  \\\n",
       "year                                                                           \n",
       "2018.0                            NaN           NaN                      NaN   \n",
       "2019.0                            NaN           NaN                      NaN   \n",
       "2020.0                            NaN           NaN                      NaN   \n",
       "2021.0                            NaN           NaN              225000000.0   \n",
       "2022.0                         3000.0        2000.0                 720000.0   \n",
       "2023.0                        50000.0           NaN                      NaN   \n",
       "2024.0                            NaN           NaN                      NaN   \n",
       "\n",
       "cleaned_quoted_articles  ...  {'8', '5', '6', '9'}  {'8', '5', '6'}  \\\n",
       "year                     ...                                          \n",
       "2018.0                   ...                   NaN              NaN   \n",
       "2019.0                   ...                   NaN              NaN   \n",
       "2020.0                   ...                   NaN              NaN   \n",
       "2021.0                   ...                   NaN        2751000.0   \n",
       "2022.0                   ...                   NaN              NaN   \n",
       "2023.0                   ...              332000.0              NaN   \n",
       "2024.0                   ...                   NaN              NaN   \n",
       "\n",
       "cleaned_quoted_articles  {'82', '5', '28'}  \\\n",
       "year                                         \n",
       "2018.0                                 NaN   \n",
       "2019.0                                 NaN   \n",
       "2020.0                                 NaN   \n",
       "2021.0                                 NaN   \n",
       "2022.0                                 NaN   \n",
       "2023.0                            125000.0   \n",
       "2024.0                                 NaN   \n",
       "\n",
       "cleaned_quoted_articles  {'82', '6', '9', '5', '32', '28', '12', '13', '33'}  \\\n",
       "year                                                                           \n",
       "2018.0                                                                 NaN     \n",
       "2019.0                                                                 NaN     \n",
       "2020.0                                                                 NaN     \n",
       "2021.0                                                                 NaN     \n",
       "2022.0                                                                 NaN     \n",
       "2023.0                                                            150000.0     \n",
       "2024.0                                                                 NaN     \n",
       "\n",
       "cleaned_quoted_articles       {'82'}  \\\n",
       "year                                   \n",
       "2018.0                           NaN   \n",
       "2019.0                           NaN   \n",
       "2020.0                           NaN   \n",
       "2021.0                   210000000.0   \n",
       "2022.0                           NaN   \n",
       "2023.0                           NaN   \n",
       "2024.0                           NaN   \n",
       "\n",
       "cleaned_quoted_articles  {'9', '18', '17', '16', '15', '5', '12', '32'}  \\\n",
       "year                                                                      \n",
       "2018.0                                                              NaN   \n",
       "2019.0                                                              NaN   \n",
       "2020.0                                                              NaN   \n",
       "2021.0                                                              NaN   \n",
       "2022.0                                                              NaN   \n",
       "2023.0                                                          10000.0   \n",
       "2024.0                                                              NaN   \n",
       "\n",
       "cleaned_quoted_articles  {'9', '5', '28', '2-sexies', '2-septies', '32', '29'}  \\\n",
       "year                                                                             \n",
       "2018.0                                                                 NaN       \n",
       "2019.0                                                                 NaN       \n",
       "2020.0                                                                 NaN       \n",
       "2021.0                                                                 NaN       \n",
       "2022.0                                                                 NaN       \n",
       "2023.0                                                            176000.0       \n",
       "2024.0                                                                 NaN       \n",
       "\n",
       "cleaned_quoted_articles  {'9', '5', '32', '12', '13'}     {'9'}           {}  \n",
       "year                                                                          \n",
       "2018.0                                            NaN       NaN        500.0  \n",
       "2019.0                                            NaN       NaN          NaN  \n",
       "2020.0                                            NaN   30000.0       4100.0  \n",
       "2021.0                                            NaN     600.0  747307300.0  \n",
       "2022.0                                            NaN  122000.0    8114480.0  \n",
       "2023.0                                            NaN   50000.0    6125400.0  \n",
       "2024.0                                       300000.0       NaN   14090300.0  \n",
       "\n",
       "[7 rows x 425 columns]"
      ]
     },
     "execution_count": 65,
     "metadata": {},
     "output_type": "execute_result"
    }
   ],
   "source": [
    "group_by_quoted_articles_and_year_unstacked"
   ]
  },
  {
   "cell_type": "code",
   "execution_count": 66,
   "id": "73efaecf-7305-4605-93d6-1f741b17afa5",
   "metadata": {},
   "outputs": [
    {
     "name": "stdout",
     "output_type": "stream",
     "text": [
      "year\n",
      "2018.0    4.000000e+05\n",
      "2019.0    5.000000e+07\n",
      "2020.0    3.801303e+07\n",
      "2021.0    7.473073e+08\n",
      "2022.0    4.050000e+08\n",
      "2023.0    1.200000e+09\n",
      "2024.0    2.900000e+08\n",
      "dtype: float64 [\"{'32', '5'}\" \"{'5', '14', '13', '6'}\" \"{'5', '6'}\" '{}'\n",
      " \"{'6', '25', '5', '12', '24', '35'}\" \"{'46'}\" \"{'44'}\"]\n"
     ]
    }
   ],
   "source": [
    "print(group_by_quoted_articles_and_year_unstacked.max(axis=1),group_by_quoted_articles_and_year_unstacked.idxmax(axis=1).values)"
   ]
  },
  {
   "cell_type": "code",
   "execution_count": null,
   "id": "8b0cf172-5fdc-4f2b-9d7e-8ae4cbd5fd9d",
   "metadata": {},
   "outputs": [],
   "source": []
  }
 ],
 "metadata": {
  "kernelspec": {
   "display_name": "Python 3 (ipykernel)",
   "language": "python",
   "name": "python3"
  },
  "language_info": {
   "codemirror_mode": {
    "name": "ipython",
    "version": 3
   },
   "file_extension": ".py",
   "mimetype": "text/x-python",
   "name": "python",
   "nbconvert_exporter": "python",
   "pygments_lexer": "ipython3",
   "version": "3.8.20"
  }
 },
 "nbformat": 4,
 "nbformat_minor": 5
}
