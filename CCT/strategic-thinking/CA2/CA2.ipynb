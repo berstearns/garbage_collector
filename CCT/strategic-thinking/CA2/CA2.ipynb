{
 "cells": [
  {
   "cell_type": "code",
   "execution_count": 1,
   "id": "af2142da-b2fa-49bd-97de-39efd185b008",
   "metadata": {},
   "outputs": [],
   "source": [
    "import pandas as pd\n",
    "import matplotlib\n",
    "import matplotlib.pyplot as plt\n",
    "import numpy as np"
   ]
  },
  {
   "cell_type": "markdown",
   "id": "f0d2b53c-955a-4084-a4e0-d6a6f6d10248",
   "metadata": {},
   "source": [
    "## Data Preparation"
   ]
  },
  {
   "cell_type": "code",
   "execution_count": 2,
   "id": "37acf1a6-34a7-488b-b8c6-adfa3f257214",
   "metadata": {
    "scrolled": true
   },
   "outputs": [
    {
     "name": "stdout",
     "output_type": "stream",
     "text": [
      "(2562, 10) (2454, 10)\n"
     ]
    }
   ],
   "source": [
    "# loading the dataset\n",
    "# the dataset was scraped from https://www.enforcementtracker.com/\n",
    "# and represents a public list of fines that \n",
    "# data protection authorities within the EU have imposed under the EU General Data Protection Regulation (GDPR, DSGVO).\n",
    "df = pd.read_csv(\"./dataset.csv\")\n",
    "df_wo_dup =  df.drop_duplicates()\n",
    "df_wo_dup.to_csv(\"./dataset_wo_dup.csv\")\n",
    "print(df.shape,df_wo_dup.shape)\n",
    "df = pd.read_csv(\"./dataset_wo_dup.csv\",index_col=0)"
   ]
  },
  {
   "cell_type": "code",
   "execution_count": 3,
   "id": "4f0ea1d7-09f5-4769-b651-b33cbe560567",
   "metadata": {},
   "outputs": [
    {
     "data": {
      "text/plain": [
       "0"
      ]
     },
     "execution_count": 3,
     "metadata": {},
     "output_type": "execute_result"
    }
   ],
   "source": [
    "df.duplicated().sum()"
   ]
  },
  {
   "cell_type": "code",
   "execution_count": null,
   "id": "5b3c3864-5bd8-4451-99c4-7ed04abf2133",
   "metadata": {
    "scrolled": true
   },
   "outputs": [],
   "source": []
  },
  {
   "cell_type": "code",
   "execution_count": 4,
   "id": "46dca3e5-06bd-4896-8314-9aaaf30bef54",
   "metadata": {},
   "outputs": [
    {
     "name": "stdout",
     "output_type": "stream",
     "text": [
      "Index(['country', 'agency', 'date_of_decision', 'fine_amount_euro',\n",
      "       'controller_processor', 'sector', 'quoted_articles', 'type', 'summary',\n",
      "       'links'],\n",
      "      dtype='object')\n"
     ]
    }
   ],
   "source": [
    "# claryifying colum names\n",
    "print(df.columns)\n",
    "df.columns = ['country', 'agency', 'date_of_decision', 'fine_amount',\n",
    "       'controller', 'sector', 'list_of_quoted_articles', 'type_of_fine', 'summary_of_case',\n",
    "       'links']"
   ]
  },
  {
   "cell_type": "markdown",
   "id": "e3e15689-012f-4a36-b205-112a90beb5a3",
   "metadata": {},
   "source": [
    "### cleaning fine_amount"
   ]
  },
  {
   "cell_type": "code",
   "execution_count": 5,
   "id": "07465749-979d-4850-9d47-73fd32bedfee",
   "metadata": {},
   "outputs": [],
   "source": [
    "cleaned_df = df.copy()"
   ]
  },
  {
   "cell_type": "code",
   "execution_count": 6,
   "id": "c0a0ff59-527e-4cf5-b796-ff9c3bfb3d21",
   "metadata": {},
   "outputs": [
    {
     "name": "stdout",
     "output_type": "stream",
     "text": [
      "object\n",
      "fine_amount\n",
      "2,000        153\n",
      "5,000        128\n",
      "3,000        126\n",
      "10,000       110\n",
      "1,000        103\n",
      "            ... \n",
      "3,700,000      1\n",
      "8,300          1\n",
      "14,500         1\n",
      "20,900         1\n",
      "588            1\n",
      "Name: count, Length: 481, dtype: int64\n"
     ]
    }
   ],
   "source": [
    "print(df['fine_amount'].dtype)\n",
    "print(df['fine_amount'].value_counts())"
   ]
  },
  {
   "cell_type": "code",
   "execution_count": 7,
   "id": "92d6ecc8-fe4c-40e6-9f74-0446b6c1601d",
   "metadata": {},
   "outputs": [
    {
     "data": {
      "text/plain": [
       "141"
      ]
     },
     "execution_count": 7,
     "metadata": {},
     "output_type": "execute_result"
    }
   ],
   "source": [
    "# used snippet of code found here https://stackoverflow.com/questions/22137723/convert-number-strings-with-commas-in-pandas-dataframe-to-float\n",
    "# most of the fine amounts are in the format \"7,000\" so I replace \",\" with \"\"\n",
    "# 141 rows have a non-numeric format \n",
    "df['fine_amount'] = df['fine_amount'].str.replace(',', '')\n",
    "cleaned_df['fine_amount'] = cleaned_df['fine_amount'].str.replace(',', '')\n",
    "rows_with_nan = pd.to_numeric(df['fine_amount'], errors='coerce')\n",
    "rows_with_nan.isnull().sum()"
   ]
  },
  {
   "cell_type": "code",
   "execution_count": 8,
   "id": "886752ba-5f92-4c8a-8fb5-f33bbda23fab",
   "metadata": {},
   "outputs": [
    {
     "data": {
      "text/plain": [
       "(2454, 10)"
      ]
     },
     "execution_count": 8,
     "metadata": {},
     "output_type": "execute_result"
    }
   ],
   "source": [
    "# we have 2313 fine cases with defined numerical fine amount\n",
    "cleaned_df.shape"
   ]
  },
  {
   "cell_type": "code",
   "execution_count": 9,
   "id": "d8146296-5186-48cf-b06e-7d09dc4ab35a",
   "metadata": {},
   "outputs": [],
   "source": [
    "# https://stackoverflow.com/questions/35682719/drop-rows-with-a-question-mark-value-in-any-column-in-a-pandas-dataframe\n",
    "# Remove rows with any column having 'Unknown'\n",
    "# df_any = df[~(df == 'Unknown').any(axis=1)]\n",
    "# df_any.shape"
   ]
  },
  {
   "cell_type": "code",
   "execution_count": 10,
   "id": "54c1d885-f13e-426d-b385-56f9d2903a19",
   "metadata": {
    "scrolled": true
   },
   "outputs": [
    {
     "name": "stdout",
     "output_type": "stream",
     "text": [
      "fine_amount\n",
      "Unknown                                     96\n",
      "Fine in four-digit amount                   10\n",
      "Fine in three-digit amount                  10\n",
      "Fine in five-digit amount                    9\n",
      "Only intention to issue fine                 6\n",
      "Fine amount between EUR 100 and EUR 1000     2\n",
      "Fine amount between EUR 500 and EUR 4000     1\n",
      "Fine amount between EUR 200 and EUR 1000     1\n",
      "Fine in six-digit amount                     1\n",
      "Fine amount between EUR 400 and EUR 600      1\n",
      "Fine amount between EUR 300 and EUR 400      1\n",
      "Fine amount between EUR 50 and EUR 100       1\n",
      "Fine amount between EUR 350 and EUR 1000     1\n",
      "Fine amount between EUR 50 and EUR 800       1\n",
      "Name: count, dtype: int64\n"
     ]
    }
   ],
   "source": [
    "# There are 96 rows with Unknown fine amount\n",
    "# the other 45 rows are specified in range of value, not the actual value\n",
    "# I'll remove all of those as there no imputation that can be done\n",
    "print(df[rows_with_nan.isnull()]['fine_amount'].value_counts())\n",
    "#print(df[ df['fine_amount'] == \"Unknown\"])\n"
   ]
  },
  {
   "cell_type": "code",
   "execution_count": 11,
   "id": "2c123e58-4070-47c9-8506-42ab7a466a3d",
   "metadata": {},
   "outputs": [
    {
     "data": {
      "text/plain": [
       "(2313, 10)"
      ]
     },
     "execution_count": 11,
     "metadata": {},
     "output_type": "execute_result"
    }
   ],
   "source": [
    "# we have 2313 fine cases with defined numerical fine amount\n",
    "cleaned_df = cleaned_df[~(rows_with_nan.isnull())]\n",
    "cleaned_df['fine_amount'] = pd.to_numeric(cleaned_df['fine_amount'])\n",
    "cleaned_df.shape"
   ]
  },
  {
   "cell_type": "markdown",
   "id": "d43407e1-c9f8-4417-9af9-b88d5af68e0b",
   "metadata": {},
   "source": [
    "### cleaning others"
   ]
  },
  {
   "cell_type": "code",
   "execution_count": 12,
   "id": "b4ad58e0-204d-4c58-b90d-6c18b50e8a7f",
   "metadata": {},
   "outputs": [],
   "source": [
    "# df['quoted_articles']"
   ]
  },
  {
   "cell_type": "code",
   "execution_count": 13,
   "id": "7c84e770-cd12-46f9-bb20-922022279d32",
   "metadata": {},
   "outputs": [
    {
     "name": "stdout",
     "output_type": "stream",
     "text": [
      "country\n",
      "SPAIN              894\n",
      "ITALY              384\n",
      "GERMANY            194\n",
      "ROMANIA            187\n",
      "POLAND              79\n",
      "GREECE              70\n",
      "HUNGARY             68\n",
      "FRANCE              62\n",
      "NORWAY              53\n",
      "CYPRUS              44\n",
      "SWEDEN              41\n",
      "BELGIUM             41\n",
      "LUXEMBOURG          32\n",
      "CROATIA             29\n",
      "IRELAND             28\n",
      "THE NETHERLANDS     28\n",
      "CZECH REPUBLIC      27\n",
      "DENMARK             26\n",
      "BULGARIA            25\n",
      "AUSTRIA             25\n",
      "ICELAND             21\n",
      "FINLAND             21\n",
      "UNITED KINGDOM      15\n",
      "MALTA               14\n",
      "LITHUANIA           12\n",
      "SLOVAKIA             9\n",
      "LATVIA               8\n",
      "PORTUGAL             7\n",
      "ESTONIA              6\n",
      "ISLE OF MAN          3\n",
      "LIECHTENSTEIN        1\n",
      "Name: count, dtype: int64\n"
     ]
    },
    {
     "name": "stdin",
     "output_type": "stream",
     "text": [
      " \n"
     ]
    },
    {
     "name": "stdout",
     "output_type": "stream",
     "text": [
      "agency\n",
      "Spanish Data Protection Authority (aepd)                                                  894\n",
      "Italian Data Protection Authority (Garante)                                               384\n",
      "Romanian National Supervisory Authority for Personal Data Processing (ANSPDCP)            187\n",
      "Polish National Personal Data Protection Office (UODO)                                     78\n",
      "Hellenic Data Protection Authority (HDPA)                                                  70\n",
      "Hungarian National Authority for Data Protection and the Freedom of Information (NAIH)     68\n",
      "French Data Protection Authority (CNIL)                                                    62\n",
      "Norwegian Supervisory Authority (Datatilsynet)                                             53\n",
      "Cypriot Data Protection Commissioner                                                       44\n",
      "Belgian Data Protection Authority (APD)                                                    41\n",
      "Data Protection Authority of Hamburg                                                       38\n",
      "National Commission for Data Protection (CNPD)                                             32\n",
      "Croatian Data Protection Authority (azop)                                                  29\n",
      "Data Protection Authority of Sweden (Integritetsskyddsmyndigheten)                         29\n",
      "Dutch Supervisory Authority for Data Protection (AP)                                       28\n",
      "Data Protection Authority of Ireland                                                       28\n",
      "Czech Data Protection Auhtority (UOOU)                                                     27\n",
      "Data Protection Authority of Berlin                                                        26\n",
      "Danish Data Protection Authority (Datatilsynet)                                            26\n",
      "Austrian Data Protection Authority (dsb)                                                   25\n",
      "Data Protection Authority of Bremen                                                        22\n",
      "Deputy Data Protection Ombudsman                                                           21\n",
      "Icelandic data protection authority ('Persónuvernd')                                       21\n",
      "Data Protection Authority of Brandenburg                                                   20\n",
      "Data Protection Authority of Baden-Wuerttemberg                                            18\n",
      "Information Commissioner (ICO)                                                             15\n",
      "Data Protection Authority of Hessen                                                        15\n",
      "Data Protection Commissioner of Malta                                                      14\n",
      "Data Protection Authority of Niedersachsen                                                 14\n",
      "Data Protection Authority of Sweden                                                        12\n",
      "Lithuanian Data Protection Authority (VDAI)                                                12\n",
      "Bulgarian Commission for Personal Data Protection (KZLD)                                    9\n",
      "Slovak Data Protection Office                                                               9\n",
      "Data Protection Commision of Bulgaria (KZLD)                                                9\n",
      "Data State Inspectorate (DSI)                                                               8\n",
      "Data Protection Authority of Bavaria                                                        7\n",
      "Commission for Personal Data Protection (KZLD)                                              7\n",
      "Portuguese Data Protection Authority (CNPD)                                                 7\n",
      "Data Protection Authority of Saarland                                                       6\n",
      "Estonian Data Protection Authority (AKI)                                                    6\n",
      "Data Protection Authority of  Saxony                                                        5\n",
      "Data Protection Authority of Schleswig-Holstein                                             4\n",
      "Data Protection Authority of Sachsen-Anhalt                                                 4\n",
      "Data Protection Authority of Saxony                                                         3\n",
      "Information Commissioner of Isle of Man                                                     3\n",
      "Data Protection Authority of Rhineland-Palatinate                                           3\n",
      "Data Protection Authority of Nordrhein-Westfalen                                            2\n",
      "The Federal Commissioner for Data Protection and Freedom of Information (BfDI)              2\n",
      "Data Protection Authority of Thüringen                                                      2\n",
      "Polish Data Protection Authority (UODO)                                                     1\n",
      "Data Protection Authority of Liechtenstein                                                  1\n",
      "Data Protection Authority of Rheinland-Pfalz                                                1\n",
      "Data Protection Authority of  Baden-Wuerttemberg                                            1\n",
      "Data Protection Authority of Mecklenburg-Vorpommern                                         1\n",
      "Name: count, dtype: int64\n"
     ]
    },
    {
     "name": "stdin",
     "output_type": "stream",
     "text": [
      " \n"
     ]
    },
    {
     "name": "stdout",
     "output_type": "stream",
     "text": [
      "date_of_decision\n",
      "2022          70\n",
      "2021          53\n",
      "2023          38\n",
      "2020          38\n",
      "2019          24\n",
      "              ..\n",
      "2022-03-02     1\n",
      "2022-03-03     1\n",
      "2022-03-04     1\n",
      "2022-03-21     1\n",
      "2024-09-27     1\n",
      "Name: count, Length: 936, dtype: int64\n"
     ]
    },
    {
     "name": "stdin",
     "output_type": "stream",
     "text": [
      " \n"
     ]
    },
    {
     "name": "stdout",
     "output_type": "stream",
     "text": [
      "fine_amount\n",
      "2000       153\n",
      "5000       128\n",
      "3000       126\n",
      "10000      110\n",
      "1000       103\n",
      "          ... \n",
      "3700000      1\n",
      "8300         1\n",
      "14500        1\n",
      "20900        1\n",
      "588          1\n",
      "Name: count, Length: 481, dtype: int64\n"
     ]
    },
    {
     "name": "stdin",
     "output_type": "stream",
     "text": [
      " \n"
     ]
    },
    {
     "name": "stdout",
     "output_type": "stream",
     "text": [
      "controller\n",
      "Private individual                           184\n",
      "Unknown                                      123\n",
      "Company                                       73\n",
      "Vodafone España, S.A.U.                       62\n",
      "Physician                                     20\n",
      "                                            ... \n",
      "ADSL HOUSE, S.L.                               1\n",
      "EL RACO DEL PIS INVERSIONES S.L.               1\n",
      "AIO E-COMMERCE, S.L.                           1\n",
      "ACKERMANN & SCHWARTZ ATTORNEYS AT LAW SLP      1\n",
      "Alza.cz a.s.                                   1\n",
      "Name: count, Length: 1644, dtype: int64\n"
     ]
    },
    {
     "name": "stdin",
     "output_type": "stream",
     "text": [
      " \n"
     ]
    },
    {
     "name": "stdout",
     "output_type": "stream",
     "text": [
      "sector\n",
      "Industry and Commerce                   483\n",
      "Individuals and Private Associations    349\n",
      "Media, Telecoms and Broadcasting        301\n",
      "Public Sector and Education             264\n",
      "Finance, Insurance and Consulting       242\n",
      "Health Care                             228\n",
      "Not assigned                            162\n",
      "Employment                              154\n",
      "Transportation and Energy               124\n",
      "Accomodation and Hospitalty              79\n",
      "Real Estate                              68\n",
      "Name: count, dtype: int64\n"
     ]
    },
    {
     "name": "stdin",
     "output_type": "stream",
     "text": [
      " \n"
     ]
    },
    {
     "name": "stdout",
     "output_type": "stream",
     "text": [
      "list_of_quoted_articles\n",
      "Art. 5 (1) c) GDPR                                                                       157\n",
      "Art. 6 (1) GDPR                                                                          150\n",
      "Art. 5 GDPR, Art. 6 GDPR                                                                 121\n",
      "Art. 13 GDPR                                                                             107\n",
      "Art. 32 GDPR                                                                              93\n",
      "                                                                                        ... \n",
      "Art. 5 (1) a) GDPR, Art. 6 GDPR, Art. 9 GDPR, Art. 13 (1) c) GDPR, Regulation 21 PECR      1\n",
      "Art. 5 (1) a), f) GDPR, Art. 6 (1) a) GDPR                                                 1\n",
      "Art. 5 (1) a), b) GDPR, Art. 6 (1) GDPR, Art. 12 (1) GDPR, Art. 13 GDPR                    1\n",
      "Art. 5 (1) a) GDPR, Art. 5 (2) GDPR, Art. 12 (3), (4) GDPR, Art. 31 GDPR                   1\n",
      "Art. 6 (1) GDPR, Art. 5 (1) d) GDPR                                                        1\n",
      "Name: count, Length: 812, dtype: int64\n"
     ]
    },
    {
     "name": "stdin",
     "output_type": "stream",
     "text": [
      " \n"
     ]
    },
    {
     "name": "stdout",
     "output_type": "stream",
     "text": [
      "type_of_fine\n",
      "Insufficient legal basis for data processing                                         732\n",
      "Non-compliance with general data processing principles                               640\n",
      "Insufficient technical and organisational measures to ensure information security    417\n",
      "Insufficient fulfilment of data subjects rights                                      231\n",
      "Insufficient fulfilment of information obligations                                   201\n",
      "Insufficient cooperation with supervisory authority                                  128\n",
      "Insufficient fulfilment of data breach notification obligations                       47\n",
      "Insufficient involvement of data protection officer                                   23\n",
      "Unknown                                                                               23\n",
      "Insufficient data processing agreement                                                12\n",
      "Name: count, dtype: int64\n"
     ]
    },
    {
     "name": "stdin",
     "output_type": "stream",
     "text": [
      " \n"
     ]
    },
    {
     "name": "stdout",
     "output_type": "stream",
     "text": [
      "summary_of_case\n",
      "Failure to respond to the data subject's request for access to their data in a timely manner.                                                                                                                                                                                                                                                                                                                                                                                                                                                                                                                                                                                                                                                                                                                                                                                                                  6\n",
      "The Spanish DPA (AEPD) has fined a private individual EUR 300 for failing to provide sufficient information about a video surveillance system installed at their property.                                                                                                                                                                                                                                                                                                                                                                                                                                                                                                                                                                                                                                                                                                                                     5\n",
      "Unlawful use of a dashcam                                                                                                                                                                                                                                                                                                                                                                                                                                                                                                                                                                                                                                                                                                                                                                                                                                                                                      5\n",
      "The Spanish DPA (AEPD) has imposed a fine of EUR 600 on a private individual. The controller had installed video surveillance cameras which, among other things, also covered the public space and a neighbour property. The DPA considered this to be a violation of the principle of data minimization. In addition, the controller had not properly informed the data subjects about the processing of the data by the video surveillance and thus violated its duty to inform.                                                                                                                                                                                                                                                                                                                                                                                                                             4\n",
      "The Spanish DPA has imposed a fine of EUR 70,000 on Digi Spain Telecom, S.L.U.. A person had filed a complaint with the DPA because the company had given a duplicate of their SIM card to an unauthorized fraudulent third party without their consent. During its investigation, the DPA found that the company failed to verify the identity of the third party or obtain the data subject's consent to share their data. This allowed the fraudsters to gain access to the data subject's bank account and make unauthorized transactions.                                                                                                                                                                                                                                                                                                                                                                 4\n",
      "                                                                                                                                                                                                                                                                                                                                                                                                                                                                                                                                                                                                                                                                                                                                                                                                                                                                                                              ..\n",
      "The Spanish DPA has imposed a fine on Banco Bilbao Vizcaya Argentaria, S.A.. An individual had filed a complaint with the DPA due to requesting information on one of their accounts and then receiving contract information from a third party. The DPA found that the unauthorized disclosure of third-party data was due to inadequate technical and organizational measures at the bank. The original fine of EUR 80,000 was reduced to EUR 48,000 due to voluntary payment and admission of responsibility.                                                                                                                                                                                                                                                                                                                                                                                               1\n",
      "The Spanish DPA has imposed a fine of EUR 3,600 on XASTRE DO PETO, S.L. (restaurant). An individual had filed a complaint with the DPA due to the fact that the controller required them to fill out a form with their personal information for contact tracing purposes in the context of the Covid-19 pandemic. However, during its investigation, the DPA found that the legal basis for collecting the contact information had expired in the meantime and that the controller had therefore processed the data unlawfully. The DPA also found that the controller did not provide data subjects with sufficient information on data processing. The DPA further determined that the controller did not provide data subjects with an easy way to object to the processing of personal data.                                                                                                               1\n",
      "The Spanish DPA (AEPD) has imposed a fine on a Homeowners Association. The association had installed several video surveillance cameras across the residential area which, among other things, also covered the public space. The DPA considered this to be a violation of the principle of data minimization. The original fine of EUR 1,500 was reduced to EUR 900 due to voluntary payment and admission of responsibility.                                                                                                                                                                                                                                                                                                                                                                                                                                                                                 1\n",
      "The Italian DPA has imposed a fine of EUR 500,000 on Vodafone Italia S.p.A.. A customer had filed a complaint with the DPA against Vodafone. The 80-year-old customer had been contacted by an external call center commissioned by Vodafone. During the conversation, the call center concluded a new contract with the customer without their consent. During its investigation, the DPA also found that the customer had not received sufficient information about the processing of her personal data. In addition, the call center had read out the information too quickly, making the content incomprehensible. \\n\\nIn calculating the fine, the DPA took into account, as an aggravating factor, that Vodafone had already committed similar violations in the past. However, the fact that Vodafone immediately terminated the contract in question was taken into account as a mitigating factor.    1\n",
      "The Croatian DPA (azop) has imposed a fine of EUR 20,000 on a telecommunications company. A data subject had filed a complaint with the DPA claiming that the company was still processing their personal data even though they had not been a customer of the company for more than ten years. During its investigation, the DPA found that the company had still been storing the data due to an alleged debt. The debt was no longer outstanding, however, the company had failed to delete the data of the data subject due to a lack of measures to regularly verify that the stored data was up to date and accurate. The DPA concluded that the company had unlawfully processed the data and violated Art. 6 (1) GDPR in relation to Art. 5 (1) d) GDPR.                                                                                                                                               1\n",
      "Name: count, Length: 2346, dtype: int64\n"
     ]
    },
    {
     "name": "stdin",
     "output_type": "stream",
     "text": [
      " \n"
     ]
    },
    {
     "name": "stdout",
     "output_type": "stream",
     "text": [
      "links\n",
      "https://www.zaftda.de/tb-bundeslaender/bremen/832-5-tb-dsgvo-lfd-bremen-2022-o-drs-nr-vom-24-03-2023/file                                                                                                                                                    13\n",
      "https://www.zaftda.de/tb-bundeslaender/berlin/802-tb-lfd-berlin-2021-ohne-drs-nr-vom-24-05-2022/file                                                                                                                                                         13\n",
      "https://www.cnil.fr/fr/les-sanctions-prononcees-par-la-cnil                                                                                                                                                                                                  12\n",
      "https://azop.hr/izreceno-novih-10-upravnih-novcanih-kazni/                                                                                                                                                                                                   10\n",
      "https://www.zaftda.de/tb-bundeslaender/brandenburg/landesdatenschutzbeauftragte/797-23-tb-lfd-brandenburg-2021-o-drs-nr-vom-09-05-2022/file                                                                                                                   9\n",
      "                                                                                                                                                                                                                                                             ..\n",
      "https://dataprotection.ie/en/news-media/press-releases/data-protection-commission-announces-decision-in-facebook-data-scraping-inquiry;https://www.theguardian.com/technology/2022/nov/28/meta-fined-265m-over-data-breach-affecting-more-than-500m-users     1\n",
      "https://www.dataprotection.ro/?page=Comunicat_Presa_25_11_2022&lang=ro                                                                                                                                                                                        1\n",
      "https://www.aepd.es/es/documento/ps-00438-2022.pdf                                                                                                                                                                                                            1\n",
      "https://www.aepd.es/es/documento/ps-00485-2021.pdf                                                                                                                                                                                                            1\n",
      "https://azop.hr/izrecena-upravna-novcana-kazna-zbog-nezakonite-obrade-osobnih-podataka/                                                                                                                                                                       1\n",
      "Name: count, Length: 2200, dtype: int64\n"
     ]
    },
    {
     "name": "stdin",
     "output_type": "stream",
     "text": [
      " \n"
     ]
    }
   ],
   "source": [
    "for col in df.columns:\n",
    "    print(df[col].value_counts())\n",
    "    input()"
   ]
  },
  {
   "cell_type": "code",
   "execution_count": 14,
   "id": "51516e06-005a-47c8-98af-c0a455914708",
   "metadata": {},
   "outputs": [
    {
     "data": {
      "text/plain": [
       "country                                                              IRELAND\n",
       "agency                                  Data Protection Authority of Ireland\n",
       "date_of_decision                                                  2024-09-27\n",
       "fine_amount                                                         91000000\n",
       "controller                                    Meta Platforms Ireland Limited\n",
       "sector                                      Media, Telecoms and Broadcasting\n",
       "list_of_quoted_articles    Art. 5 (1) f) GDPR, Art. 32 (1) GDPR, Art. 33 ...\n",
       "type_of_fine               Insufficient technical and organisational meas...\n",
       "summary_of_case            The Irish DPA (DPC) has imposed a fine of EUR ...\n",
       "links                      https://www.dataprotection.ie/en/news-media/pr...\n",
       "Name: 0, dtype: object"
      ]
     },
     "execution_count": 14,
     "metadata": {},
     "output_type": "execute_result"
    }
   ],
   "source": [
    "df.iloc[0]\n"
   ]
  },
  {
   "cell_type": "markdown",
   "id": "75481722-64f2-4bd5-999a-37a8e3b421fb",
   "metadata": {},
   "source": [
    "### Creating columns to categorize ranges of fine amount"
   ]
  },
  {
   "cell_type": "code",
   "execution_count": 15,
   "id": "c8726f19-6119-42e7-8080-9897bd7e2051",
   "metadata": {},
   "outputs": [],
   "source": [
    "# using example from pandas https://pandas.pydata.org/docs/user_guide/categorical.html\n",
    "# creating groups every 100k \n",
    "fines_groups =[\n",
    "    (0,99999),\n",
    "    (99999,999999),\n",
    "    #(999999,9999999),\n",
    "]\n",
    "labels = [f\"{a} - {b}\" for (a,b) in fines_groups] \n",
    "fine_groups = pd.cut(cleaned_df['fine_amount'], [0, 99999, 9999999], right=False, labels=labels)"
   ]
  },
  {
   "cell_type": "code",
   "execution_count": 16,
   "id": "63d4e14f-e6cd-46fe-8aa2-6ca312459389",
   "metadata": {},
   "outputs": [
    {
     "data": {
      "text/plain": [
       "fine_amount\n",
       "0 - 99999         1987\n",
       "99999 - 999999     293\n",
       "Name: count, dtype: int64"
      ]
     },
     "execution_count": 16,
     "metadata": {},
     "output_type": "execute_result"
    }
   ],
   "source": [
    "fine_groups.value_counts()"
   ]
  },
  {
   "cell_type": "markdown",
   "id": "aaccbad2-04ef-400e-a5a8-66c2471bba33",
   "metadata": {},
   "source": [
    "### Creating Feature number of cited articles"
   ]
  },
  {
   "cell_type": "code",
   "execution_count": null,
   "id": "ce0815f8-aa11-4938-917b-20e95e635965",
   "metadata": {},
   "outputs": [],
   "source": []
  },
  {
   "cell_type": "markdown",
   "id": "e9674256-fb6f-4a25-9043-817314f52365",
   "metadata": {},
   "source": [
    "### Creating Feature year of decision"
   ]
  },
  {
   "cell_type": "code",
   "execution_count": 24,
   "id": "27988d7e-16eb-472e-a65f-e0c16f6d1b0a",
   "metadata": {},
   "outputs": [
    {
     "name": "stdout",
     "output_type": "stream",
     "text": [
      "0       False\n",
      "1       False\n",
      "2       False\n",
      "3       False\n",
      "4       False\n",
      "        ...  \n",
      "2557     True\n",
      "2558     True\n",
      "2559     True\n",
      "2560     True\n",
      "2561     True\n",
      "Name: year, Length: 2313, dtype: bool\n",
      "date_of_decision\n",
      "Unknown    18\n",
      "Name: count, dtype: int64\n",
      "[2540 2541 2542 2543 2544 2545 2546 2547 2548 2553 2554 2555 2556 2557\n",
      " 2558 2559 2560 2561]\n",
      "year\n",
      "2022.0    573\n",
      "2023.0    527\n",
      "2021.0    472\n",
      "2020.0    359\n",
      "2024.0    189\n",
      "2019.0    163\n",
      "2018.0     30\n",
      "Name: count, dtype: int64\n"
     ]
    },
    {
     "name": "stderr",
     "output_type": "stream",
     "text": [
      "<>:6: SyntaxWarning: invalid escape sequence '\\d'\n",
      "<>:6: SyntaxWarning: invalid escape sequence '\\d'\n",
      "/var/folders/wk/7ws649vj6rd1m3gdp3qykcz80000gp/T/ipykernel_92352/3777915758.py:6: SyntaxWarning: invalid escape sequence '\\d'\n",
      "  cleaned_df['year'] = cleaned_df['date_of_decision'].astype(str).str.extract('(\\d{4})').astype(str)\n"
     ]
    }
   ],
   "source": [
    "# using snippet of code from https://stackoverflow.com/questions/59101883/convert-irregular-date-format-to-year-only-in-pandas\n",
    "# There are only 18 fines with \"Unknown\" date of decision after processing the dates\n",
    "# I noticed the index of all the 18 fines with \"Unknown\" values are in the bottom of the dataset\n",
    "# since the dataset is ordered by date, it seems they are just before the earliest year \n",
    "# so i will attribute them to 2018 (the first year in the dataset)\n",
    "cleaned_df['year'] = cleaned_df['date_of_decision'].astype(str).str.extract('(\\d{4})').astype(str)\n",
    "cleaned_df['year'] = pd.to_datetime(cleaned_df['year'], errors='coerce').dt.year\n",
    "print(cleaned_df['year'].isnull())\n",
    "fines_with_missing_date = cleaned_df[cleaned_df['year'].isnull()]\n",
    "print(fines_with_missing_date['date_of_decision'].value_counts())\n",
    "print(fines_with_missing_date['date_of_decision'].index.values)\n",
    "# using a snippet from https://stackoverflow.com/questions/12307099/modifying-a-subset-of-rows-in-a-pandas-dataframe\n",
    "cleaned_df.loc[fines_with_missing_date.index.values, 'year'] = 2018\n",
    "print(cleaned_df['year'].value_counts())"
   ]
  },
  {
   "cell_type": "markdown",
   "id": "ecc0f796-35be-4d7f-aff1-19e84bee01ac",
   "metadata": {},
   "source": [
    "## Exploratory Data Analysis"
   ]
  },
  {
   "cell_type": "markdown",
   "id": "3526f744-3cfe-43c8-be6a-63dd3923cd5f",
   "metadata": {
    "jp-MarkdownHeadingCollapsed": true
   },
   "source": [
    "### what dates intervals from the collected fines\n",
    "    - latest    --  oldest with date\n",
    "    - 2024-09-27 -- 2018-10-25"
   ]
  },
  {
   "cell_type": "code",
   "execution_count": null,
   "id": "e2ec68f5-66c7-4def-a181-033d08e9eda4",
   "metadata": {},
   "outputs": [],
   "source": [
    "# first is the latest fine on the date of collection, -28 is the oldest fine with and decision\n",
    "#   latest    --  oldest with date\n",
    "#  2024-09-27 -- 2018-10-25\n",
    "print(cleaned_df.iloc[0])\n",
    "print(cleaned_df.iloc[-17])"
   ]
  },
  {
   "cell_type": "markdown",
   "id": "637811cb-d2ca-43bd-b6ac-c1c123ee4202",
   "metadata": {
    "jp-MarkdownHeadingCollapsed": true
   },
   "source": [
    "### analysing the frequency and distribution of Fines"
   ]
  },
  {
   "cell_type": "code",
   "execution_count": 38,
   "id": "843517bd-51a7-45e7-a38e-b1ca192c36d5",
   "metadata": {},
   "outputs": [
    {
     "name": "stdout",
     "output_type": "stream",
     "text": [
      "    quantile  fine_amount  fines_less_than_amount  fines_greater_than_amount\n",
      "0       0.05        360.0                     113                       2196\n",
      "1       0.10        600.0                     195                       2068\n",
      "2       0.15       1000.0                     275                       1935\n",
      "3       0.20       1500.0                     420                       1843\n",
      "4       0.25       2000.0                     511                       1649\n",
      "5       0.30       2500.0                     680                       1614\n",
      "6       0.35       3000.0                     719                       1468\n",
      "7       0.40       4000.0                     877                       1380\n",
      "8       0.45       5000.0                     949                       1236\n",
      "9       0.50       6900.0                    1156                       1156\n",
      "10      0.55      10000.0                    1240                        963\n",
      "11      0.60      13000.0                    1387                        923\n",
      "12      0.65      20000.0                    1488                        750\n",
      "13      0.70      27040.0                    1619                        694\n",
      "14      0.75      40000.0                    1690                        576\n",
      "15      0.80      56000.0                    1834                        459\n",
      "16      0.85      81600.0                    1966                        347\n",
      "17      0.90     200000.0                    2073                        219\n",
      "18      0.95     840400.0                    2197                        116\n"
     ]
    }
   ],
   "source": [
    "# I create a pandas dataframe with \n",
    "# 50% of the fines are under 6.900 euros\n",
    "# 75% of the fines are under 40.000 euros\n",
    "# 90% of the fines are under 200.000 euros\n",
    "# 95% of the fines are under 840.000 euros\n",
    "# https://stackoverflow.com/questions/23833763/count-number-of-elements-in-each-column-less-than-x\n",
    "#print(cleaned_df['fine_amount'].describe())\n",
    "fine_amount_quantiles = pd.DataFrame({\"fine_amount\":cleaned_df['fine_amount'].quantile([0.05*i for i in range(1,20)])})\n",
    "#fine_amount_quantiles['fine_amount'].quantile([0.05*i for i in range(1,20)]).apply(lambda v: cleaned_df['fine_amount'].lt(v).sum()))\n",
    "fine_amount_quantiles[\"fines_less_than_amount\"] = fine_amount_quantiles[\"fine_amount\"].apply(lambda v: cleaned_df['fine_amount'].lt(v).sum())\n",
    "fine_amount_quantiles[\"fines_greater_than_amount\"] = fine_amount_quantiles[\"fine_amount\"].apply(lambda v: cleaned_df['fine_amount'].gt(v).sum())\n",
    "fine_amount_quantiles = fine_amount_quantiles.reset_index()\n",
    "fine_amount_quantiles = fine_amount_quantiles.rename(columns={\"index\":\"quantile\"})\n",
    "print(fine_amount_quantiles)\n"
   ]
  },
  {
   "cell_type": "code",
   "execution_count": 39,
   "id": "6e08257b-0721-4d2e-913c-6135bbf5bda9",
   "metadata": {},
   "outputs": [
    {
     "name": "stdout",
     "output_type": "stream",
     "text": [
      "['360', '600', '1000', '1500', '2000', '2500', '3000', '4000', '5000', '6900', '10000', '13000', '20000', '27039', '40000', '56000', '81600', '200000', '840400']\n",
      "[2196, 2068, 1935, 1843, 1649, 1614, 1468, 1380, 1236, 1156, 963, 923, 750, 694, 576, 459, 347, 219, 116]\n"
     ]
    },
    {
     "data": {
      "image/png": "[encoded data removed]",
      "text/plain": [
       "<Figure size 640x480 with 1 Axes>"
      ]
     },
     "metadata": {},
     "output_type": "display_data"
    }
   ],
   "source": [
    "# adapted example from https://matplotlib.org/stable/gallery/lines_bars_and_markers/bar_colors.html#sphx-glr-gallery-lines-bars-and-markers-bar-colors-py\n",
    "fig, ax = plt.subplots()\n",
    "\n",
    "labels = [str(int(v)) for v in fine_amount_quantiles['fine_amount']]# fine_amount_quantiles['fine_amount'].values\n",
    "counts = [v for v in fine_amount_quantiles['fines_greater_than_amount'].values]# fine_amount_quantiles['fines_greater_than_amount'].values\n",
    "bar_labels = ['red' for v in labels] #'blue', '_red', 'orange']\n",
    "bar_colors = ['tab:red' for v in labels]  #'tab:blue', 'tab:red', 'tab:orange']\n",
    "\n",
    "bars = ax.bar(labels, counts, color=bar_colors)#label=bar_labels,)\n",
    "\n",
    "for bar in bars:\n",
    "    height = bar.get_height()\n",
    "    ax.text(bar.get_x() + bar.get_width() / 2, height + 0.5,  # 0.5 is offset for label placement\n",
    "            f'{height}', ha='center', va='bottom', fontsize=10)\n",
    "\n",
    "plt.xticks(rotation=45, fontsize=8)  # Rotate x-axis labels by 45 degrees and set font size to 8\n",
    "ax.set_ylabel('Count of fine cases')\n",
    "ax.set_title('Count of fine cases over a certain Fine Value')\n",
    "#ax.legend(title='Fruit color')\n",
    "\n",
    "print(labels)\n",
    "print(counts)\n",
    "plt.show()\n"
   ]
  },
  {
   "cell_type": "markdown",
   "id": "7b26bd5e-a95b-461d-93e7-30c7027144e2",
   "metadata": {},
   "source": [
    "### analysing the top 10 highest of Fines "
   ]
  },
  {
   "cell_type": "markdown",
   "id": "b12e95e9-4236-4ebc-beaa-7d2d20c6455d",
   "metadata": {},
   "source": [
    "#### All top 10 fines are over 90million euros"
   ]
  },
  {
   "cell_type": "code",
   "execution_count": 102,
   "id": "5ec80bbe-25eb-47d3-86f6-c617d840662b",
   "metadata": {},
   "outputs": [
    {
     "name": "stdout",
     "output_type": "stream",
     "text": [
      "                             controller  \\\n",
      "532      Meta Platforms Ireland Limited   \n",
      "1584        Amazon Europe Core S.à.r.l.   \n",
      "955                Meta Platforms, Inc.   \n",
      "711      Meta Platforms Ireland Limited   \n",
      "369                      TikTok Limited   \n",
      "12    Uber Technologies Inc., Uber B.V.   \n",
      "827      Meta Platforms Ireland Limited   \n",
      "1530              WhatsApp Ireland Ltd.   \n",
      "0        Meta Platforms Ireland Limited   \n",
      "1361                         Google LLC   \n",
      "\n",
      "                                                 agency          country  \\\n",
      "532                Data Protection Authority of Ireland          IRELAND   \n",
      "1584     National Commission for Data Protection (CNPD)       LUXEMBOURG   \n",
      "955                Data Protection Authority of Ireland          IRELAND   \n",
      "711                Data Protection Authority of Ireland          IRELAND   \n",
      "369                Data Protection Authority of Ireland          IRELAND   \n",
      "12    Dutch Supervisory Authority for Data Protectio...  THE NETHERLANDS   \n",
      "827                Data Protection Authority of Ireland          IRELAND   \n",
      "1530               Data Protection Authority of Ireland          IRELAND   \n",
      "0                  Data Protection Authority of Ireland          IRELAND   \n",
      "1361            French Data Protection Authority (CNIL)           FRANCE   \n",
      "\n",
      "                                sector  fine_amount  \n",
      "532   Media, Telecoms and Broadcasting   1200000000  \n",
      "1584             Industry and Commerce    746000000  \n",
      "955   Media, Telecoms and Broadcasting    405000000  \n",
      "711   Media, Telecoms and Broadcasting    390000000  \n",
      "369   Media, Telecoms and Broadcasting    345000000  \n",
      "12                          Employment    290000000  \n",
      "827   Media, Telecoms and Broadcasting    265000000  \n",
      "1530  Media, Telecoms and Broadcasting    225000000  \n",
      "0     Media, Telecoms and Broadcasting     91000000  \n",
      "1361  Media, Telecoms and Broadcasting     90000000  \n"
     ]
    }
   ],
   "source": [
    "sorted_cleaned_df = cleaned_df.sort_values(by='fine_amount', ascending=False)\n",
    "top_10_fines = sorted_cleaned_df.head(10)\n",
    "print(top_10_fines[['controller','agency','country','sector','fine_amount']])"
   ]
  },
  {
   "cell_type": "markdown",
   "id": "b41f25c4-434e-4764-a503-a219c32e6e3f",
   "metadata": {},
   "source": [
    "#### Are all top fines from \"Big Tech\"?"
   ]
  },
  {
   "cell_type": "code",
   "execution_count": 103,
   "id": "f089588c-9c3f-4148-a355-95ded4b20bdf",
   "metadata": {},
   "outputs": [
    {
     "name": "stdout",
     "output_type": "stream",
     "text": [
      "sector\n",
      "Media, Telecoms and Broadcasting    8\n",
      "Industry and Commerce               1\n",
      "Employment                          1\n",
      "Name: count, dtype: int64\n",
      "Index(['country', 'agency', 'date_of_decision', 'fine_amount', 'controller',\n",
      "       'sector', 'list_of_quoted_articles', 'type_of_fine', 'summary_of_case',\n",
      "       'links', 'year'],\n",
      "      dtype='object')\n",
      "controller\n",
      "Meta Platforms Ireland Limited       4\n",
      "Amazon Europe Core S.à.r.l.          1\n",
      "Meta Platforms, Inc.                 1\n",
      "TikTok Limited                       1\n",
      "Uber Technologies Inc., Uber B.V.    1\n",
      "WhatsApp Ireland Ltd.                1\n",
      "Google LLC                           1\n",
      "Name: count, dtype: int64\n"
     ]
    }
   ],
   "source": [
    "print(top_10_fines['sector'].value_counts())\n",
    "print(top_10_fines.columns)\n",
    "print(top_10_fines['controller'].value_counts())\n"
   ]
  },
  {
   "cell_type": "markdown",
   "id": "989bff9b-7571-40ce-8333-6f114c05f261",
   "metadata": {},
   "source": [
    "#### What is the proportion of the sum of the top related to all fines ?\n"
   ]
  },
  {
   "cell_type": "code",
   "execution_count": 104,
   "id": "68aeae42-1b40-4770-9eba-91dc5f514c0f",
   "metadata": {},
   "outputs": [
    {
     "data": {
      "text/plain": [
       "0.8063463801276145"
      ]
     },
     "execution_count": 104,
     "metadata": {},
     "output_type": "execute_result"
    }
   ],
   "source": [
    "sum(top_10_fines['fine_amount'])/sum(cleaned_df['fine_amount'])"
   ]
  },
  {
   "cell_type": "markdown",
   "id": "c35f62c7-3344-484e-9456-d5025e638e1e",
   "metadata": {},
   "source": [
    "### analysing the distribution of Fines over the years"
   ]
  },
  {
   "cell_type": "markdown",
   "id": "a391437d-2d66-4c59-9ec8-376c2b4f4071",
   "metadata": {
    "jp-MarkdownHeadingCollapsed": true
   },
   "source": [
    "#### Sum of Fines over the years\n",
    "\n",
    "\n"
   ]
  },
  {
   "cell_type": "code",
   "execution_count": 89,
   "id": "6a6d7319-023d-46d1-9868-111360e55c81",
   "metadata": {},
   "outputs": [
    {
     "name": "stdout",
     "output_type": "stream",
     "text": [
      "        count         sum      cumsum  cumcount\n",
      "year                                           \n",
      "2018.0     30      759024      759024        30\n",
      "2019.0    163    72756964    73515988       193\n",
      "2020.0    359   171770179   245286167       552\n",
      "2021.0    472  1283677183  1528963350      1024\n",
      "2022.0    573   842154165  2371117515      1597\n",
      "2023.0    527  2080596542  4451714057      2124\n",
      "2024.0    189   567220857  5018934914      2313\n"
     ]
    }
   ],
   "source": [
    "group_by_year = cleaned_df.groupby(by=\"year\")[\"fine_amount\"].agg([\"count\",\"sum\"])\n",
    "group_by_year[\"cumsum\"] = np.cumsum(group_by_year[\"sum\"])\n",
    "group_by_year[\"cumcount\"] = np.cumsum(group_by_year[\"count\"])\n",
    "print(group_by_year)"
   ]
  },
  {
   "cell_type": "code",
   "execution_count": 95,
   "id": "e355d1e8-2fbb-4386-9115-11247b2ae937",
   "metadata": {},
   "outputs": [
    {
     "name": "stdout",
     "output_type": "stream",
     "text": [
      "\t\tAggregate Fines metrics\n",
      "\n",
      "       count      cumcount             sum          cumsum\n",
      "year                                                      \n",
      "2018.0    30            30  759.0 thousand  759.0 thousand\n",
      "2019.0   163           193    72.8 million    73.5 million\n",
      "2020.0   359           552   171.8 million   245.3 million\n",
      "2021.0   472  1.0 thousand     1.3 billion     1.5 billion\n",
      "2022.0   573  1.6 thousand   842.2 million     2.4 billion\n",
      "2023.0   527  2.1 thousand     2.1 billion     4.5 billion\n",
      "2024.0   189  2.3 thousand   567.2 million     5.0 billion\n"
     ]
    }
   ],
   "source": [
    "def format_large_number(x):\n",
    "    if x >= 1e9:\n",
    "        return f\"{x/1e9:.1f} billion\"\n",
    "    elif x >= 1e6:\n",
    "        return f\"{x/1e6:.1f} million\"\n",
    "    elif x >= 1e3:\n",
    "        return f\"{x/1e3:.1f} thousand\"\n",
    "    else:\n",
    "        return str(x)\n",
    "for column in group_by_year.select_dtypes(include=[np.number]).columns:\n",
    "    group_by_year[column] = group_by_year[column].apply(format_large_number)\n",
    "group_by_year = group_by_year[[\"count\",\"cumcount\",\"sum\",\"cumsum\"]]\n",
    "print(\"\\t\\tAggregate Fines metrics\\n\")\n",
    "print(group_by_year)"
   ]
  },
  {
   "cell_type": "code",
   "execution_count": null,
   "id": "e8a3279c-7961-43c6-a7b5-4f0cf3afa778",
   "metadata": {},
   "outputs": [],
   "source": []
  }
 ],
 "metadata": {
  "kernelspec": {
   "display_name": "Python 3 (ipykernel)",
   "language": "python",
   "name": "python3"
  },
  "language_info": {
   "codemirror_mode": {
    "name": "ipython",
    "version": 3
   },
   "file_extension": ".py",
   "mimetype": "text/x-python",
   "name": "python",
   "nbconvert_exporter": "python",
   "pygments_lexer": "ipython3",
   "version": "3.12.7"
  }
 },
 "nbformat": 4,
 "nbformat_minor": 5
}
