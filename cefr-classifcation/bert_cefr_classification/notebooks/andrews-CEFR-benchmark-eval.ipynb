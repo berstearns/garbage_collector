{
 "cells": [
  {
   "cell_type": "code",
   "execution_count": 17,
   "id": "9609582b-a649-4f70-947d-56e2ad9c3b22",
   "metadata": {},
   "outputs": [],
   "source": [
    "import pandas as pd\n",
    "import numpy as np"
   ]
  },
  {
   "cell_type": "markdown",
   "id": "ef512576-cff4-407e-889b-63c0e278e7ee",
   "metadata": {},
   "source": [
    "## Expected folder structure\n",
    "## \n",
    "```\n",
    ".\n",
    "├── data\n",
    "│   ├── dummy_gold.txt\n",
    "│   ├── dummy_pred.txt\n",
    "│   └── efcamdat_100k_with_text_and_measures.csv\n",
    "├── logs\n",
    "│   ├── new_data_classification_report.txt\n",
    "│   ├── test_classification_report.txt\n",
    "│   └── train_classification_report.txt\n",
    "├── notebooks\n",
    "│   └── andrews-CEFR-benchmark.ipynb\n",
    "├── README.md\n",
    "├── requirements.txt\n",
    "└── scripts\n",
    "    ├── aff.py\n",
    "    ├── evaluate_predictions.py\n",
    "    ├── evaluation.py\n",
    "    ├── predict.py\n",
    "    ├── train_generic.py\n",
    "    └── train.py\n",
    "```"
   ]
  },
  {
   "cell_type": "code",
   "execution_count": 9,
   "id": "b30616d7-4c00-4ed3-8255-fc54e8c43ad3",
   "metadata": {},
   "outputs": [],
   "source": [
    "andrews100kdf = pd.read_csv(\"../data/efcamdat_100k_with_text_and_measures.csv\",index_col=0)"
   ]
  },
  {
   "cell_type": "code",
   "execution_count": 11,
   "id": "40874a82-b6c9-4106-9124-ba0726eb2abb",
   "metadata": {},
   "outputs": [
    {
     "data": {
      "text/html": [
       "<div>\n",
       "<style scoped>\n",
       "    .dataframe tbody tr th:only-of-type {\n",
       "        vertical-align: middle;\n",
       "    }\n",
       "\n",
       "    .dataframe tbody tr th {\n",
       "        vertical-align: top;\n",
       "    }\n",
       "\n",
       "    .dataframe thead th {\n",
       "        text-align: right;\n",
       "    }\n",
       "</style>\n",
       "<table border=\"1\" class=\"dataframe\">\n",
       "  <thead>\n",
       "    <tr style=\"text-align: right;\">\n",
       "      <th></th>\n",
       "      <th>writing_id</th>\n",
       "      <th>cefr_level</th>\n",
       "      <th>measures.collocations.text_level.ratio_num_token</th>\n",
       "      <th>measures.collocations.text_level.ttr</th>\n",
       "      <th>measures.counts.acl</th>\n",
       "      <th>measures.counts.acl_ratio</th>\n",
       "      <th>measures.counts.acl:relcl</th>\n",
       "      <th>measures.counts.acl:relcl_ratio</th>\n",
       "      <th>measures.counts.ADJ</th>\n",
       "      <th>measures.counts.ADJ_ratio</th>\n",
       "      <th>...</th>\n",
       "      <th>measures.taassc.L2SCA.CT_T</th>\n",
       "      <th>measures.taassc.L2SCA.DC_C</th>\n",
       "      <th>measures.taassc.L2SCA.DC_T</th>\n",
       "      <th>measures.taassc.L2SCA.MLC</th>\n",
       "      <th>measures.taassc.L2SCA.MLS</th>\n",
       "      <th>measures.taassc.L2SCA.MLT</th>\n",
       "      <th>measures.taassc.L2SCA.T_S</th>\n",
       "      <th>measures.taassc.L2SCA.VP_T</th>\n",
       "      <th>text</th>\n",
       "      <th>l1</th>\n",
       "    </tr>\n",
       "  </thead>\n",
       "  <tbody>\n",
       "    <tr>\n",
       "      <th>0</th>\n",
       "      <td>115499</td>\n",
       "      <td>B1</td>\n",
       "      <td>0.108696</td>\n",
       "      <td>1.0</td>\n",
       "      <td>2</td>\n",
       "      <td>0.021739</td>\n",
       "      <td>1</td>\n",
       "      <td>0.010870</td>\n",
       "      <td>3</td>\n",
       "      <td>0.032609</td>\n",
       "      <td>...</td>\n",
       "      <td>0.125000</td>\n",
       "      <td>0.0</td>\n",
       "      <td>1.000000</td>\n",
       "      <td>0.0</td>\n",
       "      <td>11.500000</td>\n",
       "      <td>11.500000</td>\n",
       "      <td>1.000000</td>\n",
       "      <td>1.500000</td>\n",
       "      <td>grandmas home remedies and recipes. Do you hav...</td>\n",
       "      <td>German</td>\n",
       "    </tr>\n",
       "    <tr>\n",
       "      <th>1</th>\n",
       "      <td>1081381</td>\n",
       "      <td>A1</td>\n",
       "      <td>0.111111</td>\n",
       "      <td>1.0</td>\n",
       "      <td>0</td>\n",
       "      <td>0.000000</td>\n",
       "      <td>0</td>\n",
       "      <td>0.000000</td>\n",
       "      <td>6</td>\n",
       "      <td>0.166667</td>\n",
       "      <td>...</td>\n",
       "      <td>0.166667</td>\n",
       "      <td>0.0</td>\n",
       "      <td>0.666667</td>\n",
       "      <td>0.0</td>\n",
       "      <td>16.000000</td>\n",
       "      <td>5.333333</td>\n",
       "      <td>3.000000</td>\n",
       "      <td>1.000000</td>\n",
       "      <td>My friend is very nice.She comes from Italy.Sh...</td>\n",
       "      <td>Italian</td>\n",
       "    </tr>\n",
       "    <tr>\n",
       "      <th>2</th>\n",
       "      <td>452770</td>\n",
       "      <td>B1</td>\n",
       "      <td>0.176000</td>\n",
       "      <td>1.0</td>\n",
       "      <td>2</td>\n",
       "      <td>0.016000</td>\n",
       "      <td>1</td>\n",
       "      <td>0.008000</td>\n",
       "      <td>5</td>\n",
       "      <td>0.040000</td>\n",
       "      <td>...</td>\n",
       "      <td>0.111111</td>\n",
       "      <td>0.0</td>\n",
       "      <td>1.333333</td>\n",
       "      <td>0.0</td>\n",
       "      <td>125.000000</td>\n",
       "      <td>13.888889</td>\n",
       "      <td>9.000000</td>\n",
       "      <td>1.777778</td>\n",
       "      <td>First, I will study a lot and finish my degree...</td>\n",
       "      <td>Portuguese</td>\n",
       "    </tr>\n",
       "    <tr>\n",
       "      <th>3</th>\n",
       "      <td>412035</td>\n",
       "      <td>A1</td>\n",
       "      <td>0.050000</td>\n",
       "      <td>1.0</td>\n",
       "      <td>0</td>\n",
       "      <td>0.000000</td>\n",
       "      <td>0</td>\n",
       "      <td>0.000000</td>\n",
       "      <td>2</td>\n",
       "      <td>0.050000</td>\n",
       "      <td>...</td>\n",
       "      <td>0.000000</td>\n",
       "      <td>0.0</td>\n",
       "      <td>0.750000</td>\n",
       "      <td>0.0</td>\n",
       "      <td>6.666667</td>\n",
       "      <td>10.000000</td>\n",
       "      <td>0.666667</td>\n",
       "      <td>1.500000</td>\n",
       "      <td>Hy, my name's Andr. I have thirty one years ol...</td>\n",
       "      <td>Portuguese</td>\n",
       "    </tr>\n",
       "    <tr>\n",
       "      <th>4</th>\n",
       "      <td>132380</td>\n",
       "      <td>B1</td>\n",
       "      <td>0.061224</td>\n",
       "      <td>1.0</td>\n",
       "      <td>0</td>\n",
       "      <td>0.000000</td>\n",
       "      <td>1</td>\n",
       "      <td>0.010204</td>\n",
       "      <td>6</td>\n",
       "      <td>0.061224</td>\n",
       "      <td>...</td>\n",
       "      <td>0.222222</td>\n",
       "      <td>0.0</td>\n",
       "      <td>0.888889</td>\n",
       "      <td>0.0</td>\n",
       "      <td>8.636364</td>\n",
       "      <td>10.555556</td>\n",
       "      <td>0.818182</td>\n",
       "      <td>1.777778</td>\n",
       "      <td>bello! I glad to congratulate you with the bes...</td>\n",
       "      <td>Russian</td>\n",
       "    </tr>\n",
       "  </tbody>\n",
       "</table>\n",
       "<p>5 rows × 725 columns</p>\n",
       "</div>"
      ],
      "text/plain": [
       "   writing_id cefr_level  measures.collocations.text_level.ratio_num_token  \\\n",
       "0      115499         B1                                          0.108696   \n",
       "1     1081381         A1                                          0.111111   \n",
       "2      452770         B1                                          0.176000   \n",
       "3      412035         A1                                          0.050000   \n",
       "4      132380         B1                                          0.061224   \n",
       "\n",
       "   measures.collocations.text_level.ttr  measures.counts.acl  \\\n",
       "0                                   1.0                    2   \n",
       "1                                   1.0                    0   \n",
       "2                                   1.0                    2   \n",
       "3                                   1.0                    0   \n",
       "4                                   1.0                    0   \n",
       "\n",
       "   measures.counts.acl_ratio  measures.counts.acl:relcl  \\\n",
       "0                   0.021739                          1   \n",
       "1                   0.000000                          0   \n",
       "2                   0.016000                          1   \n",
       "3                   0.000000                          0   \n",
       "4                   0.000000                          1   \n",
       "\n",
       "   measures.counts.acl:relcl_ratio  measures.counts.ADJ  \\\n",
       "0                         0.010870                    3   \n",
       "1                         0.000000                    6   \n",
       "2                         0.008000                    5   \n",
       "3                         0.000000                    2   \n",
       "4                         0.010204                    6   \n",
       "\n",
       "   measures.counts.ADJ_ratio  ...  measures.taassc.L2SCA.CT_T  \\\n",
       "0                   0.032609  ...                    0.125000   \n",
       "1                   0.166667  ...                    0.166667   \n",
       "2                   0.040000  ...                    0.111111   \n",
       "3                   0.050000  ...                    0.000000   \n",
       "4                   0.061224  ...                    0.222222   \n",
       "\n",
       "   measures.taassc.L2SCA.DC_C  measures.taassc.L2SCA.DC_T  \\\n",
       "0                         0.0                    1.000000   \n",
       "1                         0.0                    0.666667   \n",
       "2                         0.0                    1.333333   \n",
       "3                         0.0                    0.750000   \n",
       "4                         0.0                    0.888889   \n",
       "\n",
       "   measures.taassc.L2SCA.MLC  measures.taassc.L2SCA.MLS  \\\n",
       "0                        0.0                  11.500000   \n",
       "1                        0.0                  16.000000   \n",
       "2                        0.0                 125.000000   \n",
       "3                        0.0                   6.666667   \n",
       "4                        0.0                   8.636364   \n",
       "\n",
       "   measures.taassc.L2SCA.MLT  measures.taassc.L2SCA.T_S  \\\n",
       "0                  11.500000                   1.000000   \n",
       "1                   5.333333                   3.000000   \n",
       "2                  13.888889                   9.000000   \n",
       "3                  10.000000                   0.666667   \n",
       "4                  10.555556                   0.818182   \n",
       "\n",
       "   measures.taassc.L2SCA.VP_T  \\\n",
       "0                    1.500000   \n",
       "1                    1.000000   \n",
       "2                    1.777778   \n",
       "3                    1.500000   \n",
       "4                    1.777778   \n",
       "\n",
       "                                                text          l1  \n",
       "0  grandmas home remedies and recipes. Do you hav...      German  \n",
       "1  My friend is very nice.She comes from Italy.Sh...     Italian  \n",
       "2  First, I will study a lot and finish my degree...  Portuguese  \n",
       "3  Hy, my name's Andr. I have thirty one years ol...  Portuguese  \n",
       "4  bello! I glad to congratulate you with the bes...     Russian  \n",
       "\n",
       "[5 rows x 725 columns]"
      ]
     },
     "execution_count": 11,
     "metadata": {},
     "output_type": "execute_result"
    }
   ],
   "source": [
    "andrews100kdf.head()\n"
   ]
  },
  {
   "cell_type": "code",
   "execution_count": 112,
   "id": "d2384c8c-2c84-4a16-b728-b5aa638c0b56",
   "metadata": {},
   "outputs": [
    {
     "name": "stdout",
     "output_type": "stream",
     "text": [
      "{0: 'B2', 1: 'A1', 2: 'A1', 3: 'A2', 4: 'A1', 5: 'A2', 6: 'C1', 7: 'A1', 8: 'A2', 9: 'A2'}\n"
     ]
    }
   ],
   "source": [
    "cefr_levels =[\"A1\",\"A2\",\"B1\",\"B2\",\"C1\",\"C2\"]\n",
    "sample_size = 10\n",
    "dummy_test_set = andrews100kdf.sample(sample_size).reset_index()\n",
    "hard_golden_labels=dummy_test_set[\"cefr_level\"].to_dict()\n",
    "print(hard_golden_labels)"
   ]
  },
  {
   "cell_type": "code",
   "execution_count": 111,
   "id": "037fac6f-b410-46dc-b2de-00ff3bf2f983",
   "metadata": {},
   "outputs": [
    {
     "data": {
      "text/plain": [
       "{0: 'A1',\n",
       " 1: 'A1',\n",
       " 2: 'A2',\n",
       " 3: 'B1',\n",
       " 4: 'A1',\n",
       " 5: 'A1',\n",
       " 6: 'A2',\n",
       " 7: 'A2',\n",
       " 8: 'A1',\n",
       " 9: 'A2'}"
      ]
     },
     "execution_count": 111,
     "metadata": {},
     "output_type": "execute_result"
    }
   ],
   "source": []
  },
  {
   "cell_type": "code",
   "execution_count": 124,
   "id": "68cf15a6-53a9-4023-b568-0ffd354604f7",
   "metadata": {},
   "outputs": [],
   "source": [
    "random_probas = np.random.dirichlet(np.ones(5),size=sample_size)\n",
    "'''predictions = {\n",
    "    {\n",
    "     \"A1\": 0.31,\n",
    "     \"A2\": 0.54,\n",
    "     \"B1\": 0.4,\n",
    "     \"B2\": 0.74,\n",
    "     \"C1\": 0.74,\n",
    "    }\n",
    "}'''\n",
    "soft_predictions = {\n",
    "    id_: {class_:proba for class_, proba in zip(cefr_levels, cefr_vector)}\n",
    "    for id_, cefr_vector in zip(range(sample_size),random_probas.tolist())\n",
    "}\n",
    "idx_to_class_ = lambda v: {\n",
    "         0: \"A1\",\n",
    "         1: \"A2\",\n",
    "         2: \"B1\",\n",
    "         3: \"B2\",\n",
    "         4: \"C1\",\n",
    "}.get(v, None)\n",
    "hard_predictions = {k:idx_to_class_(v) for k,v in zip(range(sample_size), np.argmax(random_probas,axis=1).tolist())}"
   ]
  },
  {
   "cell_type": "code",
   "execution_count": 141,
   "id": "a14e4894-6487-4c18-9d2d-07a5d35fe85f",
   "metadata": {},
   "outputs": [],
   "source": [
    "from sklearn.metrics import classification_report\n",
    "\n",
    "class hard_predictions_eval:\n",
    "    def __init__(self, hard_predictions_dict : dict, hard_gold_labels_dict : dict):\n",
    "        self.hard_predictions_dict = hard_predictions_dict\n",
    "        self.hard_gold_labels_dict = hard_gold_labels_dict\n",
    "        self.y_pred = [v for v in self.hard_predictions_dict.values()], \n",
    "        self.y_true = [v for v in self.hard_gold_labels_dict.values()]\n",
    "        print(self.y_pred, self.y_true)\n",
    "    def accuracy(self):\n",
    "        pass\n",
    "    def precision(self):\n",
    "        pass\n",
    "    def recall(self):\n",
    "        pass\n",
    "    def report(self):\n",
    "        # assuming dicts are aligned with all same ids\n",
    "        self.report = classification_report(\n",
    "            [v for v in self.hard_predictions_dict.values()], \n",
    "            [v for v in self.hard_gold_labels_dict.values()]\n",
    "        )\n",
    "        print(self.report)\n",
    "        "
   ]
  },
  {
   "cell_type": "code",
   "execution_count": 142,
   "id": "20541ef3-9ace-4f29-a92f-347c83696ad7",
   "metadata": {},
   "outputs": [],
   "source": [
    "def soft_predictions_eval(predictions, gold_labels):\n",
    "    pass"
   ]
  },
  {
   "cell_type": "code",
   "execution_count": 143,
   "id": "2642a663-1a15-4f20-8df2-e843aba8dc93",
   "metadata": {},
   "outputs": [
    {
     "name": "stdout",
     "output_type": "stream",
     "text": [
      "(['A1', 'C1', 'B2', 'B1', 'B2', 'A2', 'B1', 'A1', 'C1', 'B2'],) ['B2', 'A1', 'A1', 'A2', 'A1', 'A2', 'C1', 'A1', 'A2', 'A2']\n"
     ]
    }
   ],
   "source": [
    "hard_eval = hard_predictions_eval(hard_predictions,hard_golden_labels)"
   ]
  },
  {
   "cell_type": "code",
   "execution_count": 144,
   "id": "d35f968e-b0af-481a-8379-9630d6b5809d",
   "metadata": {},
   "outputs": [
    {
     "name": "stdout",
     "output_type": "stream",
     "text": [
      "              precision    recall  f1-score   support\n",
      "\n",
      "          A1       0.25      0.50      0.33         2\n",
      "          A2       0.25      1.00      0.40         1\n",
      "          B1       0.00      0.00      0.00         2\n",
      "          B2       0.00      0.00      0.00         3\n",
      "          C1       0.00      0.00      0.00         2\n",
      "\n",
      "    accuracy                           0.20        10\n",
      "   macro avg       0.10      0.30      0.15        10\n",
      "weighted avg       0.07      0.20      0.11        10\n",
      "\n"
     ]
    },
    {
     "name": "stderr",
     "output_type": "stream",
     "text": [
      "/home/berstearns/venv/lib/python3.12/site-packages/sklearn/metrics/_classification.py:1531: UndefinedMetricWarning: Precision is ill-defined and being set to 0.0 in labels with no predicted samples. Use `zero_division` parameter to control this behavior.\n",
      "  _warn_prf(average, modifier, f\"{metric.capitalize()} is\", len(result))\n",
      "/home/berstearns/venv/lib/python3.12/site-packages/sklearn/metrics/_classification.py:1531: UndefinedMetricWarning: Precision is ill-defined and being set to 0.0 in labels with no predicted samples. Use `zero_division` parameter to control this behavior.\n",
      "  _warn_prf(average, modifier, f\"{metric.capitalize()} is\", len(result))\n",
      "/home/berstearns/venv/lib/python3.12/site-packages/sklearn/metrics/_classification.py:1531: UndefinedMetricWarning: Precision is ill-defined and being set to 0.0 in labels with no predicted samples. Use `zero_division` parameter to control this behavior.\n",
      "  _warn_prf(average, modifier, f\"{metric.capitalize()} is\", len(result))\n"
     ]
    }
   ],
   "source": [
    "hard_eval.report()"
   ]
  },
  {
   "cell_type": "markdown",
   "id": "856f3f16-248a-4fbe-bd1a-bf4ddd5b130b",
   "metadata": {},
   "source": [
    "### What is the distribution of CEFR level ?\n"
   ]
  },
  {
   "cell_type": "code",
   "execution_count": 80,
   "id": "99c60f3a-15d0-420c-8fe7-a84870756d0e",
   "metadata": {},
   "outputs": [
    {
     "data": {
      "text/plain": [
       "cefr_level\n",
       "A1    0.47215\n",
       "A2    0.29701\n",
       "B1    0.16172\n",
       "B2    0.05497\n",
       "C1    0.01415\n",
       "Name: count, dtype: float64"
      ]
     },
     "execution_count": 80,
     "metadata": {},
     "output_type": "execute_result"
    }
   ],
   "source": [
    "andrews100kdf[\"cefr_level\"].value_counts()/len(andrews100kdf[\"cefr_level\"])"
   ]
  },
  {
   "cell_type": "code",
   "execution_count": null,
   "id": "56c4ccc1-daa3-4c2a-94b4-f98cf92ecaf3",
   "metadata": {},
   "outputs": [],
   "source": []
  }
 ],
 "metadata": {
  "kernelspec": {
   "display_name": "Python 3 (ipykernel)",
   "language": "python",
   "name": "python3"
  },
  "language_info": {
   "codemirror_mode": {
    "name": "ipython",
    "version": 3
   },
   "file_extension": ".py",
   "mimetype": "text/x-python",
   "name": "python",
   "nbconvert_exporter": "python",
   "pygments_lexer": "ipython3",
   "version": "3.12.7"
  }
 },
 "nbformat": 4,
 "nbformat_minor": 5
}
