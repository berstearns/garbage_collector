{
 "cells": [
  {
   "cell_type": "code",
   "execution_count": 31,
   "id": "9609582b-a649-4f70-947d-56e2ad9c3b22",
   "metadata": {},
   "outputs": [],
   "source": [
    "import pandas as pd\n",
    "import numpy as np\n",
    "from IPython.display import clear_output"
   ]
  },
  {
   "cell_type": "code",
   "execution_count": 2,
   "id": "c3193ee5-de7c-4479-a6ba-2a22c3c1b1d7",
   "metadata": {},
   "outputs": [],
   "source": [
    "import os\n",
    "notebook_dir = os.path.abspath(\"\")\n",
    "base_dir = os.path.dirname(notebook_dir)\n",
    "experiment_data_folder = os.path.join(base_dir,\"datasets\", \"NLP4CALL_2025_experiment\",\"experiments_data\",\"nlp4call2025_article_experiments\")\n",
    "# efcamdat_100k_with_text_and_measures.csv\n",
    "efcamdat_100k_fp = os.path.join(experiment_data_folder, \"efcamdat_100k_with_text_and_measures.csv\")\n",
    "efcamdat_100k_train_fp = os.path.join(experiment_data_folder, \"efcamdat_test_with_id.csv\")\n",
    "efcamdat_100k_test_fp = os.path.join(experiment_data_folder, \"efcamdat_train_with_id.csv\")"
   ]
  },
  {
   "cell_type": "code",
   "execution_count": 3,
   "id": "a14e4894-6487-4c18-9d2d-07a5d35fe85f",
   "metadata": {},
   "outputs": [],
   "source": [
    "from sklearn.metrics import classification_report\n",
    "\n",
    "class hard_predictions_eval:\n",
    "    def __init__(self, hard_predictions_dict : dict, hard_gold_labels_dict : dict):\n",
    "        self.hard_predictions_dict = hard_predictions_dict\n",
    "        self.hard_gold_labels_dict = hard_gold_labels_dict\n",
    "        self.y_pred = [v for v in self.hard_predictions_dict.values()], \n",
    "        self.y_true = [v for v in self.hard_gold_labels_dict.values()]\n",
    "        print(self.y_pred, self.y_true)\n",
    "    def accuracy(self):\n",
    "        pass\n",
    "    def precision(self):\n",
    "        pass\n",
    "    def recall(self):\n",
    "        pass\n",
    "    def report(self):\n",
    "        # assuming dicts are aligned with all same ids\n",
    "        self.report = classification_report(\n",
    "            [v for v in self.hard_predictions_dict.values()], \n",
    "            [v for v in self.hard_gold_labels_dict.values()]\n",
    "        )\n",
    "        print(self.report)\n",
    "\n",
    "def soft_predictions_eval(predictions, gold_labels):\n",
    "    pass"
   ]
  },
  {
   "cell_type": "markdown",
   "id": "ef512576-cff4-407e-889b-63c0e278e7ee",
   "metadata": {},
   "source": [
    "## Expected folder structure\n",
    "## \n",
    "```\n",
    "./datasets\n",
    "└── NLP4CALL_2025_experiment\n",
    "    ├── experiments_data\n",
    "    │   └── nlp4call2025_article_experiments\n",
    "    │       ├── celva_1742_with_text_and_measures.csv\n",
    "    │       ├── data_for_cefr_model_3efcamdat_to_1celva_with_ids_and_texts.csv\n",
    "    │       ├── efcamdat_100k_with_text_and_measures.csv\n",
    "    │       ├── efcamdat_test_with_id.csv\n",
    "    │       └── efcamdat_train_with_id.csv\n",
    "    └── experiments_data.zip\n",
    "./notebooks\n",
    "└── andrews-CEFR-benchmark-eval.ipynb\n",
    "```"
   ]
  },
  {
   "cell_type": "code",
   "execution_count": 4,
   "id": "b30616d7-4c00-4ed3-8255-fc54e8c43ad3",
   "metadata": {},
   "outputs": [],
   "source": [
    "andrews100kdf = pd.read_csv(efcamdat_100k_fp,index_col=0)\n",
    "andrews100ktrainids = pd.read_csv(efcamdat_100k_train_fp)\n",
    "andrews100ktestids = pd.read_csv(efcamdat_100k_test_fp)"
   ]
  },
  {
   "cell_type": "code",
   "execution_count": 5,
   "id": "40874a82-b6c9-4106-9124-ba0726eb2abb",
   "metadata": {
    "scrolled": true
   },
   "outputs": [
    {
     "data": {
      "text/plain": [
       "Index(['cefr_level', 'measures.collocations.text_level.ratio_num_token',\n",
       "       'measures.collocations.text_level.ttr', 'measures.counts.acl',\n",
       "       'measures.counts.acl_ratio', 'measures.counts.acl.relcl',\n",
       "       'measures.counts.acl.relcl_ratio', 'measures.counts.ADJ',\n",
       "       'measures.counts.ADJ_ratio', 'measures.counts.ADP',\n",
       "       ...\n",
       "       'measures.taassc.L2SCA.CP_C', 'measures.taassc.L2SCA.CP_T',\n",
       "       'measures.taassc.L2SCA.CT_T', 'measures.taassc.L2SCA.DC_C',\n",
       "       'measures.taassc.L2SCA.DC_T', 'measures.taassc.L2SCA.MLC',\n",
       "       'measures.taassc.L2SCA.MLS', 'measures.taassc.L2SCA.MLT',\n",
       "       'measures.taassc.L2SCA.T_S', 'measures.taassc.L2SCA.VP_T'],\n",
       "      dtype='object', length=505)"
      ]
     },
     "execution_count": 5,
     "metadata": {},
     "output_type": "execute_result"
    }
   ],
   "source": [
    "andrews100ktrainids.columns"
   ]
  },
  {
   "cell_type": "code",
   "execution_count": 32,
   "id": "d2384c8c-2c84-4a16-b728-b5aa638c0b56",
   "metadata": {},
   "outputs": [],
   "source": [
    "cefr_levels =[\"A1\",\"A2\",\"B1\",\"B2\",\"C1\",\"C2\"]\n",
    "sample_size = 10000\n",
    "dummy_test_set = andrews100kdf.sample(sample_size).reset_index()\n",
    "hard_golden_labels=dummy_test_set[\"cefr_level\"].to_dict()\n",
    "print(hard_golden_labels)\n",
    "clear_output()"
   ]
  },
  {
   "cell_type": "code",
   "execution_count": 7,
   "id": "68cf15a6-53a9-4023-b568-0ffd354604f7",
   "metadata": {},
   "outputs": [],
   "source": [
    "random_probas = np.random.dirichlet(np.ones(5),size=sample_size)\n",
    "'''predictions = {\n",
    "    {\n",
    "     \"A1\": 0.31,\n",
    "     \"A2\": 0.54,\n",
    "     \"B1\": 0.4,\n",
    "     \"B2\": 0.74,\n",
    "     \"C1\": 0.74,\n",
    "    }\n",
    "}'''\n",
    "soft_predictions = {\n",
    "    id_: {class_:proba for class_, proba in zip(cefr_levels, cefr_vector)}\n",
    "    for id_, cefr_vector in zip(range(sample_size),random_probas.tolist())\n",
    "}\n",
    "idx_to_class_ = lambda v: {\n",
    "         0: \"A1\",\n",
    "         1: \"A2\",\n",
    "         2: \"B1\",\n",
    "         3: \"B2\",\n",
    "         4: \"C1\",\n",
    "}.get(v, None)\n",
    "hard_predictions = {k:idx_to_class_(v) for k,v in zip(range(sample_size), np.argmax(random_probas,axis=1).tolist())}"
   ]
  },
  {
   "cell_type": "code",
   "execution_count": 34,
   "id": "2642a663-1a15-4f20-8df2-e843aba8dc93",
   "metadata": {},
   "outputs": [],
   "source": [
    "hard_eval = hard_predictions_eval(hard_predictions,hard_golden_labels)\n",
    "clear_output()"
   ]
  },
  {
   "cell_type": "code",
   "execution_count": 9,
   "id": "d35f968e-b0af-481a-8379-9630d6b5809d",
   "metadata": {},
   "outputs": [
    {
     "name": "stdout",
     "output_type": "stream",
     "text": [
      "              precision    recall  f1-score   support\n",
      "\n",
      "          A1       0.20      0.46      0.28      2012\n",
      "          A2       0.20      0.29      0.24      2030\n",
      "          B1       0.19      0.15      0.17      1989\n",
      "          B2       0.20      0.06      0.09      1971\n",
      "          C1       0.22      0.01      0.03      1998\n",
      "\n",
      "    accuracy                           0.20     10000\n",
      "   macro avg       0.20      0.20      0.16     10000\n",
      "weighted avg       0.20      0.20      0.16     10000\n",
      "\n"
     ]
    }
   ],
   "source": [
    "hard_eval.report()"
   ]
  },
  {
   "cell_type": "markdown",
   "id": "856f3f16-248a-4fbe-bd1a-bf4ddd5b130b",
   "metadata": {},
   "source": [
    "### What is the distribution of CEFR level ?\n"
   ]
  },
  {
   "cell_type": "code",
   "execution_count": 10,
   "id": "3b32a16b-45c2-4280-ae92-89d2cec08000",
   "metadata": {},
   "outputs": [
    {
     "data": {
      "text/plain": [
       "cefr_level\n",
       "A1    0.47215\n",
       "A2    0.29701\n",
       "B1    0.16172\n",
       "B2    0.05497\n",
       "C1    0.01415\n",
       "Name: count, dtype: float64"
      ]
     },
     "execution_count": 10,
     "metadata": {},
     "output_type": "execute_result"
    }
   ],
   "source": [
    "andrews100kdf[\"cefr_level\"].value_counts()/len(andrews100kdf[\"cefr_level\"])"
   ]
  },
  {
   "cell_type": "markdown",
   "id": "ffbd3c24-f07a-41d0-bcc7-f4b3022ebc5f",
   "metadata": {
    "jp-MarkdownHeadingCollapsed": true
   },
   "source": [
    "# Loading a model and doing predictions"
   ]
  },
  {
   "cell_type": "code",
   "execution_count": 11,
   "id": "56c4ccc1-daa3-4c2a-94b4-f98cf92ecaf3",
   "metadata": {},
   "outputs": [],
   "source": [
    "import sys\n",
    "model_name=\"CefrFlatMultiClassLogisticRegressionModel\"\n",
    "sys.path.append(base_dir)\n",
    "sys.path.append(f\"{base_dir}{os.sep}modelling\")\n",
    "import flat_classifier as FC\n",
    "import torch"
   ]
  },
  {
   "cell_type": "code",
   "execution_count": 12,
   "id": "ab867002-7601-48af-8474-a9fe5067ef4f",
   "metadata": {},
   "outputs": [
    {
     "name": "stderr",
     "output_type": "stream",
     "text": [
      "/home/berstearns/projects/garbage_collector/cefr-classifcation/bert_cefr_classification/modelling/flat_classifier.py:52: FutureWarning: You are using `torch.load` with `weights_only=False` (the current default value), which uses the default pickle module implicitly. It is possible to construct malicious pickle data which will execute arbitrary code during unpickling (See https://github.com/pytorch/pytorch/blob/main/SECURITY.md#untrusted-models for more details). In a future release, the default value for `weights_only` will be flipped to `True`. This limits the functions that could be executed during unpickling. Arbitrary objects will no longer be allowed to be loaded via this mode unless they are explicitly allowlisted by the user via `torch.serialization.add_safe_globals`. We recommend you start setting `weights_only=True` for any use case where you don't have full control of the loaded file. Please open an issue on GitHub for any issues related to this experimental feature.\n",
      "  checkpoint = torch.load(model_save_path)\n"
     ]
    }
   ],
   "source": [
    "model, model_dict = FC.load_model(f\"{base_dir}{os.sep}modelling{os.sep}models{os.sep}{model_name}.pth\")"
   ]
  },
  {
   "cell_type": "code",
   "execution_count": 19,
   "id": "417b79dd-ef03-4043-9088-8af9fe371f70",
   "metadata": {},
   "outputs": [
    {
     "name": "stdout",
     "output_type": "stream",
     "text": [
      "Model output (logits): tensor([[-0.0335,  0.4973, -0.7702,  0.3604, -0.6651, -0.5276],\n",
      "        [-0.0117,  0.5206, -0.6446, -0.0161, -0.6992, -0.1394],\n",
      "        [-0.8555, -0.9051,  0.3068,  0.5986, -0.3094, -1.3785]])\n"
     ]
    }
   ],
   "source": [
    "batch_size = 3\n",
    "with torch.no_grad():  # We don't need gradients for inference\n",
    "    random_input = torch.randn(batch_size, model_dict['model_architecture']['input_size'])  #  (3, input_size)\n",
    "    logits, probas= model(random_input)  # Get logits (predictions)\n",
    "    print(\"Model output (logits):\", logits)\n"
   ]
  },
  {
   "cell_type": "code",
   "execution_count": 14,
   "id": "9c82d2df-c475-48dc-ab56-e5699febfb45",
   "metadata": {},
   "outputs": [],
   "source": [
    "# probas = torch.nn.functional.softmax(logits,dim=1)"
   ]
  },
  {
   "cell_type": "code",
   "execution_count": 24,
   "id": "58f7a61b-66b1-47a8-b7e4-16221e3bd9a4",
   "metadata": {},
   "outputs": [
    {
     "data": {
      "text/plain": [
       "tensor([[0.1723, 0.2930, 0.0825, 0.2555, 0.0916, 0.1051],\n",
       "        [0.1782, 0.3034, 0.0946, 0.1774, 0.0896, 0.1568],\n",
       "        [0.0851, 0.0810, 0.2721, 0.3644, 0.1470, 0.0505]])"
      ]
     },
     "execution_count": 24,
     "metadata": {},
     "output_type": "execute_result"
    }
   ],
   "source": [
    "probas"
   ]
  },
  {
   "cell_type": "code",
   "execution_count": 25,
   "id": "dac2ec42-3071-445f-b887-211b8d8c574c",
   "metadata": {},
   "outputs": [
    {
     "data": {
      "text/plain": [
       "FlatMultiClassLogisticRegressionModel(\n",
       "  (linear): Linear(in_features=4, out_features=6, bias=True)\n",
       ")"
      ]
     },
     "execution_count": 25,
     "metadata": {},
     "output_type": "execute_result"
    }
   ],
   "source": [
    "model"
   ]
  },
  {
   "cell_type": "code",
   "execution_count": null,
   "id": "7f047d19-0138-422d-9b7c-410b085f8b37",
   "metadata": {},
   "outputs": [],
   "source": []
  }
 ],
 "metadata": {
  "kernelspec": {
   "display_name": "Python 3 (ipykernel)",
   "language": "python",
   "name": "python3"
  },
  "language_info": {
   "codemirror_mode": {
    "name": "ipython",
    "version": 3
   },
   "file_extension": ".py",
   "mimetype": "text/x-python",
   "name": "python",
   "nbconvert_exporter": "python",
   "pygments_lexer": "ipython3",
   "version": "3.12.7"
  }
 },
 "nbformat": 4,
 "nbformat_minor": 5
}
