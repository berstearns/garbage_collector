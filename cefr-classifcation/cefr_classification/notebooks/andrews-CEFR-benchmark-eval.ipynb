{
 "cells": [
  {
   "cell_type": "code",
   "execution_count": 1,
   "id": "9609582b-a649-4f70-947d-56e2ad9c3b22",
   "metadata": {},
   "outputs": [],
   "source": [
    "import pandas as pd\n",
    "import numpy as np\n",
    "from IPython.display import clear_output"
   ]
  },
  {
   "cell_type": "code",
   "execution_count": 1,
   "id": "c3193ee5-de7c-4479-a6ba-2a22c3c1b1d7",
   "metadata": {},
   "outputs": [],
   "source": [
    "import os\n",
    "notebook_dir = os.path.abspath(\"\")\n",
    "base_dir = os.path.dirname(notebook_dir)\n",
    "experiment_data_folder = os.path.join(base_dir,\"datasets\", \"NLP4CALL_2025_experiment\",\"experiments_data\")\n",
    "# efcamdat_100k_with_text_and_measures.csv\n",
    "efcamdat_100k_fp = os.path.join(experiment_data_folder, \"efcamdat_100k_with_text_and_measures.csv\")\n",
    "efcamdat_100k_train_fp = os.path.join(experiment_data_folder, \"efcamdat_train_id.csv\")\n",
    "efcamdat_100k_test_fp = os.path.join(experiment_data_folder, \"efcamdat_test_id.csv\")\n",
    "full_cleaned_efcamdat = os.path.join(experiment_data_folder, \"cleaned_efcamdat.csv\")"
   ]
  },
  {
   "cell_type": "code",
   "execution_count": 1,
   "id": "a14e4894-6487-4c18-9d2d-07a5d35fe85f",
   "metadata": {},
   "outputs": [],
   "source": [
    "from sklearn.metrics import classification_report\n",
    "\n",
    "cefr_levels =[\"A1\",\"A2\",\"B1\",\"B2\",\"C1\",\"C2\"]\n",
    "\n",
    "idx_to_class_ = lambda v: {\n",
    "         0: \"A1\",\n",
    "         1: \"A2\",\n",
    "         2: \"B1\",\n",
    "         3: \"B2\",\n",
    "         4: \"C1\",\n",
    "}.get(v, None)\n",
    "\n",
    "label_to_idx_ = lambda v: {\n",
    "         \"A1\": 0,\n",
    "         \"A2\": 1,\n",
    "         \"B1\": 2,\n",
    "         \"B2\": 3,\n",
    "         \"C1\": 4,\n",
    "         \"C2\": 4,\n",
    "}.get(v, None)\n",
    "\n",
    "class hard_predictions_eval:\n",
    "    def __init__(self, hard_predictions_dict : dict, hard_gold_labels_dict : dict):\n",
    "        self.hard_predictions_dict = hard_predictions_dict\n",
    "        self.hard_gold_labels_dict = hard_gold_labels_dict\n",
    "        self.y_pred = [v for v in self.hard_predictions_dict.values()], \n",
    "        self.y_true = [v for v in self.hard_gold_labels_dict.values()]\n",
    "        print(self.y_pred, self.y_true)\n",
    "    def accuracy(self):\n",
    "        pass\n",
    "    def precision(self):\n",
    "        pass\n",
    "    def recall(self):\n",
    "        pass\n",
    "    def report(self):\n",
    "        # assuming dicts are aligned with all same ids\n",
    "        self._report = classification_report(\n",
    "            [v for v in self.hard_predictions_dict.values()], \n",
    "            [v for v in self.hard_gold_labels_dict.values()]\n",
    "        )\n",
    "        print(self._report)\n",
    "\n",
    "def soft_predictions_eval(predictions, gold_labels):\n",
    "    pass"
   ]
  },
  {
   "cell_type": "markdown",
   "id": "ef512576-cff4-407e-889b-63c0e278e7ee",
   "metadata": {},
   "source": [
    "## Expected folder structure\n",
    "## \n",
    "```\n",
    "./datasets\n",
    "└── NLP4CALL_2025_experiment\n",
    "    ├── experiments_data\n",
    "    │   └── nlp4call2025_article_experiments\n",
    "    │       ├── celva_1742_with_text_and_measures.csv\n",
    "    │       ├── data_for_cefr_model_3efcamdat_to_1celva_with_ids_and_texts.csv\n",
    "    │       ├── efcamdat_100k_with_text_and_measures.csv\n",
    "    │       ├── efcamdat_test_with_id.csv\n",
    "    │       └── efcamdat_train_with_id.csv\n",
    "    └── experiments_data.zip\n",
    "./notebooks\n",
    "└── andrews-CEFR-benchmark-eval.ipynb\n",
    "```"
   ]
  },
  {
   "cell_type": "markdown",
   "id": "d4d2ae16-c5bc-4b73-8b1b-34628bd3c036",
   "metadata": {},
   "source": [
    "## Load dataset and get test split"
   ]
  },
  {
   "cell_type": "code",
   "execution_count": 59,
   "id": "b30616d7-4c00-4ed3-8255-fc54e8c43ad3",
   "metadata": {},
   "outputs": [],
   "source": [
    "andrews100kdf = pd.read_csv(efcamdat_100k_fp,index_col=0)\n",
    "andrews100ktrainids = pd.read_csv(efcamdat_100k_train_fp)['writing_id']\n",
    "andrews100ktestids = pd.read_csv(efcamdat_100k_test_fp)['writing_id']"
   ]
  },
  {
   "cell_type": "code",
   "execution_count": 5,
   "id": "40874a82-b6c9-4106-9124-ba0726eb2abb",
   "metadata": {
    "scrolled": true
   },
   "outputs": [
    {
     "data": {
      "text/plain": [
       "(100000, 725)"
      ]
     },
     "execution_count": 5,
     "metadata": {},
     "output_type": "execute_result"
    }
   ],
   "source": [
    "andrews100kdf.shape"
   ]
  },
  {
   "cell_type": "code",
   "execution_count": 6,
   "id": "2bc741d3-71fd-4266-bacf-1588b6b72c8a",
   "metadata": {},
   "outputs": [],
   "source": [
    "andrew100ktrain_df = pd.merge(andrews100kdf,andrews100ktrainids,on=\"writing_id\")\n",
    "andrew100ktest_df = pd.merge(andrews100kdf,andrews100ktestids,on=\"writing_id\").sample(1000)"
   ]
  },
  {
   "cell_type": "code",
   "execution_count": 7,
   "id": "4678f5ef-fa9d-4b75-ad3a-52b550a91a25",
   "metadata": {},
   "outputs": [
    {
     "name": "stdout",
     "output_type": "stream",
     "text": [
      "(100000, 725)\n",
      "Index(['writing_id', 'cefr_level',\n",
      "       'measures.collocations.text_level.ratio_num_token',\n",
      "       'measures.collocations.text_level.ttr', 'measures.counts.acl',\n",
      "       'measures.counts.acl_ratio', 'measures.counts.acl:relcl',\n",
      "       'measures.counts.acl:relcl_ratio', 'measures.counts.ADJ',\n",
      "       'measures.counts.ADJ_ratio',\n",
      "       ...\n",
      "       'measures.taassc.L2SCA.CT_T', 'measures.taassc.L2SCA.DC_C',\n",
      "       'measures.taassc.L2SCA.DC_T', 'measures.taassc.L2SCA.MLC',\n",
      "       'measures.taassc.L2SCA.MLS', 'measures.taassc.L2SCA.MLT',\n",
      "       'measures.taassc.L2SCA.T_S', 'measures.taassc.L2SCA.VP_T', 'text',\n",
      "       'l1'],\n",
      "      dtype='object', length=725)\n",
      "(1000, 725)\n",
      "Index(['writing_id', 'cefr_level',\n",
      "       'measures.collocations.text_level.ratio_num_token',\n",
      "       'measures.collocations.text_level.ttr', 'measures.counts.acl',\n",
      "       'measures.counts.acl_ratio', 'measures.counts.acl:relcl',\n",
      "       'measures.counts.acl:relcl_ratio', 'measures.counts.ADJ',\n",
      "       'measures.counts.ADJ_ratio',\n",
      "       ...\n",
      "       'measures.taassc.L2SCA.CT_T', 'measures.taassc.L2SCA.DC_C',\n",
      "       'measures.taassc.L2SCA.DC_T', 'measures.taassc.L2SCA.MLC',\n",
      "       'measures.taassc.L2SCA.MLS', 'measures.taassc.L2SCA.MLT',\n",
      "       'measures.taassc.L2SCA.T_S', 'measures.taassc.L2SCA.VP_T', 'text',\n",
      "       'l1'],\n",
      "      dtype='object', length=725)\n",
      "(79998, 725)\n",
      "Index(['writing_id', 'cefr_level',\n",
      "       'measures.collocations.text_level.ratio_num_token',\n",
      "       'measures.collocations.text_level.ttr', 'measures.counts.acl',\n",
      "       'measures.counts.acl_ratio', 'measures.counts.acl:relcl',\n",
      "       'measures.counts.acl:relcl_ratio', 'measures.counts.ADJ',\n",
      "       'measures.counts.ADJ_ratio',\n",
      "       ...\n",
      "       'measures.taassc.L2SCA.CT_T', 'measures.taassc.L2SCA.DC_C',\n",
      "       'measures.taassc.L2SCA.DC_T', 'measures.taassc.L2SCA.MLC',\n",
      "       'measures.taassc.L2SCA.MLS', 'measures.taassc.L2SCA.MLT',\n",
      "       'measures.taassc.L2SCA.T_S', 'measures.taassc.L2SCA.VP_T', 'text',\n",
      "       'l1'],\n",
      "      dtype='object', length=725)\n"
     ]
    }
   ],
   "source": [
    "for df in [andrews100kdf, andrew100ktest_df, andrew100ktrain_df]:\n",
    "    print(df.shape)\n",
    "    print(df.columns)"
   ]
  },
  {
   "cell_type": "markdown",
   "id": "856f3f16-248a-4fbe-bd1a-bf4ddd5b130b",
   "metadata": {},
   "source": [
    "### What is the distribution of CEFR level ?\n"
   ]
  },
  {
   "cell_type": "code",
   "execution_count": 8,
   "id": "3b32a16b-45c2-4280-ae92-89d2cec08000",
   "metadata": {},
   "outputs": [
    {
     "name": "stdout",
     "output_type": "stream",
     "text": [
      "cefr_level\n",
      "A1    0.47215\n",
      "A2    0.29701\n",
      "B1    0.16172\n",
      "B2    0.05497\n",
      "C1    0.01415\n",
      "Name: count, dtype: float64\n",
      "cefr_level\n",
      "A1    0.506\n",
      "A2    0.295\n",
      "B1    0.141\n",
      "B2    0.044\n",
      "C1    0.014\n",
      "Name: count, dtype: float64\n",
      "cefr_level\n",
      "A1    0.472224\n",
      "A2    0.297057\n",
      "B1    0.161654\n",
      "B2    0.054814\n",
      "C1    0.014250\n",
      "Name: count, dtype: float64\n"
     ]
    }
   ],
   "source": [
    "for df in [andrews100kdf, andrew100ktest_df, andrew100ktrain_df]:\n",
    "    print(df[\"cefr_level\"].value_counts()/len(df[\"cefr_level\"]))"
   ]
  },
  {
   "cell_type": "markdown",
   "id": "ffbd3c24-f07a-41d0-bcc7-f4b3022ebc5f",
   "metadata": {},
   "source": [
    "## Loading models and doing predictions"
   ]
  },
  {
   "cell_type": "code",
   "execution_count": 9,
   "id": "6849686f-6fd5-4b8a-9725-62070df703f2",
   "metadata": {},
   "outputs": [],
   "source": [
    "from collections import defaultdict\n",
    "\n",
    "models_predictions = defaultdict(lambda: {\n",
    "                                    \"model_name\": None,\n",
    "                                    \"probas\": None, # soft_predictions\n",
    "                                    \"hard_predictions\": None,\n",
    "                                         })"
   ]
  },
  {
   "cell_type": "markdown",
   "id": "8c70dde0-7bc4-48ec-8455-c3f3f56ce292",
   "metadata": {},
   "source": [
    "## Loading flat classifier"
   ]
  },
  {
   "cell_type": "code",
   "execution_count": 10,
   "id": "56c4ccc1-daa3-4c2a-94b4-f98cf92ecaf3",
   "metadata": {},
   "outputs": [],
   "source": [
    "import sys\n",
    "model_name=\"CefrFlatMultiClassLogisticRegressionModel\"\n",
    "sys.path.append(base_dir)\n",
    "sys.path.append(f\"{base_dir}{os.sep}modelling\")\n",
    "import flat_classifier as FC\n",
    "import torch"
   ]
  },
  {
   "cell_type": "code",
   "execution_count": 11,
   "id": "90e03b02-c138-4e66-81bb-614921118027",
   "metadata": {},
   "outputs": [
    {
     "name": "stdout",
     "output_type": "stream",
     "text": [
      "/home/berstearns/p/garbage_collector/cefr-classifcation/cefr_classification/models/CefrFlatMultiClassLogisticRegressionModel.pth\n"
     ]
    }
   ],
   "source": [
    "model_path = f\"{base_dir}{os.sep}models{os.sep}{model_name}.pth\"\n",
    "print(model_path)"
   ]
  },
  {
   "cell_type": "code",
   "execution_count": 12,
   "id": "ab867002-7601-48af-8474-a9fe5067ef4f",
   "metadata": {},
   "outputs": [
    {
     "name": "stderr",
     "output_type": "stream",
     "text": [
      "/home/berstearns/p/garbage_collector/cefr-classifcation/cefr_classification/modelling/flat_classifier.py:52: FutureWarning: You are using `torch.load` with `weights_only=False` (the current default value), which uses the default pickle module implicitly. It is possible to construct malicious pickle data which will execute arbitrary code during unpickling (See https://github.com/pytorch/pytorch/blob/main/SECURITY.md#untrusted-models for more details). In a future release, the default value for `weights_only` will be flipped to `True`. This limits the functions that could be executed during unpickling. Arbitrary objects will no longer be allowed to be loaded via this mode unless they are explicitly allowlisted by the user via `torch.serialization.add_safe_globals`. We recommend you start setting `weights_only=True` for any use case where you don't have full control of the loaded file. Please open an issue on GitHub for any issues related to this experimental feature.\n",
      "  checkpoint = torch.load(model_save_path)\n"
     ]
    }
   ],
   "source": [
    "model, model_dict = FC.load_model(model_path)"
   ]
  },
  {
   "cell_type": "code",
   "execution_count": 13,
   "id": "ba649f70-8489-47e5-94ab-c027decaef80",
   "metadata": {},
   "outputs": [
    {
     "name": "stdout",
     "output_type": "stream",
     "text": [
      "Model output (logits): torch.Size([1000, 5])\n"
     ]
    }
   ],
   "source": [
    "batch_size = andrew100ktest_df.shape[0]\n",
    "with torch.no_grad():  # We don't need gradients for inference\\n\",\n",
    "    random_input = torch.randn(batch_size, model_dict['model_architecture']['input_size'])  #  (3, input_size)\\n\",\n",
    "    logits, probas= model(random_input)  # Get logits (predictions)\\n\",\n",
    "    print(\"Model output (logits):\", logits.shape)"
   ]
  },
  {
   "cell_type": "code",
   "execution_count": 15,
   "id": "aa2dd9ca-4784-475a-bfac-11bec35defb8",
   "metadata": {},
   "outputs": [
    {
     "name": "stdout",
     "output_type": "stream",
     "text": [
      "tensor([[0.0837, 0.3011, 0.1103, 0.2551, 0.2498],\n",
      "        [0.1774, 0.4419, 0.0807, 0.1637, 0.1363],\n",
      "        [0.2326, 0.0519, 0.1702, 0.4043, 0.1411],\n",
      "        ...,\n",
      "        [0.1845, 0.1376, 0.1124, 0.1480, 0.4175],\n",
      "        [0.2636, 0.3519, 0.0631, 0.1039, 0.2175],\n",
      "        [0.0340, 0.6691, 0.0722, 0.0628, 0.1619]])\n"
     ]
    }
   ],
   "source": [
    "print(probas)"
   ]
  },
  {
   "cell_type": "code",
   "execution_count": 32,
   "id": "58f7a61b-66b1-47a8-b7e4-16221e3bd9a4",
   "metadata": {},
   "outputs": [
    {
     "data": {
      "text/plain": [
       "torch.Size([1000, 5])"
      ]
     },
     "execution_count": 32,
     "metadata": {},
     "output_type": "execute_result"
    }
   ],
   "source": [
    "probas.shape"
   ]
  },
  {
   "cell_type": "code",
   "execution_count": 33,
   "id": "dac2ec42-3071-445f-b887-211b8d8c574c",
   "metadata": {},
   "outputs": [
    {
     "data": {
      "text/plain": [
       "FlatMultiClassLogisticRegressionModel(\n",
       "  (linear): Linear(in_features=4, out_features=5, bias=True)\n",
       ")"
      ]
     },
     "execution_count": 33,
     "metadata": {},
     "output_type": "execute_result"
    }
   ],
   "source": [
    "model"
   ]
  },
  {
   "cell_type": "markdown",
   "id": "3a37e3cb-8a31-42b1-9cff-e62f7b36350c",
   "metadata": {},
   "source": [
    "### Evaluating\n"
   ]
  },
  {
   "cell_type": "code",
   "execution_count": 60,
   "id": "ec276416-6fe3-475d-aeeb-067bfeaed523",
   "metadata": {},
   "outputs": [
    {
     "name": "stdout",
     "output_type": "stream",
     "text": [
      "{16314: 'A1', 9311: 'A1', 8212: 'A1', 11607: 'A2', 15465: 'B1', 19009: 'A2', 6150: 'A1', 16163: 'A1', 11410: 'A2', 11586: 'A2', 5599: 'A2', 3264: 'A1', 16677: 'A1', 8626: 'A1', 4280: 'A1', 4644: 'A1', 8718: 'B1', 16124: 'B1', 7484: 'A1', 14241: 'A2', 19730: 'A1', 7715: 'A1', 10816: 'A2', 13159: 'A1', 1289: 'A1', 19240: 'A1', 6124: 'A2', 2116: 'A2', 13611: 'A1', 11341: 'A1', 18374: 'A1', 1294: 'A1', 4510: 'A1', 17789: 'B1', 15844: 'A2', 3347: 'A1', 7467: 'A1', 7028: 'A1', 1040: 'A1', 6964: 'A1', 1078: 'A1', 7890: 'A1', 2592: 'A1', 1576: 'A2', 7122: 'A1', 18031: 'C1', 17957: 'C1', 3800: 'A1', 11828: 'A2', 12999: 'A1', 15667: 'A1', 6505: 'A2', 2427: 'C1', 9422: 'A2', 2829: 'A1', 680: 'A1', 16740: 'A2', 420: 'A2', 17744: 'A1', 610: 'A2', 11647: 'A2', 18573: 'A1', 568: 'A1', 11129: 'B1', 17155: 'A2', 2112: 'A1', 3829: 'B2', 14896: 'B2', 3837: 'A2', 5474: 'A2', 2676: 'A2', 4360: 'A1', 18816: 'A1', 14985: 'A1', 13282: 'B1', 10513: 'A2', 2330: 'A2', 5164: 'A2', 9016: 'A1', 6791: 'A1', 2274: 'A2', 1478: 'B1', 8927: 'B1', 14960: 'A1', 11972: 'A2', 17014: 'B1', 11870: 'A1', 7047: 'A2', 2444: 'A2', 3544: 'A2', 11832: 'A1', 12951: 'A2', 12033: 'A1', 17819: 'A2', 13690: 'A2', 3318: 'A1', 10155: 'A1', 18352: 'A1', 771: 'A2', 4467: 'B1', 16933: 'A2', 115: 'A1', 19873: 'A2', 17737: 'A1', 4970: 'A2', 6573: 'A1', 2537: 'A1', 1504: 'A1', 14080: 'A2', 13232: 'A1', 13071: 'A2', 2584: 'A1', 19633: 'A1', 15804: 'A1', 9915: 'A2', 18281: 'A2', 5926: 'A1', 5575: 'A2', 19927: 'B2', 7074: 'A1', 17810: 'A1', 11476: 'A2', 18306: 'A1', 4908: 'A1', 5706: 'A1', 19541: 'A1', 15058: 'A1', 5869: 'B1', 9177: 'A1', 13602: 'A1', 6898: 'A1', 14288: 'A1', 5918: 'A1', 15711: 'B1', 17930: 'A1', 8289: 'A2', 7918: 'A2', 10285: 'B1', 18778: 'B1', 17513: 'B1', 14988: 'B2', 11331: 'A1', 14008: 'A2', 12612: 'B1', 14571: 'A1', 19393: 'A2', 13427: 'A1', 3115: 'A1', 8036: 'A2', 18197: 'A2', 18604: 'A1', 7706: 'A1', 1681: 'A1', 5051: 'A1', 5373: 'A2', 4081: 'A1', 7567: 'B1', 18902: 'A2', 9979: 'A1', 7279: 'A1', 4880: 'B1', 6575: 'B1', 13700: 'B2', 9213: 'A2', 19532: 'A1', 16949: 'A1', 5970: 'A1', 19905: 'A1', 6114: 'A1', 3106: 'A1', 16925: 'A2', 6867: 'B1', 18332: 'A1', 14415: 'A2', 15457: 'B2', 7025: 'A2', 17880: 'A2', 5165: 'A1', 18450: 'A2', 17885: 'A1', 19484: 'A1', 14122: 'A1', 4698: 'A1', 9784: 'A2', 4304: 'A1', 7664: 'B1', 16483: 'A2', 3842: 'A2', 10242: 'A1', 13320: 'B1', 14292: 'A2', 13127: 'A1', 14100: 'B1', 8742: 'A1', 10142: 'A2', 304: 'A1', 3335: 'A1', 5982: 'B1', 13311: 'B2', 16064: 'A1', 5059: 'A1', 11662: 'B1', 9159: 'A2', 8357: 'B1', 12090: 'A1', 18742: 'A1', 17505: 'A1', 15551: 'A1', 11318: 'A2', 12869: 'A1', 7317: 'A1', 15029: 'B1', 7592: 'B1', 7505: 'B2', 1126: 'A1', 13187: 'B1', 12585: 'B1', 14907: 'A1', 18092: 'B2', 2916: 'A1', 4792: 'A1', 15194: 'A1', 4241: 'A2', 7103: 'A2', 19917: 'A1', 13830: 'A2', 14625: 'B2', 16198: 'B2', 15379: 'B1', 19679: 'A2', 219: 'A1', 14016: 'B1', 3404: 'A1', 13920: 'A1', 1580: 'B1', 2254: 'A2', 13083: 'A2', 16486: 'A1', 11623: 'A1', 68: 'A1', 10351: 'A2', 1776: 'A1', 16678: 'A1', 13370: 'A1', 6534: 'A1', 11490: 'A1', 11536: 'A1', 12240: 'A1', 17044: 'A1', 12735: 'A1', 8438: 'A2', 3741: 'A2', 9069: 'A2', 6801: 'C1', 18195: 'A1', 14893: 'A1', 12552: 'A1', 12190: 'B1', 13194: 'A1', 8526: 'A1', 11936: 'A1', 16822: 'A2', 2604: 'A2', 9174: 'A1', 8673: 'A1', 9822: 'B1', 8693: 'A1', 9928: 'A1', 13925: 'A2', 12587: 'B1', 6908: 'A2', 19113: 'A1', 19144: 'B1', 3721: 'A2', 17695: 'B1', 19104: 'A1', 8606: 'B1', 9781: 'A1', 17624: 'A2', 15295: 'A2', 16324: 'B2', 8314: 'A2', 10501: 'A2', 6719: 'A2', 10594: 'A2', 8559: 'A1', 14832: 'A1', 4861: 'A2', 3349: 'A1', 1042: 'A1', 16588: 'A1', 9041: 'B1', 16145: 'A2', 16178: 'B1', 10374: 'A1', 230: 'A2', 7770: 'A1', 6279: 'A2', 3035: 'A2', 16713: 'A2', 4462: 'B1', 1140: 'B1', 5061: 'A1', 8745: 'A2', 5744: 'A1', 5305: 'A2', 9459: 'A2', 9841: 'A1', 6395: 'B1', 8345: 'B1', 16663: 'A1', 8331: 'A2', 13055: 'B1', 19290: 'A1', 990: 'A1', 12120: 'A2', 4767: 'A2', 4646: 'A1', 12537: 'B2', 17984: 'A2', 19531: 'A2', 18034: 'A2', 13277: 'A1', 13763: 'A1', 14619: 'B1', 13322: 'B2', 3314: 'A1', 16354: 'A2', 13992: 'A1', 19784: 'A1', 6643: 'A2', 8475: 'A2', 17101: 'B1', 10230: 'A1', 1620: 'A1', 3174: 'A2', 12103: 'A1', 14909: 'B1', 18715: 'A1', 8544: 'A1', 8706: 'A2', 12369: 'A1', 692: 'A2', 8222: 'B2', 9586: 'A2', 892: 'B1', 657: 'A2', 13467: 'A1', 17496: 'A2', 2100: 'A1', 1166: 'A1', 2105: 'B1', 10312: 'A1', 5403: 'A2', 16659: 'A1', 8839: 'B1', 14784: 'A1', 10081: 'B1', 3813: 'A1', 2080: 'A2', 520: 'A1', 7310: 'A1', 1787: 'A2', 11875: 'B1', 760: 'A1', 11375: 'A1', 1742: 'A1', 14911: 'C1', 16424: 'A2', 588: 'A1', 1688: 'B2', 13050: 'A1', 9032: 'A1', 12175: 'A1', 958: 'A2', 9903: 'A2', 14572: 'A1', 1487: 'A2', 3340: 'A1', 4403: 'A2', 4991: 'A1', 4315: 'A2', 9365: 'A2', 18576: 'B1', 5367: 'A2', 13903: 'A1', 10680: 'A2', 8515: 'A1', 9122: 'A1', 9420: 'A1', 19071: 'A2', 148: 'A1', 142: 'A1', 18361: 'A1', 13954: 'A1', 5855: 'A2', 2586: 'A1', 13531: 'A2', 12260: 'A2', 12064: 'A2', 316: 'A1', 10677: 'A1', 4157: 'A2', 16339: 'A2', 2861: 'A2', 107: 'B2', 7452: 'A2', 10570: 'A1', 8164: 'A1', 495: 'A1', 13707: 'A1', 4204: 'A1', 16026: 'A2', 17163: 'B1', 12049: 'A1', 2328: 'B1', 41: 'A2', 17551: 'A1', 3526: 'A1', 317: 'A1', 9685: 'A1', 4924: 'A2', 6526: 'A2', 4291: 'A1', 7356: 'A1', 7881: 'A2', 1406: 'A1', 453: 'A2', 12933: 'B1', 9716: 'A1', 15721: 'A1', 7130: 'A1', 15426: 'B1', 5528: 'A1', 15979: 'A1', 7500: 'A2', 8622: 'B2', 3749: 'B2', 12206: 'A1', 5037: 'A1', 4857: 'A1', 874: 'B1', 16531: 'A2', 16954: 'B1', 4476: 'A2', 1994: 'B1', 6295: 'B1', 19130: 'A2', 9952: 'A2', 15814: 'A1', 9584: 'A1', 12062: 'B1', 1876: 'A2', 13597: 'A1', 1634: 'B2', 10019: 'A1', 5402: 'A1', 1722: 'A1', 2203: 'A1', 136: 'A1', 10584: 'A1', 6160: 'A1', 16899: 'A1', 1252: 'A1', 15576: 'A1', 14485: 'B1', 10723: 'A1', 5021: 'A2', 15644: 'B1', 13104: 'B1', 11805: 'A1', 19950: 'A2', 10574: 'A2', 4765: 'A2', 5273: 'B2', 5181: 'A1', 15677: 'B1', 514: 'A1', 18539: 'A1', 19579: 'B2', 13957: 'C1', 10882: 'A1', 7471: 'B1', 18729: 'B1', 13173: 'A2', 16643: 'B1', 14939: 'A2', 6340: 'A1', 8012: 'A1', 15535: 'A1', 6202: 'A1', 6402: 'B1', 7606: 'A2', 3801: 'A2', 5211: 'A1', 12373: 'A2', 19727: 'A1', 2595: 'A2', 15517: 'B1', 3994: 'A2', 6951: 'A2', 10054: 'A2', 8187: 'A2', 12205: 'A1', 860: 'A1', 3395: 'A2', 13076: 'A2', 9434: 'A2', 17897: 'A1', 4704: 'A1', 10187: 'A2', 5734: 'A1', 13448: 'A1', 19175: 'A2', 3876: 'A1', 12013: 'A1', 8993: 'A2', 11277: 'B1', 11788: 'A1', 8568: 'A1', 16546: 'A2', 14391: 'A1', 8810: 'A1', 14950: 'A1', 2474: 'A2', 12930: 'A1', 2443: 'B2', 11956: 'A1', 2927: 'A2', 7849: 'A1', 10308: 'B1', 6159: 'A2', 5317: 'A1', 17793: 'A2', 6679: 'A1', 19869: 'A1', 545: 'A1', 4666: 'B1', 12803: 'A1', 1477: 'A1', 16758: 'A1', 4062: 'A1', 6995: 'A1', 8303: 'B2', 15887: 'B2', 17557: 'A1', 221: 'A2', 16692: 'A2', 6297: 'A2', 5816: 'A2', 7454: 'B1', 6277: 'A2', 19473: 'A1', 4101: 'A1', 18448: 'B1', 4834: 'B2', 16627: 'A1', 4541: 'A1', 1101: 'B2', 1338: 'B1', 19005: 'A1', 5831: 'A1', 19209: 'A1', 11151: 'A1', 19141: 'A2', 7798: 'A1', 4151: 'A1', 14283: 'A2', 4270: 'A1', 3059: 'B2', 1822: 'A1', 3998: 'A1', 18617: 'A1', 12653: 'A1', 7989: 'A1', 15466: 'A1', 17311: 'A1', 2331: 'A2', 7669: 'A1', 2935: 'A1', 13499: 'B1', 3419: 'B1', 11710: 'A1', 18037: 'A2', 17249: 'A1', 10792: 'B1', 5922: 'A2', 3645: 'C1', 7694: 'A1', 6435: 'B1', 12882: 'A2', 11847: 'B2', 10868: 'A1', 5930: 'A1', 9075: 'A1', 8754: 'A1', 18321: 'A2', 15620: 'A1', 10509: 'A2', 6587: 'A1', 13843: 'A2', 18645: 'A1', 12758: 'A2', 19220: 'A1', 1150: 'A2', 10907: 'B1', 13228: 'A1', 18140: 'C1', 10231: 'A2', 10824: 'A2', 13459: 'A1', 4500: 'A2', 11804: 'A1', 6454: 'A1', 19372: 'A1', 2190: 'A1', 19281: 'A1', 11865: 'A1', 467: 'A1', 4439: 'A1', 4887: 'A1', 16009: 'A1', 13838: 'A1', 8025: 'A1', 18603: 'B2', 6540: 'B2', 354: 'A1', 15141: 'A1', 14967: 'A1', 14459: 'A1', 18795: 'A2', 19142: 'A1', 15785: 'A1', 4169: 'A2', 17102: 'B1', 16272: 'B1', 6215: 'B1', 15268: 'B1', 2766: 'A2', 15596: 'A2', 1812: 'A2', 13710: 'C1', 17440: 'B1', 3793: 'A1', 17527: 'A1', 9868: 'A1', 12234: 'B1', 19706: 'A2', 3726: 'B1', 17255: 'A2', 4282: 'A1', 14034: 'A1', 180: 'B1', 19499: 'A2', 16126: 'B1', 6733: 'A1', 166: 'A1', 14686: 'A2', 4093: 'C1', 8680: 'A2', 1295: 'A2', 7003: 'A1', 9024: 'A1', 410: 'A2', 6341: 'B2', 17552: 'A1', 9622: 'A1', 4307: 'A2', 4420: 'A1', 11652: 'B1', 7908: 'A2', 19805: 'A2', 7630: 'A1', 10326: 'A1', 10635: 'A2', 3847: 'A1', 16522: 'B1', 11084: 'B1', 19868: 'A1', 6422: 'A2', 2504: 'A1', 9877: 'B2', 17762: 'A1', 17721: 'A1', 11438: 'A2', 12545: 'A2', 3367: 'A2', 7949: 'A1', 10806: 'A2', 16597: 'B1', 18810: 'A1', 10580: 'A1', 19653: 'A1', 9156: 'A2', 16295: 'A2', 7154: 'A1', 4150: 'B1', 2359: 'A1', 14733: 'A1', 6624: 'A2', 19997: 'A1', 14621: 'B2', 6419: 'A1', 13928: 'B1', 16769: 'A2', 3893: 'A1', 12774: 'A2', 2370: 'A1', 3416: 'A1', 1413: 'A1', 13033: 'A2', 10266: 'A1', 11784: 'A2', 5007: 'A1', 16283: 'B1', 13165: 'A1', 10121: 'A1', 15751: 'A1', 9484: 'A1', 285: 'B1', 17851: 'A2', 2261: 'A1', 17663: 'A1', 1234: 'B1', 16478: 'A2', 8043: 'B1', 924: 'A2', 8501: 'A1', 6173: 'A2', 12407: 'A2', 17428: 'A2', 7477: 'A2', 7209: 'A1', 11624: 'A2', 15242: 'A1', 6565: 'A1', 18143: 'B2', 1353: 'B2', 17320: 'A1', 6322: 'A1', 5760: 'A1', 16609: 'A1', 2887: 'A1', 10763: 'A2', 11430: 'A1', 13333: 'B1', 2223: 'A2', 18052: 'A2', 681: 'A1', 5357: 'A1', 10811: 'A1', 11573: 'A1', 19936: 'A1', 8072: 'A1', 10598: 'A1', 1703: 'A1', 16259: 'A1', 7788: 'A2', 13605: 'A2', 14026: 'A1', 2908: 'A1', 17174: 'A1', 5977: 'A1', 9098: 'A1', 7431: 'A2', 15678: 'A1', 12017: 'A2', 16685: 'A2', 18767: 'A2', 15421: 'B1', 2219: 'A2', 3812: 'A1', 19570: 'A1', 14370: 'A1', 4305: 'A1', 16636: 'A1', 8349: 'A1', 4563: 'A1', 7244: 'A2', 12991: 'A1', 872: 'A1', 15066: 'A1', 11554: 'A1', 10731: 'B1', 1205: 'A1', 12649: 'A1', 12531: 'A1', 3105: 'A1', 6321: 'A1', 13292: 'B1', 6088: 'B1', 13072: 'A2', 13209: 'A2', 10113: 'A2', 11853: 'A2', 5285: 'A1', 10112: 'B1', 688: 'A1', 493: 'A1', 940: 'B2', 11937: 'B1', 11380: 'A1', 432: 'A2', 13927: 'A1', 2995: 'A1', 10263: 'A2', 12345: 'A2', 18464: 'A2', 14574: 'A1', 12749: 'A2', 2726: 'A2', 3384: 'A2', 16896: 'A1', 18427: 'A1', 386: 'A1', 7013: 'A2', 18771: 'A1', 2334: 'A1', 4066: 'A1', 11195: 'B1', 18116: 'A1', 7903: 'A1', 2522: 'B1', 4170: 'A2', 7769: 'A1', 5126: 'A1', 15430: 'A1', 5987: 'A1', 13244: 'B1', 5561: 'A1', 16944: 'A1', 18210: 'A2', 12410: 'A2', 11685: 'B2', 15101: 'A2', 10256: 'A2', 13947: 'A2', 18110: 'A2', 12213: 'A1', 10025: 'A1', 3960: 'A2', 9818: 'A1', 9823: 'A2', 8279: 'A2', 10234: 'A1', 16101: 'A1', 11978: 'A1', 11256: 'B1', 19347: 'A2', 6011: 'A1', 8131: 'A1', 9637: 'A2', 449: 'A1', 1821: 'B2', 1691: 'A2', 5493: 'A1', 160: 'A2', 17556: 'A1', 11838: 'C1', 7163: 'A2', 1613: 'A2', 8231: 'A1', 2333: 'B1', 7210: 'A2', 14056: 'B1', 7897: 'A1', 149: 'A1', 7396: 'A2', 18834: 'A1', 6785: 'A1', 2580: 'A1', 13475: 'A1', 6254: 'A2', 1716: 'C1', 15334: 'A1', 19242: 'B1', 16798: 'A1', 11099: 'B2', 5199: 'A1', 15433: 'A2', 12438: 'A1', 10861: 'A1', 4981: 'A1', 674: 'A1', 9277: 'A1', 15766: 'A2', 13972: 'A2', 12200: 'A2', 14971: 'B2', 6556: 'A2', 13280: 'A1', 11839: 'A1', 8534: 'B1', 6593: 'A1', 2011: 'A2', 14069: 'B1', 18364: 'B1', 12368: 'A1', 17094: 'B1', 18453: 'A2', 18438: 'A2', 15908: 'B1', 6253: 'A2', 822: 'A1', 11010: 'B1', 14629: 'A1', 1887: 'A2', 2970: 'A1', 8652: 'B1', 10058: 'A1', 1630: 'B1', 3078: 'A2', 18479: 'A1', 10728: 'B1', 11497: 'B1', 13965: 'A2', 3622: 'A1', 19776: 'A1', 4353: 'B1', 15476: 'A2', 17259: 'A1', 15907: 'A1', 13672: 'B1', 18982: 'A2', 9969: 'A1', 9028: 'A1', 7710: 'A1', 15981: 'A1', 615: 'A1', 19429: 'B1', 16505: 'A2', 3637: 'A1', 13859: 'A1', 19841: 'A1', 10940: 'A2', 5154: 'A1', 8650: 'A1', 18914: 'A1', 15862: 'A2', 17600: 'A2', 9105: 'A1', 12964: 'A1', 4853: 'A1', 11583: 'A1', 6023: 'B1', 19889: 'A1', 6312: 'A2', 3594: 'A1', 9743: 'A2', 15444: 'B1', 15028: 'B1', 4431: 'A1', 9858: 'A2', 21: 'B2', 18614: 'A2', 9364: 'A1', 14540: 'A2', 18462: 'A1', 18041: 'A2', 16987: 'B2', 8408: 'A1', 8492: 'A1', 1593: 'A1', 370: 'A1', 250: 'C1', 11896: 'A1', 1912: 'A1', 4596: 'A2', 14870: 'A1', 5829: 'A1', 11590: 'A2', 19226: 'B1', 9739: 'A1', 12230: 'B1', 13111: 'A1', 11957: 'B1', 144: 'A1', 2418: 'B1', 14132: 'B1', 13036: 'C1', 5573: 'A2', 19118: 'A1', 6699: 'A1', 3901: 'B1', 5814: 'B1', 13638: 'A1', 7060: 'A1', 12452: 'A1', 10404: 'A1', 5772: 'A2', 8038: 'A1', 16500: 'A2', 6094: 'B1', 7260: 'B2', 10: 'A2', 952: 'A1', 10926: 'A1', 18777: 'A1', 772: 'A2', 1054: 'A1'}\n"
     ]
    }
   ],
   "source": [
    "hard_golden_labels=andrew100ktest_df[\"cefr_level\"].to_dict()\n",
    "# hard_random_predictions = {k:idx_to_class_(v) for k,v in zip(range(sample_size), np.argmax(random_probas,axis=1).tolist())}\n",
    "flatclassifier_hard_predictions = { \n",
    "                        idx: idx_to_class_(np.argmax(probas,axis=1).tolist()[0])\n",
    "                                for idx in andrew100ktest_df[\"cefr_level\"].to_dict().keys()\n",
    "                                  }\n",
    "#print(flatclassifier_hard_predictions.items())\n",
    "#clear_output()\n",
    "print(hard_golden_labels)"
   ]
  },
  {
   "cell_type": "code",
   "execution_count": 61,
   "id": "7e31bf3c-0d41-4e76-866f-b91f15e4d923",
   "metadata": {},
   "outputs": [
    {
     "name": "stdout",
     "output_type": "stream",
     "text": [
      "A2\n"
     ]
    }
   ],
   "source": [
    "print([v for v in flatclassifier_hard_predictions.values()][0])"
   ]
  },
  {
   "cell_type": "code",
   "execution_count": 62,
   "id": "8b208038-719f-4f18-9d88-e374b8c7d0a8",
   "metadata": {},
   "outputs": [],
   "source": [
    "hard_eval_FC_predictions = hard_predictions_eval(flatclassifier_hard_predictions,hard_golden_labels)\n",
    "clear_output()"
   ]
  },
  {
   "cell_type": "code",
   "execution_count": 63,
   "id": "055bbd99-e7df-4f55-a7ad-1720dad5b0ea",
   "metadata": {},
   "outputs": [
    {
     "name": "stdout",
     "output_type": "stream",
     "text": [
      "              precision    recall  f1-score   support\n",
      "\n",
      "          A1       0.00      0.00      0.00         0\n",
      "          A2       1.00      0.29      0.46      1000\n",
      "          B1       0.00      0.00      0.00         0\n",
      "          B2       0.00      0.00      0.00         0\n",
      "          C1       0.00      0.00      0.00         0\n",
      "\n",
      "    accuracy                           0.29      1000\n",
      "   macro avg       0.20      0.06      0.09      1000\n",
      "weighted avg       1.00      0.29      0.46      1000\n",
      "\n"
     ]
    },
    {
     "name": "stderr",
     "output_type": "stream",
     "text": [
      "/home/berstearns/p/garbage_collector/cefr-classifcation/cefr_classification/venv/lib/python3.12/site-packages/sklearn/metrics/_classification.py:1565: UndefinedMetricWarning: Recall is ill-defined and being set to 0.0 in labels with no true samples. Use `zero_division` parameter to control this behavior.\n",
      "  _warn_prf(average, modifier, f\"{metric.capitalize()} is\", len(result))\n",
      "/home/berstearns/p/garbage_collector/cefr-classifcation/cefr_classification/venv/lib/python3.12/site-packages/sklearn/metrics/_classification.py:1565: UndefinedMetricWarning: Recall is ill-defined and being set to 0.0 in labels with no true samples. Use `zero_division` parameter to control this behavior.\n",
      "  _warn_prf(average, modifier, f\"{metric.capitalize()} is\", len(result))\n",
      "/home/berstearns/p/garbage_collector/cefr-classifcation/cefr_classification/venv/lib/python3.12/site-packages/sklearn/metrics/_classification.py:1565: UndefinedMetricWarning: Recall is ill-defined and being set to 0.0 in labels with no true samples. Use `zero_division` parameter to control this behavior.\n",
      "  _warn_prf(average, modifier, f\"{metric.capitalize()} is\", len(result))\n"
     ]
    }
   ],
   "source": [
    "hard_eval_FC_predictions.report()"
   ]
  },
  {
   "cell_type": "markdown",
   "id": "a9eab5b0-a645-4d80-a72d-630b7d41b514",
   "metadata": {
    "jp-MarkdownHeadingCollapsed": true
   },
   "source": [
    "## Random Predictions"
   ]
  },
  {
   "cell_type": "code",
   "execution_count": null,
   "id": "7f047d19-0138-422d-9b7c-410b085f8b37",
   "metadata": {},
   "outputs": [],
   "source": [
    "sample_size = andrew100ktest_df.shape[0]\n",
    "random_probas = np.random.dirichlet(np.ones(5),size=sample_size)\n",
    "'''predictions = {\n",
    "    {\n",
    "     \"A1\": 0.31,\n",
    "     \"A2\": 0.54,\n",
    "     \"B1\": 0.4,\n",
    "     \"B2\": 0.74,\n",
    "     \"C1\": 0.74,\n",
    "    }\n",
    "}'''\n",
    "soft_random_predictions = {\n",
    "    id_: {class_:proba for class_, proba in zip(cefr_levels, cefr_vector)}\n",
    "    for id_, cefr_vector in zip(range(sample_size),random_probas.tolist())\n",
    "}\n",
    "\n",
    "hard_random_predictions = {k:idx_to_class_(v) for k,v in zip(range(sample_size), np.argmax(random_probas,axis=1).tolist())}"
   ]
  },
  {
   "cell_type": "markdown",
   "id": "d293ae92-68bd-455d-b146-bacedd3ce2c1",
   "metadata": {},
   "source": [
    "### Evaluating Predictions"
   ]
  },
  {
   "cell_type": "code",
   "execution_count": null,
   "id": "282bb5f8-1b9b-4704-ae60-5a9485928096",
   "metadata": {},
   "outputs": [],
   "source": [
    "'''\n",
    "cefr_levels =[\"A1\",\"A2\",\"B1\",\"B2\",\"C1\",\"C2\"]\n",
    "sample_size = 10000\n",
    "dummy_test_set = andrews100kdf.sample(sample_size).reset_index()\n",
    "hard_golden_labels=dummy_test_set[\"cefr_level\"].to_dict()\n",
    "print(hard_golden_labels)\n",
    "clear_output()\n",
    "hard_eval.report()\n",
    "'''\n",
    "hard_golden_labels=andrew100ktest_df[\"cefr_level\"].to_dict()"
   ]
  },
  {
   "cell_type": "code",
   "execution_count": null,
   "id": "64517bf3-900c-4b79-8dfd-605b4e244de6",
   "metadata": {},
   "outputs": [],
   "source": [
    "hard_eval_random_predictions = hard_predictions_eval(hard_random_predictions,hard_golden_labels)\n",
    "clear_output()"
   ]
  },
  {
   "cell_type": "code",
   "execution_count": null,
   "id": "44553aea-59dd-40fb-83bc-a88c8f3791de",
   "metadata": {},
   "outputs": [],
   "source": [
    "hard_eval_random_predictions.report()"
   ]
  },
  {
   "cell_type": "markdown",
   "id": "9fb59d5e-d858-46b1-99f6-439be6e98e0a",
   "metadata": {},
   "source": [
    "## DUMMY DATA"
   ]
  },
  {
   "cell_type": "code",
   "execution_count": null,
   "id": "8d6aa8b7-be0e-4a18-b37f-41263235e53d",
   "metadata": {},
   "outputs": [],
   "source": [
    "batch_size = 3\n",
    "with torch.no_grad():  # We don't need gradients for inference\n",
    "    random_input = torch.randn(batch_size, model_dict['model_architecture']['input_size'])  #  (3, input_size)\n",
    "    logits, probas= model(random_input)  # Get logits (predictions)\n",
    "    print(\"Model output (logits):\", logits)\n"
   ]
  },
  {
   "cell_type": "code",
   "execution_count": null,
   "id": "5e229d9c-d253-416b-9f3a-cba171c1566e",
   "metadata": {},
   "outputs": [],
   "source": []
  },
  {
   "cell_type": "code",
   "execution_count": null,
   "id": "6c6568ea-3128-4e9a-b76c-94e528776d4b",
   "metadata": {},
   "outputs": [],
   "source": []
  }
 ],
 "metadata": {
  "kernelspec": {
   "display_name": "Python 3 (ipykernel)",
   "language": "python",
   "name": "python3"
  },
  "language_info": {
   "codemirror_mode": {
    "name": "ipython",
    "version": 3
   },
   "file_extension": ".py",
   "mimetype": "text/x-python",
   "name": "python",
   "nbconvert_exporter": "python",
   "pygments_lexer": "ipython3",
   "version": "3.12.3"
  }
 },
 "nbformat": 4,
 "nbformat_minor": 5
}
