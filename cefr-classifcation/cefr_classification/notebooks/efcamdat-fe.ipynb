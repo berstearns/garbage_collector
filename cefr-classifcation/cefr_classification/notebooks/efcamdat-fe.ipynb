{
 "cells": [
  {
   "cell_type": "code",
   "execution_count": 1,
   "id": "b6f73b3c-7e6e-4ce6-bb3a-f995df38305b",
   "metadata": {},
   "outputs": [],
   "source": [
    "import pandas as pd\n",
    "import numpy as np\n",
    "from IPython.display import clear_output\n",
    "import re\n",
    "import string\n",
    "import sys\n",
    "import nltk\n",
    "import logging\n",
    "import torch\n",
    "import pandas as pd\n",
    "from collections import defaultdict\n",
    "from rclone_python import rclone\n",
    "import importlib\n",
    "import processing_pipelines\n",
    "importlib.reload(processing_pipelines)\n",
    "from processing_pipelines import (CleaningPipeline,\n",
    "                                 Text2SentencePipeline,\n",
    "                                 MLMPerplexityCalculator,\n",
    "                                 CLMPerplexityPipeline,\n",
    "                                 SelectAndrewsVariablesPipeline)\n",
    "\n"
   ]
  },
  {
   "cell_type": "code",
   "execution_count": 2,
   "id": "e5e1964f-8ad0-421b-9b48-da41b91849a6",
   "metadata": {},
   "outputs": [
    {
     "name": "stderr",
     "output_type": "stream",
     "text": [
      "[nltk_data] Downloading package punkt to /home/berstearns/nltk_data...\n",
      "[nltk_data]   Package punkt is already up-to-date!\n",
      "[nltk_data] Downloading package treebank to\n",
      "[nltk_data]     /home/berstearns/nltk_data...\n",
      "[nltk_data]   Package treebank is already up-to-date!\n",
      "[nltk_data] Downloading package punkt_tab to\n",
      "[nltk_data]     /home/berstearns/nltk_data...\n",
      "[nltk_data]   Package punkt_tab is already up-to-date!\n"
     ]
    },
    {
     "data": {
      "text/plain": [
       "True"
      ]
     },
     "execution_count": 2,
     "metadata": {},
     "output_type": "execute_result"
    }
   ],
   "source": [
    "nltk.download('punkt')\n",
    "nltk.download('treebank')\n",
    "nltk.download('punkt_tab')\n"
   ]
  },
  {
   "cell_type": "code",
   "execution_count": 3,
   "id": "04e91c59-93b5-4b7a-9e06-81f937fa0d89",
   "metadata": {},
   "outputs": [
    {
     "name": "stdout",
     "output_type": "stream",
     "text": [
      "['/usr/lib/python312.zip', '/usr/lib/python3.12', '/usr/lib/python3.12/lib-dynload', '', '/home/berstearns/p/garbage_collector/cefr-classifcation/cefr_classification/venv/lib/python3.12/site-packages', '/home/berstearns/p/garbage_collector/cefr-classifcation/cefr_classification/processing_pipelines']\n"
     ]
    }
   ],
   "source": [
    "print(sys.path)"
   ]
  },
  {
   "cell_type": "code",
   "execution_count": 4,
   "id": "aec3ebae-cc2d-464d-a0e3-e102e597bf6b",
   "metadata": {},
   "outputs": [
    {
     "name": "stdout",
     "output_type": "stream",
     "text": [
      "/home/berstearns/p/garbage_collector/cefr-classifcation/cefr_classification/datasets/NLP4CALL_2025_experiment/experiments_data/efcamdat_100k_with_text_and_measures.csv insight-gdrive:/phd-experimental-data/NLP4CALL_2025_experiment/experiments_data/andrew100k-train-fe.csv\n"
     ]
    }
   ],
   "source": [
    "import os\n",
    "notebook_dir = os.path.abspath(\"\")\n",
    "local_base_dir = os.path.dirname(notebook_dir)\n",
    "local_experiment_data_folder = os.path.join(local_base_dir,\"datasets\", \"NLP4CALL_2025_experiment\",\"experiments_data\")\n",
    "\n",
    "\n",
    "def remote_expected(config):\n",
    "    \"\"\"\n",
    "    Check if the configuration expects remote storage for inputs or outputs.\n",
    "    Returns a tuple:\n",
    "    - A boolean indicating if remote storage is expected.\n",
    "    - The remote base directory (if remote storage is expected), otherwise None.\n",
    "    \"\"\"\n",
    "    input_remote = config[\"storage\"][\"inputs\"][\"from\"] == \"rclone\"\n",
    "    output_remote = config[\"storage\"][\"outputs\"][\"from\"] == \"rclone\"\n",
    "\n",
    "    # Determine if remote storage is expected\n",
    "    is_remote = input_remote or output_remote\n",
    "\n",
    "    # Determine the remote base directory\n",
    "    remote_base_dir = None\n",
    "    if input_remote:\n",
    "        remote_base_dir = config[\"storage\"][\"inputs\"].get(\"remote_base_dir\")\n",
    "    if output_remote:\n",
    "        remote_base_dir = config[\"storage\"][\"outputs\"].get(\"remote_base_dir\")\n",
    "\n",
    "    # If both input and output are remote, ensure they have the same base directory\n",
    "    if input_remote and output_remote:\n",
    "        input_dir = config[\"storage\"][\"inputs\"].get(\"remote_base_dir\")\n",
    "        output_dir = config[\"storage\"][\"outputs\"].get(\"remote_base_dir\")\n",
    "        if input_dir != output_dir:\n",
    "            raise ValueError(\"Input and output remote base directories must be the same when both are remote.\")\n",
    "    remote_flags = {\n",
    "        \"input\": input_remote,\n",
    "        \"output\": output_remote,\n",
    "    }\n",
    "    return is_remote, remote_base_dir, remote_flags\n",
    "\n",
    "\n",
    "config_local_local = {\n",
    "    \"storage\": {\n",
    "        \"inputs\": {\n",
    "            \"from\": \"local\"\n",
    "        },\n",
    "        \"outputs\": {\n",
    "            \"from\": \"local\"\n",
    "        },\n",
    "    },\n",
    "    \"text_column\": \"text\",\n",
    "    \"column_mapping\": {\n",
    "        \"remainder_efcamdat\": {\n",
    "            \"text\":\"\",\n",
    "            \"CEFR\":\"?\"\n",
    "        },\n",
    "        \"andrew100k\": {\n",
    "            \"text\": \"text\",\n",
    "            \"CEFR\":\"cefr_level\"\n",
    "        }\n",
    "    },\n",
    "    \"perplexity_models\" : [\n",
    "        \"gpt2\"\n",
    "    ],\n",
    "    \"base_columns\": ['writing_id', 'cefr_level','text', 'l1' ],\n",
    "}\n",
    "\n",
    "config_local_rclone = {\n",
    "    \"storage\": {\n",
    "        \"inputs\": {\n",
    "            \"from\": \"local\"\n",
    "        },\n",
    "        \"outputs\": {\n",
    "            \"from\": \"rclone\",\n",
    "            \"remote_base_dir\": \"insight-gdrive:/phd-experimental-data\"\n",
    "        },\n",
    "    },\n",
    "    \"text_column\": \"text\",\n",
    "    \"column_mapping\": {\n",
    "        \"remainder_efcamdat\": {\n",
    "            \"text\":\"\",\n",
    "            \"CEFR\":\"?\"\n",
    "        },\n",
    "        \"andrew100k\": {\n",
    "            \"text\": \"text\",\n",
    "            \"CEFR\":\"cefr_level\"\n",
    "        }\n",
    "    },\n",
    "    \"perplexity_models\" : [\n",
    "        \"gpt2\"\n",
    "    ],\n",
    "    \"base_columns\": ['writing_id', 'cefr_level','text', 'l1' ],\n",
    "}\n",
    "\n",
    "\n",
    "config = config_local_rclone\n",
    "\n",
    "\n",
    "is_remoted_expected, remote_base_dir, remote_flags = remote_expected(config)\n",
    "config[\"remote_flags\"] = remote_flags\n",
    "if is_remoted_expected:\n",
    "   remote_experiment_data_folder = os.path.join(remote_base_dir, \"NLP4CALL_2025_experiment\",\"experiments_data\")\n",
    "\n",
    "\n",
    "if remote_flags[\"input\"] == False:\n",
    "    # efcamdat_100k_with_text_and_measures.csv\n",
    "    efcamdat_100k_fp          = os.path.join(local_experiment_data_folder, \"efcamdat_100k_with_text_and_measures.csv\")\n",
    "    efcamdat_100k_train_fp    = os.path.join(local_experiment_data_folder, \"efcamdat_train_id.csv\")\n",
    "    efcamdat_100k_test_fp     = os.path.join(local_experiment_data_folder, \"efcamdat_test_id.csv\")\n",
    "    vars_present_in_model_fp  = os.path.join(local_experiment_data_folder, \"vars_present_in_model.txt\")\n",
    "elif remote_flags[\"input\"] == True:\n",
    "    # expects a remote + the same folder structure as local folder structure\n",
    "    # efcamdat_100k_with_text_and_measures.csv\n",
    "    efcamdat_100k_fp          = os.path.join(remote_experiment_data_folder, \"efcamdat_100k_with_text_and_measures.csv\")\n",
    "    efcamdat_100k_train_fp    = os.path.join(remote_experiment_data_folder, \"efcamdat_train_id.csv\")\n",
    "    efcamdat_100k_test_fp     = os.path.join(remote_experiment_data_folder, \"efcamdat_test_id.csv\")\n",
    "    vars_present_in_model_fp  = os.path.join(remote_experiment_data_folder, \"vars_present_in_model.txt\")\n",
    "else:\n",
    "    raise Exception(\"unexpected input remote flag\")\n",
    "\n",
    "if remote_flags[\"output\"] == False:\n",
    "    config[\"train_output_fp\"] =  os.path.join(local_experiment_data_folder, \"andrew100k-train-fe.csv\")\n",
    "    config[\"test_output_fp\"] =  os.path.join(local_experiment_data_folder, \"andrew100k-test-fe.csv\")\n",
    "elif remote_flags[\"output\"] == True:\n",
    "    # expects a remote + the same folder structure as local folder structure\n",
    "    config[\"train_output_fp\"] =  os.path.join(remote_experiment_data_folder, \"andrew100k-train-fe.csv\")\n",
    "    config[\"test_output_fp\"] =  os.path.join(remote_experiment_data_folder, \"andrew100k-test-fe.csv\")\n",
    "else:\n",
    "    raise Exception(\"unexpected output remote flag\")\n",
    "\n",
    "print(efcamdat_100k_fp, config[\"train_output_fp\"])\n",
    "\n",
    "'''\n",
    "switch_case = {\n",
    "    (\"local\", \"local\"): handle_local_input_local_output,\n",
    "    (\"local\", \"rclone\"): handle_local_input_rclone_output,\n",
    "    (\"rclone\", \"local\"): handle_rclone_input_local_output,\n",
    "    (\"rclone\", \"rclone\"): handle_rclone_input_rclone_output,\n",
    "}\n",
    "\n",
    "# Determine the current configuration\n",
    "input_type = config[\"storage\"][\"inputs\"][\"from\"]\n",
    "output_type = config[\"storage\"][\"outputs\"][\"from\"]\n",
    "\n",
    "# Use the dictionary to call the appropriate function\n",
    "if (input_type, output_type) in switch_case:\n",
    "    vars_present_in_andrews_model = switch_case[(input_type, output_type)]()\n",
    "else:\n",
    "    raise ValueError(\"Invalid input or output storage type in config.\")'''\n",
    "\n",
    "with open(vars_present_in_model_fp) as inpf:\n",
    "    vars_present_in_andrews_model = [line.strip() for line in inpf]"
   ]
  },
  {
   "cell_type": "code",
   "execution_count": 5,
   "id": "45d7e065-eae3-4fe0-9c66-7dc6b6b8d0cd",
   "metadata": {},
   "outputs": [
    {
     "name": "stdout",
     "output_type": "stream",
     "text": [
      "301\n"
     ]
    }
   ],
   "source": [
    "print(len(vars_present_in_andrews_model))"
   ]
  },
  {
   "cell_type": "markdown",
   "id": "7a5dd5e9-d988-4ad9-9b1d-0dfe0013fe10",
   "metadata": {},
   "source": [
    "## Instantiating Processing Pipelines"
   ]
  },
  {
   "cell_type": "code",
   "execution_count": 6,
   "id": "806d289e-5c91-47bb-ac84-0772248f635f",
   "metadata": {},
   "outputs": [],
   "source": [
    "SelectAndrewsVariables = SelectAndrewsVariablesPipeline(base_columns=config[\"base_columns\"], selected_variables=vars_present_in_andrews_model)\n",
    "clean = CleaningPipeline()\n",
    "text2sentence = Text2SentencePipeline(tokenizer=nltk.tokenize.sent_tokenize)\n",
    "perplexities_pipelines = defaultdict(int)\n",
    "for model_name in config[\"perplexity_models\"]:\n",
    "    perplexities_pipelines[model_name] = CLMPerplexityPipeline(model_name=model_name)"
   ]
  },
  {
   "cell_type": "markdown",
   "id": "d70afca0-c621-4620-bdff-3a7875dda484",
   "metadata": {},
   "source": [
    "## Loading Files"
   ]
  },
  {
   "cell_type": "code",
   "execution_count": 7,
   "id": "efb42223-0308-42ab-91a9-05193d38ba8f",
   "metadata": {},
   "outputs": [
    {
     "data": {
      "text/html": [
       "<pre style=\"white-space:pre;overflow-x:auto;line-height:normal;font-family:Menlo,'DejaVu Sans Mono',consolas,'Courier New',monospace\"><span style=\"color: #7fbfbf; text-decoration-color: #7fbfbf\">[17:03:57] </span><span style=\"color: #808000; text-decoration-color: #808000\">WARNING </span> The following columns are not in the DataFrame and will be ignored: <span style=\"font-weight: bold\">{</span><span style=\"color: #008000; text-decoration-color: #008000\">'corpus'</span>,  <a href=\"file:///home/berstearns/p/garbage_collector/cefr-classifcation/cefr_classification/processing_pipelines/processing_pipelines/__init__.py\" target=\"_blank\"><span style=\"color: #7f7f7f; text-decoration-color: #7f7f7f\">__init__.py</span></a><span style=\"color: #7f7f7f; text-decoration-color: #7f7f7f\">:</span><a href=\"file:///home/berstearns/p/garbage_collector/cefr-classifcation/cefr_classification/processing_pipelines/processing_pipelines/__init__.py#246\" target=\"_blank\"><span style=\"color: #7f7f7f; text-decoration-color: #7f7f7f\">246</span></a>\n",
       "<span style=\"color: #7fbfbf; text-decoration-color: #7fbfbf\">           </span>         <span style=\"color: #008000; text-decoration-color: #008000\">'measures.counts.acl.relcl'</span>, <span style=\"color: #008000; text-decoration-color: #008000\">'measures.counts.acl.relcl_ratio'</span><span style=\"font-weight: bold\">}</span>                 <span style=\"color: #7f7f7f; text-decoration-color: #7f7f7f\">               </span>\n",
       "</pre>\n"
      ],
      "text/plain": [
       "\u001b[2;36m[17:03:57]\u001b[0m\u001b[2;36m \u001b[0m\u001b[33mWARNING \u001b[0m The following columns are not in the DataFrame and will be ignored: \u001b[1m{\u001b[0m\u001b[32m'corpus'\u001b[0m,  \u001b]8;id=198038;file:///home/berstearns/p/garbage_collector/cefr-classifcation/cefr_classification/processing_pipelines/processing_pipelines/__init__.py\u001b\\\u001b[2m__init__.py\u001b[0m\u001b]8;;\u001b\\\u001b[2m:\u001b[0m\u001b]8;id=222739;file:///home/berstearns/p/garbage_collector/cefr-classifcation/cefr_classification/processing_pipelines/processing_pipelines/__init__.py#246\u001b\\\u001b[2m246\u001b[0m\u001b]8;;\u001b\\\n",
       "\u001b[2;36m           \u001b[0m         \u001b[32m'measures.counts.acl.relcl'\u001b[0m, \u001b[32m'measures.counts.acl.relcl_ratio'\u001b[0m\u001b[1m}\u001b[0m                 \u001b[2m               \u001b[0m\n"
      ]
     },
     "metadata": {},
     "output_type": "display_data"
    }
   ],
   "source": [
    "andrews100kdf = pd.read_csv(efcamdat_100k_fp,index_col=0)\n",
    "andrews100kdf =  SelectAndrewsVariables(andrews100kdf)\n",
    "andrews100kdf.columns =  [col.replace(\"measures.\", \"measures.andrew.\") for col in andrews100kdf.columns]\n",
    "andrews100ktrainids = pd.read_csv(efcamdat_100k_train_fp)['writing_id']\n",
    "andrews100ktestids = pd.read_csv(efcamdat_100k_test_fp)['writing_id']"
   ]
  },
  {
   "cell_type": "code",
   "execution_count": 8,
   "id": "390c5537-0614-4e5e-ada6-b48806c53b98",
   "metadata": {},
   "outputs": [],
   "source": [
    "andrew100ktrain_df = pd.merge(andrews100kdf,andrews100ktrainids,on=\"writing_id\")\n",
    "andrew100ktest_df = pd.merge(andrews100kdf,andrews100ktestids,on=\"writing_id\")#.sample(1000)"
   ]
  },
  {
   "cell_type": "code",
   "execution_count": 9,
   "id": "b8b45cd4-e9f8-43f4-b1ee-235e418d19a6",
   "metadata": {},
   "outputs": [
    {
     "data": {
      "text/plain": [
       "Index(['writing_id', 'cefr_level', 'text', 'l1',\n",
       "       'measures.andrew.collocations.text_level.ratio_num_token',\n",
       "       'measures.andrew.collocations.text_level.ttr',\n",
       "       'measures.andrew.counts.acl', 'measures.andrew.counts.acl_ratio',\n",
       "       'measures.andrew.counts.ADJ', 'measures.andrew.counts.ADJ_ratio',\n",
       "       ...\n",
       "       'measures.andrew.taassc.L2SCA.CP_C',\n",
       "       'measures.andrew.taassc.L2SCA.CP_T',\n",
       "       'measures.andrew.taassc.L2SCA.CT_T',\n",
       "       'measures.andrew.taassc.L2SCA.DC_C',\n",
       "       'measures.andrew.taassc.L2SCA.DC_T', 'measures.andrew.taassc.L2SCA.MLC',\n",
       "       'measures.andrew.taassc.L2SCA.MLS', 'measures.andrew.taassc.L2SCA.MLT',\n",
       "       'measures.andrew.taassc.L2SCA.T_S',\n",
       "       'measures.andrew.taassc.L2SCA.VP_T'],\n",
       "      dtype='object', length=302)"
      ]
     },
     "execution_count": 9,
     "metadata": {},
     "output_type": "execute_result"
    }
   ],
   "source": [
    "andrews100kdf.columns"
   ]
  },
  {
   "cell_type": "code",
   "execution_count": 17,
   "id": "163c516c-23c2-43a0-8c0c-d6ce8f4a4dc0",
   "metadata": {},
   "outputs": [],
   "source": [
    "idx_to_class_ = lambda v: {\n",
    "         0: \"A1\",\n",
    "         1: \"A2\",\n",
    "         2: \"B1\",\n",
    "         3: \"B2\",\n",
    "         4: \"C1\",\n",
    "         5: \"C1\",\n",
    "}.get(v, None)\n",
    "label_to_idx_ = lambda v: {\n",
    "         \"A1\": 0,\n",
    "         \"A2\": 1,\n",
    "         \"B1\": 2,\n",
    "         \"B2\": 3,\n",
    "         \"C1\": 4,\n",
    "         \"C2\": 4,\n",
    "}.get(v, None)\n"
   ]
  },
  {
   "cell_type": "code",
   "execution_count": 29,
   "id": "49dd499f-59b3-4104-b6d1-0acae6ac0cdb",
   "metadata": {},
   "outputs": [
    {
     "name": "stdout",
     "output_type": "stream",
     "text": [
      "andrew100ktest_df\n"
     ]
    },
    {
     "data": {
      "application/vnd.jupyter.widget-view+json": {
       "model_id": "343b70e474794390a4d188162a995b81",
       "version_major": 2,
       "version_minor": 0
      },
      "text/plain": [
       "Output()"
      ]
     },
     "metadata": {},
     "output_type": "display_data"
    },
    {
     "data": {
      "text/html": [
       "<pre style=\"white-space:pre;overflow-x:auto;line-height:normal;font-family:Menlo,'DejaVu Sans Mono',consolas,'Courier New',monospace\"></pre>\n"
      ],
      "text/plain": []
     },
     "metadata": {},
     "output_type": "display_data"
    },
    {
     "name": "stdout",
     "output_type": "stream",
     "text": [
      "andrew100ktrain_df\n"
     ]
    },
    {
     "data": {
      "application/vnd.jupyter.widget-view+json": {
       "model_id": "9db1788694214cd0bf1d2281dd2e84c0",
       "version_major": 2,
       "version_minor": 0
      },
      "text/plain": [
       "Output()"
      ]
     },
     "metadata": {},
     "output_type": "display_data"
    },
    {
     "data": {
      "text/html": [
       "<pre style=\"white-space:pre;overflow-x:auto;line-height:normal;font-family:Menlo,'DejaVu Sans Mono',consolas,'Courier New',monospace\"></pre>\n"
      ],
      "text/plain": []
     },
     "metadata": {},
     "output_type": "display_data"
    }
   ],
   "source": [
    "\n",
    "for df_name, target_df in [\n",
    "                (\"andrew100ktest_df\",andrew100ktest_df),\n",
    "                (\"andrew100ktrain_df\",andrew100ktrain_df),\n",
    "                # (\"remainder\",remainder_efcamdat_df),\n",
    "                 ]:  \n",
    "    ds_split =  {\n",
    "        \"andrew100ktest_df\": \"test\",\n",
    "        \"andrew100ktrain_df\": \"train\",\n",
    "        \"remainder\": \"remainder\",\n",
    "    }.get(df_name)\n",
    "    ds_name =  {\n",
    "        \"andrew100ktest_df\": \"andrew100k\",\n",
    "        \"andrew100ktrain_df\": \"andrew100k\",\n",
    "        \"remainder\": \"remainder\",\n",
    "    }.get(df_name)\n",
    "    print(df_name)\n",
    "    target_df[\"cleaned_text\"] = clean(target_df, column_name=config[\"column_mapping\"][ds_name][\"text\"])[config[\"column_mapping\"][ds_name][\"text\"]]\n",
    "    target_df[\"sentences\"] = text2sentence(target_df, column_name=\"cleaned_text\")\n",
    "    target_df[\"measures.basic.n_sentences\"] = target_df[\"sentences\"].apply(lambda x: len(x))\n",
    "    target_df[\"tokens_per_sentence\"] =target_df[\"sentences\"].apply(lambda lst: [nltk.tokenize.word_tokenize(sent) for sent in lst])\n",
    "    target_df[\"measures.basic.total_n_tokens\"] = target_df[\"tokens_per_sentence\"].apply(lambda lst_lst: sum([len(sent_lst) for sent_lst in lst_lst]))\n",
    "    target_df[\"measures.basic.avg_n_tokens_per_sentence\"] = target_df.apply(lambda x: x[\"measures.basic.total_n_tokens\"]/x[\"measures.basic.n_sentences\"],axis=1)\n",
    "    output_fp = config[f\"{ds_split}_output_fp\"]\n",
    "    output_fn = output_fp.split(os.sep)[-1]\n",
    "    if config[\"remote_flags\"][\"output\"]:\n",
    "        tmp_fp = os.path.join(notebook_dir, output_fn)\n",
    "        target_df.to_csv(tmp_fp,index=False)\n",
    "        rclone.copy(tmp_fp, output_fp)\n",
    "    else:\n",
    "        target_df.to_csv(output_fp, index=False)\n",
    "    #for model_name, perplexity_pipeline in perplexities_pipelines.items():\n",
    "    #    target_df[f\"measures.perplexity.wholetext.{modelname}\"] = perplexity_pipeline(target_df, text_column=\"cleaned_text\")\n"
   ]
  },
  {
   "cell_type": "code",
   "execution_count": 31,
   "id": "70dab942-dacb-4e33-bb35-7703acbd392c",
   "metadata": {},
   "outputs": [
    {
     "data": {
      "text/plain": [
       "['Callable',\n",
       " 'Dict',\n",
       " 'HashTypes',\n",
       " 'List',\n",
       " 'Optional',\n",
       " 'RemoteTypes',\n",
       " 'Tuple',\n",
       " 'Union',\n",
       " '__builtins__',\n",
       " '__cached__',\n",
       " '__check_installed',\n",
       " '__doc__',\n",
       " '__file__',\n",
       " '__loader__',\n",
       " '__name__',\n",
       " '__package__',\n",
       " '__spec__',\n",
       " '__warningregistry__',\n",
       " '_rclone_transfer_operation',\n",
       " 'about',\n",
       " 'cat',\n",
       " 'check_remote_existing',\n",
       " 'copy',\n",
       " 'copyto',\n",
       " 'create_remote',\n",
       " 'delete',\n",
       " 'get_remotes',\n",
       " 'hash',\n",
       " 'is_installed',\n",
       " 'json',\n",
       " 'link',\n",
       " 'logger',\n",
       " 'ls',\n",
       " 'mkdir',\n",
       " 'move',\n",
       " 'moveto',\n",
       " 'purge',\n",
       " 're',\n",
       " 'set_log_level',\n",
       " 'size',\n",
       " 'sync',\n",
       " 'tree',\n",
       " 'utils',\n",
       " 'version',\n",
       " 'which',\n",
       " 'wraps']"
      ]
     },
     "execution_count": 31,
     "metadata": {},
     "output_type": "execute_result"
    }
   ],
   "source": [
    "dir(rclone)"
   ]
  },
  {
   "cell_type": "code",
   "execution_count": 27,
   "id": "ca31f64d-c579-4977-b6a3-c9f9e3c626d4",
   "metadata": {},
   "outputs": [
    {
     "name": "stdout",
     "output_type": "stream",
     "text": [
      "andrew100k-test-fe.csv\n"
     ]
    }
   ],
   "source": [
    "output_fn = output_fp.split(os.sep)[-1]\n",
    "print(output_fn)"
   ]
  },
  {
   "cell_type": "code",
   "execution_count": 37,
   "id": "9762f1c6-ab88-45a1-b3fc-888514fe65af",
   "metadata": {},
   "outputs": [
    {
     "data": {
      "text/plain": [
       "<Axes: >"
      ]
     },
     "execution_count": 37,
     "metadata": {},
     "output_type": "execute_result"
    },
    {
     "data": {
      "image/png": "[encoded data removed]",
      "text/plain": [
       "<Figure size 640x480 with 1 Axes>"
      ]
     },
     "metadata": {},
     "output_type": "display_data"
    }
   ],
   "source": [
    "andrew100ktrain_df[\"n_sentences\"].hist()"
   ]
  },
  {
   "cell_type": "code",
   "execution_count": 38,
   "id": "c054dc62-5317-4b55-aad1-3d49d5a4a6b4",
   "metadata": {},
   "outputs": [
    {
     "data": {
      "text/plain": [
       "<Axes: >"
      ]
     },
     "execution_count": 38,
     "metadata": {},
     "output_type": "execute_result"
    },
    {
     "data": {
      "image/png": "[encoded data removed]",
      "text/plain": [
       "<Figure size 640x480 with 1 Axes>"
      ]
     },
     "metadata": {},
     "output_type": "display_data"
    }
   ],
   "source": [
    "andrew100ktrain_df[\"total_n_tokens\"].hist()"
   ]
  },
  {
   "cell_type": "code",
   "execution_count": 28,
   "id": "bea02b65-bdea-45a8-89fe-18405a25aee6",
   "metadata": {},
   "outputs": [],
   "source": []
  },
  {
   "cell_type": "code",
   "execution_count": 38,
   "id": "40de9133-54fe-4c45-81dc-bd19f06dc0f0",
   "metadata": {},
   "outputs": [
    {
     "data": {
      "image/png": "[encoded data removed]",
      "text/plain": [
       "<Figure size 640x480 with 1 Axes>"
      ]
     },
     "metadata": {},
     "output_type": "display_data"
    }
   ],
   "source": [
    "import seaborn as sns\n",
    "import matplotlib.pyplot as plt\n",
    "# Define the desired order of proficiency levels\n",
    "proficiency_order = [\"A1\", \"A2\", \"B1\", \"B2\", \"C1\"]#, \"C2\"]\n",
    "\n",
    "# Create the boxplot with the specified order\n",
    "sns.boxplot(x=config[\"CEFR_column\"], y='total_n_tokens', data=andrew100ktrain_df\n",
    "            , order=[v.lower() for v in proficiency_order])\n",
    "plt.xlabel('Proficiency Level')\n",
    "plt.ylabel('Number of Sentences')\n",
    "plt.title('Distribution of Number of Sentences by Proficiency Level')\n",
    "plt.show()"
   ]
  },
  {
   "cell_type": "code",
   "execution_count": 68,
   "id": "ed629792-02e1-4992-a0e6-f3d997704dfe",
   "metadata": {},
   "outputs": [
    {
     "data": {
      "text/plain": [
       "['being in a earth sciences domain at the beginning of the year my class and i went to a little city called paris un the south of paris.',\n",
       " 'after a few classes of cartographic basics it was time for us to do it in real life to see what it is like to be on the field.',\n",
       " 'the aim of this trip was to recognize a couple of series of rock and identify which ones belongs to which period of the earth time.',\n",
       " 'and then being able to report everything we saw on a map and create a geological map of a place weve never been before.',\n",
       " 'for 10 days we had to wake up every morning a 7 to be ready at 8 to walk through the fauna and flora climbing mountains against the wind or the sun or the rain and walk around 5 to 10 kilometers per day until 6pm.',\n",
       " 'the field was around 12m2 and rocks we studied about were sedimentary.',\n",
       " 'all of us geosciences students were separate into little groups of 2 people.',\n",
       " 'my partner and i were watching out and paying attention to all the rocks around us.',\n",
       " 'when there is a in place serie we had to take a pendage which means the angle of where the serie is directed compared the geographical north pole.',\n",
       " 'by taking all those pendages we noticed that from the north of the field to the average center the series were making a syncline.',\n",
       " 'heres our first element of our map an syncline with all the younger rocks in the center and symmetrically going to the oldest.',\n",
       " 'we tried to understand the south of the field but failed it was too complicated for us debutants in cartographics.',\n",
       " 'after finishing our map we learnt that the south were in discordance which means news deposits were placed into the olders rocks eroded.',\n",
       " 'after all of that we went back to our homes tired of walking and climbing and thinking about what happened in the south.',\n",
       " 'cool']"
      ]
     },
     "execution_count": 68,
     "metadata": {},
     "output_type": "execute_result"
    }
   ],
   "source": []
  },
  {
   "cell_type": "code",
   "execution_count": null,
   "id": "9bdd51d7-e54f-4854-8d8d-51a46e13e4a6",
   "metadata": {},
   "outputs": [],
   "source": []
  },
  {
   "cell_type": "code",
   "execution_count": null,
   "id": "5f658419-fedb-4684-8e36-a29c26a2b5b8",
   "metadata": {},
   "outputs": [],
   "source": []
  },
  {
   "cell_type": "code",
   "execution_count": 52,
   "id": "6efcffc0-01c1-4722-b016-7f0034ab25da",
   "metadata": {},
   "outputs": [
    {
     "name": "stdout",
     "output_type": "stream",
     "text": [
      "text:\n",
      " being in a earth sciences domain at the beginning of the year my class and i went to a little city called paris un the south of paris. after a few classes of cartographic basics it was time for us to do it in real life to see what it is like to be on the field. the aim of this trip was to recognize a couple of series of rock and identify which ones belongs to which period of the earth time. and then being able to report everything we saw on a map and create a geological map of a place weve never been before. for 10 days we had to wake up every morning a 7 to be ready at 8 to walk through the fauna and flora climbing mountains against the wind or the sun or the rain and walk around 5 to 10 kilometers per day until 6pm. the field was around 12m2 and rocks we studied about were sedimentary. all of us geosciences students were separate into little groups of 2 people. my partner and i were watching out and paying attention to all the rocks around us. when there is a in place serie we had to take a pendage which means the angle of where the serie is directed compared the geographical north pole. by taking all those pendages we noticed that from the north of the field to the average center the series were making a syncline. heres our first element of our map an syncline with all the younger rocks in the center and symmetrically going to the oldest. we tried to understand the south of the field but failed it was too complicated for us debutants in cartographics. after finishing our map we learnt that the south were in discordance which means news deposits were placed into the olders rocks eroded. after all of that we went back to our homes tired of walking and climbing and thinking about what happened in the south. cool \n",
      "\n",
      "\n",
      "sent: [being in a earth sciences domain at the beginning of the year my class, and i went to a little city called paris un the south of paris., after a few classes of cartographic basics it was time for us to do it in real life to see what it is like to be on the field.]\n"
     ]
    }
   ],
   "source": [
    "import spacy\n",
    "\n",
    "# Load English tokenizer, tagger, parser and NER\n",
    "nlp = spacy.load(\"en_core_web_sm\")\n",
    "\n",
    "# Process whole documents\n",
    "text = df[\"cleaned_text\"][0]\n",
    "doc = nlp(text)\n",
    "\n",
    "# Analyze syntax\n",
    "print(\"Noun phrases:\", [chunk.text for chunk in doc.noun_chunks])\n",
    "print(\"Verbs:\", [token.lemma_ for token in doc if token.pos_ == \"VERB\"])\n",
    "\n",
    "# Find named entities, phrases and concepts\n",
    "for entity in doc.ents:\n",
    "    print(entity.text, entity.label_)\n",
    "sents = [s for s in doc.sents]\n",
    "print(dir(doc))\n",
    "print(f\"text:\\n {text}\",\"\\n\\n\")\n",
    "print(f\"sent: {sents[0:3]}\")"
   ]
  },
  {
   "cell_type": "code",
   "execution_count": null,
   "id": "c3fcc1f0-df52-4a8a-a77b-ce1d36bc4dd7",
   "metadata": {},
   "outputs": [],
   "source": []
  },
  {
   "cell_type": "code",
   "execution_count": 4,
   "id": "15c9e103-77f1-4d16-8373-e5103f6f1b5d",
   "metadata": {},
   "outputs": [
    {
     "data": {
      "text/html": [
       "<div>\n",
       "<style scoped>\n",
       "    .dataframe tbody tr th:only-of-type {\n",
       "        vertical-align: middle;\n",
       "    }\n",
       "\n",
       "    .dataframe tbody tr th {\n",
       "        vertical-align: top;\n",
       "    }\n",
       "\n",
       "    .dataframe thead th {\n",
       "        text-align: right;\n",
       "    }\n",
       "</style>\n",
       "<table border=\"1\" class=\"dataframe\">\n",
       "  <thead>\n",
       "    <tr style=\"text-align: right;\">\n",
       "      <th></th>\n",
       "      <th>nb_annees_L2</th>\n",
       "      <th>Sejours_duree_semaines</th>\n",
       "      <th>Sejours_frequence</th>\n",
       "      <th>Lang_exposition</th>\n",
       "      <th>Section_renforcee</th>\n",
       "    </tr>\n",
       "  </thead>\n",
       "  <tbody>\n",
       "    <tr>\n",
       "      <th>count</th>\n",
       "      <td>1045.000000</td>\n",
       "      <td>1045.000000</td>\n",
       "      <td>1045.000000</td>\n",
       "      <td>1045.000000</td>\n",
       "      <td>1045.000000</td>\n",
       "    </tr>\n",
       "    <tr>\n",
       "      <th>mean</th>\n",
       "      <td>9.495694</td>\n",
       "      <td>3.543541</td>\n",
       "      <td>2.027751</td>\n",
       "      <td>5.623541</td>\n",
       "      <td>0.371292</td>\n",
       "    </tr>\n",
       "    <tr>\n",
       "      <th>std</th>\n",
       "      <td>2.498128</td>\n",
       "      <td>17.252610</td>\n",
       "      <td>14.857374</td>\n",
       "      <td>9.175903</td>\n",
       "      <td>0.483382</td>\n",
       "    </tr>\n",
       "    <tr>\n",
       "      <th>min</th>\n",
       "      <td>0.000000</td>\n",
       "      <td>0.000000</td>\n",
       "      <td>0.000000</td>\n",
       "      <td>0.000000</td>\n",
       "      <td>0.000000</td>\n",
       "    </tr>\n",
       "    <tr>\n",
       "      <th>25%</th>\n",
       "      <td>8.000000</td>\n",
       "      <td>0.000000</td>\n",
       "      <td>0.000000</td>\n",
       "      <td>1.000000</td>\n",
       "      <td>0.000000</td>\n",
       "    </tr>\n",
       "    <tr>\n",
       "      <th>50%</th>\n",
       "      <td>10.000000</td>\n",
       "      <td>1.000000</td>\n",
       "      <td>1.000000</td>\n",
       "      <td>3.000000</td>\n",
       "      <td>0.000000</td>\n",
       "    </tr>\n",
       "    <tr>\n",
       "      <th>75%</th>\n",
       "      <td>11.000000</td>\n",
       "      <td>3.000000</td>\n",
       "      <td>2.000000</td>\n",
       "      <td>6.000000</td>\n",
       "      <td>1.000000</td>\n",
       "    </tr>\n",
       "    <tr>\n",
       "      <th>max</th>\n",
       "      <td>22.000000</td>\n",
       "      <td>420.000000</td>\n",
       "      <td>360.000000</td>\n",
       "      <td>120.000000</td>\n",
       "      <td>1.000000</td>\n",
       "    </tr>\n",
       "  </tbody>\n",
       "</table>\n",
       "</div>"
      ],
      "text/plain": [
       "       nb_annees_L2  Sejours_duree_semaines  Sejours_frequence  \\\n",
       "count   1045.000000             1045.000000        1045.000000   \n",
       "mean       9.495694                3.543541           2.027751   \n",
       "std        2.498128               17.252610          14.857374   \n",
       "min        0.000000                0.000000           0.000000   \n",
       "25%        8.000000                0.000000           0.000000   \n",
       "50%       10.000000                1.000000           1.000000   \n",
       "75%       11.000000                3.000000           2.000000   \n",
       "max       22.000000              420.000000         360.000000   \n",
       "\n",
       "       Lang_exposition  Section_renforcee  \n",
       "count      1045.000000        1045.000000  \n",
       "mean          5.623541           0.371292  \n",
       "std           9.175903           0.483382  \n",
       "min           0.000000           0.000000  \n",
       "25%           1.000000           0.000000  \n",
       "50%           3.000000           0.000000  \n",
       "75%           6.000000           1.000000  \n",
       "max         120.000000           1.000000  "
      ]
     },
     "execution_count": 4,
     "metadata": {},
     "output_type": "execute_result"
    }
   ],
   "source": [
    "df.describe()"
   ]
  },
  {
   "cell_type": "code",
   "execution_count": 5,
   "id": "41b0d5f0-7515-4759-ac58-aa80b3655b3a",
   "metadata": {},
   "outputs": [
    {
     "data": {
      "text/html": [
       "<div>\n",
       "<style scoped>\n",
       "    .dataframe tbody tr th:only-of-type {\n",
       "        vertical-align: middle;\n",
       "    }\n",
       "\n",
       "    .dataframe tbody tr th {\n",
       "        vertical-align: top;\n",
       "    }\n",
       "\n",
       "    .dataframe thead th {\n",
       "        text-align: right;\n",
       "    }\n",
       "</style>\n",
       "<table border=\"1\" class=\"dataframe\">\n",
       "  <thead>\n",
       "    <tr style=\"text-align: right;\">\n",
       "      <th></th>\n",
       "      <th>pseudo</th>\n",
       "      <th>Voc_range</th>\n",
       "      <th>CECRL</th>\n",
       "      <th>L1</th>\n",
       "      <th>Domaine_de_specialite</th>\n",
       "      <th>L2</th>\n",
       "      <th>Note_dialang_ecrit</th>\n",
       "      <th>Lecture_regularite</th>\n",
       "      <th>autre_langue</th>\n",
       "      <th>tache_ecrit</th>\n",
       "      <th>Texte_etudiant</th>\n",
       "      <th>Date_ajout</th>\n",
       "    </tr>\n",
       "  </thead>\n",
       "  <tbody>\n",
       "    <tr>\n",
       "      <th>count</th>\n",
       "      <td>1045</td>\n",
       "      <td>1015</td>\n",
       "      <td>1045</td>\n",
       "      <td>1045</td>\n",
       "      <td>1045</td>\n",
       "      <td>1045</td>\n",
       "      <td>673</td>\n",
       "      <td>992</td>\n",
       "      <td>610</td>\n",
       "      <td>1045</td>\n",
       "      <td>1045</td>\n",
       "      <td>1045</td>\n",
       "    </tr>\n",
       "    <tr>\n",
       "      <th>unique</th>\n",
       "      <td>1015</td>\n",
       "      <td>6</td>\n",
       "      <td>6</td>\n",
       "      <td>14</td>\n",
       "      <td>12</td>\n",
       "      <td>1</td>\n",
       "      <td>6</td>\n",
       "      <td>4</td>\n",
       "      <td>8</td>\n",
       "      <td>3</td>\n",
       "      <td>1013</td>\n",
       "      <td>505</td>\n",
       "    </tr>\n",
       "    <tr>\n",
       "      <th>top</th>\n",
       "      <td>1f2dd72bc867a07a8a11579ddd2345b3d9851622289c5c...</td>\n",
       "      <td>B1</td>\n",
       "      <td>B1</td>\n",
       "      <td>French</td>\n",
       "      <td>Information Communication</td>\n",
       "      <td>Anglais</td>\n",
       "      <td>B1</td>\n",
       "      <td>hebdomadaire</td>\n",
       "      <td>Espagnol</td>\n",
       "      <td>Tache_1</td>\n",
       "      <td>I did'nt know what to do in my life until the ...</td>\n",
       "      <td>2022-09-14 14:43:00</td>\n",
       "    </tr>\n",
       "    <tr>\n",
       "      <th>freq</th>\n",
       "      <td>2</td>\n",
       "      <td>374</td>\n",
       "      <td>358</td>\n",
       "      <td>999</td>\n",
       "      <td>408</td>\n",
       "      <td>1045</td>\n",
       "      <td>263</td>\n",
       "      <td>262</td>\n",
       "      <td>306</td>\n",
       "      <td>664</td>\n",
       "      <td>2</td>\n",
       "      <td>24</td>\n",
       "    </tr>\n",
       "  </tbody>\n",
       "</table>\n",
       "</div>"
      ],
      "text/plain": [
       "                                                   pseudo Voc_range CECRL  \\\n",
       "count                                                1045      1015  1045   \n",
       "unique                                               1015         6     6   \n",
       "top     1f2dd72bc867a07a8a11579ddd2345b3d9851622289c5c...        B1    B1   \n",
       "freq                                                    2       374   358   \n",
       "\n",
       "            L1      Domaine_de_specialite       L2 Note_dialang_ecrit  \\\n",
       "count     1045                       1045     1045                673   \n",
       "unique      14                         12        1                  6   \n",
       "top     French  Information Communication  Anglais                 B1   \n",
       "freq       999                        408     1045                263   \n",
       "\n",
       "       Lecture_regularite autre_langue tache_ecrit  \\\n",
       "count                 992          610        1045   \n",
       "unique                  4            8           3   \n",
       "top          hebdomadaire     Espagnol     Tache_1   \n",
       "freq                  262          306         664   \n",
       "\n",
       "                                           Texte_etudiant           Date_ajout  \n",
       "count                                                1045                 1045  \n",
       "unique                                               1013                  505  \n",
       "top     I did'nt know what to do in my life until the ...  2022-09-14 14:43:00  \n",
       "freq                                                    2                   24  "
      ]
     },
     "execution_count": 5,
     "metadata": {},
     "output_type": "execute_result"
    }
   ],
   "source": [
    "df.describe(include=\"object\")"
   ]
  },
  {
   "cell_type": "code",
   "execution_count": 6,
   "id": "383b022c-e994-4287-b2f0-80e8ff927c7b",
   "metadata": {},
   "outputs": [
    {
     "data": {
      "text/plain": [
       "CECRL\n",
       "B1    358\n",
       "A2    324\n",
       "B2    212\n",
       "A1     90\n",
       "C1     53\n",
       "C2      8\n",
       "Name: count, dtype: int64"
      ]
     },
     "execution_count": 6,
     "metadata": {},
     "output_type": "execute_result"
    }
   ],
   "source": [
    "df[\"CECRL\"].value_counts()"
   ]
  },
  {
   "cell_type": "code",
   "execution_count": 7,
   "id": "0e08b1a2-b954-443f-a0bf-12d6df117fee",
   "metadata": {},
   "outputs": [
    {
     "data": {
      "text/plain": [
       "pseudo                      0\n",
       "Voc_range                  30\n",
       "CECRL                       0\n",
       "nb_annees_L2                0\n",
       "L1                          0\n",
       "Domaine_de_specialite       0\n",
       "Sejours_duree_semaines      0\n",
       "Sejours_frequence           0\n",
       "Lang_exposition             0\n",
       "L2                          0\n",
       "Note_dialang_ecrit        372\n",
       "Lecture_regularite         53\n",
       "autre_langue              435\n",
       "tache_ecrit                 0\n",
       "Texte_etudiant              0\n",
       "Date_ajout                  0\n",
       "Section_renforcee           0\n",
       "dtype: int64"
      ]
     },
     "execution_count": 7,
     "metadata": {},
     "output_type": "execute_result"
    }
   ],
   "source": [
    "df.isnull().sum()"
   ]
  },
  {
   "cell_type": "code",
   "execution_count": 8,
   "id": "6c78e331-0c71-4d98-8f2b-7ce758676a96",
   "metadata": {},
   "outputs": [
    {
     "data": {
      "text/plain": [
       "L1\n",
       "French                  0.955981\n",
       "Arabic                  0.014354\n",
       "Other                   0.008612\n",
       "English                 0.004785\n",
       "Vietnamese              0.003828\n",
       "Turkish                 0.001914\n",
       "Malagasy                0.001914\n",
       "English##Gan Chinese    0.001914\n",
       "Spanish                 0.001914\n",
       "Italian                 0.000957\n",
       "French##Spanish         0.000957\n",
       "Mandarin                0.000957\n",
       "Amharic                 0.000957\n",
       "Russian                 0.000957\n",
       "Name: count, dtype: float64"
      ]
     },
     "execution_count": 8,
     "metadata": {},
     "output_type": "execute_result"
    }
   ],
   "source": [
    "df[\"L1\"].value_counts()/len(df[\"L1\"])"
   ]
  },
  {
   "cell_type": "code",
   "execution_count": 9,
   "id": "ec680090-5945-425f-8c86-b15e61438482",
   "metadata": {},
   "outputs": [
    {
     "name": "stdout",
     "output_type": "stream",
     "text": [
      " \t\n",
      "\u000b",
      "\f",
      ".()\n"
     ]
    }
   ],
   "source": [
    "map_ = {\n",
    "    c: \" \" for c in string.whitespace\n",
    "}\n",
    "replaces_ = {\n",
    "    \n",
    "    \"...\":\"\",\n",
    "    \"..\": \"\",\n",
    "}\n",
    "specials = string.whitespace + \".()\"\n",
    "print(specials)\n",
    "texts = df[\"Texte_etudiant\"].apply(lambda x: \"\".join([map_.get(ch.lower(),ch.lower()) for ch in x if ch.isalnum() or ch in specials]))\n",
    "texts = texts.apply(lambda x: re.sub(r'\\.{2,}', '', x))\n",
    "texts = texts.apply(lambda x: re.sub(r' {2,}', '', x))"
   ]
  },
  {
   "cell_type": "code",
   "execution_count": 10,
   "id": "ae4fe310-9292-476b-b518-63bec4a45d94",
   "metadata": {},
   "outputs": [
    {
     "data": {
      "text/plain": [
       "['Formatter',\n",
       " 'Template',\n",
       " '_ChainMap',\n",
       " '__all__',\n",
       " '__builtins__',\n",
       " '__cached__',\n",
       " '__doc__',\n",
       " '__file__',\n",
       " '__loader__',\n",
       " '__name__',\n",
       " '__package__',\n",
       " '__spec__',\n",
       " '_re',\n",
       " '_sentinel_dict',\n",
       " '_string',\n",
       " 'ascii_letters',\n",
       " 'ascii_lowercase',\n",
       " 'ascii_uppercase',\n",
       " 'capwords',\n",
       " 'digits',\n",
       " 'hexdigits',\n",
       " 'octdigits',\n",
       " 'printable',\n",
       " 'punctuation',\n",
       " 'whitespace']"
      ]
     },
     "execution_count": 10,
     "metadata": {},
     "output_type": "execute_result"
    }
   ],
   "source": [
    "import string\n",
    "dir(string)"
   ]
  },
  {
   "cell_type": "code",
   "execution_count": 11,
   "id": "82875a65-cfe4-4510-963d-a564935d50eb",
   "metadata": {},
   "outputs": [
    {
     "data": {
      "text/plain": [
       "'abcdefghijklmnopqrstuvwxyzABCDEFGHIJKLMNOPQRSTUVWXYZ'"
      ]
     },
     "execution_count": 11,
     "metadata": {},
     "output_type": "execute_result"
    }
   ],
   "source": [
    "string.ascii_letters"
   ]
  },
  {
   "cell_type": "code",
   "execution_count": 12,
   "id": "6e9810a8-5fb1-47fd-a083-bb39515bd8fa",
   "metadata": {},
   "outputs": [
    {
     "data": {
      "text/plain": [
       "'!\"#$%&\\'()*+,-./:;<=>?@[\\\\]^_`{|}~'"
      ]
     },
     "execution_count": 12,
     "metadata": {},
     "output_type": "execute_result"
    }
   ],
   "source": [
    "string.punctuation"
   ]
  },
  {
   "cell_type": "code",
   "execution_count": 13,
   "id": "26e0d922-1011-4bdb-b6a6-e28d3eb62d0b",
   "metadata": {},
   "outputs": [],
   "source": [
    "char_ = \"!#\""
   ]
  },
  {
   "cell_type": "code",
   "execution_count": 14,
   "id": "83f3cb9b-70fd-4738-941c-456c9fcd9724",
   "metadata": {},
   "outputs": [
    {
     "data": {
      "text/plain": [
       "False"
      ]
     },
     "execution_count": 14,
     "metadata": {},
     "output_type": "execute_result"
    }
   ],
   "source": [
    "char_.isalnum()"
   ]
  },
  {
   "cell_type": "code",
   "execution_count": 15,
   "id": "53441c48-f4f0-4fcf-b845-77bd6260654e",
   "metadata": {},
   "outputs": [
    {
     "data": {
      "text/plain": [
       "['Formatter',\n",
       " 'Template',\n",
       " '_ChainMap',\n",
       " '__all__',\n",
       " '__builtins__',\n",
       " '__cached__',\n",
       " '__doc__',\n",
       " '__file__',\n",
       " '__loader__',\n",
       " '__name__',\n",
       " '__package__',\n",
       " '__spec__',\n",
       " '_re',\n",
       " '_sentinel_dict',\n",
       " '_string',\n",
       " 'ascii_letters',\n",
       " 'ascii_lowercase',\n",
       " 'ascii_uppercase',\n",
       " 'capwords',\n",
       " 'digits',\n",
       " 'hexdigits',\n",
       " 'octdigits',\n",
       " 'printable',\n",
       " 'punctuation',\n",
       " 'whitespace']"
      ]
     },
     "execution_count": 15,
     "metadata": {},
     "output_type": "execute_result"
    }
   ],
   "source": [
    "dir(string)"
   ]
  },
  {
   "cell_type": "code",
   "execution_count": 16,
   "id": "d73ca25a-8935-47af-a609-2e1d08090269",
   "metadata": {},
   "outputs": [
    {
     "name": "stdout",
     "output_type": "stream",
     "text": [
      "['being in a earth sciences domain at the beginning of the year my class and i went to a little city called paris un the south of paris', ' after a few classes of cartographic basics it was time for us to do it in real life to see what it is like to be on the field', 'the aim of this trip was to recognize a couple of series of rock and identify which ones belongs to which period of the earth time', ' and then being able to report everything we saw on a map and create a geological map of a place weve never been before', 'for 10 days we had to wake up every morning a 7 to be ready at 8 to walk through the fauna and flora climbing mountains against the wind or the sun or the rain and walk around 5 to 10 kilometers per day until 6pm', ' the field was around 12m2 and rocks we studied about were sedimentary', 'all of us geosciences students were separate into little groups of 2 people', ' my partner and i were watching out and paying attention to all the rocks around us', ' when there is ain placeserie we had to take apendagewhich means the angle of where the serie is directed compared the geographical north pole', ' by taking all thosependageswe noticed that from the north of the field to the average center the series were making a syncline', ' heres our first element of our mapan syncline with all the younger rocks in the center and symmetrically going to the oldest', 'we tried to understand the south of the field but failed it was too complicated for us debutants in cartographics', ' after finishing our map we learnt that the south were in discordance which means news deposits were placed into the olders rocks eroded', 'after all of that we went back to our homes tired of walking and climbing and thinking about what happened in the south', 'cool']\n"
     ]
    },
    {
     "ename": "KeyboardInterrupt",
     "evalue": "Interrupted by user",
     "output_type": "error",
     "traceback": [
      "\u001b[0;31m---------------------------------------------------------------------------\u001b[0m",
      "\u001b[0;31mKeyboardInterrupt\u001b[0m                         Traceback (most recent call last)",
      "Cell \u001b[0;32mIn[16], line 3\u001b[0m\n\u001b[1;32m      1\u001b[0m \u001b[38;5;28;01mfor\u001b[39;00m t \u001b[38;5;129;01min\u001b[39;00m texts:\n\u001b[1;32m      2\u001b[0m     \u001b[38;5;28mprint\u001b[39m(t\u001b[38;5;241m.\u001b[39msplit(\u001b[38;5;124m\"\u001b[39m\u001b[38;5;124m.\u001b[39m\u001b[38;5;124m\"\u001b[39m))\n\u001b[0;32m----> 3\u001b[0m     \u001b[38;5;28;43minput\u001b[39;49m\u001b[43m(\u001b[49m\u001b[43m)\u001b[49m\n",
      "File \u001b[0;32m~/p/garbage_collector/cefr-classifcation/cefr_classification/venv/lib/python3.12/site-packages/ipykernel/kernelbase.py:1282\u001b[0m, in \u001b[0;36mKernel.raw_input\u001b[0;34m(self, prompt)\u001b[0m\n\u001b[1;32m   1280\u001b[0m     msg \u001b[38;5;241m=\u001b[39m \u001b[38;5;124m\"\u001b[39m\u001b[38;5;124mraw_input was called, but this frontend does not support input requests.\u001b[39m\u001b[38;5;124m\"\u001b[39m\n\u001b[1;32m   1281\u001b[0m     \u001b[38;5;28;01mraise\u001b[39;00m StdinNotImplementedError(msg)\n\u001b[0;32m-> 1282\u001b[0m \u001b[38;5;28;01mreturn\u001b[39;00m \u001b[38;5;28;43mself\u001b[39;49m\u001b[38;5;241;43m.\u001b[39;49m\u001b[43m_input_request\u001b[49m\u001b[43m(\u001b[49m\n\u001b[1;32m   1283\u001b[0m \u001b[43m    \u001b[49m\u001b[38;5;28;43mstr\u001b[39;49m\u001b[43m(\u001b[49m\u001b[43mprompt\u001b[49m\u001b[43m)\u001b[49m\u001b[43m,\u001b[49m\n\u001b[1;32m   1284\u001b[0m \u001b[43m    \u001b[49m\u001b[38;5;28;43mself\u001b[39;49m\u001b[38;5;241;43m.\u001b[39;49m\u001b[43m_parent_ident\u001b[49m\u001b[43m[\u001b[49m\u001b[38;5;124;43m\"\u001b[39;49m\u001b[38;5;124;43mshell\u001b[39;49m\u001b[38;5;124;43m\"\u001b[39;49m\u001b[43m]\u001b[49m\u001b[43m,\u001b[49m\n\u001b[1;32m   1285\u001b[0m \u001b[43m    \u001b[49m\u001b[38;5;28;43mself\u001b[39;49m\u001b[38;5;241;43m.\u001b[39;49m\u001b[43mget_parent\u001b[49m\u001b[43m(\u001b[49m\u001b[38;5;124;43m\"\u001b[39;49m\u001b[38;5;124;43mshell\u001b[39;49m\u001b[38;5;124;43m\"\u001b[39;49m\u001b[43m)\u001b[49m\u001b[43m,\u001b[49m\n\u001b[1;32m   1286\u001b[0m \u001b[43m    \u001b[49m\u001b[43mpassword\u001b[49m\u001b[38;5;241;43m=\u001b[39;49m\u001b[38;5;28;43;01mFalse\u001b[39;49;00m\u001b[43m,\u001b[49m\n\u001b[1;32m   1287\u001b[0m \u001b[43m\u001b[49m\u001b[43m)\u001b[49m\n",
      "File \u001b[0;32m~/p/garbage_collector/cefr-classifcation/cefr_classification/venv/lib/python3.12/site-packages/ipykernel/kernelbase.py:1325\u001b[0m, in \u001b[0;36mKernel._input_request\u001b[0;34m(self, prompt, ident, parent, password)\u001b[0m\n\u001b[1;32m   1322\u001b[0m \u001b[38;5;28;01mexcept\u001b[39;00m \u001b[38;5;167;01mKeyboardInterrupt\u001b[39;00m:\n\u001b[1;32m   1323\u001b[0m     \u001b[38;5;66;03m# re-raise KeyboardInterrupt, to truncate traceback\u001b[39;00m\n\u001b[1;32m   1324\u001b[0m     msg \u001b[38;5;241m=\u001b[39m \u001b[38;5;124m\"\u001b[39m\u001b[38;5;124mInterrupted by user\u001b[39m\u001b[38;5;124m\"\u001b[39m\n\u001b[0;32m-> 1325\u001b[0m     \u001b[38;5;28;01mraise\u001b[39;00m \u001b[38;5;167;01mKeyboardInterrupt\u001b[39;00m(msg) \u001b[38;5;28;01mfrom\u001b[39;00m \u001b[38;5;28;01mNone\u001b[39;00m\n\u001b[1;32m   1326\u001b[0m \u001b[38;5;28;01mexcept\u001b[39;00m \u001b[38;5;167;01mException\u001b[39;00m:\n\u001b[1;32m   1327\u001b[0m     \u001b[38;5;28mself\u001b[39m\u001b[38;5;241m.\u001b[39mlog\u001b[38;5;241m.\u001b[39mwarning(\u001b[38;5;124m\"\u001b[39m\u001b[38;5;124mInvalid Message:\u001b[39m\u001b[38;5;124m\"\u001b[39m, exc_info\u001b[38;5;241m=\u001b[39m\u001b[38;5;28;01mTrue\u001b[39;00m)\n",
      "\u001b[0;31mKeyboardInterrupt\u001b[0m: Interrupted by user"
     ]
    }
   ],
   "source": [
    "for t in texts:\n",
    "    print(t.split(\".\"))\n",
    "    input()"
   ]
  },
  {
   "cell_type": "code",
   "execution_count": 21,
   "id": "9c115699-db76-490b-89f7-62d7c9840545",
   "metadata": {},
   "outputs": [],
   "source": [
    "\n",
    "a=\"d f\\nd\""
   ]
  },
  {
   "cell_type": "code",
   "execution_count": 22,
   "id": "9ecf4341-b0fe-4e79-bcc9-b346b2605ef1",
   "metadata": {},
   "outputs": [
    {
     "data": {
      "text/plain": [
       "['d', ' ', 'f', ' ', 'd']"
      ]
     },
     "execution_count": 22,
     "metadata": {},
     "output_type": "execute_result"
    }
   ],
   "source": [
    "[map_.get(c, c) for c in a]"
   ]
  },
  {
   "cell_type": "code",
   "execution_count": 23,
   "id": "e7bed909-d2ff-458c-95ed-774d05942201",
   "metadata": {},
   "outputs": [],
   "source": [
    "a=\"... . .. .. ....... . .......\""
   ]
  },
  {
   "cell_type": "code",
   "execution_count": 24,
   "id": "a414d161-1ff9-415f-8272-1c40739004c8",
   "metadata": {},
   "outputs": [],
   "source": [
    "for p,r in replaces_.items():\n",
    "    a = a.replace(p,r)"
   ]
  },
  {
   "cell_type": "code",
   "execution_count": 25,
   "id": "0dfcab6e-2eb9-4795-8b79-4833f833a8c0",
   "metadata": {},
   "outputs": [
    {
     "data": {
      "text/plain": [
       "' .   . . .'"
      ]
     },
     "execution_count": 25,
     "metadata": {},
     "output_type": "execute_result"
    }
   ],
   "source": [
    "a"
   ]
  },
  {
   "cell_type": "code",
   "execution_count": 26,
   "id": "69dd4d15-8847-4f7a-89d6-d68e1a60bc5c",
   "metadata": {},
   "outputs": [
    {
     "name": "stdout",
     "output_type": "stream",
     "text": [
      " .    . \n"
     ]
    }
   ],
   "source": [
    "import re\n",
    "\n",
    "a = \"... . .. .. ....... . .......\"\n",
    "\n",
    "# Replace occurrences of more than one dot with a single dot\n",
    "result = re.sub(r'\\.{2,}', '', a)\n",
    "\n",
    "print(result)"
   ]
  },
  {
   "cell_type": "code",
   "execution_count": 27,
   "id": "ce35b684-6b41-4037-b232-683978d8f66e",
   "metadata": {},
   "outputs": [
    {
     "data": {
      "text/plain": [
       "['being in a earth sciences domain at the beginning of the year my class and i went to a little city called paris un the south of paris',\n",
       " ' after a few classes of cartographic basics it was time for us to do it in real life to see what it is like to be on the field',\n",
       " 'the aim of this trip was to recognize a couple of series of rock and identify which ones belongs to which period of the earth time',\n",
       " ' and then being able to report everything we saw on a map and create a geological map of a place weve never been before',\n",
       " 'for 10 days we had to wake up every morning a 7 to be ready at 8 to walk through the fauna and flora climbing mountains against the wind or the sun or the rain and walk around 5 to 10 kilometers per day until 6pm',\n",
       " ' the field was around 12m2 and rocks we studied about were sedimentary',\n",
       " 'all of us geosciences students were separate into little groups of 2 people',\n",
       " ' my partner and i were watching out and paying attention to all the rocks around us',\n",
       " ' when there is ain placeserie we had to take apendagewhich means the angle of where the serie is directed compared the geographical north pole',\n",
       " ' by taking all thosependageswe noticed that from the north of the field to the average center the series were making a syncline',\n",
       " ' heres our first element of our mapan syncline with all the younger rocks in the center and symmetrically going to the oldest',\n",
       " 'we tried to understand the south of the field but failed it was too complicated for us debutants in cartographics',\n",
       " ' after finishing our map we learnt that the south were in discordance which means news deposits were placed into the olders rocks eroded',\n",
       " 'after all of that we went back to our homes tired of walking and climbing and thinking about what happened in the south',\n",
       " 'cool']"
      ]
     },
     "execution_count": 27,
     "metadata": {},
     "output_type": "execute_result"
    }
   ],
   "source": [
    "texts.apply(lambda x: x.split(\".\"))[0]"
   ]
  },
  {
   "cell_type": "code",
   "execution_count": 28,
   "id": "3513a022-d26f-425d-8f88-87b9cf47f3b6",
   "metadata": {},
   "outputs": [
    {
     "data": {
      "text/plain": [
       "\"Being in a earth sciences domain, at the beginning of the year my class and I went to a little city called Paris un the south of Paris. After a few classes of cartographic basics, it was time for us to do it in real life, to see what it is like to be on the field.\\n The aim of this trip was to recognize a couple of series of rock, and identify which ones belongs to which period of the earth time. And then, being able to report everything we saw on a map, and create a geological map of a place we've never been before.\\n For 10 days, we had to wake up every morning a 7 to be ready at 8 to walk through the fauna and flora, climbing mountains, against the wind or the sun or the rain, and walk around 5 to 10 kilometers per day, until 6pm. The field was around 12m^2 and rocks we studied about were sedimentary.\\n All of us, geosciences students, were separate into little groups of 2 people. My partner and I were watching out and paying attention to all the rocks around us. When there is a « in place » serie, we had to take a « pendage » which means the angle of where the serie is directed compared the geographical north pole. By taking all those « pendages », we noticed that, from the north of the field to the average center, the series were making a syncline. Here’s our first element of our map ! An syncline, with all the younger rocks in the center and, symmetrically, going to the oldest.\\n We tried to understand the south of the field but failed, it was too complicated for us, debutants in cartographics. After finishing our map, we learnt that the south were in discordance, which means news deposits were placed into the olders rocks eroded.\\n After all of that, we went back to our homes, tired of walking and climbing and thinking about what happened in the south.\\n cool\""
      ]
     },
     "execution_count": 28,
     "metadata": {},
     "output_type": "execute_result"
    }
   ],
   "source": [
    "df[\"Texte_etudiant\"][0]"
   ]
  },
  {
   "cell_type": "code",
   "execution_count": null,
   "id": "ca661fb9-ef19-4c48-a829-7a636a666ebc",
   "metadata": {},
   "outputs": [],
   "source": []
  },
  {
   "cell_type": "code",
   "execution_count": null,
   "id": "1262dc20-0398-4764-aacd-abebe8f693a9",
   "metadata": {},
   "outputs": [],
   "source": []
  },
  {
   "cell_type": "code",
   "execution_count": null,
   "id": "e065b99b-afbc-4f7e-931d-cf07eeff9847",
   "metadata": {},
   "outputs": [],
   "source": []
  },
  {
   "cell_type": "code",
   "execution_count": null,
   "id": "efc350d9-fd7d-402d-b2d5-cd7c02a910ff",
   "metadata": {},
   "outputs": [],
   "source": []
  },
  {
   "cell_type": "markdown",
   "id": "f9b0e3e7-46f2-4651-b296-e86ab9263f53",
   "metadata": {},
   "source": [
    "## "
   ]
  },
  {
   "cell_type": "markdown",
   "id": "52fb063d-3f50-4930-a069-7ae5e6905b44",
   "metadata": {},
   "source": [
    "## Perplexity"
   ]
  },
  {
   "cell_type": "code",
   "execution_count": 45,
   "id": "a76b3c85-09a7-440f-ad54-938fd0b524a4",
   "metadata": {},
   "outputs": [
    {
     "name": "stdout",
     "output_type": "stream",
     "text": [
      "Perplexity for single text: 86.48322296142578\n",
      "                                                text  perplexity\n",
      "0                         This is a sample sentence.   71.438499\n",
      "1                   Language models are fascinating.  198.041183\n",
      "2  Perplexity measures how well a model predicts ...   92.741776\n"
     ]
    }
   ],
   "source": [
    "\n",
    "# Sample DataFrame\n",
    "data = {\n",
    "    \"text\": [\n",
    "        \"This is a sample sentence.\",\n",
    "        \"Language models are fascinating.\",\n",
    "        \"Perplexity measures how well a model predicts a sequence.\"\n",
    "    ]\n",
    "}\n",
    "df = pd.DataFrame(data)\n",
    "\n",
    "# Initialize the perplexity calculator with a specific model\n",
    "perplexity_calculator = PerplexityCalculator(model_name=\"gpt2\")  # Can replace \"gpt2\" with any model name\n",
    "\n",
    "# Use the __call__ method to calculate perplexity for a single text\n",
    "single_text = \"This is a test sentence.\"\n",
    "perplexity_score = perplexity_calculator(single_text)\n",
    "print(f\"Perplexity for single text: {perplexity_score}\")\n",
    "\n",
    "# Use the __call__ method to calculate perplexity for a DataFrame column\n",
    "perplexity_scores = perplexity_calculator(df, text_column=\"text\")\n",
    "df[\"perplexity\"] = perplexity_scores\n",
    "print(df)\n"
   ]
  },
  {
   "cell_type": "markdown",
   "id": "b06b8811-ce7d-442d-860b-56fe5cc71dcd",
   "metadata": {},
   "source": [
    "# "
   ]
  }
 ],
 "metadata": {
  "kernelspec": {
   "display_name": "Python 3 (ipykernel)",
   "language": "python",
   "name": "python3"
  },
  "language_info": {
   "codemirror_mode": {
    "name": "ipython",
    "version": 3
   },
   "file_extension": ".py",
   "mimetype": "text/x-python",
   "name": "python",
   "nbconvert_exporter": "python",
   "pygments_lexer": "ipython3",
   "version": "3.12.3"
  }
 },
 "nbformat": 4,
 "nbformat_minor": 5
}
